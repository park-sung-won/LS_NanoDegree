{
 "cells": [
  {
   "cell_type": "markdown",
   "metadata": {
    "id": "h63gKkC2u4F8"
   },
   "source": [
    "## 자료형\n",
    "* 숫자형(Number) : 숫자 형태로 이루어진 자료형\n",
    "* 문자열(String) : 문자, 단어 등으로 구성된 문자들의 집합을 관리하는 자료형\n",
    "* 리스트(list) : 여러개의 자료를 하나의 변수로 관리할 때 사용하는 자료형\n",
    "* 튜플(tuple) : 여러개의 자료를 하나의 변수로 관리할 때 사용되는 면에서는 list와 거의 같지만 데이터를 변경할 수 없는 자료형\n",
    "* 딕셔너리(dictionary) : 여러개의 자료를 하나의 변수로 관리하는 측면은 list나 tuple과 비슷하지만 key와 value로 이루어져 있고 순차적인 요소값으로 관리되지 않고 key값을 통해 value를 구하는 자료형\n",
    "* 집합(set) : 중복이 허용되지 않고, 순서가 없는, 집합에 관련된 것을 쉽게 처리하기 위한 자료형으로 순서가 없기때문에 자료에 접근하기 위해서는 다른 형태의 자료형으로 변환해야 한다.\n",
    "* 불(bool) : 참(True)과 거짓(False)을 나타내는 자료형. True와 False만 가질 수 있다.\n",
    "* 변수(variable) : 파이썬에서 사용되는 변수는 객체(자료형과 같은 의미)를 가리킨다.\n",
    "\n",
    "## 제어문\n",
    "* if문 : if 이후의 조건들로 상황에 맞게 수행시키기 위한 제어문\n",
    "* while문 : 반복해서 문장을 수행해야할 경우 사용되는 반복문\n",
    "* for문 : while문과 비슷한 반복문이지만 문장 구조의 이해가 용이하다.\n",
    "\n",
    "## 프로그램 입/출력\n",
    "* 함수(function) : 특정 행위를 필요할 때 반복적으로 수행해야하는 경우 공통된 부분을 하나의 코드로 대변되게 만드는 과정으로 python에서는 def라는 형식으로 시작한다.\n",
    "* 매개변수(parameter) : 함수에 입력으로 전달된 값을 받는 변수\n",
    "* 인수(argument) : 함수를 호출할 때 전달되는 입력값\n",
    "* 람다(lambda) : 함수를 생성할 때 사용되는 예약어로 def와 동일한 역할을 하며 일반적으로 함수를 한줄로 간결하게 만들 때 사용된다.\n",
    "* input : 사용자가 입력한 값을 어떤 변수에 대입하기 위한 역할을 수행한다.\n",
    "* print : 자료형을 출력하는 역할을 수행한다.\n",
    "\n",
    "\n",
    "\n",
    "## 기타\n",
    "* 클래스(class) : 코드에서 반복되는 역할을 줄이기 위해 공통된 부분을 함수처럼 따로 정리해서 사용하지만 함수와는 다르게 서로 독립적으로 생성이 된다.(이렇게 독립적으로 생성된 부분 객체라고 한다.)\n",
    "* 모듈(module) : 함수나 변수 또는 클래스는 모아 놓은 파일\n",
    "* 내장 함수(Built-in Function)  : 파이썬에서 기본적으로 제공되는 연산들\n",
    "* 라이브러리(library) : 여러가지 용도를 가지고 있는 모듈의 모음\n",
    "\n",
    "\n",
    "* 파이썬 공식 튜토리얼 : \n",
    "    * 영문 : https://docs.python.org/3/tutorial/introduction.html\n",
    "    * 한글 : https://docs.python.org/ko/3/tutorial/index.html\n",
    "\n",
    "\n",
    "## Zen of Python\n",
    "* 파이썬의 철학이 잘 담겨있는 Zen of Python 을 출력해 봅니다.\n",
    "    * \"아름다운 게 추한 것보다 낫다.\" (Beautiful is better than ugly)\n",
    "    * \"명시적인 것이 암시적인 것 보다 낫다.\" (Explicit is better than implicit)\n",
    "    * \"단순함이 복잡함보다 낫다.\" (Simple is better than complex)\n",
    "    * \"복잡함이 난해한 것보다 낫다.\" (Complex is better than complicated)\n",
    "    * \"가독성은 중요하다.\" (Readability counts)\n",
    "    \n",
    "* import를 통해 파이썬의 라이브러리나 패키지를 가져올 수 있습니다."
   ]
  },
  {
   "cell_type": "code",
   "execution_count": 3,
   "metadata": {
    "id": "PxUHokR8sQ8q"
   },
   "outputs": [
    {
     "name": "stdout",
     "output_type": "stream",
     "text": [
      "The Zen of Python, by Tim Peters\n",
      "\n",
      "Beautiful is better than ugly.\n",
      "Explicit is better than implicit.\n",
      "Simple is better than complex.\n",
      "Complex is better than complicated.\n",
      "Flat is better than nested.\n",
      "Sparse is better than dense.\n",
      "Readability counts.\n",
      "Special cases aren't special enough to break the rules.\n",
      "Although practicality beats purity.\n",
      "Errors should never pass silently.\n",
      "Unless explicitly silenced.\n",
      "In the face of ambiguity, refuse the temptation to guess.\n",
      "There should be one-- and preferably only one --obvious way to do it.\n",
      "Although that way may not be obvious at first unless you're Dutch.\n",
      "Now is better than never.\n",
      "Although never is often better than *right* now.\n",
      "If the implementation is hard to explain, it's a bad idea.\n",
      "If the implementation is easy to explain, it may be a good idea.\n",
      "Namespaces are one honking great idea -- let's do more of those!\n"
     ]
    }
   ],
   "source": [
    "# import this를 출력해 봅니다.\n",
    "import this"
   ]
  },
  {
   "cell_type": "markdown",
   "metadata": {
    "id": "4PLzTRLxxNHG"
   },
   "source": [
    "## 숫자\n",
    "* https://docs.python.org/ko/3/tutorial/introduction.html#numbers"
   ]
  },
  {
   "cell_type": "code",
   "execution_count": 6,
   "metadata": {
    "id": "rwOMw_bLxNHH",
    "scrolled": true
   },
   "outputs": [
    {
     "data": {
      "text/plain": [
       "1"
      ]
     },
     "execution_count": 6,
     "metadata": {},
     "output_type": "execute_result"
    }
   ],
   "source": [
    "# 정수 1을 출력해 봅니다.\n",
    "1"
   ]
  },
  {
   "cell_type": "code",
   "execution_count": 7,
   "metadata": {
    "id": "QcaeORbPxNHH"
   },
   "outputs": [
    {
     "data": {
      "text/plain": [
       "1.0"
      ]
     },
     "execution_count": 7,
     "metadata": {},
     "output_type": "execute_result"
    }
   ],
   "source": [
    "# 실수 1을 출력해 봅니다.\n",
    "1.0"
   ]
  },
  {
   "cell_type": "code",
   "execution_count": 8,
   "metadata": {
    "id": "L0xniqaDxNHH"
   },
   "outputs": [
    {
     "data": {
      "text/plain": [
       "int"
      ]
     },
     "execution_count": 8,
     "metadata": {},
     "output_type": "execute_result"
    }
   ],
   "source": [
    "# 정수 1의 타입을 출력해 봅니다.\n",
    "type(1)"
   ]
  },
  {
   "cell_type": "code",
   "execution_count": 9,
   "metadata": {
    "id": "EXBtTYURxNHI"
   },
   "outputs": [
    {
     "data": {
      "text/plain": [
       "float"
      ]
     },
     "execution_count": 9,
     "metadata": {},
     "output_type": "execute_result"
    }
   ],
   "source": [
    "# 실수 1의 타입을 출력해 봅니다.\n",
    "type(1.0)"
   ]
  },
  {
   "cell_type": "markdown",
   "metadata": {
    "id": "FWWEF8wCxNHI"
   },
   "source": [
    "## 사칙연산"
   ]
  },
  {
   "cell_type": "code",
   "execution_count": 10,
   "metadata": {
    "id": "82SEWIT-xNHJ"
   },
   "outputs": [
    {
     "data": {
      "text/plain": [
       "3"
      ]
     },
     "execution_count": 10,
     "metadata": {},
     "output_type": "execute_result"
    }
   ],
   "source": [
    "# 더하기\n",
    "1 + 2"
   ]
  },
  {
   "cell_type": "code",
   "execution_count": 11,
   "metadata": {
    "id": "_8uvVBGtxNHJ"
   },
   "outputs": [
    {
     "data": {
      "text/plain": [
       "1"
      ]
     },
     "execution_count": 11,
     "metadata": {},
     "output_type": "execute_result"
    }
   ],
   "source": [
    "# 빼기\n",
    "3 - 2"
   ]
  },
  {
   "cell_type": "code",
   "execution_count": 12,
   "metadata": {
    "id": "pD4q_UhoxNHK"
   },
   "outputs": [
    {
     "data": {
      "text/plain": [
       "6"
      ]
     },
     "execution_count": 12,
     "metadata": {},
     "output_type": "execute_result"
    }
   ],
   "source": [
    "# 곱하기\n",
    "2 * 3"
   ]
  },
  {
   "cell_type": "code",
   "execution_count": 13,
   "metadata": {
    "id": "TvH4bq2txNHK"
   },
   "outputs": [
    {
     "data": {
      "text/plain": [
       "1.5"
      ]
     },
     "execution_count": 13,
     "metadata": {},
     "output_type": "execute_result"
    }
   ],
   "source": [
    "# 나누기\n",
    "3 / 2"
   ]
  },
  {
   "cell_type": "code",
   "execution_count": 16,
   "metadata": {
    "id": "sfw_cJeXxNHL"
   },
   "outputs": [
    {
     "data": {
      "text/plain": [
       "1"
      ]
     },
     "execution_count": 16,
     "metadata": {},
     "output_type": "execute_result"
    }
   ],
   "source": [
    "# 나누기 후 몫만 반환\n",
    "3 // 2"
   ]
  },
  {
   "cell_type": "code",
   "execution_count": 18,
   "metadata": {
    "id": "_ypiq8e0xNHL"
   },
   "outputs": [
    {
     "data": {
      "text/plain": [
       "0"
      ]
     },
     "execution_count": 18,
     "metadata": {},
     "output_type": "execute_result"
    }
   ],
   "source": [
    "# 나누기 후 나머지만 반환\n",
    "3 % 3"
   ]
  },
  {
   "cell_type": "markdown",
   "metadata": {
    "id": "lC_LL-aWxNHM"
   },
   "source": [
    "## 변수\n",
    "* 변수명은 숫자로 시작할 수 없습니다.\n",
    "* 변수명은 언더바(_)를 제외한 특수문자를 사용할 수 없습니다.\n",
    "\n",
    "```\n",
    "---------------------------------------------------------------------------\n",
    "NameError                                 Traceback (most recent call last)\n",
    "<ipython-input-26-ab0680a89434> in <module>\n",
    "----> 1 n\n",
    "\n",
    "NameError: name 'n' is not defined\n",
    "\n",
    "```"
   ]
  },
  {
   "cell_type": "code",
   "execution_count": 26,
   "metadata": {
    "id": "UZLiGSLexNHM"
   },
   "outputs": [
    {
     "name": "stdout",
     "output_type": "stream",
     "text": [
      "1\n",
      "1\n"
     ]
    },
    {
     "data": {
      "text/plain": [
       "1"
      ]
     },
     "execution_count": 26,
     "metadata": {},
     "output_type": "execute_result"
    }
   ],
   "source": [
    "# 정의되지 않은 변수를 출력해 보면 어떤 오류 메시지가 나오는지 확인해 봅니다.\n",
    "n_1 = 1\n",
    "print(n_1)\n",
    "print(n_1)\n",
    "n_1"
   ]
  },
  {
   "cell_type": "code",
   "execution_count": 29,
   "metadata": {},
   "outputs": [
    {
     "data": {
      "text/plain": [
       "1"
      ]
     },
     "execution_count": 29,
     "metadata": {},
     "output_type": "execute_result"
    }
   ],
   "source": [
    "n_1"
   ]
  },
  {
   "cell_type": "markdown",
   "metadata": {
    "id": "Ho7GSPnexNHM"
   },
   "source": [
    "## 응용\n",
    "* 변수에 값을 할당하고 면적을 구해 봅니다."
   ]
  },
  {
   "cell_type": "code",
   "execution_count": 30,
   "metadata": {
    "id": "jini0EStxNHM"
   },
   "outputs": [
    {
     "data": {
      "text/plain": [
       "100"
      ]
     },
     "execution_count": 30,
     "metadata": {},
     "output_type": "execute_result"
    }
   ],
   "source": [
    "width = 20\n",
    "height = 5\n",
    "width * height"
   ]
  },
  {
   "cell_type": "markdown",
   "metadata": {
    "id": "m0w7_ImVxNHN"
   },
   "source": [
    "## 문자열\n",
    "* https://docs.python.org/ko/3/tutorial/introduction.html#strings\n",
    "### 문자열 정의"
   ]
  },
  {
   "cell_type": "code",
   "execution_count": 31,
   "metadata": {
    "id": "gnp8a8-PxNHN"
   },
   "outputs": [
    {
     "data": {
      "text/plain": [
       "'Python'"
      ]
     },
     "execution_count": 31,
     "metadata": {},
     "output_type": "execute_result"
    }
   ],
   "source": [
    "# 큰따옴표로 문자열을 정의합니다.\n",
    "\"Python\""
   ]
  },
  {
   "cell_type": "code",
   "execution_count": 32,
   "metadata": {
    "id": "QjzcvgT6xNHN"
   },
   "outputs": [
    {
     "data": {
      "text/plain": [
       "'Python'"
      ]
     },
     "execution_count": 32,
     "metadata": {},
     "output_type": "execute_result"
    }
   ],
   "source": [
    "# 작은따옴표로 문자열을 정의합니다.\n",
    "'Python'"
   ]
  },
  {
   "cell_type": "code",
   "execution_count": 35,
   "metadata": {
    "id": "bIHtus7axNHN"
   },
   "outputs": [
    {
     "name": "stdout",
     "output_type": "stream",
     "text": [
      "Python's notebook\n",
      "Python's notebook\n"
     ]
    }
   ],
   "source": [
    "# 큰따옴표와 작은따옴표의 차이를 알아봅니다.\n",
    "print(\"Python's notebook\")\n",
    "print('Python\\'s notebook') "
   ]
  },
  {
   "cell_type": "code",
   "execution_count": 39,
   "metadata": {
    "id": "xcM0GFMLxNHN"
   },
   "outputs": [
    {
     "data": {
      "text/plain": [
       "'\\n줄바꿈\\n문자를\\n표현합니다\\n'"
      ]
     },
     "execution_count": 39,
     "metadata": {},
     "output_type": "execute_result"
    }
   ],
   "source": [
    "# 줄바꿈 문자를 표현합니다.\n",
    "# \\n : new line\n",
    "# \\t : tab\n",
    "\"\"\"\n",
    "줄바꿈\n",
    "문자를\n",
    "표현합니다\n",
    "\"\"\""
   ]
  },
  {
   "cell_type": "code",
   "execution_count": 41,
   "metadata": {
    "id": "ZTuAtwc0xNHO"
   },
   "outputs": [
    {
     "data": {
      "text/plain": [
       "'**********'"
      ]
     },
     "execution_count": 41,
     "metadata": {},
     "output_type": "execute_result"
    }
   ],
   "source": [
    "# *를 통해 문자를 반복 출력합니다.\n",
    "'*' * 10"
   ]
  },
  {
   "cell_type": "markdown",
   "metadata": {
    "id": "BecR739oxNHO"
   },
   "source": [
    "### 문자열 인덱싱\n",
    "\n",
    "\n",
    "```\n",
    " +---+---+---+---+---+---+\n",
    " | P | y | t | h | o | n |\n",
    " +---+---+---+---+---+---+\n",
    " 0   1   2   3   4   5   6\n",
    "-6  -5  -4  -3  -2  -1\n",
    "```"
   ]
  },
  {
   "cell_type": "code",
   "execution_count": 42,
   "metadata": {
    "id": "l0mHRzJ4xNHO"
   },
   "outputs": [
    {
     "data": {
      "text/plain": [
       "\"Python's hobby?\""
      ]
     },
     "execution_count": 42,
     "metadata": {},
     "output_type": "execute_result"
    }
   ],
   "source": [
    "# 변수에 담긴 문자열의 위치를 알아봅니다.\n",
    "word = \"Python's hobby?\"\n",
    "word"
   ]
  },
  {
   "cell_type": "code",
   "execution_count": 43,
   "metadata": {
    "id": "JHCIKwC7xNHO"
   },
   "outputs": [
    {
     "data": {
      "text/plain": [
       "'P'"
      ]
     },
     "execution_count": 43,
     "metadata": {},
     "output_type": "execute_result"
    }
   ],
   "source": [
    "# 0번 인덱스의 원소를 가져옵니다.\n",
    "word[0]"
   ]
  },
  {
   "cell_type": "code",
   "execution_count": 44,
   "metadata": {
    "id": "qOISSRbMxNHO"
   },
   "outputs": [
    {
     "data": {
      "text/plain": [
       "'y'"
      ]
     },
     "execution_count": 44,
     "metadata": {},
     "output_type": "execute_result"
    }
   ],
   "source": [
    "# 1번 인덱스의 원소를 가져옵니다.\n",
    "word[1]"
   ]
  },
  {
   "cell_type": "code",
   "execution_count": 50,
   "metadata": {
    "id": "F5SKmVU_xNHO"
   },
   "outputs": [
    {
     "data": {
      "text/plain": [
       "'?'"
      ]
     },
     "execution_count": 50,
     "metadata": {},
     "output_type": "execute_result"
    }
   ],
   "source": [
    "# 마지막 인덱스의 원소를 가져옵니다.\n",
    "word[-1]"
   ]
  },
  {
   "cell_type": "markdown",
   "metadata": {
    "id": "8qV6hL4BxNHO"
   },
   "source": [
    "### 문자열 슬라이싱"
   ]
  },
  {
   "cell_type": "code",
   "execution_count": 56,
   "metadata": {
    "id": "coWYJ9ckxNHO"
   },
   "outputs": [
    {
     "name": "stdout",
     "output_type": "stream",
     "text": [
      "Python's hobby?\n"
     ]
    },
    {
     "data": {
      "text/plain": [
       "'Python'"
      ]
     },
     "execution_count": 56,
     "metadata": {},
     "output_type": "execute_result"
    }
   ],
   "source": [
    "# [시작인덱스:끝나는인덱스+1] 로 문자열의 일부를 가져옵니다.\n",
    "# 앞에서 6개 글자만 가져옵니다.\n",
    "\n",
    "print(word[:])\n",
    "word[0:6]"
   ]
  },
  {
   "cell_type": "code",
   "execution_count": 57,
   "metadata": {
    "id": "_qsqbiCCxNHP"
   },
   "outputs": [
    {
     "data": {
      "text/plain": [
       "'hobby?'"
      ]
     },
     "execution_count": 57,
     "metadata": {},
     "output_type": "execute_result"
    }
   ],
   "source": [
    "# 뒤에서 6개 글자만 가져옵니다.\n",
    "word[-6:]"
   ]
  },
  {
   "cell_type": "code",
   "execution_count": 59,
   "metadata": {
    "id": "Y1937rqLxNHP"
   },
   "outputs": [
    {
     "data": {
      "text/plain": [
       "'thon'"
      ]
     },
     "execution_count": 59,
     "metadata": {},
     "output_type": "execute_result"
    }
   ],
   "source": [
    "# 2번 인덱스부터 4개의 글자만 가져옵니다.\n",
    "word[2:6]"
   ]
  },
  {
   "cell_type": "markdown",
   "metadata": {
    "id": "pPEFJdznxNHP"
   },
   "source": [
    "### 문자열 함수\n",
    "* https://docs.python.org/ko/3/library/stdtypes.html#string-methods"
   ]
  },
  {
   "cell_type": "code",
   "execution_count": 60,
   "metadata": {
    "id": "MCu7CwOZxNHP"
   },
   "outputs": [
    {
     "data": {
      "text/plain": [
       "\"python's hobby?\""
      ]
     },
     "execution_count": 60,
     "metadata": {},
     "output_type": "execute_result"
    }
   ],
   "source": [
    "# 소문자로 변환합니다.\n",
    "word.lower()"
   ]
  },
  {
   "cell_type": "code",
   "execution_count": 61,
   "metadata": {
    "id": "2skcX5S_xNHP"
   },
   "outputs": [
    {
     "data": {
      "text/plain": [
       "\"PYTHON'S HOBBY?\""
      ]
     },
     "execution_count": 61,
     "metadata": {},
     "output_type": "execute_result"
    }
   ],
   "source": [
    "# 대문자로 변환합니다.\n",
    "word.upper()"
   ]
  },
  {
   "cell_type": "markdown",
   "metadata": {
    "id": "M2qpaSudxNHP"
   },
   "source": [
    "## 리스트\n",
    "* https://docs.python.org/ko/3/tutorial/introduction.html#lists"
   ]
  },
  {
   "cell_type": "code",
   "execution_count": null,
   "metadata": {},
   "outputs": [],
   "source": [
    "# command + /\n",
    "# [] => 인덱싱, 슬라이싱, 리스트\n",
    "# () => 함수, 매서드, 튜플 "
   ]
  },
  {
   "cell_type": "code",
   "execution_count": 62,
   "metadata": {
    "id": "gpfqgiFoxNHP"
   },
   "outputs": [
    {
     "data": {
      "text/plain": [
       "[1, 4, 9, 16, 25]"
      ]
     },
     "execution_count": 62,
     "metadata": {},
     "output_type": "execute_result"
    }
   ],
   "source": [
    "# 리스트 값을 생성합니다.\n",
    "squares = [1, 4, 9, 16, 25]\n",
    "squares"
   ]
  },
  {
   "cell_type": "markdown",
   "metadata": {
    "id": "O0Wt9hfixNHP"
   },
   "source": [
    "### 리스트 인덱싱"
   ]
  },
  {
   "cell_type": "code",
   "execution_count": 63,
   "metadata": {
    "id": "sy_V_7oXxNHP"
   },
   "outputs": [
    {
     "data": {
      "text/plain": [
       "1"
      ]
     },
     "execution_count": 63,
     "metadata": {},
     "output_type": "execute_result"
    }
   ],
   "source": [
    "# 인덱스 번호는 0부터 시작합니다. 0번 인덱스를 가져옵니다.\n",
    "squares[0]"
   ]
  },
  {
   "cell_type": "code",
   "execution_count": 64,
   "metadata": {
    "id": "Yy72URrOxNHQ"
   },
   "outputs": [
    {
     "data": {
      "text/plain": [
       "25"
      ]
     },
     "execution_count": 64,
     "metadata": {},
     "output_type": "execute_result"
    }
   ],
   "source": [
    "# 마지막 인덱스는 -1 로 가져올 수 있습니다.\n",
    "squares[-1]"
   ]
  },
  {
   "cell_type": "code",
   "execution_count": 65,
   "metadata": {
    "id": "a7MPgtCExNHQ"
   },
   "outputs": [
    {
     "data": {
      "text/plain": [
       "9"
      ]
     },
     "execution_count": 65,
     "metadata": {},
     "output_type": "execute_result"
    }
   ],
   "source": [
    "# 뒤에서 3번째 값을 가져옵니다.\n",
    "squares[-3]"
   ]
  },
  {
   "cell_type": "markdown",
   "metadata": {
    "id": "AGjP3ylOxNHQ"
   },
   "source": [
    "### 리스트 슬라이싱"
   ]
  },
  {
   "cell_type": "code",
   "execution_count": 66,
   "metadata": {
    "id": "aB4KMRP5xNHQ"
   },
   "outputs": [
    {
     "data": {
      "text/plain": [
       "[4, 9]"
      ]
     },
     "execution_count": 66,
     "metadata": {},
     "output_type": "execute_result"
    }
   ],
   "source": [
    "# [시작인덱스:끝나는인덱스+1]\n",
    "squares[1:3]"
   ]
  },
  {
   "cell_type": "code",
   "execution_count": 69,
   "metadata": {},
   "outputs": [
    {
     "data": {
      "text/plain": [
       "[9, 16, 25]"
      ]
     },
     "execution_count": 69,
     "metadata": {},
     "output_type": "execute_result"
    }
   ],
   "source": [
    "squares[2:]"
   ]
  },
  {
   "cell_type": "code",
   "execution_count": 70,
   "metadata": {},
   "outputs": [
    {
     "data": {
      "text/plain": [
       "[4, 9, 16, 25]"
      ]
     },
     "execution_count": 70,
     "metadata": {},
     "output_type": "execute_result"
    }
   ],
   "source": [
    "squares[-4:]"
   ]
  },
  {
   "cell_type": "code",
   "execution_count": null,
   "metadata": {},
   "outputs": [],
   "source": [
    "# ESC + y : 코드 셀로 변환\n",
    "# ESC + m : 문서(마크다운) 셀로 변환\n",
    "# ESC + h : 단축키 목록\n",
    "# Colab 의 경우 단축키 앞에 m 추가 => ex. ESC + m + a 위에 셀 추가\n",
    "\n",
    "\n",
    "## shift + enter : 셀 실행후 다음셀로 이동\n",
    "## command + enter : 셀 실행"
   ]
  },
  {
   "cell_type": "markdown",
   "metadata": {
    "id": "OMnEkpHzxNHQ"
   },
   "source": [
    "### 리스트의 함수"
   ]
  },
  {
   "cell_type": "code",
   "execution_count": 72,
   "metadata": {
    "id": "X6r_PWlJxNHQ"
   },
   "outputs": [
    {
     "data": {
      "text/plain": [
       "[1, 4, 9, 16, 25, 36, 36]"
      ]
     },
     "execution_count": 72,
     "metadata": {},
     "output_type": "execute_result"
    }
   ],
   "source": [
    "# append로 값을 추가합니다.\n",
    "squares.append(36)\n",
    "squares"
   ]
  },
  {
   "cell_type": "code",
   "execution_count": 76,
   "metadata": {
    "id": "DogZA-QwxNHQ"
   },
   "outputs": [
    {
     "ename": "ValueError",
     "evalue": "list.remove(x): x not in list",
     "output_type": "error",
     "traceback": [
      "\u001b[0;31m---------------------------------------------------------------------------\u001b[0m",
      "\u001b[0;31mValueError\u001b[0m                                Traceback (most recent call last)",
      "\u001b[0;32m<ipython-input-76-59d972af396e>\u001b[0m in \u001b[0;36m<module>\u001b[0;34m\u001b[0m\n\u001b[1;32m      1\u001b[0m \u001b[0;31m# remove로 값을 제거합니다.\u001b[0m\u001b[0;34m\u001b[0m\u001b[0;34m\u001b[0m\u001b[0;34m\u001b[0m\u001b[0m\n\u001b[0;32m----> 2\u001b[0;31m \u001b[0msquares\u001b[0m\u001b[0;34m.\u001b[0m\u001b[0mremove\u001b[0m\u001b[0;34m(\u001b[0m\u001b[0;36m36\u001b[0m\u001b[0;34m)\u001b[0m\u001b[0;34m\u001b[0m\u001b[0;34m\u001b[0m\u001b[0m\n\u001b[0m\u001b[1;32m      3\u001b[0m \u001b[0msquares\u001b[0m\u001b[0;34m\u001b[0m\u001b[0;34m\u001b[0m\u001b[0m\n",
      "\u001b[0;31mValueError\u001b[0m: list.remove(x): x not in list"
     ]
    }
   ],
   "source": [
    "# remove로 값을 제거합니다.\n",
    "# 이미 제거가 실행되었다면 오류가 발생할 수 있음\n",
    "squares.remove(36)\n",
    "squares"
   ]
  },
  {
   "cell_type": "markdown",
   "metadata": {
    "id": "ceAIj8rzxNHQ"
   },
   "source": [
    "## 딕셔너리\n",
    "* https://docs.python.org/ko/3/tutorial/datastructures.html#dictionaries"
   ]
  },
  {
   "cell_type": "code",
   "execution_count": 77,
   "metadata": {
    "id": "lYDDECf8xNHQ"
   },
   "outputs": [
    {
     "data": {
      "text/plain": [
       "{'고구마': 4139, '감자': 4098, '쪽파': 100}"
      ]
     },
     "execution_count": 77,
     "metadata": {},
     "output_type": "execute_result"
    }
   ],
   "source": [
    "# {키:값} 형식으로 되어 있습니다.\n",
    "# 딕셔너리를 정의합니다.\n",
    "# 재고라는 이름을 갖는 변수에 고구마, 감자, 쪽파의 수량을 표시해 봅니다.\n",
    "재고 = {'고구마': 4139, '감자': 4098, '쪽파': 100}\n",
    "재고"
   ]
  },
  {
   "cell_type": "code",
   "execution_count": 80,
   "metadata": {
    "id": "Gxh5H3LVxNHQ",
    "scrolled": true
   },
   "outputs": [
    {
     "data": {
      "text/plain": [
       "{'고구마': 4139, '감자': 4098, '쪽파': 100, '대파': 321}"
      ]
     },
     "execution_count": 80,
     "metadata": {},
     "output_type": "execute_result"
    }
   ],
   "source": [
    "# 재고에 대파를 추가해 봅니다.\n",
    "재고[\"대파\"] = 321\n",
    "재고"
   ]
  },
  {
   "cell_type": "code",
   "execution_count": 81,
   "metadata": {
    "id": "Hakrg_KHxNHR"
   },
   "outputs": [
    {
     "data": {
      "text/plain": [
       "321"
      ]
     },
     "execution_count": 81,
     "metadata": {},
     "output_type": "execute_result"
    }
   ],
   "source": [
    "# 키를 통해 \"대파\"의 값을 가져옵니다.\n",
    "재고[\"대파\"]"
   ]
  },
  {
   "cell_type": "code",
   "execution_count": 82,
   "metadata": {
    "id": "cG-2MTcvxNHR"
   },
   "outputs": [],
   "source": [
    "# \"양파\" 도 추가해 봅니다.\n",
    "재고[\"양파\"] = 4321"
   ]
  },
  {
   "cell_type": "code",
   "execution_count": 83,
   "metadata": {
    "id": "ydNsMO-4xNHR"
   },
   "outputs": [],
   "source": [
    "# del을 통해 값을 제거할 수 있습니다.\n",
    "del 재고[\"양파\"]"
   ]
  },
  {
   "cell_type": "code",
   "execution_count": 84,
   "metadata": {
    "id": "fBrDuef5xNHR"
   },
   "outputs": [
    {
     "data": {
      "text/plain": [
       "{'고구마': 4139, '감자': 4098, '쪽파': 100, '대파': 321}"
      ]
     },
     "execution_count": 84,
     "metadata": {},
     "output_type": "execute_result"
    }
   ],
   "source": [
    "# 값이 잘 제거되었는지 확인합니다.\n",
    "재고"
   ]
  },
  {
   "cell_type": "code",
   "execution_count": 85,
   "metadata": {
    "id": "8jNGL0QtxNHR"
   },
   "outputs": [
    {
     "data": {
      "text/plain": [
       "['고구마', '감자', '쪽파', '대파']"
      ]
     },
     "execution_count": 85,
     "metadata": {},
     "output_type": "execute_result"
    }
   ],
   "source": [
    "# dict를 list로 반환합니다. 이 때 키값을 가져와 리스트로 생성합니다.\n",
    "list(재고)"
   ]
  },
  {
   "cell_type": "code",
   "execution_count": 86,
   "metadata": {
    "id": "NdC2GSjTxNHR"
   },
   "outputs": [
    {
     "data": {
      "text/plain": [
       "['감자', '고구마', '대파', '쪽파']"
      ]
     },
     "execution_count": 86,
     "metadata": {},
     "output_type": "execute_result"
    }
   ],
   "source": [
    "# sorted를 사용해 재고 변수에 담긴 딕셔너리의 키값을 기준으로 정렬합니다.\n",
    "sorted(재고)"
   ]
  },
  {
   "cell_type": "markdown",
   "metadata": {
    "id": "afogRF52xNHR"
   },
   "source": [
    "## bool"
   ]
  },
  {
   "cell_type": "code",
   "execution_count": 87,
   "metadata": {},
   "outputs": [
    {
     "data": {
      "text/plain": [
       "True"
      ]
     },
     "execution_count": 87,
     "metadata": {},
     "output_type": "execute_result"
    }
   ],
   "source": [
    "True"
   ]
  },
  {
   "cell_type": "code",
   "execution_count": 88,
   "metadata": {},
   "outputs": [
    {
     "data": {
      "text/plain": [
       "False"
      ]
     },
     "execution_count": 88,
     "metadata": {},
     "output_type": "execute_result"
    }
   ],
   "source": [
    "False"
   ]
  },
  {
   "cell_type": "code",
   "execution_count": null,
   "metadata": {},
   "outputs": [],
   "source": [
    "# 대소문자에 유의해주세요!\n",
    "# TRUE"
   ]
  },
  {
   "cell_type": "code",
   "execution_count": 90,
   "metadata": {},
   "outputs": [
    {
     "data": {
      "text/plain": [
       "True"
      ]
     },
     "execution_count": 90,
     "metadata": {},
     "output_type": "execute_result"
    }
   ],
   "source": [
    "True == 1"
   ]
  },
  {
   "cell_type": "code",
   "execution_count": 91,
   "metadata": {},
   "outputs": [
    {
     "data": {
      "text/plain": [
       "True"
      ]
     },
     "execution_count": 91,
     "metadata": {},
     "output_type": "execute_result"
    }
   ],
   "source": [
    "False == 0"
   ]
  },
  {
   "cell_type": "code",
   "execution_count": 92,
   "metadata": {},
   "outputs": [
    {
     "data": {
      "text/plain": [
       "False"
      ]
     },
     "execution_count": 92,
     "metadata": {},
     "output_type": "execute_result"
    }
   ],
   "source": [
    "True == \"1\""
   ]
  },
  {
   "cell_type": "code",
   "execution_count": null,
   "metadata": {},
   "outputs": [],
   "source": [
    "# = 할당\n",
    "# == 비교(같다)"
   ]
  }
 ],
 "metadata": {
  "colab": {
   "collapsed_sections": [
    "thxfIvC6u4Ga",
    "tMKs81M3sQ9e",
    "uQ0VMYAbu4Gi",
    "ZYBqz3-MsQ94",
    "-mqoFD_Bu4Gv",
    "x4H0bcnisQ-F",
    "Axqztu27sQ-N",
    "Cc2lnQWmsQ-U",
    "AAv0qz8gsQ-o",
    "uzFfT5GTu4Js"
   ],
   "name": "0101 파이썬 기본 연산과 자료형-input.ipynb",
   "provenance": []
  },
  "kernelspec": {
   "display_name": "Python 3",
   "language": "python",
   "name": "python3"
  },
  "language_info": {
   "codemirror_mode": {
    "name": "ipython",
    "version": 3
   },
   "file_extension": ".py",
   "mimetype": "text/x-python",
   "name": "python",
   "nbconvert_exporter": "python",
   "pygments_lexer": "ipython3",
   "version": "3.8.8"
  },
  "toc": {
   "base_numbering": 1,
   "nav_menu": {},
   "number_sections": true,
   "sideBar": true,
   "skip_h1_title": false,
   "title_cell": "Table of Contents",
   "title_sidebar": "Contents",
   "toc_cell": false,
   "toc_position": {
    "height": "calc(100% - 180px)",
    "left": "10px",
    "top": "150px",
    "width": "288px"
   },
   "toc_section_display": true,
   "toc_window_display": true
  },
  "varInspector": {
   "cols": {
    "lenName": 16,
    "lenType": 16,
    "lenVar": 40
   },
   "kernels_config": {
    "python": {
     "delete_cmd_postfix": "",
     "delete_cmd_prefix": "del ",
     "library": "var_list.py",
     "varRefreshCmd": "print(var_dic_list())"
    },
    "r": {
     "delete_cmd_postfix": ") ",
     "delete_cmd_prefix": "rm(",
     "library": "var_list.r",
     "varRefreshCmd": "cat(var_dic_list()) "
    }
   },
   "types_to_exclude": [
    "module",
    "function",
    "builtin_function_or_method",
    "instance",
    "_Feature"
   ],
   "window_display": false
  }
 },
 "nbformat": 4,
 "nbformat_minor": 1
}
