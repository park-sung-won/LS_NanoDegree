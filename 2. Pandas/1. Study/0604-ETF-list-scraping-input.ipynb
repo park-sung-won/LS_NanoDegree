{
 "cells": [
  {
   "cell_type": "markdown",
   "metadata": {
    "id": "b6ZRO3Ic0jYm"
   },
   "source": [
    "## ETF란?\n",
    "* ETF(상장지수펀드)는 기초지수의 성과를 추적하는 것이 목표인 인덱스펀드로, 거래소에 상장되어 있어서 개별주식과 마찬가지로 기존의 주식계좌를 통해 거래를 할 수 있습니다. 그 구성종목과 수량 등 자산구성내역(PDF)이 투명하게 공개되어 있고, 장중에는 실시간으로 순자산가치(NAV)가 제공되어 거래에 참고하실 수 있습니다. ETF는 1좌를 거래할 수 있는 최소한의 금액만으로 분산투자 효과를 누릴 수 있어 효율적인 투자수단이며, 펀드보다 운용보수가 낮고 주식에 적용되는 거래세도 붙지 않습니다. \n",
    "    * 출처 : [ETF : 네이버 금융](https://finance.naver.com/sise/etf.nhn)\n",
    "\n",
    "\n",
    "## 크롬 브라우저의 네트워크 정보를 통한 데이터 수집\n",
    "* json 데이터 수집과 파일저장 방법\n",
    "\n",
    "* [ETF : 네이버 금융](https://finance.naver.com/sise/etf.nhn)\n",
    "\n"
   ]
  },
  {
   "cell_type": "code",
   "execution_count": 1,
   "metadata": {
    "id": "RzS961AR0jYn"
   },
   "outputs": [],
   "source": [
    "# 라이브러리를 불러옵니다.\n",
    "# 데이터 분석을 위한 pandas, 수치계산을 위한 numpy, http 요청을 위한 requests를 받아옵니다.\n",
    "import pandas as pd\n",
    "import numpy as np\n",
    "import requests\n",
    "import FinanceDataReader as fdr"
   ]
  },
  {
   "cell_type": "code",
   "execution_count": 2,
   "metadata": {
    "id": "tNPvs5c50jYn"
   },
   "outputs": [],
   "source": [
    "# 수집할 url을 가져옵니다.\n",
    "url = \"https://finance.naver.com/api/sise/etfItemList.nhn?etfType=0&targetColumn=market_sum&sortOrder=desc\"\n",
    "# JSON형식 \n",
    "# js 에 API형태로 있음 \n"
   ]
  },
  {
   "cell_type": "markdown",
   "metadata": {},
   "source": [
    "## Pandas를 통한 요청"
   ]
  },
  {
   "cell_type": "code",
   "execution_count": 3,
   "metadata": {},
   "outputs": [],
   "source": [
    "# pd.read_html(url)"
   ]
  },
  {
   "cell_type": "markdown",
   "metadata": {},
   "source": [
    "## JSON \n",
    "\n",
    "<img src=\"https://upload.wikimedia.org/wikipedia/commons/thumb/c/c9/JSON_vector_logo.svg/300px-JSON_vector_logo.svg.png\" width=\"100\">\n",
    "\n",
    "JSON(제이슨, JavaScript Object Notation)은 속성-값 쌍( attribute–value pairs and array data types (or any other serializable value)) 또는 \"키-값 쌍\"으로 이루어진 데이터 오브젝트를 전달하기 위해 인간이 읽을 수 있는 텍스트를 사용하는 개방형 표준 포맷이다. 비동기 브라우저/서버 통신 (AJAX)을 위해, 넓게는 XML(AJAX가 사용)을 대체하는 주요 데이터 포맷이다. 특히, 인터넷에서 자료를 주고 받을 때 그 자료를 표현하는 방법으로 알려져 있다. 자료의 종류에 큰 제한은 없으며, 특히 컴퓨터 프로그램의 변수값을 표현하는 데 적합하다.\n",
    "본래는 자바스크립트 언어로부터 파생되어 자바스크립트의 구문 형식을 따르지만 언어 독립형 데이터 포맷이다. 즉, 프로그래밍 언어나 플랫폼에 독립적이므로, 구문 분석 및 JSON 데이터 생성을 위한 코드는 C, C++, C#, 자바, 자바스크립트, 펄, 파이썬 등 수많은 프로그래밍 언어에서 쉽게 이용할 수 있다.\n",
    "\n",
    "* 출처 : [JSON - 위키백과, 우리 모두의 백과사전](https://ko.wikipedia.org/wiki/JSON)"
   ]
  },
  {
   "cell_type": "markdown",
   "metadata": {},
   "source": [
    "## requests를 통한 HTTP 요청\n",
    "* [Requests: HTTP for Humans™ — Requests documentation](https://requests.readthedocs.io/en/master/)"
   ]
  },
  {
   "cell_type": "code",
   "execution_count": 4,
   "metadata": {
    "id": "Cuo_DDk80jYn"
   },
   "outputs": [
    {
     "data": {
      "text/plain": [
       "'{\"resultCode\":\"success\",\"result\":{\"etfItemList\":[{\"itemcode\":\"069500\",\"etfTabCode\":1,\"itemname\":\"KODEX 200\",\"nowVal\":39305,\"risefall\":\"2\",\"changeVal\":75,\"changeRate\":0.19,\"nav\":39323.0,\"threeMonthEarnRate\":-6.2381,\"quant\":6023907,\"amonut\":236297,\"marketSum\":50998},{\"itemcode\":\"371460\",\"etfTabCode\":4,\"itemname\":\"TIGER 차이나전기차SOLACTIVE\",\"nowVal\":19710,\"risefall\":\"5\",\"changeVal\":-300,\"changeRate\":-1.5,\"nav\":null,\"threeMonthEarnRate\":21.4199,\"quant\":4145766,\"amonut\":82473,\"marketSum\":29667},{\"itemcode\":\"102110\",\"etfTabCode\":1,\"itemname\":\"TIGER 200\",\"nowVal\":39335,\"risefall\":\"2\",\"changeVal\":75,\"changeRate\":0.19,\"nav\":39358.0,\"threeMonthEarnRate\":-6.1978,\"quant\":769742,\"amonut\":30221,\"marketSum\":21890},{\"itemcode\":\"122630\",\"etfTabCode\":3,\"itemname\":\"KODEX 레버리지\",\"nowVal\":23275,\"risefall\":\"2\",\"changeVal\":65,\"changeRate\":0.28,\"nav\":23347.0,\"threeMonthEarnRate\":-13.0712,\"quant\":21082025,\"amonut\":487285,\"marketSum\":20854},{\"itemcode\":\"252670\",\"etfTabCode\":3,\"itemname\":\"KODEX 200선물인버스2X\",\"nowVal\":2225,\"risefall\":\"5\",\"changeVal\":-10,\"changeRate\":-0.45,\"nav\":2232.0,\"threeMonthEarnRate\":11.75,\"quant\":241026127,\"amonut\":540406,\"marketSum\":20067},{\"itemcode\":\"153130\",\"etfTabCode\":6,\"itemname\":\"KODEX 단기채권\",\"nowVal\":103015,\"risefall\":\"3\",\"changeVal\":0,\"changeRate\":0.0,\"nav\":103017.0,\"threeMonthEarnRate\":0.1263,\"quant\":12009,\"amonut\":1237,\"marketSum\":19440},{\"itemcode\":\"278540\",\"etfTabCode\":1,\"itemname\":\"KODEX MSCI Korea TR\",\"nowVal\":12650,\"risefall\":\"2\",\"changeVal\":30,\"changeRate\":0.24,\"nav\":12653.0,\"threeMonthEarnRate\":-6.0313,\"quant\":314115,\"amonut\":3948,\"marketSum\":18393},{\"itemcode\":\"133690\",\"etfTabCode\":4,\"itemname\":\"TIGER 미국나스닥100\",\"nowVal\":83550,\"risefall\":\"5\",\"changeVal\":-1155,\"changeRate\":-1.36,\"nav\":null,\"threeMonthEarnRate\":4.6632,\"quant\":274289,\"amonut\":22897,\"marketSum\":16409},{\"itemcode\":\"273130\",\"etfTabCode\":6,\"itemname\":\"KODEX 종합채권(AA-이상)액티브\",\"nowVal\":108240,\"risefall\":\"5\",\"changeVal\":-60,\"changeRate\":-0.06,\"nav\":108209.0,\"threeMonthEarnRate\":-1.3886,\"quant\":3329,\"amonut\":360,\"marketSum\":15142},{\"itemcode\":\"157450\",\"etfTabCode\":6,\"itemname\":\"TIGER 단기통안채\",\"nowVal\":100445,\"risefall\":\"2\",\"changeVal\":5,\"changeRate\":0.0,\"nav\":100438.0,\"threeMonthEarnRate\":0.1495,\"quant\":3680,\"amonut\":369,\"marketSum\":14729},{\"itemcode\":\"292150\",\"etfTabCode\":2,\"itemname\":\"TIGER TOP10\",\"nowVal\":13570,\"risefall\":\"5\",\"changeVal\":-10,\"changeRate\":-0.07,\"nav\":13564.0,\"threeMonthEarnRate\":-6.1831,\"quant\":167376,\"amonut\":2257,\"marketSum\":13611},{\"itemcode\":\"310970\",\"etfTabCode\":1,\"itemname\":\"TIGER MSCI Korea TR\",\"nowVal\":15890,\"risefall\":\"2\",\"changeVal\":40,\"changeRate\":0.25,\"nav\":15891.0,\"threeMonthEarnRate\":-6.2685,\"quant\":937,\"amonut\":14,\"marketSum\":13379},{\"itemcode\":\"102780\",\"etfTabCode\":2,\"itemname\":\"KODEX 삼성그룹\",\"nowVal\":9815,\"risefall\":\"2\",\"changeVal\":90,\"changeRate\":0.93,\"nav\":9814.0,\"threeMonthEarnRate\":-6.9824,\"quant\":102272,\"amonut\":997,\"marketSum\":13005},{\"itemcode\":\"278530\",\"etfTabCode\":1,\"itemname\":\"KODEX 200TR\",\"nowVal\":12910,\"risefall\":\"2\",\"changeVal\":30,\"changeRate\":0.23,\"nav\":12906.0,\"threeMonthEarnRate\":-6.225,\"quant\":45450,\"amonut\":585,\"marketSum\":12820},{\"itemcode\":\"214980\",\"etfTabCode\":6,\"itemname\":\"KODEX 단기채권PLUS\",\"nowVal\":103310,\"risefall\":\"2\",\"changeVal\":5,\"changeRate\":0.0,\"nav\":103308.0,\"threeMonthEarnRate\":0.1065,\"quant\":3725,\"amonut\":384,\"marketSum\":12167},{\"itemcode\":\"305720\",\"etfTabCode\":2,\"itemname\":\"KODEX 2차전지산업\",\"nowVal\":22700,\"risefall\":\"5\",\"changeVal\":-230,\"changeRate\":-1.0,\"nav\":22695.0,\"threeMonthEarnRate\":8.9311,\"quant\":1468778,\"amonut\":33075,\"marketSum\":12031},{\"itemcode\":\"305540\",\"etfTabCode\":2,\"itemname\":\"TIGER 2차전지테마\",\"nowVal\":23090,\"risefall\":\"5\",\"changeVal\":-255,\"changeRate\":-1.09,\"nav\":23075.0,\"threeMonthEarnRate\":16.492,\"quant\":1323986,\"amonut\":30336,\"marketSum\":11961},{\"itemcode\":\"148020\",\"etfTabCode\":1,\"itemname\":\"KBSTAR 200\",\"nowVal\":39440,\"risefall\":\"2\",\"changeVal\":85,\"changeRate\":0.22,\"nav\":39463.0,\"threeMonthEarnRate\":-6.1547,\"quant\":88435,\"amonut\":3492,\"marketSum\":10984},{\"itemcode\":\"114800\",\"etfTabCode\":3,\"itemname\":\"KODEX 인버스\",\"nowVal\":4060,\"risefall\":\"5\",\"changeVal\":-5,\"changeRate\":-0.12,\"nav\":4069.0,\"threeMonthEarnRate\":5.8593,\"quant\":38953588,\"amonut\":158949,\"marketSum\":10588},{\"itemcode\":\"381170\",\"etfTabCode\":4,\"itemname\":\"TIGER 미국테크TOP10 INDXX\",\"nowVal\":12610,\"risefall\":\"5\",\"changeVal\":-190,\"changeRate\":-1.48,\"nav\":null,\"threeMonthEarnRate\":6.092,\"quant\":1589370,\"amonut\":20004,\"marketSum\":10353},{\"itemcode\":\"360750\",\"etfTabCode\":4,\"itemname\":\"TIGER 미국S&P500\",\"nowVal\":13590,\"risefall\":\"5\",\"changeVal\":-25,\"changeRate\":-0.18,\"nav\":null,\"threeMonthEarnRate\":3.0268,\"quant\":662291,\"amonut\":8998,\"marketSum\":10335},{\"itemcode\":\"139260\",\"etfTabCode\":2,\"itemname\":\"TIGER 200 IT\",\"nowVal\":36340,\"risefall\":\"2\",\"changeVal\":280,\"changeRate\":0.78,\"nav\":36367.0,\"threeMonthEarnRate\":-3.0776,\"quant\":144399,\"amonut\":5208,\"marketSum\":9201},{\"itemcode\":\"381180\",\"etfTabCode\":4,\"itemname\":\"TIGER 미국필라델피아반도체나스닥\",\"nowVal\":12130,\"risefall\":\"5\",\"changeVal\":-30,\"changeRate\":-0.25,\"nav\":null,\"threeMonthEarnRate\":13.8576,\"quant\":1389335,\"amonut\":16853,\"marketSum\":8455},{\"itemcode\":\"152100\",\"etfTabCode\":1,\"itemname\":\"ARIRANG 200\",\"nowVal\":40015,\"risefall\":\"2\",\"changeVal\":90,\"changeRate\":0.23,\"nav\":40008.0,\"threeMonthEarnRate\":-6.2023,\"quant\":89138,\"amonut\":3570,\"marketSum\":7483},{\"itemcode\":\"233740\",\"etfTabCode\":1,\"itemname\":\"KODEX 코스닥150 레버리지\",\"nowVal\":15390,\"risefall\":\"5\",\"changeVal\":-375,\"changeRate\":-2.38,\"nav\":15482.0,\"threeMonthEarnRate\":-5.1445,\"quant\":9378079,\"amonut\":143614,\"marketSum\":7387},{\"itemcode\":\"394670\",\"etfTabCode\":4,\"itemname\":\"TIGER 글로벌리튬&2차전지SOLACTIVE(합성)\",\"nowVal\":11940,\"risefall\":\"5\",\"changeVal\":-255,\"changeRate\":-2.09,\"nav\":null,\"threeMonthEarnRate\":12.6038,\"quant\":1245717,\"amonut\":14918,\"marketSum\":7283},{\"itemcode\":\"105190\",\"etfTabCode\":1,\"itemname\":\"KINDEX 200\",\"nowVal\":39550,\"risefall\":\"2\",\"changeVal\":60,\"changeRate\":0.15,\"nav\":39574.0,\"threeMonthEarnRate\":-6.155,\"quant\":297142,\"amonut\":11769,\"marketSum\":6763},{\"itemcode\":\"091180\",\"etfTabCode\":2,\"itemname\":\"KODEX 자동차\",\"nowVal\":20710,\"risefall\":\"2\",\"changeVal\":140,\"changeRate\":0.68,\"nav\":20716.0,\"threeMonthEarnRate\":-9.8598,\"quant\":303520,\"amonut\":6237,\"marketSum\":6720},{\"itemcode\":\"315930\",\"etfTabCode\":2,\"itemname\":\"KODEX Top5PlusTR\",\"nowVal\":18755,\"risefall\":\"2\",\"changeVal\":15,\"changeRate\":0.08,\"nav\":18727.0,\"threeMonthEarnRate\":-2.4467,\"quant\":2078,\"amonut\":38,\"marketSum\":6714},{\"itemcode\":\"293180\",\"etfTabCode\":1,\"itemname\":\"HANARO 200\",\"nowVal\":39370,\"risefall\":\"2\",\"changeVal\":85,\"changeRate\":0.22,\"nav\":39369.0,\"threeMonthEarnRate\":-6.1963,\"quant\":46051,\"amonut\":1810,\"marketSum\":6535},{\"itemcode\":\"069660\",\"etfTabCode\":1,\"itemname\":\"KOSEF 200\",\"nowVal\":39330,\"risefall\":\"2\",\"changeVal\":85,\"changeRate\":0.22,\"nav\":39324.0,\"threeMonthEarnRate\":-6.2269,\"quant\":1222,\"amonut\":47,\"marketSum\":5683},{\"itemcode\":\"294400\",\"etfTabCode\":1,\"itemname\":\"KOSEF 200TR\",\"nowVal\":46935,\"risefall\":\"2\",\"changeVal\":145,\"changeRate\":0.31,\"nav\":46926.0,\"threeMonthEarnRate\":-6.2889,\"quant\":2449,\"amonut\":114,\"marketSum\":5374},{\"itemcode\":\"364980\",\"etfTabCode\":2,\"itemname\":\"TIGER KRX2차전지K-뉴딜\",\"nowVal\":16770,\"risefall\":\"5\",\"changeVal\":-80,\"changeRate\":-0.47,\"nav\":16764.0,\"threeMonthEarnRate\":0.447,\"quant\":505354,\"amonut\":8406,\"marketSum\":5333},{\"itemcode\":\"360200\",\"etfTabCode\":4,\"itemname\":\"KINDEX 미국S&P500\",\"nowVal\":13690,\"risefall\":\"5\",\"changeVal\":-30,\"changeRate\":-0.22,\"nav\":null,\"threeMonthEarnRate\":3.1113,\"quant\":190134,\"amonut\":2601,\"marketSum\":5271},{\"itemcode\":\"251340\",\"etfTabCode\":3,\"itemname\":\"KODEX 코스닥150선물인버스\",\"nowVal\":4210,\"risefall\":\"2\",\"changeVal\":55,\"changeRate\":1.32,\"nav\":4227.0,\"threeMonthEarnRate\":-0.1202,\"quant\":27539433,\"amonut\":116231,\"marketSum\":4774},{\"itemcode\":\"314250\",\"etfTabCode\":4,\"itemname\":\"KODEX 미국FANG플러스(H)\",\"nowVal\":28840,\"risefall\":\"5\",\"changeVal\":-1020,\"changeRate\":-3.42,\"nav\":null,\"threeMonthEarnRate\":2.1553,\"quant\":318799,\"amonut\":9173,\"marketSum\":4672},{\"itemcode\":\"400970\",\"etfTabCode\":2,\"itemname\":\"TIGER Fn메타버스\",\"nowVal\":12615,\"risefall\":\"5\",\"changeVal\":-295,\"changeRate\":-2.29,\"nav\":12632.0,\"threeMonthEarnRate\":null,\"quant\":1646681,\"amonut\":20814,\"marketSum\":4207},{\"itemcode\":\"401470\",\"etfTabCode\":2,\"itemname\":\"KODEX K-메타버스액티브\",\"nowVal\":12550,\"risefall\":\"5\",\"changeVal\":-520,\"changeRate\":-3.98,\"nav\":12544.0,\"threeMonthEarnRate\":null,\"quant\":3823872,\"amonut\":48262,\"marketSum\":4079},{\"itemcode\":\"385540\",\"etfTabCode\":6,\"itemname\":\"KBSTAR KIS종합채권(A-이상)액티브\",\"nowVal\":99885,\"risefall\":\"5\",\"changeVal\":-25,\"changeRate\":-0.03,\"nav\":99864.0,\"threeMonthEarnRate\":-1.2894,\"quant\":9,\"amonut\":0,\"marketSum\":3800},{\"itemcode\":\"196230\",\"etfTabCode\":6,\"itemname\":\"KBSTAR 단기통안채\",\"nowVal\":104710,\"risefall\":\"2\",\"changeVal\":10,\"changeRate\":0.01,\"nav\":104712.0,\"threeMonthEarnRate\":0.1338,\"quant\":1715914,\"amonut\":179673,\"marketSum\":3793},{\"itemcode\":\"226490\",\"etfTabCode\":1,\"itemname\":\"KODEX 코스피\",\"nowVal\":29975,\"risefall\":\"2\",\"changeVal\":115,\"changeRate\":0.39,\"nav\":29973.0,\"threeMonthEarnRate\":-7.0217,\"quant\":121370,\"amonut\":3633,\"marketSum\":3747},{\"itemcode\":\"364960\",\"etfTabCode\":2,\"itemname\":\"TIGER KRX BBIG K-뉴딜\",\"nowVal\":11860,\"risefall\":\"5\",\"changeVal\":-205,\"changeRate\":-1.7,\"nav\":11852.0,\"threeMonthEarnRate\":-10.8937,\"quant\":178402,\"amonut\":2115,\"marketSum\":3611},{\"itemcode\":\"332500\",\"etfTabCode\":1,\"itemname\":\"KINDEX 200TR\",\"nowVal\":24120,\"risefall\":\"2\",\"changeVal\":80,\"changeRate\":0.33,\"nav\":24074.0,\"threeMonthEarnRate\":-6.0938,\"quant\":8337,\"amonut\":200,\"marketSum\":3497},{\"itemcode\":\"229200\",\"etfTabCode\":1,\"itemname\":\"KODEX 코스닥 150\",\"nowVal\":14585,\"risefall\":\"5\",\"changeVal\":-175,\"changeRate\":-1.19,\"nav\":14745.0,\"threeMonthEarnRate\":-2.7348,\"quant\":2597871,\"amonut\":37884,\"marketSum\":3442},{\"itemcode\":\"251350\",\"etfTabCode\":4,\"itemname\":\"KODEX 선진국MSCI World\",\"nowVal\":20480,\"risefall\":\"5\",\"changeVal\":-260,\"changeRate\":-1.25,\"nav\":null,\"threeMonthEarnRate\":0.5332,\"quant\":43976,\"amonut\":904,\"marketSum\":3441},{\"itemcode\":\"290130\",\"etfTabCode\":2,\"itemname\":\"KBSTAR ESG사회책임투자\",\"nowVal\":12935,\"risefall\":\"2\",\"changeVal\":35,\"changeRate\":0.27,\"nav\":12934.0,\"threeMonthEarnRate\":-4.7971,\"quant\":31441,\"amonut\":405,\"marketSum\":3344},{\"itemcode\":\"367770\",\"etfTabCode\":2,\"itemname\":\"KBSTAR Fn수소경제테마\",\"nowVal\":11295,\"risefall\":\"2\",\"changeVal\":25,\"changeRate\":0.22,\"nav\":11298.0,\"threeMonthEarnRate\":-10.4846,\"quant\":177925,\"amonut\":2001,\"marketSum\":3343},{\"itemcode\":\"367380\",\"etfTabCode\":4,\"itemname\":\"KINDEX 미국나스닥100\",\"nowVal\":14335,\"risefall\":\"5\",\"changeVal\":-200,\"changeRate\":-1.38,\"nav\":null,\"threeMonthEarnRate\":4.6813,\"quant\":282742,\"amonut\":4049,\"marketSum\":3297},{\"itemcode\":\"091170\",\"etfTabCode\":2,\"itemname\":\"KODEX 은행\",\"nowVal\":7490,\"risefall\":\"2\",\"changeVal\":10,\"changeRate\":0.13,\"nav\":7498.0,\"threeMonthEarnRate\":0.4026,\"quant\":1479574,\"amonut\":11038,\"marketSum\":3251},{\"itemcode\":\"332940\",\"etfTabCode\":1,\"itemname\":\"HANARO MSCI Korea TR\",\"nowVal\":15845,\"risefall\":\"5\",\"changeVal\":-15,\"changeRate\":-0.09,\"nav\":15875.0,\"threeMonthEarnRate\":-6.1539,\"quant\":63,\"amonut\":0,\"marketSum\":3090},{\"itemcode\":\"371160\",\"etfTabCode\":4,\"itemname\":\"TIGER 차이나항셍테크\",\"nowVal\":7555,\"risefall\":\"5\",\"changeVal\":-245,\"changeRate\":-3.14,\"nav\":null,\"threeMonthEarnRate\":-9.7223,\"quant\":875717,\"amonut\":6655,\"marketSum\":3048},{\"itemcode\":\"407310\",\"etfTabCode\":1,\"itemname\":\"HANARO 200 TOP10\",\"nowVal\":9875,\"risefall\":\"5\",\"changeVal\":-25,\"changeRate\":-0.25,\"nav\":9884.0,\"threeMonthEarnRate\":null,\"quant\":609,\"amonut\":5,\"marketSum\":2706},{\"itemcode\":\"385550\",\"etfTabCode\":6,\"itemname\":\"KBSTAR KIS단기종합채권(AA-이상)액티브\",\"nowVal\":100170,\"risefall\":\"2\",\"changeVal\":5,\"changeRate\":0.0,\"nav\":100182.0,\"threeMonthEarnRate\":0.1099,\"quant\":1167,\"amonut\":116,\"marketSum\":2559},{\"itemcode\":\"091160\",\"etfTabCode\":2,\"itemname\":\"KODEX 반도체\",\"nowVal\":37345,\"risefall\":\"2\",\"changeVal\":485,\"changeRate\":1.32,\"nav\":37434.0,\"threeMonthEarnRate\":1.8935,\"quant\":273335,\"amonut\":10169,\"marketSum\":2521},{\"itemcode\":\"272560\",\"etfTabCode\":6,\"itemname\":\"KBSTAR 단기국공채액티브\",\"nowVal\":102265,\"risefall\":\"3\",\"changeVal\":0,\"changeRate\":0.0,\"nav\":102272.0,\"threeMonthEarnRate\":0.088,\"quant\":1151038,\"amonut\":117716,\"marketSum\":2504},{\"itemcode\":\"275980\",\"etfTabCode\":4,\"itemname\":\"TIGER 글로벌4차산업혁신기술(합성 H)\",\"nowVal\":18910,\"risefall\":\"5\",\"changeVal\":-175,\"changeRate\":-0.92,\"nav\":null,\"threeMonthEarnRate\":-2.7516,\"quant\":46662,\"amonut\":881,\"marketSum\":2496},{\"itemcode\":\"143850\",\"etfTabCode\":4,\"itemname\":\"TIGER 미국S&P500선물(H)\",\"nowVal\":53425,\"risefall\":\"5\",\"changeVal\":-250,\"changeRate\":-0.47,\"nav\":null,\"threeMonthEarnRate\":1.0923,\"quant\":20951,\"amonut\":1118,\"marketSum\":2471},{\"itemcode\":\"295040\",\"etfTabCode\":1,\"itemname\":\"SOL 200TR\",\"nowVal\":13475,\"risefall\":\"2\",\"changeVal\":70,\"changeRate\":0.52,\"nav\":13440.0,\"threeMonthEarnRate\":-6.1932,\"quant\":116086,\"amonut\":1554,\"marketSum\":2466},{\"itemcode\":\"357870\",\"etfTabCode\":7,\"itemname\":\"TIGER CD금리투자KIS(합성)\",\"nowVal\":50525,\"risefall\":\"3\",\"changeVal\":0,\"changeRate\":0.0,\"nav\":50517.0,\"threeMonthEarnRate\":0.2181,\"quant\":2,\"amonut\":0,\"marketSum\":2458},{\"itemcode\":\"108450\",\"etfTabCode\":2,\"itemname\":\"KINDEX 삼성그룹섹터가중\",\"nowVal\":16305,\"risefall\":\"2\",\"changeVal\":150,\"changeRate\":0.93,\"nav\":16322.0,\"threeMonthEarnRate\":-6.9145,\"quant\":6022,\"amonut\":98,\"marketSum\":2413},{\"itemcode\":\"401170\",\"etfTabCode\":2,\"itemname\":\"KBSTAR iSelect메타버스\",\"nowVal\":12105,\"risefall\":\"5\",\"changeVal\":-315,\"changeRate\":-2.54,\"nav\":12092.0,\"threeMonthEarnRate\":null,\"quant\":194417,\"amonut\":2360,\"marketSum\":2409},{\"itemcode\":\"132030\",\"etfTabCode\":5,\"itemname\":\"KODEX 골드선물(H)\",\"nowVal\":12050,\"risefall\":\"2\",\"changeVal\":75,\"changeRate\":0.63,\"nav\":null,\"threeMonthEarnRate\":-2.5235,\"quant\":106216,\"amonut\":1279,\"marketSum\":2302},{\"itemcode\":\"148070\",\"etfTabCode\":6,\"itemname\":\"KOSEF 국고채10년\",\"nowVal\":119745,\"risefall\":\"2\",\"changeVal\":95,\"changeRate\":0.08,\"nav\":119770.0,\"threeMonthEarnRate\":-1.8579,\"quant\":2284,\"amonut\":273,\"marketSum\":2299},{\"itemcode\":\"192090\",\"etfTabCode\":4,\"itemname\":\"TIGER 차이나CSI300\",\"nowVal\":12075,\"risefall\":\"2\",\"changeVal\":75,\"changeRate\":0.63,\"nav\":null,\"threeMonthEarnRate\":3.7165,\"quant\":107054,\"amonut\":1290,\"marketSum\":2294},{\"itemcode\":\"168580\",\"etfTabCode\":4,\"itemname\":\"KINDEX 중국본토CSI300\",\"nowVal\":32140,\"risefall\":\"2\",\"changeVal\":250,\"changeRate\":0.78,\"nav\":null,\"threeMonthEarnRate\":3.1704,\"quant\":2800,\"amonut\":89,\"marketSum\":2218},{\"itemcode\":\"394660\",\"etfTabCode\":4,\"itemname\":\"TIGER 글로벌자율주행&전기차SOLACTIVE\",\"nowVal\":11350,\"risefall\":\"5\",\"changeVal\":-210,\"changeRate\":-1.82,\"nav\":null,\"threeMonthEarnRate\":6.8885,\"quant\":437214,\"amonut\":4968,\"marketSum\":2188},{\"itemcode\":\"379810\",\"etfTabCode\":4,\"itemname\":\"KODEX 미국나스닥100TR\",\"nowVal\":12270,\"risefall\":\"5\",\"changeVal\":-170,\"changeRate\":-1.37,\"nav\":null,\"threeMonthEarnRate\":4.5817,\"quant\":496604,\"amonut\":6086,\"marketSum\":2184},{\"itemcode\":\"245710\",\"etfTabCode\":4,\"itemname\":\"KINDEX 베트남VN30(합성)\",\"nowVal\":22735,\"risefall\":\"5\",\"changeVal\":-760,\"changeRate\":-3.23,\"nav\":null,\"threeMonthEarnRate\":9.3299,\"quant\":96502,\"amonut\":2206,\"marketSum\":2114},{\"itemcode\":\"390950\",\"etfTabCode\":6,\"itemname\":\"HANARO 단기채권액티브\",\"nowVal\":100285,\"risefall\":\"2\",\"changeVal\":15,\"changeRate\":0.01,\"nav\":100281.0,\"threeMonthEarnRate\":0.1448,\"quant\":3,\"amonut\":0,\"marketSum\":2050},{\"itemcode\":\"379800\",\"etfTabCode\":4,\"itemname\":\"KODEX 미국S&P500TR\",\"nowVal\":11910,\"risefall\":\"5\",\"changeVal\":-25,\"changeRate\":-0.21,\"nav\":null,\"threeMonthEarnRate\":3.1101,\"quant\":282825,\"amonut\":3365,\"marketSum\":2049},{\"itemcode\":\"332930\",\"etfTabCode\":1,\"itemname\":\"HANARO 200TR\",\"nowVal\":46990,\"risefall\":\"2\",\"changeVal\":120,\"changeRate\":0.26,\"nav\":46974.0,\"threeMonthEarnRate\":-6.2225,\"quant\":616,\"amonut\":28,\"marketSum\":2021},{\"itemcode\":\"326240\",\"etfTabCode\":2,\"itemname\":\"KBSTAR IT플러스\",\"nowVal\":22255,\"risefall\":\"5\",\"changeVal\":-85,\"changeRate\":-0.38,\"nav\":22253.0,\"threeMonthEarnRate\":-0.2679,\"quant\":17849,\"amonut\":396,\"marketSum\":2016},{\"itemcode\":\"161510\",\"etfTabCode\":2,\"itemname\":\"ARIRANG 고배당주\",\"nowVal\":12385,\"risefall\":\"2\",\"changeVal\":95,\"changeRate\":0.77,\"nav\":12384.0,\"threeMonthEarnRate\":-2.8459,\"quant\":129123,\"amonut\":1597,\"marketSum\":1973},{\"itemcode\":\"329750\",\"etfTabCode\":6,\"itemname\":\"TIGER 미국달러단기채권액티브\",\"nowVal\":10110,\"risefall\":\"2\",\"changeVal\":25,\"changeRate\":0.25,\"nav\":null,\"threeMonthEarnRate\":1.7145,\"quant\":75220,\"amonut\":760,\"marketSum\":1953},{\"itemcode\":\"272580\",\"etfTabCode\":6,\"itemname\":\"TIGER 단기채권액티브\",\"nowVal\":50220,\"risefall\":\"3\",\"changeVal\":0,\"changeRate\":0.0,\"nav\":50219.0,\"threeMonthEarnRate\":0.1295,\"quant\":2862,\"amonut\":143,\"marketSum\":1915},{\"itemcode\":\"325020\",\"etfTabCode\":2,\"itemname\":\"KODEX 배당가치\",\"nowVal\":13025,\"risefall\":\"2\",\"changeVal\":80,\"changeRate\":0.62,\"nav\":13008.0,\"threeMonthEarnRate\":-3.7547,\"quant\":2026,\"amonut\":26,\"marketSum\":1810},{\"itemcode\":\"182480\",\"etfTabCode\":7,\"itemname\":\"TIGER 미국MSCI리츠(합성 H)\",\"nowVal\":15565,\"risefall\":\"5\",\"changeVal\":-95,\"changeRate\":-0.61,\"nav\":null,\"threeMonthEarnRate\":0.449,\"quant\":22840,\"amonut\":355,\"marketSum\":1751},{\"itemcode\":\"302450\",\"etfTabCode\":1,\"itemname\":\"KBSTAR 코스피\",\"nowVal\":29955,\"risefall\":\"2\",\"changeVal\":35,\"changeRate\":0.12,\"nav\":29957.0,\"threeMonthEarnRate\":-6.9218,\"quant\":16281,\"amonut\":488,\"marketSum\":1707},{\"itemcode\":\"261220\",\"etfTabCode\":5,\"itemname\":\"KODEX WTI원유선물(H)\",\"nowVal\":10630,\"risefall\":\"2\",\"changeVal\":30,\"changeRate\":0.28,\"nav\":null,\"threeMonthEarnRate\":-0.3292,\"quant\":657874,\"amonut\":6975,\"marketSum\":1674},{\"itemcode\":\"190620\",\"etfTabCode\":6,\"itemname\":\"KINDEX 단기통안채\",\"nowVal\":100600,\"risefall\":\"2\",\"changeVal\":10,\"changeRate\":0.01,\"nav\":100596.0,\"threeMonthEarnRate\":0.1593,\"quant\":86871,\"amonut\":8739,\"marketSum\":1654},{\"itemcode\":\"368590\",\"etfTabCode\":4,\"itemname\":\"KBSTAR 미국나스닥100\",\"nowVal\":13895,\"risefall\":\"5\",\"changeVal\":-205,\"changeRate\":-1.45,\"nav\":null,\"threeMonthEarnRate\":4.677,\"quant\":141900,\"amonut\":1970,\"marketSum\":1640},{\"itemcode\":\"278240\",\"etfTabCode\":1,\"itemname\":\"KBSTAR 코스닥150선물레버리지\",\"nowVal\":15970,\"risefall\":\"5\",\"changeVal\":-365,\"changeRate\":-2.23,\"nav\":15864.0,\"threeMonthEarnRate\":-3.8835,\"quant\":21042,\"amonut\":332,\"marketSum\":1600},{\"itemcode\":\"385560\",\"etfTabCode\":6,\"itemname\":\"KBSTAR KIS국고채30년Enhanced\",\"nowVal\":101150,\"risefall\":\"2\",\"changeVal\":300,\"changeRate\":0.3,\"nav\":100835.0,\"threeMonthEarnRate\":-6.7508,\"quant\":120403,\"amonut\":12240,\"marketSum\":1598},{\"itemcode\":\"270810\",\"etfTabCode\":1,\"itemname\":\"KBSTAR 코스닥150\",\"nowVal\":14565,\"risefall\":\"5\",\"changeVal\":-155,\"changeRate\":-1.05,\"nav\":14686.0,\"threeMonthEarnRate\":-2.6133,\"quant\":3681,\"amonut\":53,\"marketSum\":1567},{\"itemcode\":\"143860\",\"etfTabCode\":2,\"itemname\":\"TIGER 헬스케어\",\"nowVal\":36480,\"risefall\":\"5\",\"changeVal\":-170,\"changeRate\":-0.46,\"nav\":36621.0,\"threeMonthEarnRate\":-21.2675,\"quant\":19357,\"amonut\":703,\"marketSum\":1518},{\"itemcode\":\"232080\",\"etfTabCode\":1,\"itemname\":\"TIGER 코스닥150\",\"nowVal\":14905,\"risefall\":\"5\",\"changeVal\":-110,\"changeRate\":-0.73,\"nav\":14961.0,\"threeMonthEarnRate\":-2.5633,\"quant\":50235,\"amonut\":744,\"marketSum\":1470},{\"itemcode\":\"091230\",\"etfTabCode\":2,\"itemname\":\"TIGER 반도체\",\"nowVal\":38320,\"risefall\":\"2\",\"changeVal\":380,\"changeRate\":1.0,\"nav\":38440.0,\"threeMonthEarnRate\":2.2917,\"quant\":121201,\"amonut\":4635,\"marketSum\":1448},{\"itemcode\":\"372330\",\"etfTabCode\":4,\"itemname\":\"KODEX 차이나항셍테크\",\"nowVal\":7560,\"risefall\":\"5\",\"changeVal\":-265,\"changeRate\":-3.39,\"nav\":null,\"threeMonthEarnRate\":-9.7463,\"quant\":491713,\"amonut\":3736,\"marketSum\":1448},{\"itemcode\":\"138540\",\"etfTabCode\":2,\"itemname\":\"TIGER 현대차그룹+펀더멘털\",\"nowVal\":24015,\"risefall\":\"2\",\"changeVal\":260,\"changeRate\":1.09,\"nav\":24011.0,\"threeMonthEarnRate\":-10.4599,\"quant\":28713,\"amonut\":687,\"marketSum\":1340},{\"itemcode\":\"228800\",\"etfTabCode\":2,\"itemname\":\"TIGER 여행레저\",\"nowVal\":4755,\"risefall\":\"2\",\"changeVal\":60,\"changeRate\":1.28,\"nav\":4760.0,\"threeMonthEarnRate\":-15.9356,\"quant\":768907,\"amonut\":3624,\"marketSum\":1325},{\"itemcode\":\"219480\",\"etfTabCode\":4,\"itemname\":\"KODEX 미국S&P500선물(H)\",\"nowVal\":22015,\"risefall\":\"5\",\"changeVal\":-100,\"changeRate\":-0.45,\"nav\":null,\"threeMonthEarnRate\":1.1433,\"quant\":52383,\"amonut\":1152,\"marketSum\":1299},{\"itemcode\":\"150460\",\"etfTabCode\":2,\"itemname\":\"TIGER 중국소비테마\",\"nowVal\":7670,\"risefall\":\"2\",\"changeVal\":10,\"changeRate\":0.13,\"nav\":7701.0,\"threeMonthEarnRate\":-14.6043,\"quant\":30999,\"amonut\":237,\"marketSum\":1291},{\"itemcode\":\"367760\",\"etfTabCode\":2,\"itemname\":\"KBSTAR Fn5G테크\",\"nowVal\":10715,\"risefall\":\"2\",\"changeVal\":150,\"changeRate\":1.42,\"nav\":10713.0,\"threeMonthEarnRate\":-2.0399,\"quant\":68357,\"amonut\":725,\"marketSum\":1248},{\"itemcode\":\"395750\",\"etfTabCode\":2,\"itemname\":\"ARIRANG ESG가치주액티브\",\"nowVal\":9385,\"risefall\":\"2\",\"changeVal\":70,\"changeRate\":0.75,\"nav\":9377.0,\"threeMonthEarnRate\":-5.2873,\"quant\":423149,\"amonut\":3961,\"marketSum\":1206},{\"itemcode\":\"204480\",\"etfTabCode\":4,\"itemname\":\"TIGER 차이나CSI300레버리지(합성)\",\"nowVal\":32430,\"risefall\":\"2\",\"changeVal\":260,\"changeRate\":0.81,\"nav\":null,\"threeMonthEarnRate\":7.52,\"quant\":35177,\"amonut\":1141,\"marketSum\":1200},{\"itemcode\":\"267770\",\"etfTabCode\":3,\"itemname\":\"TIGER 200선물레버리지\",\"nowVal\":17580,\"risefall\":\"2\",\"changeVal\":85,\"changeRate\":0.49,\"nav\":17540.0,\"threeMonthEarnRate\":-13.0252,\"quant\":451066,\"amonut\":7819,\"marketSum\":1195},{\"itemcode\":\"228810\",\"etfTabCode\":2,\"itemname\":\"TIGER 미디어컨텐츠\",\"nowVal\":9645,\"risefall\":\"5\",\"changeVal\":-255,\"changeRate\":-2.58,\"nav\":9642.0,\"threeMonthEarnRate\":17.9273,\"quant\":424555,\"amonut\":4098,\"marketSum\":1175},{\"itemcode\":\"114260\",\"etfTabCode\":6,\"itemname\":\"KODEX 국고채3년\",\"nowVal\":57640,\"risefall\":\"2\",\"changeVal\":55,\"changeRate\":0.1,\"nav\":57610.0,\"threeMonthEarnRate\":-0.8267,\"quant\":284294,\"amonut\":16391,\"marketSum\":1172},{\"itemcode\":\"329200\",\"etfTabCode\":2,\"itemname\":\"TIGER 부동산인프라고배당\",\"nowVal\":5950,\"risefall\":\"5\",\"changeVal\":-10,\"changeRate\":-0.17,\"nav\":5955.0,\"threeMonthEarnRate\":2.6347,\"quant\":95695,\"amonut\":568,\"marketSum\":1169},{\"itemcode\":\"252710\",\"etfTabCode\":3,\"itemname\":\"TIGER 200선물인버스2X\",\"nowVal\":2315,\"risefall\":\"5\",\"changeVal\":-15,\"changeRate\":-0.64,\"nav\":2325.0,\"threeMonthEarnRate\":11.7505,\"quant\":5482401,\"amonut\":12844,\"marketSum\":1167},{\"itemcode\":\"273140\",\"etfTabCode\":6,\"itemname\":\"KODEX 단기변동금리부채권액티브\",\"nowVal\":102835,\"risefall\":\"3\",\"changeVal\":0,\"changeRate\":0.0,\"nav\":102848.0,\"threeMonthEarnRate\":0.1412,\"quant\":0,\"amonut\":0,\"marketSum\":1142},{\"itemcode\":\"261240\",\"etfTabCode\":7,\"itemname\":\"KODEX 미국달러선물\",\"nowVal\":10450,\"risefall\":\"2\",\"changeVal\":35,\"changeRate\":0.34,\"nav\":10461.0,\"threeMonthEarnRate\":1.8084,\"quant\":152395,\"amonut\":1592,\"marketSum\":1136},{\"itemcode\":\"309230\",\"etfTabCode\":2,\"itemname\":\"KINDEX 미국WideMoat가치주\",\"nowVal\":17540,\"risefall\":\"2\",\"changeVal\":50,\"changeRate\":0.29,\"nav\":null,\"threeMonthEarnRate\":-2.1813,\"quant\":36064,\"amonut\":631,\"marketSum\":1123},{\"itemcode\":\"322400\",\"etfTabCode\":2,\"itemname\":\"HANARO e커머스\",\"nowVal\":17820,\"risefall\":\"5\",\"changeVal\":-195,\"changeRate\":-1.08,\"nav\":17814.0,\"threeMonthEarnRate\":-11.6046,\"quant\":2196,\"amonut\":39,\"marketSum\":1114},{\"itemcode\":\"130730\",\"etfTabCode\":6,\"itemname\":\"KOSEF 단기자금\",\"nowVal\":101310,\"risefall\":\"3\",\"changeVal\":0,\"changeRate\":0.0,\"nav\":101306.0,\"threeMonthEarnRate\":0.0988,\"quant\":55789,\"amonut\":5651,\"marketSum\":1097},{\"itemcode\":\"379780\",\"etfTabCode\":4,\"itemname\":\"KBSTAR 미국S&P500\",\"nowVal\":11810,\"risefall\":\"5\",\"changeVal\":-30,\"changeRate\":-0.25,\"nav\":null,\"threeMonthEarnRate\":2.9565,\"quant\":61137,\"amonut\":721,\"marketSum\":1087},{\"itemcode\":\"329650\",\"etfTabCode\":7,\"itemname\":\"KODEX TRF3070\",\"nowVal\":11420,\"risefall\":\"5\",\"changeVal\":-20,\"changeRate\":-0.17,\"nav\":11379.0,\"threeMonthEarnRate\":-0.7376,\"quant\":52142,\"amonut\":595,\"marketSum\":1085},{\"itemcode\":\"298770\",\"etfTabCode\":4,\"itemname\":\"KODEX 한국대만IT프리미어\",\"nowVal\":20530,\"risefall\":\"2\",\"changeVal\":25,\"changeRate\":0.12,\"nav\":null,\"threeMonthEarnRate\":0.2199,\"quant\":17889,\"amonut\":366,\"marketSum\":1068},{\"itemcode\":\"325010\",\"etfTabCode\":2,\"itemname\":\"KODEX Fn성장\",\"nowVal\":17470,\"risefall\":\"5\",\"changeVal\":-65,\"changeRate\":-0.37,\"nav\":17433.0,\"threeMonthEarnRate\":-6.3052,\"quant\":1017,\"amonut\":17,\"marketSum\":1048},{\"itemcode\":\"139220\",\"etfTabCode\":2,\"itemname\":\"TIGER 200 건설\",\"nowVal\":3060,\"risefall\":\"2\",\"changeVal\":15,\"changeRate\":0.49,\"nav\":3052.0,\"threeMonthEarnRate\":-8.1448,\"quant\":163388,\"amonut\":497,\"marketSum\":1047},{\"itemcode\":\"328370\",\"etfTabCode\":1,\"itemname\":\"ARIRANG 코스피TR\",\"nowVal\":14985,\"risefall\":\"2\",\"changeVal\":35,\"changeRate\":0.23,\"nav\":15021.0,\"threeMonthEarnRate\":-7.459,\"quant\":50088,\"amonut\":752,\"marketSum\":1034},{\"itemcode\":\"283580\",\"etfTabCode\":4,\"itemname\":\"KODEX 차이나CSI300\",\"nowVal\":14645,\"risefall\":\"2\",\"changeVal\":30,\"changeRate\":0.21,\"nav\":null,\"threeMonthEarnRate\":4.5422,\"quant\":41791,\"amonut\":612,\"marketSum\":1025},{\"itemcode\":\"363510\",\"etfTabCode\":6,\"itemname\":\"SOL KIS단기통안채\",\"nowVal\":100525,\"risefall\":\"3\",\"changeVal\":0,\"changeRate\":0.0,\"nav\":100533.0,\"threeMonthEarnRate\":0.1344,\"quant\":0,\"amonut\":0,\"marketSum\":1015},{\"itemcode\":\"364970\",\"etfTabCode\":2,\"itemname\":\"TIGER KRX바이오K-뉴딜\",\"nowVal\":8790,\"risefall\":\"5\",\"changeVal\":-95,\"changeRate\":-1.07,\"nav\":8784.0,\"threeMonthEarnRate\":-19.264,\"quant\":282631,\"amonut\":2476,\"marketSum\":976},{\"itemcode\":\"225040\",\"etfTabCode\":4,\"itemname\":\"TIGER 미국S&P500레버리지(합성 H)\",\"nowVal\":35045,\"risefall\":\"5\",\"changeVal\":-330,\"changeRate\":-0.93,\"nav\":null,\"threeMonthEarnRate\":0.8265,\"quant\":21355,\"amonut\":745,\"marketSum\":946},{\"itemcode\":\"144600\",\"etfTabCode\":5,\"itemname\":\"KODEX 은선물(H)\",\"nowVal\":4600,\"risefall\":\"2\",\"changeVal\":5,\"changeRate\":0.11,\"nav\":null,\"threeMonthEarnRate\":-6.6057,\"quant\":239618,\"amonut\":1103,\"marketSum\":934},{\"itemcode\":\"304940\",\"etfTabCode\":4,\"itemname\":\"KODEX 미국나스닥100선물(H)\",\"nowVal\":20005,\"risefall\":\"5\",\"changeVal\":-345,\"changeRate\":-1.7,\"nav\":null,\"threeMonthEarnRate\":2.674,\"quant\":49826,\"amonut\":995,\"marketSum\":910},{\"itemcode\":\"117700\",\"etfTabCode\":2,\"itemname\":\"KODEX 건설\",\"nowVal\":3420,\"risefall\":\"3\",\"changeVal\":0,\"changeRate\":0.0,\"nav\":3426.0,\"threeMonthEarnRate\":-10.705,\"quant\":177362,\"amonut\":604,\"marketSum\":906},{\"itemcode\":\"157490\",\"etfTabCode\":2,\"itemname\":\"TIGER 소프트웨어\",\"nowVal\":17290,\"risefall\":\"5\",\"changeVal\":-385,\"changeRate\":-2.18,\"nav\":17258.0,\"threeMonthEarnRate\":-5.3295,\"quant\":37963,\"amonut\":656,\"marketSum\":906},{\"itemcode\":\"122260\",\"etfTabCode\":6,\"itemname\":\"KOSEF 통안채1년\",\"nowVal\":101330,\"risefall\":\"2\",\"changeVal\":20,\"changeRate\":0.02,\"nav\":101339.0,\"threeMonthEarnRate\":0.0098,\"quant\":90274,\"amonut\":9147,\"marketSum\":871},{\"itemcode\":\"139280\",\"etfTabCode\":2,\"itemname\":\"TIGER 경기방어\",\"nowVal\":10720,\"risefall\":\"2\",\"changeVal\":10,\"changeRate\":0.09,\"nav\":10717.0,\"threeMonthEarnRate\":-15.6361,\"quant\":7374,\"amonut\":78,\"marketSum\":866},{\"itemcode\":\"363580\",\"etfTabCode\":2,\"itemname\":\"KODEX 200IT TR\",\"nowVal\":13730,\"risefall\":\"2\",\"changeVal\":100,\"changeRate\":0.73,\"nav\":13729.0,\"threeMonthEarnRate\":-2.5036,\"quant\":651,\"amonut\":8,\"marketSum\":865},{\"itemcode\":\"306520\",\"etfTabCode\":3,\"itemname\":\"HANARO 200선물인버스\",\"nowVal\":9360,\"risefall\":\"5\",\"changeVal\":-10,\"changeRate\":-0.11,\"nav\":9369.0,\"threeMonthEarnRate\":6.2358,\"quant\":14214,\"amonut\":133,\"marketSum\":838},{\"itemcode\":\"371470\",\"etfTabCode\":4,\"itemname\":\"TIGER 차이나바이오테크SOLACTIVE\",\"nowVal\":10530,\"risefall\":\"5\",\"changeVal\":-370,\"changeRate\":-3.39,\"nav\":null,\"threeMonthEarnRate\":-3.1972,\"quant\":65274,\"amonut\":695,\"marketSum\":834},{\"itemcode\":\"266160\",\"etfTabCode\":2,\"itemname\":\"KBSTAR 고배당\",\"nowVal\":12395,\"risefall\":\"2\",\"changeVal\":100,\"changeRate\":0.81,\"nav\":12393.0,\"threeMonthEarnRate\":-3.3412,\"quant\":5825,\"amonut\":72,\"marketSum\":818},{\"itemcode\":\"195930\",\"etfTabCode\":4,\"itemname\":\"TIGER 유로스탁스50(합성 H)\",\"nowVal\":14045,\"risefall\":\"5\",\"changeVal\":-50,\"changeRate\":-0.35,\"nav\":null,\"threeMonthEarnRate\":-2.0841,\"quant\":11016,\"amonut\":154,\"marketSum\":815},{\"itemcode\":\"136340\",\"etfTabCode\":6,\"itemname\":\"KBSTAR 중기우량회사채\",\"nowVal\":104280,\"risefall\":\"2\",\"changeVal\":20,\"changeRate\":0.02,\"nav\":104318.0,\"threeMonthEarnRate\":-0.983,\"quant\":225,\"amonut\":23,\"marketSum\":813},{\"itemcode\":\"385510\",\"etfTabCode\":2,\"itemname\":\"KODEX K-신재생에너지액티브\",\"nowVal\":11865,\"risefall\":\"5\",\"changeVal\":-35,\"changeRate\":-0.29,\"nav\":11867.0,\"threeMonthEarnRate\":6.44,\"quant\":37088,\"amonut\":436,\"marketSum\":795},{\"itemcode\":\"174360\",\"etfTabCode\":4,\"itemname\":\"KBSTAR 중국본토대형주CSI100\",\"nowVal\":21475,\"risefall\":\"2\",\"changeVal\":175,\"changeRate\":0.82,\"nav\":null,\"threeMonthEarnRate\":4.4629,\"quant\":7215,\"amonut\":155,\"marketSum\":795},{\"itemcode\":\"305080\",\"etfTabCode\":6,\"itemname\":\"TIGER 미국채10년선물\",\"nowVal\":12145,\"risefall\":\"5\",\"changeVal\":-45,\"changeRate\":-0.37,\"nav\":null,\"threeMonthEarnRate\":1.4987,\"quant\":109991,\"amonut\":1336,\"marketSum\":753},{\"itemcode\":\"195980\",\"etfTabCode\":4,\"itemname\":\"ARIRANG 신흥국MSCI(합성 H)\",\"nowVal\":11680,\"risefall\":\"5\",\"changeVal\":-145,\"changeRate\":-1.23,\"nav\":null,\"threeMonthEarnRate\":-5.9643,\"quant\":16722,\"amonut\":195,\"marketSum\":726},{\"itemcode\":\"245340\",\"etfTabCode\":4,\"itemname\":\"TIGER 미국다우존스30\",\"nowVal\":20950,\"risefall\":\"2\",\"changeVal\":100,\"changeRate\":0.48,\"nav\":null,\"threeMonthEarnRate\":0.12,\"quant\":22544,\"amonut\":472,\"marketSum\":725},{\"itemcode\":\"387270\",\"etfTabCode\":4,\"itemname\":\"TIGER 글로벌BBIG액티브\",\"nowVal\":12140,\"risefall\":\"5\",\"changeVal\":-195,\"changeRate\":-1.58,\"nav\":null,\"threeMonthEarnRate\":2.9203,\"quant\":40299,\"amonut\":489,\"marketSum\":722},{\"itemcode\":\"387280\",\"etfTabCode\":2,\"itemname\":\"TIGER 퓨처모빌리티액티브\",\"nowVal\":11740,\"risefall\":\"2\",\"changeVal\":5,\"changeRate\":0.04,\"nav\":11649.0,\"threeMonthEarnRate\":7.0711,\"quant\":39457,\"amonut\":456,\"marketSum\":711},{\"itemcode\":\"114820\",\"etfTabCode\":6,\"itemname\":\"TIGER 국채3년\",\"nowVal\":109620,\"risefall\":\"2\",\"changeVal\":85,\"changeRate\":0.08,\"nav\":109628.0,\"threeMonthEarnRate\":-0.8375,\"quant\":485,\"amonut\":53,\"marketSum\":691},{\"itemcode\":\"376410\",\"etfTabCode\":2,\"itemname\":\"TIGER 탄소효율그린뉴딜\",\"nowVal\":9595,\"risefall\":\"2\",\"changeVal\":25,\"changeRate\":0.26,\"nav\":9599.0,\"threeMonthEarnRate\":-5.5189,\"quant\":6505,\"amonut\":61,\"marketSum\":662},{\"itemcode\":\"385520\",\"etfTabCode\":2,\"itemname\":\"KODEX K-미래차액티브\",\"nowVal\":10925,\"risefall\":\"2\",\"changeVal\":20,\"changeRate\":0.18,\"nav\":10940.0,\"threeMonthEarnRate\":3.8077,\"quant\":19413,\"amonut\":210,\"marketSum\":661},{\"itemcode\":\"391600\",\"etfTabCode\":4,\"itemname\":\"KINDEX 미국친환경그린테마INDXX\",\"nowVal\":10310,\"risefall\":\"5\",\"changeVal\":-375,\"changeRate\":-3.51,\"nav\":null,\"threeMonthEarnRate\":4.9091,\"quant\":93561,\"amonut\":964,\"marketSum\":660},{\"itemcode\":\"385720\",\"etfTabCode\":1,\"itemname\":\"TIMEFOLIO Kstock액티브\",\"nowVal\":10260,\"risefall\":\"5\",\"changeVal\":-50,\"changeRate\":-0.48,\"nav\":10265.0,\"threeMonthEarnRate\":0.1457,\"quant\":22763,\"amonut\":233,\"marketSum\":657},{\"itemcode\":\"123310\",\"etfTabCode\":3,\"itemname\":\"TIGER 인버스\",\"nowVal\":4500,\"risefall\":\"5\",\"changeVal\":-10,\"changeRate\":-0.22,\"nav\":4511.0,\"threeMonthEarnRate\":6.1176,\"quant\":611272,\"amonut\":2770,\"marketSum\":653},{\"itemcode\":\"396510\",\"etfTabCode\":4,\"itemname\":\"TIGER 차이나클린에너지SOLACTIVE\",\"nowVal\":10430,\"risefall\":\"2\",\"changeVal\":30,\"changeRate\":0.29,\"nav\":null,\"threeMonthEarnRate\":0.1444,\"quant\":31776,\"amonut\":331,\"marketSum\":642},{\"itemcode\":\"277630\",\"etfTabCode\":1,\"itemname\":\"TIGER 코스피\",\"nowVal\":30365,\"risefall\":\"2\",\"changeVal\":175,\"changeRate\":0.58,\"nav\":30281.0,\"threeMonthEarnRate\":-6.9359,\"quant\":806,\"amonut\":24,\"marketSum\":638},{\"itemcode\":\"282000\",\"etfTabCode\":3,\"itemname\":\"KBSTAR 국고채3년선물인버스\",\"nowVal\":100810,\"risefall\":\"5\",\"changeVal\":-50,\"changeRate\":-0.05,\"nav\":100788.0,\"threeMonthEarnRate\":1.0874,\"quant\":6,\"amonut\":0,\"marketSum\":631},{\"itemcode\":\"302190\",\"etfTabCode\":6,\"itemname\":\"TIGER 중장기국채\",\"nowVal\":52000,\"risefall\":\"2\",\"changeVal\":65,\"changeRate\":0.13,\"nav\":51978.0,\"threeMonthEarnRate\":-1.3955,\"quant\":898,\"amonut\":46,\"marketSum\":624},{\"itemcode\":\"368190\",\"etfTabCode\":2,\"itemname\":\"HANARO Fn K-뉴딜디지털플러스\",\"nowVal\":11935,\"risefall\":\"5\",\"changeVal\":-155,\"changeRate\":-1.28,\"nav\":11936.0,\"threeMonthEarnRate\":-9.9106,\"quant\":6179,\"amonut\":73,\"marketSum\":609},{\"itemcode\":\"404540\",\"etfTabCode\":2,\"itemname\":\"TIGER KRX기후변화솔루션\",\"nowVal\":9775,\"risefall\":\"3\",\"changeVal\":0,\"changeRate\":0.0,\"nav\":9784.0,\"threeMonthEarnRate\":null,\"quant\":5272,\"amonut\":51,\"marketSum\":606},{\"itemcode\":\"233160\",\"etfTabCode\":1,\"itemname\":\"TIGER 코스닥150 레버리지\",\"nowVal\":16420,\"risefall\":\"5\",\"changeVal\":-385,\"changeRate\":-2.29,\"nav\":16520.0,\"threeMonthEarnRate\":-5.0297,\"quant\":113661,\"amonut\":1857,\"marketSum\":599},{\"itemcode\":\"365000\",\"etfTabCode\":2,\"itemname\":\"TIGER KRX인터넷K-뉴딜\",\"nowVal\":11250,\"risefall\":\"5\",\"changeVal\":-230,\"changeRate\":-2.0,\"nav\":11258.0,\"threeMonthEarnRate\":-13.1619,\"quant\":91125,\"amonut\":1023,\"marketSum\":596},{\"itemcode\":\"245360\",\"etfTabCode\":4,\"itemname\":\"TIGER 차이나HSCEI\",\"nowVal\":10415,\"risefall\":\"5\",\"changeVal\":-235,\"changeRate\":-2.21,\"nav\":null,\"threeMonthEarnRate\":-6.7018,\"quant\":9637,\"amonut\":100,\"marketSum\":594},{\"itemcode\":\"256750\",\"etfTabCode\":4,\"itemname\":\"KODEX 차이나심천ChiNext(합성)\",\"nowVal\":15550,\"risefall\":\"5\",\"changeVal\":-35,\"changeRate\":-0.22,\"nav\":null,\"threeMonthEarnRate\":11.3214,\"quant\":9742,\"amonut\":151,\"marketSum\":591},{\"itemcode\":\"139230\",\"etfTabCode\":2,\"itemname\":\"TIGER 200 중공업\",\"nowVal\":3110,\"risefall\":\"2\",\"changeVal\":40,\"changeRate\":1.3,\"nav\":3109.0,\"threeMonthEarnRate\":-12.4109,\"quant\":611934,\"amonut\":1892,\"marketSum\":580},{\"itemcode\":\"315960\",\"etfTabCode\":2,\"itemname\":\"KBSTAR 대형고배당10TR\",\"nowVal\":16000,\"risefall\":\"2\",\"changeVal\":105,\"changeRate\":0.66,\"nav\":15999.0,\"threeMonthEarnRate\":0.2206,\"quant\":1166,\"amonut\":18,\"marketSum\":576},{\"itemcode\":\"395760\",\"etfTabCode\":2,\"itemname\":\"ARIRANG ESG성장주액티브\",\"nowVal\":9425,\"risefall\":\"2\",\"changeVal\":15,\"changeRate\":0.16,\"nav\":9445.0,\"threeMonthEarnRate\":-4.4185,\"quant\":198,\"amonut\":1,\"marketSum\":575},{\"itemcode\":\"200250\",\"etfTabCode\":4,\"itemname\":\"KOSEF 인도Nifty50(합성)\",\"nowVal\":18235,\"risefall\":\"5\",\"changeVal\":-345,\"changeRate\":-1.86,\"nav\":null,\"threeMonthEarnRate\":-0.3487,\"quant\":25182,\"amonut\":461,\"marketSum\":574},{\"itemcode\":\"354350\",\"etfTabCode\":4,\"itemname\":\"HANARO 글로벌럭셔리S&P(합성)\",\"nowVal\":19285,\"risefall\":\"5\",\"changeVal\":-205,\"changeRate\":-1.05,\"nav\":null,\"threeMonthEarnRate\":8.9435,\"quant\":70057,\"amonut\":1349,\"marketSum\":569},{\"itemcode\":\"388280\",\"etfTabCode\":2,\"itemname\":\"KBSTAR Fn컨택트대표\",\"nowVal\":9260,\"risefall\":\"5\",\"changeVal\":-50,\"changeRate\":-0.54,\"nav\":9258.0,\"threeMonthEarnRate\":-6.7602,\"quant\":5426,\"amonut\":49,\"marketSum\":561},{\"itemcode\":\"102970\",\"etfTabCode\":2,\"itemname\":\"KODEX 증권\",\"nowVal\":8030,\"risefall\":\"2\",\"changeVal\":170,\"changeRate\":2.16,\"nav\":8033.0,\"threeMonthEarnRate\":-7.3114,\"quant\":109836,\"amonut\":876,\"marketSum\":558},{\"itemcode\":\"117680\",\"etfTabCode\":2,\"itemname\":\"KODEX 철강\",\"nowVal\":8355,\"risefall\":\"2\",\"changeVal\":100,\"changeRate\":1.21,\"nav\":8359.0,\"threeMonthEarnRate\":-18.0239,\"quant\":191553,\"amonut\":1585,\"marketSum\":550},{\"itemcode\":\"130680\",\"etfTabCode\":5,\"itemname\":\"TIGER 원유선물Enhanced(H)\",\"nowVal\":3210,\"risefall\":\"2\",\"changeVal\":5,\"changeRate\":0.16,\"nav\":null,\"threeMonthEarnRate\":-0.4659,\"quant\":175518,\"amonut\":561,\"marketSum\":538},{\"itemcode\":\"099140\",\"etfTabCode\":4,\"itemname\":\"KODEX 차이나H\",\"nowVal\":17700,\"risefall\":\"5\",\"changeVal\":-365,\"changeRate\":-2.02,\"nav\":null,\"threeMonthEarnRate\":-6.7132,\"quant\":23639,\"amonut\":421,\"marketSum\":531},{\"itemcode\":\"266360\",\"etfTabCode\":2,\"itemname\":\"KODEX 미디어&엔터테인먼트\",\"nowVal\":24960,\"risefall\":\"5\",\"changeVal\":-825,\"changeRate\":-3.2,\"nav\":24946.0,\"threeMonthEarnRate\":0.0,\"quant\":14993,\"amonut\":375,\"marketSum\":524},{\"itemcode\":\"371450\",\"etfTabCode\":4,\"itemname\":\"TIGER 글로벌클라우드컴퓨팅INDXX\",\"nowVal\":11205,\"risefall\":\"5\",\"changeVal\":-260,\"changeRate\":-2.27,\"nav\":null,\"threeMonthEarnRate\":-10.1841,\"quant\":75674,\"amonut\":850,\"marketSum\":511},{\"itemcode\":\"114460\",\"etfTabCode\":6,\"itemname\":\"KINDEX 국고채3년\",\"nowVal\":105730,\"risefall\":\"2\",\"changeVal\":95,\"changeRate\":0.09,\"nav\":105717.0,\"threeMonthEarnRate\":-0.8355,\"quant\":190014,\"amonut\":20098,\"marketSum\":508},{\"itemcode\":\"337160\",\"etfTabCode\":2,\"itemname\":\"KODEX 200ESG\",\"nowVal\":14070,\"risefall\":\"2\",\"changeVal\":60,\"changeRate\":0.43,\"nav\":14063.0,\"threeMonthEarnRate\":-5.9732,\"quant\":19520,\"amonut\":273,\"marketSum\":507},{\"itemcode\":\"396500\",\"etfTabCode\":2,\"itemname\":\"TIGER Fn반도체TOP10\",\"nowVal\":9675,\"risefall\":\"2\",\"changeVal\":135,\"changeRate\":1.42,\"nav\":9685.0,\"threeMonthEarnRate\":4.6626,\"quant\":344945,\"amonut\":3310,\"marketSum\":493},{\"itemcode\":\"404260\",\"etfTabCode\":2,\"itemname\":\"KODEX KRX기후변화솔루션\",\"nowVal\":9730,\"risefall\":\"5\",\"changeVal\":-30,\"changeRate\":-0.31,\"nav\":9744.0,\"threeMonthEarnRate\":null,\"quant\":1306,\"amonut\":12,\"marketSum\":487},{\"itemcode\":\"300640\",\"etfTabCode\":2,\"itemname\":\"KBSTAR 게임테마\",\"nowVal\":20685,\"risefall\":\"5\",\"changeVal\":-1080,\"changeRate\":-4.96,\"nav\":20673.0,\"threeMonthEarnRate\":33.5685,\"quant\":84679,\"amonut\":1762,\"marketSum\":486},{\"itemcode\":\"356540\",\"etfTabCode\":6,\"itemname\":\"KINDEX KIS종합채권(AA-이상)액티브\",\"nowVal\":98000,\"risefall\":\"2\",\"changeVal\":10,\"changeRate\":0.01,\"nav\":97935.0,\"threeMonthEarnRate\":-1.0802,\"quant\":101,\"amonut\":9,\"marketSum\":485},{\"itemcode\":\"266370\",\"etfTabCode\":2,\"itemname\":\"KODEX IT\",\"nowVal\":21050,\"risefall\":\"2\",\"changeVal\":155,\"changeRate\":0.74,\"nav\":21059.0,\"threeMonthEarnRate\":2.0263,\"quant\":11134,\"amonut\":233,\"marketSum\":484},{\"itemcode\":\"363570\",\"etfTabCode\":6,\"itemname\":\"KODEX 장기종합채권(AA-이상)액티브KAP\",\"nowVal\":95805,\"risefall\":\"3\",\"changeVal\":0,\"changeRate\":0.0,\"nav\":95580.0,\"threeMonthEarnRate\":-2.12,\"quant\":0,\"amonut\":0,\"marketSum\":483},{\"itemcode\":\"400570\",\"etfTabCode\":4,\"itemname\":\"KODEX 유럽탄소배출권선물ICE(H)\",\"nowVal\":12545,\"risefall\":\"5\",\"changeVal\":-250,\"changeRate\":-1.95,\"nav\":null,\"threeMonthEarnRate\":null,\"quant\":329400,\"amonut\":4128,\"marketSum\":480},{\"itemcode\":\"304780\",\"etfTabCode\":1,\"itemname\":\"HANARO 200선물레버리지\",\"nowVal\":25500,\"risefall\":\"2\",\"changeVal\":95,\"changeRate\":0.37,\"nav\":25447.0,\"threeMonthEarnRate\":-13.0115,\"quant\":3866,\"amonut\":97,\"marketSum\":472},{\"itemcode\":\"256440\",\"etfTabCode\":4,\"itemname\":\"KINDEX 인도네시아MSCI(합성)\",\"nowVal\":9170,\"risefall\":\"5\",\"changeVal\":-5,\"changeRate\":-0.05,\"nav\":null,\"threeMonthEarnRate\":10.9431,\"quant\":7169,\"amonut\":65,\"marketSum\":468},{\"itemcode\":\"375770\",\"etfTabCode\":2,\"itemname\":\"KODEX 탄소효율그린뉴딜\",\"nowVal\":9585,\"risefall\":\"2\",\"changeVal\":20,\"changeRate\":0.21,\"nav\":9615.0,\"threeMonthEarnRate\":-5.6707,\"quant\":2828,\"amonut\":27,\"marketSum\":460},{\"itemcode\":\"292190\",\"etfTabCode\":1,\"itemname\":\"KODEX KRX300\",\"nowVal\":18320,\"risefall\":\"2\",\"changeVal\":20,\"changeRate\":0.11,\"nav\":18314.0,\"threeMonthEarnRate\":-5.7673,\"quant\":6584,\"amonut\":120,\"marketSum\":458},{\"itemcode\":\"341850\",\"etfTabCode\":7,\"itemname\":\"TIGER KIS부동산인프라채권TR\",\"nowVal\":5725,\"risefall\":\"5\",\"changeVal\":-20,\"changeRate\":-0.35,\"nav\":5713.0,\"threeMonthEarnRate\":2.0245,\"quant\":5391,\"amonut\":30,\"marketSum\":458},{\"itemcode\":\"228790\",\"etfTabCode\":2,\"itemname\":\"TIGER 화장품\",\"nowVal\":2840,\"risefall\":\"2\",\"changeVal\":30,\"changeRate\":1.07,\"nav\":2837.0,\"threeMonthEarnRate\":-20.2837,\"quant\":308691,\"amonut\":870,\"marketSum\":452},{\"itemcode\":\"390390\",\"etfTabCode\":4,\"itemname\":\"KODEX 미국반도체MV\",\"nowVal\":12090,\"risefall\":\"5\",\"changeVal\":-150,\"changeRate\":-1.23,\"nav\":null,\"threeMonthEarnRate\":15.1458,\"quant\":77385,\"amonut\":937,\"marketSum\":447},{\"itemcode\":\"361580\",\"etfTabCode\":1,\"itemname\":\"KBSTAR 200TR\",\"nowVal\":20250,\"risefall\":\"2\",\"changeVal\":50,\"changeRate\":0.25,\"nav\":20241.0,\"threeMonthEarnRate\":-6.1557,\"quant\":4690,\"amonut\":94,\"marketSum\":446},{\"itemcode\":\"219390\",\"etfTabCode\":4,\"itemname\":\"KBSTAR 미국S&P원유생산기업(합성 H)\",\"nowVal\":4400,\"risefall\":\"2\",\"changeVal\":30,\"changeRate\":0.69,\"nav\":null,\"threeMonthEarnRate\":15.3034,\"quant\":126786,\"amonut\":555,\"marketSum\":440},{\"itemcode\":\"394350\",\"etfTabCode\":4,\"itemname\":\"KOSEF 릭소글로벌퓨처모빌리티MSCI\",\"nowVal\":12000,\"risefall\":\"5\",\"changeVal\":-340,\"changeRate\":-2.76,\"nav\":null,\"threeMonthEarnRate\":12.1818,\"quant\":43116,\"amonut\":518,\"marketSum\":432},{\"itemcode\":\"243880\",\"etfTabCode\":2,\"itemname\":\"TIGER 200IT레버리지\",\"nowVal\":58520,\"risefall\":\"2\",\"changeVal\":945,\"changeRate\":1.64,\"nav\":58699.0,\"threeMonthEarnRate\":-7.3911,\"quant\":13035,\"amonut\":745,\"marketSum\":424},{\"itemcode\":\"203780\",\"etfTabCode\":4,\"itemname\":\"TIGER 미국나스닥바이오\",\"nowVal\":20005,\"risefall\":\"5\",\"changeVal\":-435,\"changeRate\":-2.13,\"nav\":null,\"threeMonthEarnRate\":-11.63,\"quant\":19740,\"amonut\":395,\"marketSum\":412},{\"itemcode\":\"336160\",\"etfTabCode\":6,\"itemname\":\"KBSTAR 금융채액티브\",\"nowVal\":102340,\"risefall\":\"2\",\"changeVal\":10,\"changeRate\":0.01,\"nav\":102332.0,\"threeMonthEarnRate\":-0.8142,\"quant\":106,\"amonut\":10,\"marketSum\":409},{\"itemcode\":\"123320\",\"etfTabCode\":3,\"itemname\":\"TIGER 레버리지\",\"nowVal\":22185,\"risefall\":\"2\",\"changeVal\":115,\"changeRate\":0.52,\"nav\":22146.0,\"threeMonthEarnRate\":-12.9904,\"quant\":93019,\"amonut\":2059,\"marketSum\":399},{\"itemcode\":\"269540\",\"etfTabCode\":4,\"itemname\":\"ARIRANG 미국S&P500(H)\",\"nowVal\":18865,\"risefall\":\"5\",\"changeVal\":-70,\"changeRate\":-0.37,\"nav\":null,\"threeMonthEarnRate\":1.365,\"quant\":12299,\"amonut\":231,\"marketSum\":396},{\"itemcode\":\"204450\",\"etfTabCode\":4,\"itemname\":\"KODEX 차이나H레버리지(H)\",\"nowVal\":4090,\"risefall\":\"5\",\"changeVal\":-185,\"changeRate\":-4.33,\"nav\":null,\"threeMonthEarnRate\":-17.0709,\"quant\":228199,\"amonut\":940,\"marketSum\":380},{\"itemcode\":\"139270\",\"etfTabCode\":2,\"itemname\":\"TIGER 200 금융\",\"nowVal\":6945,\"risefall\":\"2\",\"changeVal\":25,\"changeRate\":0.36,\"nav\":6949.0,\"threeMonthEarnRate\":-2.2047,\"quant\":46493,\"amonut\":322,\"marketSum\":376},{\"itemcode\":\"381560\",\"etfTabCode\":2,\"itemname\":\"HANARO Fn전기&수소차\",\"nowVal\":9555,\"risefall\":\"2\",\"changeVal\":65,\"changeRate\":0.68,\"nav\":9551.0,\"threeMonthEarnRate\":-10.8921,\"quant\":27707,\"amonut\":263,\"marketSum\":373},{\"itemcode\":\"304770\",\"etfTabCode\":1,\"itemname\":\"HANARO 코스닥150\",\"nowVal\":14585,\"risefall\":\"5\",\"changeVal\":-155,\"changeRate\":-1.05,\"nav\":14745.0,\"threeMonthEarnRate\":-2.6742,\"quant\":810,\"amonut\":11,\"marketSum\":370},{\"itemcode\":\"276970\",\"etfTabCode\":4,\"itemname\":\"KODEX 미국S&P고배당커버드콜(합성 H)\",\"nowVal\":10225,\"risefall\":\"2\",\"changeVal\":50,\"changeRate\":0.49,\"nav\":null,\"threeMonthEarnRate\":-2.3044,\"quant\":5044,\"amonut\":51,\"marketSum\":368},{\"itemcode\":\"326230\",\"etfTabCode\":2,\"itemname\":\"KBSTAR 내수주플러스\",\"nowVal\":9715,\"risefall\":\"3\",\"changeVal\":0,\"changeRate\":0.0,\"nav\":9707.0,\"threeMonthEarnRate\":-12.87,\"quant\":11,\"amonut\":0,\"marketSum\":363},{\"itemcode\":\"276650\",\"etfTabCode\":4,\"itemname\":\"KBSTAR 글로벌4차산업IT(합성 H)\",\"nowVal\":24140,\"risefall\":\"5\",\"changeVal\":-340,\"changeRate\":-1.39,\"nav\":null,\"threeMonthEarnRate\":0.4926,\"quant\":4259,\"amonut\":102,\"marketSum\":362},{\"itemcode\":\"279530\",\"etfTabCode\":2,\"itemname\":\"KODEX 고배당\",\"nowVal\":10040,\"risefall\":\"2\",\"changeVal\":20,\"changeRate\":0.2,\"nav\":10052.0,\"threeMonthEarnRate\":0.0499,\"quant\":6841,\"amonut\":68,\"marketSum\":351},{\"itemcode\":\"225800\",\"etfTabCode\":3,\"itemname\":\"KOSEF 미국달러선물레버리지\",\"nowVal\":9545,\"risefall\":\"2\",\"changeVal\":40,\"changeRate\":0.42,\"nav\":9574.0,\"threeMonthEarnRate\":3.259,\"quant\":40122,\"amonut\":383,\"marketSum\":346},{\"itemcode\":\"138230\",\"etfTabCode\":7,\"itemname\":\"KOSEF 미국달러선물\",\"nowVal\":12400,\"risefall\":\"2\",\"changeVal\":25,\"changeRate\":0.2,\"nav\":12430.0,\"threeMonthEarnRate\":1.6427,\"quant\":3261,\"amonut\":40,\"marketSum\":345},{\"itemcode\":\"385600\",\"etfTabCode\":2,\"itemname\":\"네비게이터 친환경자동차밸류체인액티브\",\"nowVal\":11105,\"risefall\":\"5\",\"changeVal\":-105,\"changeRate\":-0.94,\"nav\":11133.0,\"threeMonthEarnRate\":5.7547,\"quant\":23993,\"amonut\":265,\"marketSum\":344},{\"itemcode\":\"396520\",\"etfTabCode\":4,\"itemname\":\"TIGER 차이나반도체FACTSET\",\"nowVal\":9840,\"risefall\":\"5\",\"changeVal\":-135,\"changeRate\":-1.35,\"nav\":null,\"threeMonthEarnRate\":7.5471,\"quant\":25617,\"amonut\":254,\"marketSum\":342},{\"itemcode\":\"310960\",\"etfTabCode\":1,\"itemname\":\"TIGER 200TR\",\"nowVal\":21040,\"risefall\":\"2\",\"changeVal\":50,\"changeRate\":0.24,\"nav\":21033.0,\"threeMonthEarnRate\":-6.19,\"quant\":628,\"amonut\":13,\"marketSum\":337},{\"itemcode\":\"114470\",\"etfTabCode\":6,\"itemname\":\"KOSEF 국고채3년\",\"nowVal\":111330,\"risefall\":\"2\",\"changeVal\":80,\"changeRate\":0.07,\"nav\":111314.0,\"threeMonthEarnRate\":-0.8114,\"quant\":46,\"amonut\":5,\"marketSum\":334},{\"itemcode\":\"359210\",\"etfTabCode\":1,\"itemname\":\"KODEX 코스피TR\",\"nowVal\":13805,\"risefall\":\"2\",\"changeVal\":35,\"changeRate\":0.25,\"nav\":13809.0,\"threeMonthEarnRate\":-7.1164,\"quant\":67,\"amonut\":0,\"marketSum\":331},{\"itemcode\":\"252420\",\"etfTabCode\":3,\"itemname\":\"KBSTAR 200선물인버스2X\",\"nowVal\":2230,\"risefall\":\"5\",\"changeVal\":-5,\"changeRate\":-0.22,\"nav\":2233.0,\"threeMonthEarnRate\":11.75,\"quant\":405441,\"amonut\":910,\"marketSum\":330},{\"itemcode\":\"385590\",\"etfTabCode\":2,\"itemname\":\"네비게이터 ESG액티브\",\"nowVal\":9330,\"risefall\":\"2\",\"changeVal\":40,\"changeRate\":0.43,\"nav\":9335.0,\"threeMonthEarnRate\":-6.1617,\"quant\":835,\"amonut\":7,\"marketSum\":327},{\"itemcode\":\"227540\",\"etfTabCode\":2,\"itemname\":\"TIGER 200 헬스케어\",\"nowVal\":22210,\"risefall\":\"5\",\"changeVal\":-170,\"changeRate\":-0.76,\"nav\":22207.0,\"threeMonthEarnRate\":-19.9857,\"quant\":9165,\"amonut\":202,\"marketSum\":324},{\"itemcode\":\"337140\",\"etfTabCode\":2,\"itemname\":\"KODEX 코스피대형주\",\"nowVal\":13900,\"risefall\":\"2\",\"changeVal\":55,\"changeRate\":0.4,\"nav\":13911.0,\"threeMonthEarnRate\":-6.1675,\"quant\":740,\"amonut\":10,\"marketSum\":320},{\"itemcode\":\"332620\",\"etfTabCode\":6,\"itemname\":\"ARIRANG 미국장기우량회사채\",\"nowVal\":104725,\"risefall\":\"5\",\"changeVal\":-195,\"changeRate\":-0.19,\"nav\":null,\"threeMonthEarnRate\":2.1318,\"quant\":755,\"amonut\":79,\"marketSum\":319},{\"itemcode\":\"211900\",\"etfTabCode\":2,\"itemname\":\"KODEX 배당성장\",\"nowVal\":15195,\"risefall\":\"2\",\"changeVal\":95,\"changeRate\":0.63,\"nav\":15237.0,\"threeMonthEarnRate\":-7.3336,\"quant\":1840,\"amonut\":27,\"marketSum\":319},{\"itemcode\":\"244580\",\"etfTabCode\":2,\"itemname\":\"KODEX 바이오\",\"nowVal\":12445,\"risefall\":\"2\",\"changeVal\":40,\"changeRate\":0.32,\"nav\":12550.0,\"threeMonthEarnRate\":-24.3598,\"quant\":22400,\"amonut\":276,\"marketSum\":319},{\"itemcode\":\"169950\",\"etfTabCode\":4,\"itemname\":\"KODEX 차이나A50\",\"nowVal\":22740,\"risefall\":\"2\",\"changeVal\":360,\"changeRate\":1.61,\"nav\":null,\"threeMonthEarnRate\":5.4665,\"quant\":9372,\"amonut\":211,\"marketSum\":318},{\"itemcode\":\"287180\",\"etfTabCode\":4,\"itemname\":\"ARIRANG 미국나스닥테크\",\"nowVal\":25440,\"risefall\":\"5\",\"changeVal\":-510,\"changeRate\":-1.97,\"nav\":null,\"threeMonthEarnRate\":4.3845,\"quant\":9770,\"amonut\":248,\"marketSum\":318},{\"itemcode\":\"385710\",\"etfTabCode\":2,\"itemname\":\"TIMEFOLIO BBIG액티브\",\"nowVal\":11270,\"risefall\":\"5\",\"changeVal\":-310,\"changeRate\":-2.68,\"nav\":11270.0,\"threeMonthEarnRate\":1.0912,\"quant\":8599,\"amonut\":96,\"marketSum\":316},{\"itemcode\":\"272570\",\"etfTabCode\":6,\"itemname\":\"KBSTAR 중장기국공채액티브\",\"nowVal\":102760,\"risefall\":\"2\",\"changeVal\":70,\"changeRate\":0.07,\"nav\":102732.0,\"threeMonthEarnRate\":-1.0074,\"quant\":122,\"amonut\":12,\"marketSum\":303},{\"itemcode\":\"289260\",\"etfTabCode\":2,\"itemname\":\"TIGER MSCI KOREA ESG리더스\",\"nowVal\":11100,\"risefall\":\"3\",\"changeVal\":0,\"changeRate\":0.0,\"nav\":11077.0,\"threeMonthEarnRate\":-6.3292,\"quant\":364943,\"amonut\":4033,\"marketSum\":300},{\"itemcode\":\"137610\",\"etfTabCode\":5,\"itemname\":\"TIGER 농산물선물Enhanced(H)\",\"nowVal\":6635,\"risefall\":\"5\",\"changeVal\":-5,\"changeRate\":-0.08,\"nav\":null,\"threeMonthEarnRate\":3.4267,\"quant\":14469,\"amonut\":96,\"marketSum\":292},{\"itemcode\":\"217780\",\"etfTabCode\":4,\"itemname\":\"TIGER 차이나CSI300인버스(합성)\",\"nowVal\":7290,\"risefall\":\"5\",\"changeVal\":-50,\"changeRate\":-0.68,\"nav\":null,\"threeMonthEarnRate\":-4.6754,\"quant\":2988,\"amonut\":21,\"marketSum\":292},{\"itemcode\":\"395160\",\"etfTabCode\":2,\"itemname\":\"KODEX Fn시스템반도체\",\"nowVal\":10030,\"risefall\":\"2\",\"changeVal\":160,\"changeRate\":1.62,\"nav\":10030.0,\"threeMonthEarnRate\":2.0682,\"quant\":83295,\"amonut\":830,\"marketSum\":291},{\"itemcode\":\"266420\",\"etfTabCode\":2,\"itemname\":\"KODEX 헬스케어\",\"nowVal\":15945,\"risefall\":\"5\",\"changeVal\":-10,\"changeRate\":-0.06,\"nav\":16026.0,\"threeMonthEarnRate\":-21.5586,\"quant\":5544,\"amonut\":87,\"marketSum\":287},{\"itemcode\":\"364990\",\"etfTabCode\":2,\"itemname\":\"TIGER KRX게임K-뉴딜\",\"nowVal\":12450,\"risefall\":\"5\",\"changeVal\":-425,\"changeRate\":-3.3,\"nav\":12441.0,\"threeMonthEarnRate\":7.0241,\"quant\":106784,\"amonut\":1342,\"marketSum\":286},{\"itemcode\":\"284430\",\"etfTabCode\":6,\"itemname\":\"KODEX 200미국채혼합\",\"nowVal\":13240,\"risefall\":\"2\",\"changeVal\":120,\"changeRate\":0.91,\"nav\":13209.0,\"threeMonthEarnRate\":-2.4898,\"quant\":9803,\"amonut\":129,\"marketSum\":286},{\"itemcode\":\"280930\",\"etfTabCode\":4,\"itemname\":\"KODEX 미국러셀2000(H)\",\"nowVal\":14240,\"risefall\":\"5\",\"changeVal\":-125,\"changeRate\":-0.87,\"nav\":null,\"threeMonthEarnRate\":-4.3291,\"quant\":14357,\"amonut\":204,\"marketSum\":285},{\"itemcode\":\"319640\",\"etfTabCode\":4,\"itemname\":\"TIGER 골드선물(H)\",\"nowVal\":12885,\"risefall\":\"2\",\"changeVal\":90,\"changeRate\":0.7,\"nav\":null,\"threeMonthEarnRate\":-2.3656,\"quant\":26258,\"amonut\":338,\"marketSum\":283},{\"itemcode\":\"181480\",\"etfTabCode\":7,\"itemname\":\"KINDEX 미국다우존스리츠(합성 H)\",\"nowVal\":98800,\"risefall\":\"5\",\"changeVal\":-170,\"changeRate\":-0.17,\"nav\":null,\"threeMonthEarnRate\":-1.5518,\"quant\":40,\"amonut\":3,\"marketSum\":277},{\"itemcode\":\"395280\",\"etfTabCode\":2,\"itemname\":\"HANARO Fn K-게임\",\"nowVal\":10030,\"risefall\":\"5\",\"changeVal\":-430,\"changeRate\":-4.11,\"nav\":10020.0,\"threeMonthEarnRate\":17.8591,\"quant\":63747,\"amonut\":642,\"marketSum\":271},{\"itemcode\":\"213630\",\"etfTabCode\":4,\"itemname\":\"ARIRANG 미국다우존스고배당주(합성 H)\",\"nowVal\":15535,\"risefall\":\"2\",\"changeVal\":150,\"changeRate\":0.97,\"nav\":null,\"threeMonthEarnRate\":-2.7497,\"quant\":1065,\"amonut\":16,\"marketSum\":269},{\"itemcode\":\"354500\",\"etfTabCode\":1,\"itemname\":\"KINDEX 코스닥150\",\"nowVal\":14770,\"risefall\":\"5\",\"changeVal\":-140,\"changeRate\":-0.94,\"nav\":14740.0,\"threeMonthEarnRate\":-2.3256,\"quant\":446,\"amonut\":6,\"marketSum\":266},{\"itemcode\":\"236350\",\"etfTabCode\":4,\"itemname\":\"TIGER 인도니프티50레버리지(합성)\",\"nowVal\":23890,\"risefall\":\"5\",\"changeVal\":-1055,\"changeRate\":-4.23,\"nav\":null,\"threeMonthEarnRate\":-0.5978,\"quant\":15563,\"amonut\":375,\"marketSum\":263},{\"itemcode\":\"152870\",\"etfTabCode\":1,\"itemname\":\"파워 200\",\"nowVal\":40255,\"risefall\":\"2\",\"changeVal\":145,\"changeRate\":0.36,\"nav\":40237.0,\"threeMonthEarnRate\":-6.4992,\"quant\":40,\"amonut\":1,\"marketSum\":262},{\"itemcode\":\"239660\",\"etfTabCode\":6,\"itemname\":\"ARIRANG 우량회사채50 1년\",\"nowVal\":108575,\"risefall\":\"2\",\"changeVal\":5,\"changeRate\":0.0,\"nav\":108577.0,\"threeMonthEarnRate\":-0.0783,\"quant\":1227,\"amonut\":133,\"marketSum\":261},{\"itemcode\":\"252410\",\"etfTabCode\":3,\"itemname\":\"KBSTAR 200선물인버스\",\"nowVal\":5245,\"risefall\":\"5\",\"changeVal\":-10,\"changeRate\":-0.19,\"nav\":5258.0,\"threeMonthEarnRate\":5.9475,\"quant\":8387,\"amonut\":44,\"marketSum\":257},{\"itemcode\":\"261250\",\"etfTabCode\":7,\"itemname\":\"KODEX 미국달러선물레버리지\",\"nowVal\":10035,\"risefall\":\"2\",\"changeVal\":50,\"changeRate\":0.5,\"nav\":10054.0,\"threeMonthEarnRate\":3.3109,\"quant\":215430,\"amonut\":2167,\"marketSum\":257},{\"itemcode\":\"277540\",\"etfTabCode\":4,\"itemname\":\"KINDEX S&P아시아TOP50\",\"nowVal\":14225,\"risefall\":\"5\",\"changeVal\":-105,\"changeRate\":-0.73,\"nav\":null,\"threeMonthEarnRate\":-4.2433,\"quant\":908,\"amonut\":12,\"marketSum\":256},{\"itemcode\":\"253250\",\"etfTabCode\":3,\"itemname\":\"KOSEF 200선물레버리지\",\"nowVal\":20960,\"risefall\":\"2\",\"changeVal\":70,\"changeRate\":0.34,\"nav\":20915.0,\"threeMonthEarnRate\":-13.1393,\"quant\":18383,\"amonut\":380,\"marketSum\":256},{\"itemcode\":\"252400\",\"etfTabCode\":3,\"itemname\":\"KBSTAR 200선물레버리지\",\"nowVal\":21250,\"risefall\":\"2\",\"changeVal\":75,\"changeRate\":0.35,\"nav\":21203.0,\"threeMonthEarnRate\":-13.0212,\"quant\":21138,\"amonut\":446,\"marketSum\":255},{\"itemcode\":\"400590\",\"etfTabCode\":4,\"itemname\":\"SOL 글로벌탄소배출권선물IHS(합성)\",\"nowVal\":11530,\"risefall\":\"5\",\"changeVal\":-145,\"changeRate\":-1.24,\"nav\":null,\"threeMonthEarnRate\":null,\"quant\":62367,\"amonut\":716,\"marketSum\":254},{\"itemcode\":\"230480\",\"etfTabCode\":3,\"itemname\":\"KOSEF 미국달러선물인버스2X\",\"nowVal\":7790,\"risefall\":\"5\",\"changeVal\":-40,\"changeRate\":-0.51,\"nav\":7783.0,\"threeMonthEarnRate\":-3.7493,\"quant\":377,\"amonut\":2,\"marketSum\":248},{\"itemcode\":\"395290\",\"etfTabCode\":2,\"itemname\":\"HANARO Fn K-POP&미디어\",\"nowVal\":10385,\"risefall\":\"5\",\"changeVal\":-210,\"changeRate\":-1.98,\"nav\":10380.0,\"threeMonthEarnRate\":13.4975,\"quant\":6423,\"amonut\":66,\"marketSum\":244},{\"itemcode\":\"160580\",\"etfTabCode\":5,\"itemname\":\"TIGER 구리실물\",\"nowVal\":10305,\"risefall\":\"2\",\"changeVal\":20,\"changeRate\":0.19,\"nav\":null,\"threeMonthEarnRate\":3.8364,\"quant\":7750,\"amonut\":79,\"marketSum\":242},{\"itemcode\":\"300610\",\"etfTabCode\":2,\"itemname\":\"TIGER K게임\",\"nowVal\":17620,\"risefall\":\"5\",\"changeVal\":-845,\"changeRate\":-4.58,\"nav\":17606.0,\"threeMonthEarnRate\":35.772,\"quant\":53612,\"amonut\":950,\"marketSum\":238},{\"itemcode\":\"365040\",\"etfTabCode\":1,\"itemname\":\"TIGER AI코리아그로스액티브\",\"nowVal\":13210,\"risefall\":\"2\",\"changeVal\":10,\"changeRate\":0.08,\"nav\":13259.0,\"threeMonthEarnRate\":-6.6809,\"quant\":1050,\"amonut\":13,\"marketSum\":238},{\"itemcode\":\"250780\",\"etfTabCode\":3,\"itemname\":\"TIGER 코스닥150선물인버스\",\"nowVal\":4320,\"risefall\":\"2\",\"changeVal\":60,\"changeRate\":1.41,\"nav\":4340.0,\"threeMonthEarnRate\":-0.1173,\"quant\":370990,\"amonut\":1608,\"marketSum\":238},{\"itemcode\":\"292160\",\"etfTabCode\":1,\"itemname\":\"TIGER KRX300\",\"nowVal\":18235,\"risefall\":\"5\",\"changeVal\":-10,\"changeRate\":-0.05,\"nav\":18265.0,\"threeMonthEarnRate\":-5.5055,\"quant\":833,\"amonut\":15,\"marketSum\":237},{\"itemcode\":\"304660\",\"etfTabCode\":6,\"itemname\":\"KODEX 미국채울트라30년선물(H)\",\"nowVal\":13060,\"risefall\":\"2\",\"changeVal\":110,\"changeRate\":0.85,\"nav\":null,\"threeMonthEarnRate\":2.1293,\"quant\":22519,\"amonut\":294,\"marketSum\":235},{\"itemcode\":\"218420\",\"etfTabCode\":4,\"itemname\":\"KODEX 미국S&P에너지(합성)\",\"nowVal\":7720,\"risefall\":\"2\",\"changeVal\":50,\"changeRate\":0.65,\"nav\":null,\"threeMonthEarnRate\":16.2121,\"quant\":16308,\"amonut\":125,\"marketSum\":235},{\"itemcode\":\"114100\",\"etfTabCode\":6,\"itemname\":\"KBSTAR 국고채3년\",\"nowVal\":111875,\"risefall\":\"2\",\"changeVal\":70,\"changeRate\":0.06,\"nav\":111855.0,\"threeMonthEarnRate\":-0.781,\"quant\":52,\"amonut\":5,\"marketSum\":235},{\"itemcode\":\"248270\",\"etfTabCode\":4,\"itemname\":\"TIGER S&P글로벌헬스케어(합성)\",\"nowVal\":17985,\"risefall\":\"2\",\"changeVal\":45,\"changeRate\":0.25,\"nav\":null,\"threeMonthEarnRate\":-4.0899,\"quant\":7129,\"amonut\":128,\"marketSum\":234},{\"itemcode\":\"399110\",\"etfTabCode\":4,\"itemname\":\"SOL 미국S&P500ESG\",\"nowVal\":10540,\"risefall\":\"5\",\"changeVal\":-40,\"changeRate\":-0.38,\"nav\":null,\"threeMonthEarnRate\":null,\"quant\":12155,\"amonut\":127,\"marketSum\":232},{\"itemcode\":\"168300\",\"etfTabCode\":1,\"itemname\":\"KTOP 코스피50\",\"nowVal\":28090,\"risefall\":\"2\",\"changeVal\":195,\"changeRate\":0.7,\"nav\":28025.0,\"threeMonthEarnRate\":-5.2158,\"quant\":137,\"amonut\":3,\"marketSum\":232},{\"itemcode\":\"332610\",\"etfTabCode\":6,\"itemname\":\"ARIRANG 미국단기우량회사채\",\"nowVal\":99390,\"risefall\":\"5\",\"changeVal\":-150,\"changeRate\":-0.15,\"nav\":null,\"threeMonthEarnRate\":1.6647,\"quant\":457,\"amonut\":45,\"marketSum\":229},{\"itemcode\":\"329660\",\"etfTabCode\":7,\"itemname\":\"KODEX TRF5050\",\"nowVal\":12480,\"risefall\":\"5\",\"changeVal\":-45,\"changeRate\":-0.36,\"nav\":12413.0,\"threeMonthEarnRate\":0.24,\"quant\":5180,\"amonut\":64,\"marketSum\":225},{\"itemcode\":\"322410\",\"etfTabCode\":2,\"itemname\":\"HANARO 고배당\",\"nowVal\":11175,\"risefall\":\"2\",\"changeVal\":105,\"changeRate\":0.95,\"nav\":11164.0,\"threeMonthEarnRate\":-3.5631,\"quant\":261,\"amonut\":2,\"marketSum\":224},{\"itemcode\":\"210780\",\"etfTabCode\":2,\"itemname\":\"TIGER 코스피고배당\",\"nowVal\":15285,\"risefall\":\"2\",\"changeVal\":140,\"changeRate\":0.92,\"nav\":15271.0,\"threeMonthEarnRate\":-1.1101,\"quant\":6741,\"amonut\":102,\"marketSum\":220},{\"itemcode\":\"266410\",\"etfTabCode\":2,\"itemname\":\"KODEX 필수소비재\",\"nowVal\":8385,\"risefall\":\"2\",\"changeVal\":30,\"changeRate\":0.36,\"nav\":8389.0,\"threeMonthEarnRate\":-13.4646,\"quant\":9071,\"amonut\":75,\"marketSum\":218},{\"itemcode\":\"388420\",\"etfTabCode\":2,\"itemname\":\"KBSTAR 비메모리반도체액티브\",\"nowVal\":10790,\"risefall\":\"2\",\"changeVal\":215,\"changeRate\":2.03,\"nav\":10800.0,\"threeMonthEarnRate\":4.5994,\"quant\":169110,\"amonut\":1813,\"marketSum\":218},{\"itemcode\":\"300950\",\"etfTabCode\":2,\"itemname\":\"KODEX 게임산업\",\"nowVal\":16710,\"risefall\":\"5\",\"changeVal\":-760,\"changeRate\":-4.35,\"nav\":16703.0,\"threeMonthEarnRate\":30.4705,\"quant\":108053,\"amonut\":1813,\"marketSum\":217},{\"itemcode\":\"329670\",\"etfTabCode\":7,\"itemname\":\"KODEX TRF7030\",\"nowVal\":13515,\"risefall\":\"5\",\"changeVal\":-130,\"changeRate\":-0.95,\"nav\":13433.0,\"threeMonthEarnRate\":0.7382,\"quant\":6877,\"amonut\":92,\"marketSum\":216},{\"itemcode\":\"138520\",\"etfTabCode\":2,\"itemname\":\"TIGER 삼성그룹펀더멘털\",\"nowVal\":11565,\"risefall\":\"2\",\"changeVal\":65,\"changeRate\":0.57,\"nav\":11567.0,\"threeMonthEarnRate\":-7.1833,\"quant\":2432,\"amonut\":28,\"marketSum\":215},{\"itemcode\":\"237370\",\"etfTabCode\":7,\"itemname\":\"KODEX 배당성장채권혼합\",\"nowVal\":11935,\"risefall\":\"2\",\"changeVal\":65,\"changeRate\":0.55,\"nav\":11930.0,\"threeMonthEarnRate\":-2.9436,\"quant\":3413,\"amonut\":40,\"marketSum\":215},{\"itemcode\":\"225130\",\"etfTabCode\":4,\"itemname\":\"KINDEX 골드선물 레버리지(합성 H)\",\"nowVal\":16500,\"risefall\":\"2\",\"changeVal\":135,\"changeRate\":0.82,\"nav\":null,\"threeMonthEarnRate\":-5.1305,\"quant\":11063,\"amonut\":182,\"marketSum\":215},{\"itemcode\":\"377990\",\"etfTabCode\":2,\"itemname\":\"TIGER Fn신재생에너지\",\"nowVal\":9450,\"risefall\":\"2\",\"changeVal\":30,\"changeRate\":0.32,\"nav\":9462.0,\"threeMonthEarnRate\":-11.0902,\"quant\":13764,\"amonut\":128,\"marketSum\":213},{\"itemcode\":\"285690\",\"etfTabCode\":2,\"itemname\":\"FOCUS ESG리더스\",\"nowVal\":10880,\"risefall\":\"2\",\"changeVal\":90,\"changeRate\":0.83,\"nav\":10890.0,\"threeMonthEarnRate\":-8.6755,\"quant\":10816,\"amonut\":117,\"marketSum\":212},{\"itemcode\":\"404120\",\"etfTabCode\":2,\"itemname\":\"TIMEFOLIO 탄소중립액티브\",\"nowVal\":9560,\"risefall\":\"5\",\"changeVal\":-15,\"changeRate\":-0.16,\"nav\":9583.0,\"threeMonthEarnRate\":null,\"quant\":754,\"amonut\":7,\"marketSum\":210},{\"itemcode\":\"397410\",\"etfTabCode\":6,\"itemname\":\"KBSTAR 국채선물5년추종인버스\",\"nowVal\":50800,\"risefall\":\"5\",\"changeVal\":-25,\"changeRate\":-0.05,\"nav\":50783.0,\"threeMonthEarnRate\":1.4471,\"quant\":6,\"amonut\":0,\"marketSum\":210},{\"itemcode\":\"407830\",\"etfTabCode\":4,\"itemname\":\"에셋플러스 글로벌플랫폼액티브\",\"nowVal\":8990,\"risefall\":\"5\",\"changeVal\":-385,\"changeRate\":-4.11,\"nav\":null,\"threeMonthEarnRate\":null,\"quant\":228079,\"amonut\":2048,\"marketSum\":207},{\"itemcode\":\"276990\",\"etfTabCode\":4,\"itemname\":\"KODEX 글로벌4차산업로보틱스(합성)\",\"nowVal\":18930,\"risefall\":\"3\",\"changeVal\":0,\"changeRate\":0.0,\"nav\":null,\"threeMonthEarnRate\":0.4777,\"quant\":3436,\"amonut\":64,\"marketSum\":204},{\"itemcode\":\"368680\",\"etfTabCode\":2,\"itemname\":\"KODEX Fn K-뉴딜디지털플러스\",\"nowVal\":11955,\"risefall\":\"5\",\"changeVal\":-145,\"changeRate\":-1.2,\"nav\":11961.0,\"threeMonthEarnRate\":-9.6341,\"quant\":684,\"amonut\":8,\"marketSum\":203},{\"itemcode\":\"152380\",\"etfTabCode\":6,\"itemname\":\"KODEX 국채선물10년\",\"nowVal\":69065,\"risefall\":\"2\",\"changeVal\":155,\"changeRate\":0.22,\"nav\":69037.0,\"threeMonthEarnRate\":-2.1513,\"quant\":403,\"amonut\":27,\"marketSum\":203},{\"itemcode\":\"278620\",\"etfTabCode\":6,\"itemname\":\"ARIRANG 단기채권액티브\",\"nowVal\":106000,\"risefall\":\"3\",\"changeVal\":0,\"changeRate\":0.0,\"nav\":105977.0,\"threeMonthEarnRate\":-0.0802,\"quant\":0,\"amonut\":0,\"marketSum\":200},{\"itemcode\":\"153270\",\"etfTabCode\":1,\"itemname\":\"KOSEF 코스피100\",\"nowVal\":29750,\"risefall\":\"2\",\"changeVal\":70,\"changeRate\":0.24,\"nav\":29715.0,\"threeMonthEarnRate\":-6.1651,\"quant\":279,\"amonut\":8,\"marketSum\":196},{\"itemcode\":\"117460\",\"etfTabCode\":2,\"itemname\":\"KODEX 에너지화학\",\"nowVal\":18575,\"risefall\":\"2\",\"changeVal\":125,\"changeRate\":0.68,\"nav\":18567.0,\"threeMonthEarnRate\":-5.0194,\"quant\":19232,\"amonut\":354,\"marketSum\":195},{\"itemcode\":\"352560\",\"etfTabCode\":7,\"itemname\":\"KODEX 다우존스미국리츠(H)\",\"nowVal\":14910,\"risefall\":\"2\",\"changeVal\":60,\"changeRate\":0.4,\"nav\":null,\"threeMonthEarnRate\":-1.6557,\"quant\":10240,\"amonut\":151,\"marketSum\":194},{\"itemcode\":\"371130\",\"etfTabCode\":4,\"itemname\":\"KINDEX 블룸버그베트남VN30선물레버리지(H)\",\"nowVal\":21430,\"risefall\":\"5\",\"changeVal\":-1105,\"changeRate\":-4.9,\"nav\":null,\"threeMonthEarnRate\":16.49,\"quant\":7986,\"amonut\":172,\"marketSum\":193},{\"itemcode\":\"143460\",\"etfTabCode\":2,\"itemname\":\"KINDEX 밸류대형\",\"nowVal\":9545,\"risefall\":\"2\",\"changeVal\":80,\"changeRate\":0.85,\"nav\":9518.0,\"threeMonthEarnRate\":-4.7308,\"quant\":36,\"amonut\":0,\"marketSum\":191},{\"itemcode\":\"138910\",\"etfTabCode\":5,\"itemname\":\"KODEX 구리선물(H)\",\"nowVal\":7855,\"risefall\":\"5\",\"changeVal\":-80,\"changeRate\":-1.01,\"nav\":null,\"threeMonthEarnRate\":0.1893,\"quant\":25894,\"amonut\":204,\"marketSum\":189},{\"itemcode\":\"337150\",\"etfTabCode\":2,\"itemname\":\"KODEX 200exTOP\",\"nowVal\":13435,\"risefall\":\"2\",\"changeVal\":85,\"changeRate\":0.64,\"nav\":13374.0,\"threeMonthEarnRate\":-8.6868,\"quant\":6,\"amonut\":0,\"marketSum\":188},{\"itemcode\":\"306950\",\"etfTabCode\":3,\"itemname\":\"KODEX KRX300레버리지\",\"nowVal\":18405,\"risefall\":\"2\",\"changeVal\":70,\"changeRate\":0.38,\"nav\":18434.0,\"threeMonthEarnRate\":-12.4194,\"quant\":6385,\"amonut\":117,\"marketSum\":184},{\"itemcode\":\"292730\",\"etfTabCode\":1,\"itemname\":\"FOCUS KRX300\",\"nowVal\":18370,\"risefall\":\"3\",\"changeVal\":0,\"changeRate\":0.0,\"nav\":18387.0,\"threeMonthEarnRate\":-5.7949,\"quant\":0,\"amonut\":0,\"marketSum\":184},{\"itemcode\":\"238720\",\"etfTabCode\":4,\"itemname\":\"KINDEX 일본Nikkei225(H)\",\"nowVal\":18360,\"risefall\":\"5\",\"changeVal\":-55,\"changeRate\":-0.3,\"nav\":null,\"threeMonthEarnRate\":-3.5359,\"quant\":2298,\"amonut\":42,\"marketSum\":184},{\"itemcode\":\"140710\",\"etfTabCode\":2,\"itemname\":\"KODEX 운송\",\"nowVal\":5670,\"risefall\":\"2\",\"changeVal\":80,\"changeRate\":1.43,\"nav\":5664.0,\"threeMonthEarnRate\":-19.278,\"quant\":92998,\"amonut\":523,\"marketSum\":181},{\"itemcode\":\"407820\",\"etfTabCode\":2,\"itemname\":\"에셋플러스 코리아플랫폼액티브\",\"nowVal\":9980,\"risefall\":\"5\",\"changeVal\":-195,\"changeRate\":-1.92,\"nav\":9990.0,\"threeMonthEarnRate\":null,\"quant\":23498,\"amonut\":233,\"marketSum\":180},{\"itemcode\":\"289040\",\"etfTabCode\":2,\"itemname\":\"KODEX MSCI KOREA ESG유니버설\",\"nowVal\":11815,\"risefall\":\"2\",\"changeVal\":195,\"changeRate\":1.68,\"nav\":11833.0,\"threeMonthEarnRate\":-7.1515,\"quant\":24,\"amonut\":0,\"marketSum\":177},{\"itemcode\":\"227570\",\"etfTabCode\":2,\"itemname\":\"TIGER 우량가치\",\"nowVal\":11760,\"risefall\":\"2\",\"changeVal\":55,\"changeRate\":0.47,\"nav\":11751.0,\"threeMonthEarnRate\":-9.0168,\"quant\":957,\"amonut\":11,\"marketSum\":176},{\"itemcode\":\"140700\",\"etfTabCode\":2,\"itemname\":\"KODEX 보험\",\"nowVal\":6450,\"risefall\":\"3\",\"changeVal\":0,\"changeRate\":0.0,\"nav\":6450.0,\"threeMonthEarnRate\":-5.5637,\"quant\":46453,\"amonut\":298,\"marketSum\":174},{\"itemcode\":\"237350\",\"etfTabCode\":1,\"itemname\":\"KODEX 코스피100\",\"nowVal\":30260,\"risefall\":\"2\",\"changeVal\":140,\"changeRate\":0.46,\"nav\":30261.0,\"threeMonthEarnRate\":-6.3433,\"quant\":2650,\"amonut\":80,\"marketSum\":166},{\"itemcode\":\"360140\",\"etfTabCode\":2,\"itemname\":\"KODEX 200롱코스닥150숏선물\",\"nowVal\":10400,\"risefall\":\"2\",\"changeVal\":140,\"changeRate\":1.36,\"nav\":10421.0,\"threeMonthEarnRate\":-6.1729,\"quant\":2402,\"amonut\":24,\"marketSum\":166},{\"itemcode\":\"211560\",\"etfTabCode\":2,\"itemname\":\"TIGER 배당성장\",\"nowVal\":18885,\"risefall\":\"2\",\"changeVal\":120,\"changeRate\":0.64,\"nav\":18874.0,\"threeMonthEarnRate\":-7.1729,\"quant\":43995,\"amonut\":830,\"marketSum\":164},{\"itemcode\":\"292500\",\"etfTabCode\":1,\"itemname\":\"SOL KRX300\",\"nowVal\":18225,\"risefall\":\"2\",\"changeVal\":150,\"changeRate\":0.83,\"nav\":18337.0,\"threeMonthEarnRate\":-6.7819,\"quant\":14,\"amonut\":0,\"marketSum\":164},{\"itemcode\":\"304760\",\"etfTabCode\":1,\"itemname\":\"HANARO KRX300\",\"nowVal\":18070,\"risefall\":\"2\",\"changeVal\":75,\"changeRate\":0.42,\"nav\":18048.0,\"threeMonthEarnRate\":-5.8495,\"quant\":1059,\"amonut\":19,\"marketSum\":163},{\"itemcode\":\"276000\",\"etfTabCode\":4,\"itemname\":\"TIGER 글로벌자원생산기업(합성 H)\",\"nowVal\":13385,\"risefall\":\"5\",\"changeVal\":-40,\"changeRate\":-0.3,\"nav\":null,\"threeMonthEarnRate\":1.666,\"quant\":900,\"amonut\":12,\"marketSum\":161},{\"itemcode\":\"138530\",\"etfTabCode\":2,\"itemname\":\"TIGER LG그룹+펀더멘털\",\"nowVal\":10425,\"risefall\":\"2\",\"changeVal\":165,\"changeRate\":1.61,\"nav\":10425.0,\"threeMonthEarnRate\":-8.5154,\"quant\":6888,\"amonut\":71,\"marketSum\":161},{\"itemcode\":\"139250\",\"etfTabCode\":2,\"itemname\":\"TIGER 200 에너지화학\",\"nowVal\":19045,\"risefall\":\"2\",\"changeVal\":85,\"changeRate\":0.45,\"nav\":19070.0,\"threeMonthEarnRate\":-6.0503,\"quant\":5661,\"amonut\":107,\"marketSum\":160},{\"itemcode\":\"272910\",\"etfTabCode\":6,\"itemname\":\"KINDEX 중장기국공채액티브\",\"nowVal\":100340,\"risefall\":\"2\",\"changeVal\":55,\"changeRate\":0.05,\"nav\":100287.0,\"threeMonthEarnRate\":-0.8258,\"quant\":1,\"amonut\":0,\"marketSum\":158},{\"itemcode\":\"241180\",\"etfTabCode\":4,\"itemname\":\"TIGER 일본니케이225\",\"nowVal\":17360,\"risefall\":\"5\",\"changeVal\":-20,\"changeRate\":-0.12,\"nav\":null,\"threeMonthEarnRate\":-4.3479,\"quant\":1796,\"amonut\":31,\"marketSum\":156},{\"itemcode\":\"316670\",\"etfTabCode\":1,\"itemname\":\"KOSEF 코스닥150\",\"nowVal\":7295,\"risefall\":\"5\",\"changeVal\":-75,\"changeRate\":-1.02,\"nav\":7333.0,\"threeMonthEarnRate\":-2.7063,\"quant\":140,\"amonut\":1,\"marketSum\":155},{\"itemcode\":\"331910\",\"etfTabCode\":2,\"itemname\":\"KOSEF Fn중소형\",\"nowVal\":23215,\"risefall\":\"2\",\"changeVal\":160,\"changeRate\":0.69,\"nav\":23194.0,\"threeMonthEarnRate\":-13.5384,\"quant\":71,\"amonut\":1,\"marketSum\":153},{\"itemcode\":\"280320\",\"etfTabCode\":4,\"itemname\":\"KINDEX 미국IT인터넷S&P(합성 H)\",\"nowVal\":19130,\"risefall\":\"5\",\"changeVal\":-365,\"changeRate\":-1.87,\"nav\":null,\"threeMonthEarnRate\":-10.4502,\"quant\":1390,\"amonut\":26,\"marketSum\":153},{\"itemcode\":\"091220\",\"etfTabCode\":2,\"itemname\":\"TIGER 은행\",\"nowVal\":7825,\"risefall\":\"2\",\"changeVal\":10,\"changeRate\":0.13,\"nav\":7821.0,\"threeMonthEarnRate\":0.5662,\"quant\":29654,\"amonut\":231,\"marketSum\":152},{\"itemcode\":\"245350\",\"etfTabCode\":4,\"itemname\":\"TIGER 유로스탁스배당30\",\"nowVal\":12620,\"risefall\":\"5\",\"changeVal\":-70,\"changeRate\":-0.55,\"nav\":null,\"threeMonthEarnRate\":-4.0817,\"quant\":6180,\"amonut\":78,\"marketSum\":151},{\"itemcode\":\"183700\",\"etfTabCode\":7,\"itemname\":\"KBSTAR 채권혼합\",\"nowVal\":62490,\"risefall\":\"3\",\"changeVal\":0,\"changeRate\":0.0,\"nav\":62538.0,\"threeMonthEarnRate\":-2.4356,\"quant\":14,\"amonut\":0,\"marketSum\":150},{\"itemcode\":\"182490\",\"etfTabCode\":6,\"itemname\":\"TIGER 단기선진하이일드(합성 H)\",\"nowVal\":12475,\"risefall\":\"2\",\"changeVal\":30,\"changeRate\":0.24,\"nav\":null,\"threeMonthEarnRate\":-1.0732,\"quant\":336,\"amonut\":4,\"marketSum\":150},{\"itemcode\":\"223190\",\"etfTabCode\":2,\"itemname\":\"KODEX 200가치저변동\",\"nowVal\":10680,\"risefall\":\"2\",\"changeVal\":50,\"changeRate\":0.47,\"nav\":10680.0,\"threeMonthEarnRate\":-4.4495,\"quant\":1792,\"amonut\":19,\"marketSum\":150},{\"itemcode\":\"225050\",\"etfTabCode\":4,\"itemname\":\"TIGER 유로스탁스레버리지(합성 H)\",\"nowVal\":9925,\"risefall\":\"5\",\"changeVal\":-150,\"changeRate\":-1.49,\"nav\":null,\"threeMonthEarnRate\":-5.1319,\"quant\":3015,\"amonut\":29,\"marketSum\":149},{\"itemcode\":\"176950\",\"etfTabCode\":6,\"itemname\":\"KODEX 국채선물10년인버스\",\"nowVal\":47495,\"risefall\":\"5\",\"changeVal\":-90,\"changeRate\":-0.19,\"nav\":47489.0,\"threeMonthEarnRate\":2.3223,\"quant\":455,\"amonut\":21,\"marketSum\":148},{\"itemcode\":\"401590\",\"etfTabCode\":4,\"itemname\":\"HANARO 글로벌탄소배출권선물ICE(합성)\",\"nowVal\":11380,\"risefall\":\"5\",\"changeVal\":-55,\"changeRate\":-0.48,\"nav\":null,\"threeMonthEarnRate\":null,\"quant\":17403,\"amonut\":197,\"marketSum\":148},{\"itemcode\":\"102960\",\"etfTabCode\":2,\"itemname\":\"KODEX 기계장비\",\"nowVal\":5560,\"risefall\":\"5\",\"changeVal\":-20,\"changeRate\":-0.36,\"nav\":5577.0,\"threeMonthEarnRate\":-5.3436,\"quant\":12668,\"amonut\":70,\"marketSum\":148},{\"itemcode\":\"253160\",\"etfTabCode\":3,\"itemname\":\"ARIRANG 200선물인버스2X\",\"nowVal\":4450,\"risefall\":\"5\",\"changeVal\":-40,\"changeRate\":-0.89,\"nav\":4480.0,\"threeMonthEarnRate\":11.8306,\"quant\":62253,\"amonut\":280,\"marketSum\":147},{\"itemcode\":\"241390\",\"etfTabCode\":7,\"itemname\":\"KBSTAR V&S셀렉트밸류채권혼합\",\"nowVal\":12220,\"risefall\":\"2\",\"changeVal\":50,\"changeRate\":0.41,\"nav\":12212.0,\"threeMonthEarnRate\":-3.4511,\"quant\":12072,\"amonut\":147,\"marketSum\":147},{\"itemcode\":\"367740\",\"etfTabCode\":2,\"itemname\":\"HANARO Fn5G산업\",\"nowVal\":13160,\"risefall\":\"2\",\"changeVal\":55,\"changeRate\":0.42,\"nav\":13159.0,\"threeMonthEarnRate\":-2.0187,\"quant\":1743,\"amonut\":22,\"marketSum\":145},{\"itemcode\":\"315270\",\"etfTabCode\":2,\"itemname\":\"TIGER 200커뮤니케이션서비스\",\"nowVal\":31405,\"risefall\":\"5\",\"changeVal\":-685,\"changeRate\":-2.13,\"nav\":31363.0,\"threeMonthEarnRate\":-5.831,\"quant\":142,\"amonut\":4,\"marketSum\":144},{\"itemcode\":\"308620\",\"etfTabCode\":6,\"itemname\":\"KODEX 미국채10년선물\",\"nowVal\":11870,\"risefall\":\"2\",\"changeVal\":50,\"changeRate\":0.42,\"nav\":null,\"threeMonthEarnRate\":0.0846,\"quant\":13363,\"amonut\":158,\"marketSum\":142},{\"itemcode\":\"289250\",\"etfTabCode\":2,\"itemname\":\"TIGER MSCI KOREA ESG유니버설\",\"nowVal\":11835,\"risefall\":\"5\",\"changeVal\":-30,\"changeRate\":-0.25,\"nav\":11875.0,\"threeMonthEarnRate\":-6.0571,\"quant\":57,\"amonut\":0,\"marketSum\":142},{\"itemcode\":\"269420\",\"etfTabCode\":4,\"itemname\":\"KODEX S&P글로벌인프라(합성)\",\"nowVal\":12150,\"risefall\":\"2\",\"changeVal\":175,\"changeRate\":1.46,\"nav\":null,\"threeMonthEarnRate\":-2.9186,\"quant\":5099,\"amonut\":61,\"marketSum\":142},{\"itemcode\":\"139240\",\"etfTabCode\":2,\"itemname\":\"TIGER 200 철강소재\",\"nowVal\":8650,\"risefall\":\"2\",\"changeVal\":105,\"changeRate\":1.23,\"nav\":8647.0,\"threeMonthEarnRate\":-15.6883,\"quant\":162861,\"amonut\":1410,\"marketSum\":140},{\"itemcode\":\"361590\",\"etfTabCode\":2,\"itemname\":\"KBSTAR 코스피ex200\",\"nowVal\":13875,\"risefall\":\"2\",\"changeVal\":45,\"changeRate\":0.33,\"nav\":13859.0,\"threeMonthEarnRate\":-7.8922,\"quant\":26,\"amonut\":0,\"marketSum\":139},{\"itemcode\":\"271050\",\"etfTabCode\":5,\"itemname\":\"KODEX WTI원유선물인버스(H)\",\"nowVal\":8165,\"risefall\":\"5\",\"changeVal\":-45,\"changeRate\":-0.55,\"nav\":null,\"threeMonthEarnRate\":-3.4686,\"quant\":22914,\"amonut\":187,\"marketSum\":137},{\"itemcode\":\"219900\",\"etfTabCode\":4,\"itemname\":\"KINDEX 중국본토CSI300레버리지(합성)\",\"nowVal\":5635,\"risefall\":\"2\",\"changeVal\":40,\"changeRate\":0.71,\"nav\":null,\"threeMonthEarnRate\":6.1669,\"quant\":11607,\"amonut\":66,\"marketSum\":135},{\"itemcode\":\"402520\",\"etfTabCode\":1,\"itemname\":\"FOCUS 혁신기업액티브\",\"nowVal\":9640,\"risefall\":\"5\",\"changeVal\":-25,\"changeRate\":-0.26,\"nav\":9631.0,\"threeMonthEarnRate\":null,\"quant\":15,\"amonut\":0,\"marketSum\":135},{\"itemcode\":\"360150\",\"etfTabCode\":2,\"itemname\":\"KODEX 코스닥150롱코스피200숏선물\",\"nowVal\":8950,\"risefall\":\"5\",\"changeVal\":-120,\"changeRate\":-1.32,\"nav\":8948.0,\"threeMonthEarnRate\":4.6739,\"quant\":439,\"amonut\":3,\"marketSum\":134},{\"itemcode\":\"390400\",\"etfTabCode\":4,\"itemname\":\"KODEX 미국스마트모빌리티S&P\",\"nowVal\":9540,\"risefall\":\"5\",\"changeVal\":-240,\"changeRate\":-2.45,\"nav\":null,\"threeMonthEarnRate\":4.3756,\"quant\":17910,\"amonut\":170,\"marketSum\":134},{\"itemcode\":\"140950\",\"etfTabCode\":1,\"itemname\":\"파워 코스피100\",\"nowVal\":30305,\"risefall\":\"2\",\"changeVal\":255,\"changeRate\":0.85,\"nav\":30230.0,\"threeMonthEarnRate\":-6.4213,\"quant\":63,\"amonut\":1,\"marketSum\":133},{\"itemcode\":\"122090\",\"etfTabCode\":1,\"itemname\":\"ARIRANG 코스피50\",\"nowVal\":27705,\"risefall\":\"2\",\"changeVal\":45,\"changeRate\":0.16,\"nav\":27662.0,\"threeMonthEarnRate\":-5.3712,\"quant\":102,\"amonut\":2,\"marketSum\":133},{\"itemcode\":\"365780\",\"etfTabCode\":6,\"itemname\":\"KINDEX 국고채10년\",\"nowVal\":96530,\"risefall\":\"2\",\"changeVal\":185,\"changeRate\":0.19,\"nav\":96455.0,\"threeMonthEarnRate\":-1.899,\"quant\":314,\"amonut\":30,\"marketSum\":130},{\"itemcode\":\"195920\",\"etfTabCode\":4,\"itemname\":\"TIGER 일본TOPIX(합성 H)\",\"nowVal\":16005,\"risefall\":\"5\",\"changeVal\":-55,\"changeRate\":-0.34,\"nav\":null,\"threeMonthEarnRate\":-3.1947,\"quant\":110,\"amonut\":1,\"marketSum\":128},{\"itemcode\":\"229720\",\"etfTabCode\":1,\"itemname\":\"KODEX KTOP30\",\"nowVal\":21250,\"risefall\":\"5\",\"changeVal\":-40,\"changeRate\":-0.19,\"nav\":21245.0,\"threeMonthEarnRate\":-8.5089,\"quant\":132,\"amonut\":2,\"marketSum\":128},{\"itemcode\":\"253150\",\"etfTabCode\":3,\"itemname\":\"ARIRANG 200선물레버리지\",\"nowVal\":42260,\"risefall\":\"2\",\"changeVal\":110,\"changeRate\":0.26,\"nav\":42173.0,\"threeMonthEarnRate\":-12.9043,\"quant\":10965,\"amonut\":456,\"marketSum\":127},{\"itemcode\":\"307010\",\"etfTabCode\":3,\"itemname\":\"KBSTAR KRX300레버리지\",\"nowVal\":18050,\"risefall\":\"5\",\"changeVal\":-260,\"changeRate\":-1.42,\"nav\":18285.0,\"threeMonthEarnRate\":-12.2244,\"quant\":12511,\"amonut\":226,\"marketSum\":126},{\"itemcode\":\"395150\",\"etfTabCode\":2,\"itemname\":\"KODEX Fn웹툰&드라마\",\"nowVal\":9680,\"risefall\":\"5\",\"changeVal\":-185,\"changeRate\":-1.88,\"nav\":9683.0,\"threeMonthEarnRate\":3.4067,\"quant\":13641,\"amonut\":132,\"marketSum\":126},{\"itemcode\":\"400580\",\"etfTabCode\":4,\"itemname\":\"SOL 유럽탄소배출권선물S&P(H)\",\"nowVal\":12530,\"risefall\":\"5\",\"changeVal\":-260,\"changeRate\":-2.03,\"nav\":null,\"threeMonthEarnRate\":null,\"quant\":50048,\"amonut\":627,\"marketSum\":125},{\"itemcode\":\"200030\",\"etfTabCode\":4,\"itemname\":\"KODEX 미국S&P산업재(합성)\",\"nowVal\":21295,\"risefall\":\"2\",\"changeVal\":240,\"changeRate\":1.14,\"nav\":null,\"threeMonthEarnRate\":-1.4049,\"quant\":1001,\"amonut\":21,\"marketSum\":122},{\"itemcode\":\"251600\",\"etfTabCode\":7,\"itemname\":\"ARIRANG 고배당주채권혼합\",\"nowVal\":11080,\"risefall\":\"2\",\"changeVal\":50,\"changeRate\":0.45,\"nav\":11082.0,\"threeMonthEarnRate\":-1.912,\"quant\":2136,\"amonut\":23,\"marketSum\":122},{\"itemcode\":\"402970\",\"etfTabCode\":4,\"itemname\":\"KINDEX 미국고배당S&P\",\"nowVal\":10035,\"risefall\":\"2\",\"changeVal\":35,\"changeRate\":0.35,\"nav\":null,\"threeMonthEarnRate\":null,\"quant\":17985,\"amonut\":180,\"marketSum\":120},{\"itemcode\":\"279540\",\"etfTabCode\":2,\"itemname\":\"KODEX 최소변동성\",\"nowVal\":12020,\"risefall\":\"2\",\"changeVal\":35,\"changeRate\":0.29,\"nav\":12015.0,\"threeMonthEarnRate\":-4.616,\"quant\":4829,\"amonut\":58,\"marketSum\":120},{\"itemcode\":\"292050\",\"etfTabCode\":1,\"itemname\":\"KBSTAR KRX300\",\"nowVal\":18475,\"risefall\":\"2\",\"changeVal\":35,\"changeRate\":0.19,\"nav\":18453.0,\"threeMonthEarnRate\":-5.7501,\"quant\":117,\"amonut\":2,\"marketSum\":120},{\"itemcode\":\"253290\",\"etfTabCode\":7,\"itemname\":\"KBSTAR 헬스케어채권혼합\",\"nowVal\":11900,\"risefall\":\"5\",\"changeVal\":-5,\"changeRate\":-0.04,\"nav\":11896.0,\"threeMonthEarnRate\":-7.2459,\"quant\":5971,\"amonut\":70,\"marketSum\":119},{\"itemcode\":\"251590\",\"etfTabCode\":2,\"itemname\":\"ARIRANG 고배당저변동50\",\"nowVal\":11295,\"risefall\":\"2\",\"changeVal\":45,\"changeRate\":0.4,\"nav\":11293.0,\"threeMonthEarnRate\":-2.8078,\"quant\":2183,\"amonut\":24,\"marketSum\":119},{\"itemcode\":\"391590\",\"etfTabCode\":4,\"itemname\":\"KINDEX 미국스팩&IPO INDXX\",\"nowVal\":9810,\"risefall\":\"5\",\"changeVal\":-245,\"changeRate\":-2.44,\"nav\":null,\"threeMonthEarnRate\":0.4997,\"quant\":27442,\"amonut\":269,\"marketSum\":118},{\"itemcode\":\"244620\",\"etfTabCode\":2,\"itemname\":\"KODEX 모멘텀Plus\",\"nowVal\":12970,\"risefall\":\"2\",\"changeVal\":155,\"changeRate\":1.21,\"nav\":12969.0,\"threeMonthEarnRate\":-5.4593,\"quant\":4339,\"amonut\":56,\"marketSum\":117},{\"itemcode\":\"104520\",\"etfTabCode\":2,\"itemname\":\"KOSEF 블루칩\",\"nowVal\":9685,\"risefall\":\"2\",\"changeVal\":20,\"changeRate\":0.21,\"nav\":9683.0,\"threeMonthEarnRate\":-8.3018,\"quant\":162,\"amonut\":1,\"marketSum\":116},{\"itemcode\":\"310080\",\"etfTabCode\":4,\"itemname\":\"KBSTAR 중국MSCI China(H)\",\"nowVal\":10975,\"risefall\":\"5\",\"changeVal\":-340,\"changeRate\":-3.0,\"nav\":null,\"threeMonthEarnRate\":-9.1895,\"quant\":1776,\"amonut\":19,\"marketSum\":115},{\"itemcode\":\"265690\",\"etfTabCode\":4,\"itemname\":\"KINDEX 러시아MSCI(합성)\",\"nowVal\":32865,\"risefall\":\"5\",\"changeVal\":-385,\"changeRate\":-1.16,\"nav\":null,\"threeMonthEarnRate\":1.2638,\"quant\":1043,\"amonut\":34,\"marketSum\":115},{\"itemcode\":\"375760\",\"etfTabCode\":2,\"itemname\":\"HANARO 탄소효율그린뉴딜\",\"nowVal\":9570,\"risefall\":\"2\",\"changeVal\":30,\"changeRate\":0.31,\"nav\":9571.0,\"threeMonthEarnRate\":-5.815,\"quant\":1882,\"amonut\":17,\"marketSum\":115},{\"itemcode\":\"208470\",\"etfTabCode\":4,\"itemname\":\"SOL 선진국MSCI World(합성 H)\",\"nowVal\":18965,\"risefall\":\"2\",\"changeVal\":10,\"changeRate\":0.05,\"nav\":null,\"threeMonthEarnRate\":-1.6347,\"quant\":12,\"amonut\":0,\"marketSum\":114},{\"itemcode\":\"399580\",\"etfTabCode\":4,\"itemname\":\"KBSTAR 글로벌클린에너지S&P\",\"nowVal\":9415,\"risefall\":\"5\",\"changeVal\":-285,\"changeRate\":-2.94,\"nav\":null,\"threeMonthEarnRate\":null,\"quant\":15356,\"amonut\":144,\"marketSum\":113},{\"itemcode\":\"100910\",\"etfTabCode\":1,\"itemname\":\"KOSEF KRX100\",\"nowVal\":6220,\"risefall\":\"2\",\"changeVal\":5,\"changeRate\":0.08,\"nav\":6216.0,\"threeMonthEarnRate\":-6.1746,\"quant\":131,\"amonut\":0,\"marketSum\":112},{\"itemcode\":\"244670\",\"etfTabCode\":2,\"itemname\":\"KODEX 밸류Plus\",\"nowVal\":9295,\"risefall\":\"2\",\"changeVal\":50,\"changeRate\":0.54,\"nav\":9319.0,\"threeMonthEarnRate\":-13.1925,\"quant\":61,\"amonut\":0,\"marketSum\":112},{\"itemcode\":\"402460\",\"etfTabCode\":2,\"itemname\":\"HANARO Fn K-메타버스MZ\",\"nowVal\":11740,\"risefall\":\"5\",\"changeVal\":-205,\"changeRate\":-1.72,\"nav\":11754.0,\"threeMonthEarnRate\":null,\"quant\":40037,\"amonut\":469,\"marketSum\":112},{\"itemcode\":\"381570\",\"etfTabCode\":2,\"itemname\":\"HANARO Fn친환경에너지\",\"nowVal\":10515,\"risefall\":\"5\",\"changeVal\":-45,\"changeRate\":-0.43,\"nav\":10511.0,\"threeMonthEarnRate\":1.0043,\"quant\":1704,\"amonut\":17,\"marketSum\":110},{\"itemcode\":\"139290\",\"etfTabCode\":2,\"itemname\":\"TIGER 200 경기소비재\",\"nowVal\":17095,\"risefall\":\"2\",\"changeVal\":135,\"changeRate\":0.8,\"nav\":17048.0,\"threeMonthEarnRate\":-9.7152,\"quant\":820,\"amonut\":13,\"marketSum\":109},{\"itemcode\":\"225030\",\"etfTabCode\":4,\"itemname\":\"TIGER 미국S&P500선물인버스(H)\",\"nowVal\":3645,\"risefall\":\"2\",\"changeVal\":15,\"changeRate\":0.41,\"nav\":null,\"threeMonthEarnRate\":-1.6261,\"quant\":52839,\"amonut\":192,\"marketSum\":109},{\"itemcode\":\"292750\",\"etfTabCode\":1,\"itemname\":\"ARIRANG KRX300\",\"nowVal\":18200,\"risefall\":\"2\",\"changeVal\":15,\"changeRate\":0.08,\"nav\":18264.0,\"threeMonthEarnRate\":-6.0693,\"quant\":44,\"amonut\":0,\"marketSum\":109},{\"itemcode\":\"253230\",\"etfTabCode\":3,\"itemname\":\"KOSEF 200선물인버스2X\",\"nowVal\":2205,\"risefall\":\"5\",\"changeVal\":-10,\"changeRate\":-0.45,\"nav\":2220.0,\"threeMonthEarnRate\":11.3065,\"quant\":75874,\"amonut\":168,\"marketSum\":109},{\"itemcode\":\"316300\",\"etfTabCode\":7,\"itemname\":\"KINDEX 싱가포르리츠\",\"nowVal\":12045,\"risefall\":\"5\",\"changeVal\":-20,\"changeRate\":-0.17,\"nav\":null,\"threeMonthEarnRate\":-3.0535,\"quant\":330,\"amonut\":3,\"marketSum\":108},{\"itemcode\":\"261070\",\"etfTabCode\":2,\"itemname\":\"TIGER 코스닥150바이오테크\",\"nowVal\":10580,\"risefall\":\"5\",\"changeVal\":-20,\"changeRate\":-0.19,\"nav\":10750.0,\"threeMonthEarnRate\":-19.2689,\"quant\":7513,\"amonut\":79,\"marketSum\":108},{\"itemcode\":\"403790\",\"etfTabCode\":1,\"itemname\":\"마이다스 KoreaStock액티브\",\"nowVal\":20550,\"risefall\":\"2\",\"changeVal\":75,\"changeRate\":0.37,\"nav\":20500.0,\"threeMonthEarnRate\":null,\"quant\":227,\"amonut\":4,\"marketSum\":108},{\"itemcode\":\"248260\",\"etfTabCode\":4,\"itemname\":\"TIGER 일본TOPIX헬스케어(합성)\",\"nowVal\":10690,\"risefall\":\"5\",\"changeVal\":-110,\"changeRate\":-1.02,\"nav\":null,\"threeMonthEarnRate\":-11.9446,\"quant\":70,\"amonut\":0,\"marketSum\":107},{\"itemcode\":\"196030\",\"etfTabCode\":4,\"itemname\":\"KINDEX 일본TOPIX레버리지(H)\",\"nowVal\":21210,\"risefall\":\"5\",\"changeVal\":-415,\"changeRate\":-1.92,\"nav\":null,\"threeMonthEarnRate\":-3.7606,\"quant\":140,\"amonut\":2,\"marketSum\":106},{\"itemcode\":\"139660\",\"etfTabCode\":7,\"itemname\":\"KOSEF 미국달러선물인버스\",\"nowVal\":10085,\"risefall\":\"5\",\"changeVal\":-25,\"changeRate\":-0.25,\"nav\":10081.0,\"threeMonthEarnRate\":-1.9399,\"quant\":106,\"amonut\":1,\"marketSum\":105},{\"itemcode\":\"285000\",\"etfTabCode\":2,\"itemname\":\"KBSTAR 200IT\",\"nowVal\":16285,\"risefall\":\"2\",\"changeVal\":235,\"changeRate\":1.46,\"nav\":16221.0,\"threeMonthEarnRate\":-3.4587,\"quant\":112,\"amonut\":1,\"marketSum\":104},{\"itemcode\":\"352540\",\"etfTabCode\":7,\"itemname\":\"KODEX TSE일본리츠(H)\",\"nowVal\":12770,\"risefall\":\"5\",\"changeVal\":-15,\"changeRate\":-0.12,\"nav\":null,\"threeMonthEarnRate\":-5.611,\"quant\":15,\"amonut\":0,\"marketSum\":102},{\"itemcode\":\"108590\",\"etfTabCode\":1,\"itemname\":\"TREX 200\",\"nowVal\":40235,\"risefall\":\"2\",\"changeVal\":85,\"changeRate\":0.21,\"nav\":40232.0,\"threeMonthEarnRate\":-6.2245,\"quant\":30,\"amonut\":1,\"marketSum\":101},{\"itemcode\":\"342140\",\"etfTabCode\":7,\"itemname\":\"KINDEX 모닝스타싱가포르리츠채권혼합\",\"nowVal\":10030,\"risefall\":\"2\",\"changeVal\":25,\"changeRate\":0.25,\"nav\":null,\"threeMonthEarnRate\":-2.4379,\"quant\":1068,\"amonut\":10,\"marketSum\":100},{\"itemcode\":\"101280\",\"etfTabCode\":4,\"itemname\":\"KODEX 일본TOPIX100\",\"nowVal\":16660,\"risefall\":\"5\",\"changeVal\":-65,\"changeRate\":-0.39,\"nav\":null,\"threeMonthEarnRate\":-2.1358,\"quant\":182,\"amonut\":3,\"marketSum\":100},{\"itemcode\":\"145850\",\"etfTabCode\":2,\"itemname\":\"TREX 펀더멘탈 200\",\"nowVal\":39675,\"risefall\":\"2\",\"changeVal\":255,\"changeRate\":0.65,\"nav\":39648.0,\"threeMonthEarnRate\":-5.2404,\"quant\":5,\"amonut\":0,\"marketSum\":99},{\"itemcode\":\"375270\",\"etfTabCode\":7,\"itemname\":\"KBSTAR 글로벌데이터센터리츠나스닥(합성)\",\"nowVal\":12185,\"risefall\":\"5\",\"changeVal\":-115,\"changeRate\":-0.93,\"nav\":null,\"threeMonthEarnRate\":-4.7988,\"quant\":2456,\"amonut\":29,\"marketSum\":97},{\"itemcode\":\"271060\",\"etfTabCode\":5,\"itemname\":\"KODEX 3대농산물선물(H)\",\"nowVal\":11165,\"risefall\":\"2\",\"changeVal\":5,\"changeRate\":0.04,\"nav\":null,\"threeMonthEarnRate\":5.9829,\"quant\":4298,\"amonut\":48,\"marketSum\":97},{\"itemcode\":\"337120\",\"etfTabCode\":2,\"itemname\":\"KODEX Fn멀티팩터\",\"nowVal\":13860,\"risefall\":\"2\",\"changeVal\":55,\"changeRate\":0.4,\"nav\":13839.0,\"threeMonthEarnRate\":-7.4112,\"quant\":1011,\"amonut\":14,\"marketSum\":97},{\"itemcode\":\"289670\",\"etfTabCode\":6,\"itemname\":\"ARIRANG 국채선물10년\",\"nowVal\":56040,\"risefall\":\"2\",\"changeVal\":160,\"changeRate\":0.29,\"nav\":55928.0,\"threeMonthEarnRate\":-2.0079,\"quant\":50,\"amonut\":2,\"marketSum\":96},{\"itemcode\":\"270800\",\"etfTabCode\":2,\"itemname\":\"KBSTAR KQ고배당\",\"nowVal\":14815,\"risefall\":\"2\",\"changeVal\":240,\"changeRate\":1.65,\"nav\":14817.0,\"threeMonthEarnRate\":-11.5058,\"quant\":194,\"amonut\":2,\"marketSum\":96},{\"itemcode\":\"368200\",\"etfTabCode\":2,\"itemname\":\"KBSTAR Fn K-뉴딜디지털플러스\",\"nowVal\":11965,\"risefall\":\"5\",\"changeVal\":-155,\"changeRate\":-1.28,\"nav\":11959.0,\"threeMonthEarnRate\":-9.6871,\"quant\":17,\"amonut\":0,\"marketSum\":96},{\"itemcode\":\"105780\",\"etfTabCode\":2,\"itemname\":\"KBSTAR 5대그룹주\",\"nowVal\":7820,\"risefall\":\"2\",\"changeVal\":30,\"changeRate\":0.39,\"nav\":7808.0,\"threeMonthEarnRate\":-7.7015,\"quant\":782,\"amonut\":6,\"marketSum\":94},{\"itemcode\":\"407300\",\"etfTabCode\":2,\"itemname\":\"HANARO Fn골프테마\",\"nowVal\":9315,\"risefall\":\"5\",\"changeVal\":-100,\"changeRate\":-1.06,\"nav\":9333.0,\"threeMonthEarnRate\":null,\"quant\":14089,\"amonut\":130,\"marketSum\":93},{\"itemcode\":\"256450\",\"etfTabCode\":4,\"itemname\":\"ARIRANG 심천차이넥스트(합성)\",\"nowVal\":15420,\"risefall\":\"5\",\"changeVal\":-45,\"changeRate\":-0.29,\"nav\":null,\"threeMonthEarnRate\":13.7969,\"quant\":255,\"amonut\":3,\"marketSum\":93},{\"itemcode\":\"185680\",\"etfTabCode\":4,\"itemname\":\"KODEX 미국S&P바이오(합성)\",\"nowVal\":28455,\"risefall\":\"5\",\"changeVal\":-1285,\"changeRate\":-4.32,\"nav\":null,\"threeMonthEarnRate\":-13.2566,\"quant\":5291,\"amonut\":150,\"marketSum\":92},{\"itemcode\":\"152500\",\"etfTabCode\":3,\"itemname\":\"KINDEX 레버리지\",\"nowVal\":9245,\"risefall\":\"2\",\"changeVal\":55,\"changeRate\":0.6,\"nav\":9213.0,\"threeMonthEarnRate\":-12.891,\"quant\":40290,\"amonut\":367,\"marketSum\":92},{\"itemcode\":\"380340\",\"etfTabCode\":2,\"itemname\":\"KINDEX Fn5G플러스\",\"nowVal\":9235,\"risefall\":\"2\",\"changeVal\":25,\"changeRate\":0.27,\"nav\":9231.0,\"threeMonthEarnRate\":0.821,\"quant\":3808,\"amonut\":34,\"marketSum\":92},{\"itemcode\":\"227830\",\"etfTabCode\":1,\"itemname\":\"ARIRANG 코스피\",\"nowVal\":30600,\"risefall\":\"2\",\"changeVal\":105,\"changeRate\":0.34,\"nav\":30640.0,\"threeMonthEarnRate\":-7.5069,\"quant\":50,\"amonut\":1,\"marketSum\":92},{\"itemcode\":\"364690\",\"etfTabCode\":1,\"itemname\":\"KODEX 혁신기술테마액티브\",\"nowVal\":12935,\"risefall\":\"2\",\"changeVal\":55,\"changeRate\":0.43,\"nav\":12957.0,\"threeMonthEarnRate\":-7.3382,\"quant\":1826,\"amonut\":23,\"marketSum\":91},{\"itemcode\":\"272230\",\"etfTabCode\":2,\"itemname\":\"KINDEX 스마트밸류\",\"nowVal\":15025,\"risefall\":\"2\",\"changeVal\":75,\"changeRate\":0.5,\"nav\":14977.0,\"threeMonthEarnRate\":-6.8246,\"quant\":25,\"amonut\":0,\"marketSum\":90},{\"itemcode\":\"189400\",\"etfTabCode\":4,\"itemname\":\"ARIRANG 글로벌MSCI(합성 H)\",\"nowVal\":17610,\"risefall\":\"5\",\"changeVal\":-55,\"changeRate\":-0.31,\"nav\":null,\"threeMonthEarnRate\":-1.8612,\"quant\":57,\"amonut\":0,\"marketSum\":90},{\"itemcode\":\"167860\",\"etfTabCode\":6,\"itemname\":\"KOSEF 국고채10년레버리지\",\"nowVal\":127570,\"risefall\":\"2\",\"changeVal\":395,\"changeRate\":0.31,\"nav\":127372.0,\"threeMonthEarnRate\":-4.0877,\"quant\":191,\"amonut\":24,\"marketSum\":89},{\"itemcode\":\"243890\",\"etfTabCode\":2,\"itemname\":\"TIGER 200에너지화학레버리지\",\"nowVal\":18525,\"risefall\":\"2\",\"changeVal\":335,\"changeRate\":1.84,\"nav\":18425.0,\"threeMonthEarnRate\":-12.9874,\"quant\":3118,\"amonut\":57,\"marketSum\":88},{\"itemcode\":\"137930\",\"etfTabCode\":3,\"itemname\":\"마이다스 200커버드콜5%OTM\",\"nowVal\":14625,\"risefall\":\"2\",\"changeVal\":70,\"changeRate\":0.48,\"nav\":14601.0,\"threeMonthEarnRate\":-5.3949,\"quant\":2,\"amonut\":0,\"marketSum\":88},{\"itemcode\":\"322150\",\"etfTabCode\":2,\"itemname\":\"KINDEX 스마트하이베타\",\"nowVal\":14535,\"risefall\":\"2\",\"changeVal\":65,\"changeRate\":0.45,\"nav\":14494.0,\"threeMonthEarnRate\":-6.3128,\"quant\":27,\"amonut\":0,\"marketSum\":87},{\"itemcode\":\"225060\",\"etfTabCode\":4,\"itemname\":\"TIGER 이머징마켓MSCI레버리지(합성 H)\",\"nowVal\":12410,\"risefall\":\"5\",\"changeVal\":-270,\"changeRate\":-2.13,\"nav\":null,\"threeMonthEarnRate\":-13.2102,\"quant\":3113,\"amonut\":38,\"marketSum\":87},{\"itemcode\":\"250730\",\"etfTabCode\":4,\"itemname\":\"KBSTAR 차이나HSCEI(H)\",\"nowVal\":9600,\"risefall\":\"5\",\"changeVal\":-175,\"changeRate\":-1.79,\"nav\":null,\"threeMonthEarnRate\":-8.3021,\"quant\":1311,\"amonut\":12,\"marketSum\":86},{\"itemcode\":\"275290\",\"etfTabCode\":2,\"itemname\":\"KODEX MSCI밸류\",\"nowVal\":12310,\"risefall\":\"2\",\"changeVal\":65,\"changeRate\":0.53,\"nav\":12349.0,\"threeMonthEarnRate\":-6.0607,\"quant\":12,\"amonut\":0,\"marketSum\":86},{\"itemcode\":\"261140\",\"etfTabCode\":2,\"itemname\":\"TIGER 우선주\",\"nowVal\":13445,\"risefall\":\"2\",\"changeVal\":150,\"changeRate\":1.13,\"nav\":13442.0,\"threeMonthEarnRate\":-5.3333,\"quant\":1380,\"amonut\":18,\"marketSum\":86},{\"itemcode\":\"140570\",\"etfTabCode\":2,\"itemname\":\"KBSTAR 수출주\",\"nowVal\":12290,\"risefall\":\"2\",\"changeVal\":80,\"changeRate\":0.66,\"nav\":12275.0,\"threeMonthEarnRate\":-6.401,\"quant\":35,\"amonut\":0,\"marketSum\":86},{\"itemcode\":\"395270\",\"etfTabCode\":2,\"itemname\":\"HANARO Fn K-반도체\",\"nowVal\":10100,\"risefall\":\"2\",\"changeVal\":60,\"changeRate\":0.6,\"nav\":10100.0,\"threeMonthEarnRate\":4.5833,\"quant\":31551,\"amonut\":317,\"marketSum\":86},{\"itemcode\":\"354240\",\"etfTabCode\":7,\"itemname\":\"KBSTAR 미국고정배당우선증권ICE TR\",\"nowVal\":10730,\"risefall\":\"2\",\"changeVal\":15,\"changeRate\":0.14,\"nav\":null,\"threeMonthEarnRate\":0.0934,\"quant\":549,\"amonut\":5,\"marketSum\":86},{\"itemcode\":\"104530\",\"etfTabCode\":2,\"itemname\":\"KOSEF 고배당\",\"nowVal\":9525,\"risefall\":\"2\",\"changeVal\":55,\"changeRate\":0.58,\"nav\":9553.0,\"threeMonthEarnRate\":-1.7126,\"quant\":4120,\"amonut\":39,\"marketSum\":86},{\"itemcode\":\"183710\",\"etfTabCode\":7,\"itemname\":\"KBSTAR 주식혼합\",\"nowVal\":42640,\"risefall\":\"2\",\"changeVal\":155,\"changeRate\":0.36,\"nav\":42627.0,\"threeMonthEarnRate\":-4.7636,\"quant\":13,\"amonut\":0,\"marketSum\":85},{\"itemcode\":\"251890\",\"etfTabCode\":1,\"itemname\":\"KINDEX 코스닥(합성)\",\"nowVal\":14165,\"risefall\":\"5\",\"changeVal\":-105,\"changeRate\":-0.74,\"nav\":14210.0,\"threeMonthEarnRate\":-5.5593,\"quant\":64,\"amonut\":0,\"marketSum\":85},{\"itemcode\":\"131890\",\"etfTabCode\":2,\"itemname\":\"KINDEX 삼성그룹동일가중\",\"nowVal\":16830,\"risefall\":\"2\",\"changeVal\":190,\"changeRate\":1.14,\"nav\":16785.0,\"threeMonthEarnRate\":-7.6582,\"quant\":352,\"amonut\":5,\"marketSum\":84},{\"itemcode\":\"272220\",\"etfTabCode\":2,\"itemname\":\"KINDEX 스마트모멘텀\",\"nowVal\":16830,\"risefall\":\"2\",\"changeVal\":70,\"changeRate\":0.42,\"nav\":16778.0,\"threeMonthEarnRate\":-6.3426,\"quant\":27,\"amonut\":0,\"marketSum\":84},{\"itemcode\":\"307510\",\"etfTabCode\":2,\"itemname\":\"TIGER 의료기기\",\"nowVal\":18650,\"risefall\":\"2\",\"changeVal\":150,\"changeRate\":0.81,\"nav\":18643.0,\"threeMonthEarnRate\":-16.7042,\"quant\":3752,\"amonut\":69,\"marketSum\":84},{\"itemcode\":\"159800\",\"etfTabCode\":1,\"itemname\":\"마이티 코스피100\",\"nowVal\":29850,\"risefall\":\"2\",\"changeVal\":90,\"changeRate\":0.3,\"nav\":29982.0,\"threeMonthEarnRate\":-6.1939,\"quant\":25,\"amonut\":0,\"marketSum\":84},{\"itemcode\":\"277650\",\"etfTabCode\":2,\"itemname\":\"TIGER 코스피중형주\",\"nowVal\":16545,\"risefall\":\"2\",\"changeVal\":40,\"changeRate\":0.24,\"nav\":16548.0,\"threeMonthEarnRate\":-9.1635,\"quant\":3880,\"amonut\":63,\"marketSum\":83},{\"itemcode\":\"291630\",\"etfTabCode\":3,\"itemname\":\"KOSEF 코스닥150선물레버리지\",\"nowVal\":6835,\"risefall\":\"5\",\"changeVal\":-175,\"changeRate\":-2.5,\"nav\":6799.0,\"threeMonthEarnRate\":-3.7088,\"quant\":1982,\"amonut\":13,\"marketSum\":83},{\"itemcode\":\"322130\",\"etfTabCode\":2,\"itemname\":\"KINDEX 스마트로우볼\",\"nowVal\":16515,\"risefall\":\"2\",\"changeVal\":45,\"changeRate\":0.27,\"nav\":16467.0,\"threeMonthEarnRate\":-5.7241,\"quant\":35,\"amonut\":0,\"marketSum\":83},{\"itemcode\":\"395170\",\"etfTabCode\":2,\"itemname\":\"KODEX Fn Top10동일가중\",\"nowVal\":9150,\"risefall\":\"5\",\"changeVal\":-55,\"changeRate\":-0.6,\"nav\":9145.0,\"threeMonthEarnRate\":-7.6731,\"quant\":6719,\"amonut\":61,\"marketSum\":82},{\"itemcode\":\"407160\",\"etfTabCode\":2,\"itemname\":\"MASTER 테크미디어텔레콤액티브\",\"nowVal\":10270,\"risefall\":\"3\",\"changeVal\":0,\"changeRate\":0.0,\"nav\":10267.0,\"threeMonthEarnRate\":null,\"quant\":24183,\"amonut\":247,\"marketSum\":82},{\"itemcode\":\"291130\",\"etfTabCode\":4,\"itemname\":\"KINDEX 멕시코MSCI(합성)\",\"nowVal\":9930,\"risefall\":\"2\",\"changeVal\":170,\"changeRate\":1.74,\"nav\":null,\"threeMonthEarnRate\":-7.0477,\"quant\":434,\"amonut\":4,\"marketSum\":79},{\"itemcode\":\"252000\",\"etfTabCode\":1,\"itemname\":\"TIGER 200동일가중\",\"nowVal\":12160,\"risefall\":\"2\",\"changeVal\":100,\"changeRate\":0.83,\"nav\":12153.0,\"threeMonthEarnRate\":-9.7306,\"quant\":3,\"amonut\":0,\"marketSum\":79},{\"itemcode\":\"266390\",\"etfTabCode\":2,\"itemname\":\"KODEX 경기소비재\",\"nowVal\":11290,\"risefall\":\"5\",\"changeVal\":-5,\"changeRate\":-0.04,\"nav\":11297.0,\"threeMonthEarnRate\":-16.6421,\"quant\":553,\"amonut\":6,\"marketSum\":79},{\"itemcode\":\"333970\",\"etfTabCode\":2,\"itemname\":\"ARIRANG KS밸류가중TR\",\"nowVal\":15760,\"risefall\":\"2\",\"changeVal\":110,\"changeRate\":0.7,\"nav\":15814.0,\"threeMonthEarnRate\":-6.1188,\"quant\":25,\"amonut\":0,\"marketSum\":79},{\"itemcode\":\"174350\",\"etfTabCode\":2,\"itemname\":\"TIGER 로우볼\",\"nowVal\":11915,\"risefall\":\"2\",\"changeVal\":50,\"changeRate\":0.42,\"nav\":11906.0,\"threeMonthEarnRate\":-5.5335,\"quant\":54079,\"amonut\":645,\"marketSum\":79},{\"itemcode\":\"261260\",\"etfTabCode\":7,\"itemname\":\"KODEX 미국달러선물인버스2X\",\"nowVal\":8875,\"risefall\":\"5\",\"changeVal\":-40,\"changeRate\":-0.45,\"nav\":8861.0,\"threeMonthEarnRate\":-3.8815,\"quant\":15803,\"amonut\":139,\"marketSum\":78},{\"itemcode\":\"394340\",\"etfTabCode\":4,\"itemname\":\"KOSEF 릭소글로벌디지털경제MSCI\",\"nowVal\":9760,\"risefall\":\"5\",\"changeVal\":-240,\"changeRate\":-2.4,\"nav\":null,\"threeMonthEarnRate\":-6.6729,\"quant\":188,\"amonut\":1,\"marketSum\":78},{\"itemcode\":\"404470\",\"etfTabCode\":2,\"itemname\":\"HANARO KRX기후변화솔루션\",\"nowVal\":9710,\"risefall\":\"5\",\"changeVal\":-60,\"changeRate\":-0.61,\"nav\":9741.0,\"threeMonthEarnRate\":null,\"quant\":62,\"amonut\":0,\"marketSum\":78},{\"itemcode\":\"407170\",\"etfTabCode\":2,\"itemname\":\"MASTER 스마트커머스액티브\",\"nowVal\":9710,\"risefall\":\"5\",\"changeVal\":-45,\"changeRate\":-0.46,\"nav\":9706.0,\"threeMonthEarnRate\":null,\"quant\":16607,\"amonut\":161,\"marketSum\":78},{\"itemcode\":\"404650\",\"etfTabCode\":2,\"itemname\":\"SOL KRX기후변화솔루션\",\"nowVal\":9685,\"risefall\":\"5\",\"changeVal\":-50,\"changeRate\":-0.51,\"nav\":9741.0,\"threeMonthEarnRate\":null,\"quant\":16,\"amonut\":0,\"marketSum\":77},{\"itemcode\":\"319870\",\"etfTabCode\":2,\"itemname\":\"KBSTAR KRX300미국달러선물혼합\",\"nowVal\":15435,\"risefall\":\"2\",\"changeVal\":55,\"changeRate\":0.36,\"nav\":15410.0,\"threeMonthEarnRate\":-3.9051,\"quant\":922,\"amonut\":14,\"marketSum\":77},{\"itemcode\":\"205720\",\"etfTabCode\":4,\"itemname\":\"KINDEX 일본TOPIX인버스(합성 H)\",\"nowVal\":4280,\"risefall\":\"5\",\"changeVal\":-5,\"changeRate\":-0.12,\"nav\":null,\"threeMonthEarnRate\":1.4201,\"quant\":4105,\"amonut\":17,\"marketSum\":77},{\"itemcode\":\"234310\",\"etfTabCode\":2,\"itemname\":\"KBSTAR V&S셀렉트밸류\",\"nowVal\":15225,\"risefall\":\"2\",\"changeVal\":300,\"changeRate\":2.01,\"nav\":15193.0,\"threeMonthEarnRate\":-8.0124,\"quant\":379,\"amonut\":5,\"marketSum\":76},{\"itemcode\":\"226380\",\"etfTabCode\":2,\"itemname\":\"KINDEX Fn성장소비주도주\",\"nowVal\":7605,\"risefall\":\"5\",\"changeVal\":-65,\"changeRate\":-0.85,\"nav\":7599.0,\"threeMonthEarnRate\":-6.1774,\"quant\":211,\"amonut\":1,\"marketSum\":76},{\"itemcode\":\"275280\",\"etfTabCode\":2,\"itemname\":\"KODEX MSCI모멘텀\",\"nowVal\":12640,\"risefall\":\"5\",\"changeVal\":-70,\"changeRate\":-0.55,\"nav\":12689.0,\"threeMonthEarnRate\":-8.2311,\"quant\":2,\"amonut\":0,\"marketSum\":76},{\"itemcode\":\"305050\",\"etfTabCode\":1,\"itemname\":\"KINDEX 코스피\",\"nowVal\":30195,\"risefall\":\"2\",\"changeVal\":105,\"changeRate\":0.35,\"nav\":30116.0,\"threeMonthEarnRate\":-6.8422,\"quant\":191,\"amonut\":5,\"marketSum\":75},{\"itemcode\":\"139320\",\"etfTabCode\":5,\"itemname\":\"TIGER 금은선물(H)\",\"nowVal\":9385,\"risefall\":\"2\",\"changeVal\":75,\"changeRate\":0.81,\"nav\":null,\"threeMonthEarnRate\":-2.9198,\"quant\":4142,\"amonut\":38,\"marketSum\":75},{\"itemcode\":\"156080\",\"etfTabCode\":1,\"itemname\":\"KODEX MSCI Korea\",\"nowVal\":18410,\"risefall\":\"2\",\"changeVal\":60,\"changeRate\":0.33,\"nav\":18423.0,\"threeMonthEarnRate\":-5.8734,\"quant\":239,\"amonut\":4,\"marketSum\":74},{\"itemcode\":\"166400\",\"etfTabCode\":3,\"itemname\":\"TIGER 200커버드콜5%OTM\",\"nowVal\":14665,\"risefall\":\"3\",\"changeVal\":0,\"changeRate\":0.0,\"nav\":14734.0,\"threeMonthEarnRate\":-5.661,\"quant\":0,\"amonut\":0,\"marketSum\":73},{\"itemcode\":\"213610\",\"etfTabCode\":2,\"itemname\":\"KODEX 삼성그룹밸류\",\"nowVal\":9085,\"risefall\":\"2\",\"changeVal\":50,\"changeRate\":0.55,\"nav\":9088.0,\"threeMonthEarnRate\":-6.8077,\"quant\":737,\"amonut\":6,\"marketSum\":73},{\"itemcode\":\"277640\",\"etfTabCode\":2,\"itemname\":\"TIGER 코스피대형주\",\"nowVal\":14460,\"risefall\":\"2\",\"changeVal\":10,\"changeRate\":0.07,\"nav\":14489.0,\"threeMonthEarnRate\":-6.0652,\"quant\":78,\"amonut\":1,\"marketSum\":72},{\"itemcode\":\"298340\",\"etfTabCode\":6,\"itemname\":\"ARIRANG 국채선물3년\",\"nowVal\":53125,\"risefall\":\"3\",\"changeVal\":0,\"changeRate\":0.0,\"nav\":53141.0,\"threeMonthEarnRate\":-0.877,\"quant\":0,\"amonut\":0,\"marketSum\":72},{\"itemcode\":\"373790\",\"etfTabCode\":4,\"itemname\":\"KOSEF 미국방어배당성장나스닥\",\"nowVal\":12015,\"risefall\":\"2\",\"changeVal\":95,\"changeRate\":0.8,\"nav\":null,\"threeMonthEarnRate\":-0.3262,\"quant\":7777,\"amonut\":93,\"marketSum\":72},{\"itemcode\":\"371150\",\"etfTabCode\":4,\"itemname\":\"KBSTAR 차이나항셍테크\",\"nowVal\":7565,\"risefall\":\"5\",\"changeVal\":-265,\"changeRate\":-3.38,\"nav\":null,\"threeMonthEarnRate\":-9.6886,\"quant\":32708,\"amonut\":249,\"marketSum\":72},{\"itemcode\":\"322120\",\"etfTabCode\":2,\"itemname\":\"KINDEX 스마트퀄리티\",\"nowVal\":17955,\"risefall\":\"2\",\"changeVal\":25,\"changeRate\":0.14,\"nav\":17904.0,\"threeMonthEarnRate\":-6.1257,\"quant\":81,\"amonut\":1,\"marketSum\":72},{\"itemcode\":\"292560\",\"etfTabCode\":7,\"itemname\":\"TIGER 일본엔선물\",\"nowVal\":10255,\"risefall\":\"2\",\"changeVal\":20,\"changeRate\":0.2,\"nav\":10302.0,\"threeMonthEarnRate\":-1.1112,\"quant\":3549,\"amonut\":36,\"marketSum\":72},{\"itemcode\":\"368470\",\"etfTabCode\":2,\"itemname\":\"KINDEX Fn K-뉴딜디지털플러스\",\"nowVal\":14330,\"risefall\":\"5\",\"changeVal\":-180,\"changeRate\":-1.24,\"nav\":14278.0,\"threeMonthEarnRate\":-9.5105,\"quant\":44,\"amonut\":0,\"marketSum\":72},{\"itemcode\":\"244660\",\"etfTabCode\":2,\"itemname\":\"KODEX 퀄리티Plus\",\"nowVal\":10220,\"risefall\":\"2\",\"changeVal\":60,\"changeRate\":0.59,\"nav\":10223.0,\"threeMonthEarnRate\":-9.5684,\"quant\":26,\"amonut\":0,\"marketSum\":72},{\"itemcode\":\"252650\",\"etfTabCode\":1,\"itemname\":\"KODEX 200동일가중\",\"nowVal\":11910,\"risefall\":\"2\",\"changeVal\":50,\"changeRate\":0.42,\"nav\":11892.0,\"threeMonthEarnRate\":-9.6381,\"quant\":273,\"amonut\":3,\"marketSum\":71},{\"itemcode\":\"391670\",\"etfTabCode\":1,\"itemname\":\"HK 베스트일레븐액티브\",\"nowVal\":9495,\"risefall\":\"2\",\"changeVal\":5,\"changeRate\":0.05,\"nav\":9495.0,\"threeMonthEarnRate\":-6.5945,\"quant\":1245,\"amonut\":11,\"marketSum\":71},{\"itemcode\":\"261110\",\"etfTabCode\":7,\"itemname\":\"TIGER 미국달러선물레버리지\",\"nowVal\":10135,\"risefall\":\"2\",\"changeVal\":60,\"changeRate\":0.6,\"nav\":10142.0,\"threeMonthEarnRate\":3.4394,\"quant\":664,\"amonut\":6,\"marketSum\":71},{\"itemcode\":\"261120\",\"etfTabCode\":7,\"itemname\":\"TIGER 미국달러선물인버스2X\",\"nowVal\":8835,\"risefall\":\"5\",\"changeVal\":-50,\"changeRate\":-0.56,\"nav\":8821.0,\"threeMonthEarnRate\":-3.6335,\"quant\":63,\"amonut\":0,\"marketSum\":71},{\"itemcode\":\"333960\",\"etfTabCode\":2,\"itemname\":\"ARIRANG KS모멘텀가중TR\",\"nowVal\":15285,\"risefall\":\"2\",\"changeVal\":50,\"changeRate\":0.33,\"nav\":15337.0,\"threeMonthEarnRate\":-8.3058,\"quant\":21,\"amonut\":0,\"marketSum\":69},{\"itemcode\":\"379790\",\"etfTabCode\":4,\"itemname\":\"KBSTAR 유로스탁스50(H)\",\"nowVal\":10560,\"risefall\":\"5\",\"changeVal\":-85,\"changeRate\":-0.8,\"nav\":null,\"threeMonthEarnRate\":-1.6629,\"quant\":686,\"amonut\":7,\"marketSum\":69},{\"itemcode\":\"117690\",\"etfTabCode\":4,\"itemname\":\"TIGER 차이나항셍25\",\"nowVal\":15200,\"risefall\":\"5\",\"changeVal\":-85,\"changeRate\":-0.56,\"nav\":null,\"threeMonthEarnRate\":-4.6476,\"quant\":578,\"amonut\":8,\"marketSum\":68},{\"itemcode\":\"373530\",\"etfTabCode\":4,\"itemname\":\"ARIRANG 신흥국MSCI인버스(합성 H)\",\"nowVal\":9490,\"risefall\":\"2\",\"changeVal\":120,\"changeRate\":1.28,\"nav\":null,\"threeMonthEarnRate\":4.1111,\"quant\":539,\"amonut\":5,\"marketSum\":68},{\"itemcode\":\"391680\",\"etfTabCode\":1,\"itemname\":\"HK 하이볼액티브\",\"nowVal\":9060,\"risefall\":\"2\",\"changeVal\":5,\"changeRate\":0.06,\"nav\":9057.0,\"threeMonthEarnRate\":-6.0685,\"quant\":1084,\"amonut\":9,\"marketSum\":68},{\"itemcode\":\"226980\",\"etfTabCode\":1,\"itemname\":\"KODEX 200 중소형\",\"nowVal\":13560,\"risefall\":\"5\",\"changeVal\":-15,\"changeRate\":-0.11,\"nav\":13608.0,\"threeMonthEarnRate\":-10.2776,\"quant\":943,\"amonut\":12,\"marketSum\":68},{\"itemcode\":\"237440\",\"etfTabCode\":7,\"itemname\":\"TIGER 경기방어채권혼합\",\"nowVal\":9570,\"risefall\":\"2\",\"changeVal\":5,\"changeRate\":0.05,\"nav\":9559.0,\"threeMonthEarnRate\":-5.3439,\"quant\":1874,\"amonut\":17,\"marketSum\":67},{\"itemcode\":\"289480\",\"etfTabCode\":2,\"itemname\":\"TIGER 200커버드콜ATM\",\"nowVal\":11065,\"risefall\":\"5\",\"changeVal\":-40,\"changeRate\":-0.36,\"nav\":11120.0,\"threeMonthEarnRate\":-2.7158,\"quant\":340,\"amonut\":3,\"marketSum\":66},{\"itemcode\":\"306530\",\"etfTabCode\":3,\"itemname\":\"HANARO 코스닥150선물레버리지\",\"nowVal\":13815,\"risefall\":\"5\",\"changeVal\":-290,\"changeRate\":-2.06,\"nav\":13685.0,\"threeMonthEarnRate\":-3.9169,\"quant\":1222,\"amonut\":16,\"marketSum\":66},{\"itemcode\":\"138920\",\"etfTabCode\":5,\"itemname\":\"KODEX 콩선물(H)\",\"nowVal\":11045,\"risefall\":\"2\",\"changeVal\":120,\"changeRate\":1.1,\"nav\":null,\"threeMonthEarnRate\":-3.9139,\"quant\":2021,\"amonut\":22,\"marketSum\":66},{\"itemcode\":\"195970\",\"etfTabCode\":4,\"itemname\":\"ARIRANG 선진국MSCI(합성 H)\",\"nowVal\":11805,\"risefall\":\"5\",\"changeVal\":-35,\"changeRate\":-0.3,\"nav\":null,\"threeMonthEarnRate\":-6.3292,\"quant\":10758,\"amonut\":126,\"marketSum\":66},{\"itemcode\":\"238670\",\"etfTabCode\":7,\"itemname\":\"ARIRANG 스마트베타Quality채권혼합\",\"nowVal\":10900,\"risefall\":\"2\",\"changeVal\":30,\"changeRate\":0.28,\"nav\":10909.0,\"threeMonthEarnRate\":-4.5655,\"quant\":173,\"amonut\":1,\"marketSum\":65},{\"itemcode\":\"314700\",\"etfTabCode\":2,\"itemname\":\"HANARO 농업융복합산업\",\"nowVal\":11880,\"risefall\":\"3\",\"changeVal\":0,\"changeRate\":0.0,\"nav\":11892.0,\"threeMonthEarnRate\":-7.6565,\"quant\":86,\"amonut\":1,\"marketSum\":65},{\"itemcode\":\"269370\",\"etfTabCode\":4,\"itemname\":\"TIGER S&P글로벌인프라(합성)\",\"nowVal\":10765,\"risefall\":\"2\",\"changeVal\":45,\"changeRate\":0.42,\"nav\":null,\"threeMonthEarnRate\":-2.5544,\"quant\":605,\"amonut\":6,\"marketSum\":65},{\"itemcode\":\"145670\",\"etfTabCode\":3,\"itemname\":\"KINDEX 인버스\",\"nowVal\":4960,\"risefall\":\"5\",\"changeVal\":-10,\"changeRate\":-0.2,\"nav\":4986.0,\"threeMonthEarnRate\":5.5201,\"quant\":20801,\"amonut\":103,\"marketSum\":64},{\"itemcode\":\"252730\",\"etfTabCode\":2,\"itemname\":\"KBSTAR 모멘텀로우볼\",\"nowVal\":15975,\"risefall\":\"2\",\"changeVal\":105,\"changeRate\":0.66,\"nav\":15961.0,\"threeMonthEarnRate\":-6.7842,\"quant\":155,\"amonut\":2,\"marketSum\":64},{\"itemcode\":\"261060\",\"etfTabCode\":2,\"itemname\":\"TIGER 코스닥150IT\",\"nowVal\":17615,\"risefall\":\"2\",\"changeVal\":220,\"changeRate\":1.26,\"nav\":17609.0,\"threeMonthEarnRate\":4.9788,\"quant\":1850,\"amonut\":32,\"marketSum\":63},{\"itemcode\":\"192720\",\"etfTabCode\":2,\"itemname\":\"파워 고배당저변동성\",\"nowVal\":29860,\"risefall\":\"2\",\"changeVal\":200,\"changeRate\":0.67,\"nav\":29963.0,\"threeMonthEarnRate\":-6.9607,\"quant\":10961,\"amonut\":326,\"marketSum\":63},{\"itemcode\":\"304670\",\"etfTabCode\":4,\"itemname\":\"KODEX 미국채울트라30년선물인버스(H)\",\"nowVal\":6965,\"risefall\":\"5\",\"changeVal\":-65,\"changeRate\":-0.92,\"nav\":null,\"threeMonthEarnRate\":-2.4966,\"quant\":5193,\"amonut\":36,\"marketSum\":63},{\"itemcode\":\"376250\",\"etfTabCode\":2,\"itemname\":\"ARIRANG 탄소효율그린뉴딜\",\"nowVal\":9560,\"risefall\":\"2\",\"changeVal\":35,\"changeRate\":0.37,\"nav\":9585.0,\"threeMonthEarnRate\":-5.9724,\"quant\":427,\"amonut\":4,\"marketSum\":62},{\"itemcode\":\"275300\",\"etfTabCode\":2,\"itemname\":\"KODEX MSCI퀄리티\",\"nowVal\":10325,\"risefall\":\"5\",\"changeVal\":-15,\"changeRate\":-0.15,\"nav\":10320.0,\"threeMonthEarnRate\":-8.2113,\"quant\":50,\"amonut\":0,\"marketSum\":62},{\"itemcode\":\"292340\",\"etfTabCode\":2,\"itemname\":\"마이티 200커버드콜ATM레버리지\",\"nowVal\":10190,\"risefall\":\"3\",\"changeVal\":0,\"changeRate\":0.0,\"nav\":10275.0,\"threeMonthEarnRate\":-6.9832,\"quant\":0,\"amonut\":0,\"marketSum\":61},{\"itemcode\":\"373490\",\"etfTabCode\":2,\"itemname\":\"KODEX K-이노베이션액티브\",\"nowVal\":11095,\"risefall\":\"5\",\"changeVal\":-80,\"changeRate\":-0.72,\"nav\":11091.0,\"threeMonthEarnRate\":-0.5341,\"quant\":3462,\"amonut\":38,\"marketSum\":61},{\"itemcode\":\"301440\",\"etfTabCode\":2,\"itemname\":\"ARIRANG 코스피중형주\",\"nowVal\":12080,\"risefall\":\"2\",\"changeVal\":30,\"changeRate\":0.25,\"nav\":12131.0,\"threeMonthEarnRate\":-9.8054,\"quant\":120,\"amonut\":1,\"marketSum\":60},{\"itemcode\":\"140580\",\"etfTabCode\":2,\"itemname\":\"KBSTAR 우량업종\",\"nowVal\":11945,\"risefall\":\"2\",\"changeVal\":215,\"changeRate\":1.83,\"nav\":11928.0,\"threeMonthEarnRate\":-8.787,\"quant\":91,\"amonut\":1,\"marketSum\":60},{\"itemcode\":\"267440\",\"etfTabCode\":4,\"itemname\":\"KBSTAR 미국장기국채선물(H)\",\"nowVal\":11945,\"risefall\":\"2\",\"changeVal\":170,\"changeRate\":1.44,\"nav\":null,\"threeMonthEarnRate\":-0.3386,\"quant\":2000,\"amonut\":23,\"marketSum\":60},{\"itemcode\":\"307520\",\"etfTabCode\":2,\"itemname\":\"TIGER 지주회사\",\"nowVal\":10820,\"risefall\":\"2\",\"changeVal\":95,\"changeRate\":0.89,\"nav\":10795.0,\"threeMonthEarnRate\":-12.2341,\"quant\":14217,\"amonut\":150,\"marketSum\":60},{\"itemcode\":\"176710\",\"etfTabCode\":6,\"itemname\":\"파워 중기국고채\",\"nowVal\":99125,\"risefall\":\"3\",\"changeVal\":0,\"changeRate\":0.0,\"nav\":99190.0,\"threeMonthEarnRate\":-0.7411,\"quant\":0,\"amonut\":0,\"marketSum\":59},{\"itemcode\":\"261920\",\"etfTabCode\":4,\"itemname\":\"KINDEX 필리핀MSCI(합성)\",\"nowVal\":14675,\"risefall\":\"2\",\"changeVal\":135,\"changeRate\":0.93,\"nav\":null,\"threeMonthEarnRate\":4.9819,\"quant\":137,\"amonut\":1,\"marketSum\":59},{\"itemcode\":\"333950\",\"etfTabCode\":2,\"itemname\":\"ARIRANG KS로우사이즈가중TR\",\"nowVal\":16745,\"risefall\":\"2\",\"changeVal\":40,\"changeRate\":0.24,\"nav\":16821.0,\"threeMonthEarnRate\":-6.5194,\"quant\":24,\"amonut\":0,\"marketSum\":59},{\"itemcode\":\"403990\",\"etfTabCode\":2,\"itemname\":\"KBSTAR KRX기후변화솔루션\",\"nowVal\":9760,\"risefall\":\"2\",\"changeVal\":15,\"changeRate\":0.15,\"nav\":9746.0,\"threeMonthEarnRate\":null,\"quant\":401,\"amonut\":3,\"marketSum\":59},{\"itemcode\":\"269530\",\"etfTabCode\":4,\"itemname\":\"ARIRANG S&P글로벌인프라\",\"nowVal\":11600,\"risefall\":\"5\",\"changeVal\":-55,\"changeRate\":-0.47,\"nav\":null,\"threeMonthEarnRate\":-2.0589,\"quant\":186,\"amonut\":2,\"marketSum\":58},{\"itemcode\":\"228820\",\"etfTabCode\":1,\"itemname\":\"TIGER KTOP30\",\"nowVal\":10525,\"risefall\":\"3\",\"changeVal\":0,\"changeRate\":0.0,\"nav\":10540.0,\"threeMonthEarnRate\":-9.0713,\"quant\":191,\"amonut\":2,\"marketSum\":58},{\"itemcode\":\"290080\",\"etfTabCode\":2,\"itemname\":\"KBSTAR 200고배당커버드콜ATM\",\"nowVal\":8205,\"risefall\":\"2\",\"changeVal\":50,\"changeRate\":0.61,\"nav\":8200.0,\"threeMonthEarnRate\":-3.0898,\"quant\":605,\"amonut\":4,\"marketSum\":57},{\"itemcode\":\"346000\",\"etfTabCode\":6,\"itemname\":\"HANARO KAP초장기국고채\",\"nowVal\":45575,\"risefall\":\"2\",\"changeVal\":15,\"changeRate\":0.03,\"nav\":45470.0,\"threeMonthEarnRate\":-3.8596,\"quant\":2927,\"amonut\":133,\"marketSum\":57},{\"itemcode\":\"215620\",\"etfTabCode\":2,\"itemname\":\"HK S&P코리아로우볼\",\"nowVal\":11840,\"risefall\":\"3\",\"changeVal\":0,\"changeRate\":0.0,\"nav\":11914.0,\"threeMonthEarnRate\":-6.8817,\"quant\":14,\"amonut\":0,\"marketSum\":57},{\"itemcode\":\"220130\",\"etfTabCode\":4,\"itemname\":\"SOL 중국본토 중소형 CSI500(합성 H)\",\"nowVal\":6300,\"risefall\":\"3\",\"changeVal\":0,\"changeRate\":0.0,\"nav\":null,\"threeMonthEarnRate\":1.531,\"quant\":2592,\"amonut\":16,\"marketSum\":57},{\"itemcode\":\"139310\",\"etfTabCode\":5,\"itemname\":\"TIGER 금속선물(H)\",\"nowVal\":7040,\"risefall\":\"2\",\"changeVal\":5,\"changeRate\":0.07,\"nav\":null,\"threeMonthEarnRate\":-0.142,\"quant\":4223,\"amonut\":29,\"marketSum\":56},{\"itemcode\":\"253280\",\"etfTabCode\":2,\"itemname\":\"KBSTAR 헬스케어\",\"nowVal\":14020,\"risefall\":\"5\",\"changeVal\":-80,\"changeRate\":-0.57,\"nav\":14014.0,\"threeMonthEarnRate\":-21.2951,\"quant\":225,\"amonut\":3,\"marketSum\":56},{\"itemcode\":\"105010\",\"etfTabCode\":4,\"itemname\":\"TIGER 라틴35\",\"nowVal\":3240,\"risefall\":\"2\",\"changeVal\":45,\"changeRate\":1.41,\"nav\":null,\"threeMonthEarnRate\":-12.9428,\"quant\":24147,\"amonut\":78,\"marketSum\":55},{\"itemcode\":\"321410\",\"etfTabCode\":7,\"itemname\":\"KODEX 멀티에셋하이인컴(H)\",\"nowVal\":10880,\"risefall\":\"2\",\"changeVal\":30,\"changeRate\":0.28,\"nav\":null,\"threeMonthEarnRate\":-1.9874,\"quant\":776,\"amonut\":8,\"marketSum\":54},{\"itemcode\":\"217770\",\"etfTabCode\":4,\"itemname\":\"TIGER 원유선물인버스(H)\",\"nowVal\":5680,\"risefall\":\"5\",\"changeVal\":-20,\"changeRate\":-0.35,\"nav\":null,\"threeMonthEarnRate\":-3.7163,\"quant\":16137,\"amonut\":91,\"marketSum\":54},{\"itemcode\":\"333940\",\"etfTabCode\":2,\"itemname\":\"ARIRANG KS로우볼가중TR\",\"nowVal\":13275,\"risefall\":\"2\",\"changeVal\":50,\"changeRate\":0.38,\"nav\":13319.0,\"threeMonthEarnRate\":-6.1725,\"quant\":22,\"amonut\":0,\"marketSum\":53},{\"itemcode\":\"291680\",\"etfTabCode\":4,\"itemname\":\"KBSTAR 차이나H선물인버스(H)\",\"nowVal\":11740,\"risefall\":\"2\",\"changeVal\":285,\"changeRate\":2.49,\"nav\":null,\"threeMonthEarnRate\":8.4753,\"quant\":216,\"amonut\":2,\"marketSum\":53},{\"itemcode\":\"098560\",\"etfTabCode\":2,\"itemname\":\"TIGER 방송통신\",\"nowVal\":9410,\"risefall\":\"2\",\"changeVal\":65,\"changeRate\":0.7,\"nav\":9423.0,\"threeMonthEarnRate\":-9.6666,\"quant\":7316,\"amonut\":68,\"marketSum\":53},{\"itemcode\":\"261270\",\"etfTabCode\":7,\"itemname\":\"KODEX 미국달러선물인버스\",\"nowVal\":9690,\"risefall\":\"5\",\"changeVal\":-25,\"changeRate\":-0.26,\"nav\":9683.0,\"threeMonthEarnRate\":-1.8687,\"quant\":3765,\"amonut\":36,\"marketSum\":52},{\"itemcode\":\"292770\",\"etfTabCode\":6,\"itemname\":\"KODEX 국채선물3년인버스\",\"nowVal\":50260,\"risefall\":\"3\",\"changeVal\":0,\"changeRate\":0.0,\"nav\":50245.0,\"threeMonthEarnRate\":1.0759,\"quant\":0,\"amonut\":0,\"marketSum\":51},{\"itemcode\":\"299080\",\"etfTabCode\":6,\"itemname\":\"KINDEX 국채선물3년인버스\",\"nowVal\":100565,\"risefall\":\"3\",\"changeVal\":0,\"changeRate\":0.0,\"nav\":100555.0,\"threeMonthEarnRate\":1.116,\"quant\":0,\"amonut\":0,\"marketSum\":50},{\"itemcode\":\"301410\",\"etfTabCode\":3,\"itemname\":\"ARIRANG 코스닥150선물인버스\",\"nowVal\":6660,\"risefall\":\"2\",\"changeVal\":65,\"changeRate\":0.99,\"nav\":6693.0,\"threeMonthEarnRate\":-0.227,\"quant\":9533,\"amonut\":63,\"marketSum\":50},{\"itemcode\":\"295820\",\"etfTabCode\":1,\"itemname\":\"ARIRANG 200동일가중\",\"nowVal\":10875,\"risefall\":\"2\",\"changeVal\":40,\"changeRate\":0.37,\"nav\":10919.0,\"threeMonthEarnRate\":-10.083,\"quant\":22,\"amonut\":0,\"marketSum\":49},{\"itemcode\":\"147970\",\"etfTabCode\":2,\"itemname\":\"TIGER 모멘텀\",\"nowVal\":24370,\"risefall\":\"2\",\"changeVal\":240,\"changeRate\":0.99,\"nav\":24294.0,\"threeMonthEarnRate\":-5.1681,\"quant\":177,\"amonut\":4,\"marketSum\":49},{\"itemcode\":\"299070\",\"etfTabCode\":6,\"itemname\":\"KINDEX 국채선물10년인버스\",\"nowVal\":96520,\"risefall\":\"3\",\"changeVal\":0,\"changeRate\":0.0,\"nav\":96423.0,\"threeMonthEarnRate\":2.2349,\"quant\":0,\"amonut\":0,\"marketSum\":48},{\"itemcode\":\"227550\",\"etfTabCode\":2,\"itemname\":\"TIGER 200 산업재\",\"nowVal\":6005,\"risefall\":\"2\",\"changeVal\":40,\"changeRate\":0.67,\"nav\":6003.0,\"threeMonthEarnRate\":-18.1756,\"quant\":12693,\"amonut\":75,\"marketSum\":48},{\"itemcode\":\"281990\",\"etfTabCode\":2,\"itemname\":\"KBSTAR 중소형고배당\",\"nowVal\":11860,\"risefall\":\"2\",\"changeVal\":115,\"changeRate\":0.98,\"nav\":11859.0,\"threeMonthEarnRate\":-7.1175,\"quant\":209,\"amonut\":2,\"marketSum\":47},{\"itemcode\":\"295000\",\"etfTabCode\":6,\"itemname\":\"KBSTAR 국채선물10년\",\"nowVal\":55020,\"risefall\":\"2\",\"changeVal\":45,\"changeRate\":0.08,\"nav\":55004.0,\"threeMonthEarnRate\":-2.0403,\"quant\":69,\"amonut\":3,\"marketSum\":47},{\"itemcode\":\"275750\",\"etfTabCode\":1,\"itemname\":\"KBSTAR 코스닥150선물인버스\",\"nowVal\":4455,\"risefall\":\"2\",\"changeVal\":55,\"changeRate\":1.25,\"nav\":4461.0,\"threeMonthEarnRate\":0.1137,\"quant\":19860,\"amonut\":88,\"marketSum\":47},{\"itemcode\":\"157500\",\"etfTabCode\":2,\"itemname\":\"TIGER 증권\",\"nowVal\":4740,\"risefall\":\"2\",\"changeVal\":80,\"changeRate\":1.72,\"nav\":4737.0,\"threeMonthEarnRate\":-5.3808,\"quant\":3289,\"amonut\":15,\"marketSum\":46},{\"itemcode\":\"333980\",\"etfTabCode\":2,\"itemname\":\"ARIRANG KS퀄리티가중TR\",\"nowVal\":15390,\"risefall\":\"2\",\"changeVal\":5,\"changeRate\":0.03,\"nav\":15440.0,\"threeMonthEarnRate\":-6.3319,\"quant\":20,\"amonut\":0,\"marketSum\":46},{\"itemcode\":\"253240\",\"etfTabCode\":3,\"itemname\":\"KOSEF 200선물인버스\",\"nowVal\":5260,\"risefall\":\"5\",\"changeVal\":-10,\"changeRate\":-0.19,\"nav\":5266.0,\"threeMonthEarnRate\":6.0362,\"quant\":13428,\"amonut\":70,\"marketSum\":45},{\"itemcode\":\"371870\",\"etfTabCode\":4,\"itemname\":\"KINDEX 차이나항셍테크\",\"nowVal\":7450,\"risefall\":\"5\",\"changeVal\":-255,\"changeRate\":-3.31,\"nav\":null,\"threeMonthEarnRate\":-9.9358,\"quant\":28307,\"amonut\":212,\"marketSum\":45},{\"itemcode\":\"291890\",\"etfTabCode\":4,\"itemname\":\"KODEX MSCI EM선물(H)\",\"nowVal\":9740,\"risefall\":\"5\",\"changeVal\":-215,\"changeRate\":-2.16,\"nav\":null,\"threeMonthEarnRate\":-5.5503,\"quant\":665,\"amonut\":6,\"marketSum\":44},{\"itemcode\":\"280920\",\"etfTabCode\":2,\"itemname\":\"ARIRANG 주도업종\",\"nowVal\":10880,\"risefall\":\"5\",\"changeVal\":-10,\"changeRate\":-0.09,\"nav\":10882.0,\"threeMonthEarnRate\":-12.2836,\"quant\":232,\"amonut\":2,\"marketSum\":44},{\"itemcode\":\"280940\",\"etfTabCode\":4,\"itemname\":\"KODEX 골드선물인버스(H)\",\"nowVal\":7240,\"risefall\":\"5\",\"changeVal\":-60,\"changeRate\":-0.82,\"nav\":null,\"threeMonthEarnRate\":1.3888,\"quant\":1306,\"amonut\":9,\"marketSum\":43},{\"itemcode\":\"309210\",\"etfTabCode\":2,\"itemname\":\"ARIRANG KRX300헬스케어\",\"nowVal\":11255,\"risefall\":\"5\",\"changeVal\":-35,\"changeRate\":-0.31,\"nav\":11326.0,\"threeMonthEarnRate\":-20.0991,\"quant\":181,\"amonut\":2,\"marketSum\":43},{\"itemcode\":\"334690\",\"etfTabCode\":5,\"itemname\":\"KBSTAR 팔라듐선물(H)\",\"nowVal\":10380,\"risefall\":\"5\",\"changeVal\":-15,\"changeRate\":-0.14,\"nav\":null,\"threeMonthEarnRate\":-24.6193,\"quant\":4766,\"amonut\":49,\"marketSum\":42},{\"itemcode\":\"295020\",\"etfTabCode\":6,\"itemname\":\"KBSTAR 국채선물10년인버스\",\"nowVal\":48105,\"risefall\":\"5\",\"changeVal\":-30,\"changeRate\":-0.06,\"nav\":48077.0,\"threeMonthEarnRate\":2.1649,\"quant\":6,\"amonut\":0,\"marketSum\":41},{\"itemcode\":\"342600\",\"etfTabCode\":6,\"itemname\":\"KBSTAR KRX국채선물3년10년스티프너2X\",\"nowVal\":51655,\"risefall\":\"3\",\"changeVal\":0,\"changeRate\":0.0,\"nav\":51659.0,\"threeMonthEarnRate\":-0.3185,\"quant\":0,\"amonut\":0,\"marketSum\":41},{\"itemcode\":\"342500\",\"etfTabCode\":6,\"itemname\":\"KBSTAR KRX국채선물3년10년스티프너\",\"nowVal\":51115,\"risefall\":\"5\",\"changeVal\":-30,\"changeRate\":-0.06,\"nav\":51136.0,\"threeMonthEarnRate\":-0.1465,\"quant\":1,\"amonut\":0,\"marketSum\":41},{\"itemcode\":\"291620\",\"etfTabCode\":3,\"itemname\":\"KOSEF 코스닥150선물인버스\",\"nowVal\":7660,\"risefall\":\"2\",\"changeVal\":100,\"changeRate\":1.32,\"nav\":7686.0,\"threeMonthEarnRate\":-0.1322,\"quant\":13698,\"amonut\":105,\"marketSum\":41},{\"itemcode\":\"267490\",\"etfTabCode\":4,\"itemname\":\"KBSTAR 미국장기국채선물레버리지(합성 H)\",\"nowVal\":13435,\"risefall\":\"2\",\"changeVal\":140,\"changeRate\":1.05,\"nav\":null,\"threeMonthEarnRate\":-4.6612,\"quant\":122,\"amonut\":1,\"marketSum\":40},{\"itemcode\":\"342610\",\"etfTabCode\":6,\"itemname\":\"KBSTAR KRX국채선물3년10년플래트너\",\"nowVal\":49990,\"risefall\":\"2\",\"changeVal\":35,\"changeRate\":0.07,\"nav\":49971.0,\"threeMonthEarnRate\":0.2609,\"quant\":23,\"amonut\":1,\"marketSum\":40},{\"itemcode\":\"342620\",\"etfTabCode\":6,\"itemname\":\"KBSTAR KRX국채선물3년10년플래트너2X\",\"nowVal\":49360,\"risefall\":\"3\",\"changeVal\":0,\"changeRate\":0.0,\"nav\":49402.0,\"threeMonthEarnRate\":0.7449,\"quant\":0,\"amonut\":0,\"marketSum\":39},{\"itemcode\":\"315480\",\"etfTabCode\":2,\"itemname\":\"KBSTAR 200커뮤니케이션서비스\",\"nowVal\":19645,\"risefall\":\"5\",\"changeVal\":-430,\"changeRate\":-2.14,\"nav\":19604.0,\"threeMonthEarnRate\":-5.3959,\"quant\":25,\"amonut\":0,\"marketSum\":39},{\"itemcode\":\"302180\",\"etfTabCode\":6,\"itemname\":\"TIGER 국채선물10년인버스\",\"nowVal\":48780,\"risefall\":\"5\",\"changeVal\":-85,\"changeRate\":-0.17,\"nav\":48832.0,\"threeMonthEarnRate\":2.1745,\"quant\":22,\"amonut\":1,\"marketSum\":39},{\"itemcode\":\"267450\",\"etfTabCode\":4,\"itemname\":\"KBSTAR 미국장기국채선물인버스(H)\",\"nowVal\":7675,\"risefall\":\"5\",\"changeVal\":-50,\"changeRate\":-0.65,\"nav\":null,\"threeMonthEarnRate\":-1.341,\"quant\":1111,\"amonut\":8,\"marketSum\":38},{\"itemcode\":\"227560\",\"etfTabCode\":2,\"itemname\":\"TIGER 200 생활소비재\",\"nowVal\":9955,\"risefall\":\"2\",\"changeVal\":100,\"changeRate\":1.01,\"nav\":9945.0,\"threeMonthEarnRate\":-13.4388,\"quant\":6429,\"amonut\":63,\"marketSum\":38},{\"itemcode\":\"285010\",\"etfTabCode\":2,\"itemname\":\"KBSTAR 200중공업\",\"nowVal\":9655,\"risefall\":\"2\",\"changeVal\":105,\"changeRate\":1.1,\"nav\":9659.0,\"threeMonthEarnRate\":-11.9816,\"quant\":1897,\"amonut\":18,\"marketSum\":37},{\"itemcode\":\"278420\",\"etfTabCode\":2,\"itemname\":\"ARIRANG ESG우수기업\",\"nowVal\":9100,\"risefall\":\"2\",\"changeVal\":50,\"changeRate\":0.55,\"nav\":9101.0,\"threeMonthEarnRate\":-8.2616,\"quant\":798,\"amonut\":7,\"marketSum\":36},{\"itemcode\":\"266550\",\"etfTabCode\":2,\"itemname\":\"ARIRANG 중형주저변동50\",\"nowVal\":11395,\"risefall\":\"2\",\"changeVal\":90,\"changeRate\":0.8,\"nav\":11381.0,\"threeMonthEarnRate\":-8.7571,\"quant\":168,\"amonut\":1,\"marketSum\":34},{\"itemcode\":\"217790\",\"etfTabCode\":2,\"itemname\":\"TIGER 가격조정\",\"nowVal\":24270,\"risefall\":\"2\",\"changeVal\":195,\"changeRate\":0.81,\"nav\":24239.0,\"threeMonthEarnRate\":-7.1897,\"quant\":2974,\"amonut\":71,\"marketSum\":34},{\"itemcode\":\"284980\",\"etfTabCode\":2,\"itemname\":\"KBSTAR 200금융\",\"nowVal\":8880,\"risefall\":\"2\",\"changeVal\":30,\"changeRate\":0.34,\"nav\":8884.0,\"threeMonthEarnRate\":-1.9934,\"quant\":1705,\"amonut\":15,\"marketSum\":32},{\"itemcode\":\"267500\",\"etfTabCode\":4,\"itemname\":\"KBSTAR 미국장기국채선물인버스2X(합성 H)\",\"nowVal\":5715,\"risefall\":\"5\",\"changeVal\":-70,\"changeRate\":-1.21,\"nav\":null,\"threeMonthEarnRate\":0.9598,\"quant\":5876,\"amonut\":33,\"marketSum\":31},{\"itemcode\":\"302170\",\"etfTabCode\":6,\"itemname\":\"TIGER 국채선물3년인버스\",\"nowVal\":50330,\"risefall\":\"3\",\"changeVal\":0,\"changeRate\":0.0,\"nav\":50319.0,\"threeMonthEarnRate\":1.0845,\"quant\":0,\"amonut\":0,\"marketSum\":30},{\"itemcode\":\"287300\",\"etfTabCode\":2,\"itemname\":\"KBSTAR 200건설\",\"nowVal\":12430,\"risefall\":\"2\",\"changeVal\":135,\"changeRate\":1.1,\"nav\":12392.0,\"threeMonthEarnRate\":-8.2805,\"quant\":523,\"amonut\":6,\"marketSum\":30},{\"itemcode\":\"301400\",\"etfTabCode\":1,\"itemname\":\"ARIRANG 코스닥150\",\"nowVal\":14605,\"risefall\":\"5\",\"changeVal\":-95,\"changeRate\":-0.65,\"nav\":14719.0,\"threeMonthEarnRate\":-3.0344,\"quant\":990,\"amonut\":14,\"marketSum\":29},{\"itemcode\":\"252720\",\"etfTabCode\":2,\"itemname\":\"KBSTAR 모멘텀밸류\",\"nowVal\":14170,\"risefall\":\"2\",\"changeVal\":140,\"changeRate\":1.0,\"nav\":14161.0,\"threeMonthEarnRate\":-6.6534,\"quant\":13,\"amonut\":0,\"marketSum\":28},{\"itemcode\":\"397420\",\"etfTabCode\":6,\"itemname\":\"KBSTAR 국채선물5년추종\",\"nowVal\":49330,\"risefall\":\"2\",\"changeVal\":35,\"changeRate\":0.07,\"nav\":49312.0,\"threeMonthEarnRate\":-1.2718,\"quant\":3,\"amonut\":0,\"marketSum\":24},{\"itemcode\":\"285020\",\"etfTabCode\":2,\"itemname\":\"KBSTAR 200철강소재\",\"nowVal\":8370,\"risefall\":\"2\",\"changeVal\":115,\"changeRate\":1.39,\"nav\":8357.0,\"threeMonthEarnRate\":-15.4634,\"quant\":175,\"amonut\":1,\"marketSum\":18},{\"itemcode\":\"287330\",\"etfTabCode\":2,\"itemname\":\"KBSTAR 200생활소비재\",\"nowVal\":7600,\"risefall\":\"2\",\"changeVal\":50,\"changeRate\":0.66,\"nav\":7587.0,\"threeMonthEarnRate\":-13.3181,\"quant\":1029,\"amonut\":7,\"marketSum\":18},{\"itemcode\":\"284990\",\"etfTabCode\":2,\"itemname\":\"KBSTAR 200에너지화학\",\"nowVal\":12700,\"risefall\":\"2\",\"changeVal\":75,\"changeRate\":0.59,\"nav\":12695.0,\"threeMonthEarnRate\":-5.924,\"quant\":537,\"amonut\":6,\"marketSum\":18},{\"itemcode\":\"334700\",\"etfTabCode\":5,\"itemname\":\"KBSTAR 팔라듐선물인버스(H)\",\"nowVal\":5925,\"risefall\":\"5\",\"changeVal\":-20,\"changeRate\":-0.34,\"nav\":null,\"threeMonthEarnRate\":23.5966,\"quant\":1504,\"amonut\":8,\"marketSum\":18},{\"itemcode\":\"287310\",\"etfTabCode\":2,\"itemname\":\"KBSTAR 200경기소비재\",\"nowVal\":10620,\"risefall\":\"2\",\"changeVal\":75,\"changeRate\":0.71,\"nav\":10590.0,\"threeMonthEarnRate\":-9.485,\"quant\":382,\"amonut\":4,\"marketSum\":15},{\"itemcode\":\"287320\",\"etfTabCode\":2,\"itemname\":\"KBSTAR 200산업재\",\"nowVal\":10775,\"risefall\":\"2\",\"changeVal\":100,\"changeRate\":0.94,\"nav\":10740.0,\"threeMonthEarnRate\":-17.9793,\"quant\":17,\"amonut\":0,\"marketSum\":13}]}}'"
      ]
     },
     "execution_count": 4,
     "metadata": {},
     "output_type": "execute_result"
    }
   ],
   "source": [
    "# requests 라이브러리를 통해 url을 받아옵니다.\n",
    "response = requests.get(url)\n",
    "response.text"
   ]
  },
  {
   "cell_type": "code",
   "execution_count": null,
   "metadata": {},
   "outputs": [],
   "source": []
  },
  {
   "cell_type": "markdown",
   "metadata": {},
   "source": [
    "### JSON 타입으로 데이터 받기"
   ]
  },
  {
   "cell_type": "code",
   "execution_count": 5,
   "metadata": {
    "id": "BhFy-du10jYn",
    "scrolled": false
   },
   "outputs": [],
   "source": [
    "# requests 의 응답을 json 타입으로 받습니다.\n",
    "etf_json = response.json()"
   ]
  },
  {
   "cell_type": "markdown",
   "metadata": {},
   "source": [
    "### JSON 에서 원하는 데이터 찾기"
   ]
  },
  {
   "cell_type": "code",
   "execution_count": 6,
   "metadata": {
    "id": "5KX_Txxm0jYn"
   },
   "outputs": [],
   "source": [
    "# result > etfItemList 의 하위 구조로 목록을 찾고자 하는 데이터를 가져옵니다.\n",
    "etfItemList = etf_json[\"result\"][\"etfItemList\"]\n"
   ]
  },
  {
   "cell_type": "markdown",
   "metadata": {},
   "source": [
    "## 데이터프레임 변환\n",
    "### JSON 데이터를 pandas 의 데이터프레임 형태로 만들기"
   ]
  },
  {
   "cell_type": "code",
   "execution_count": 7,
   "metadata": {
    "id": "JCGehw-a0jYn"
   },
   "outputs": [
    {
     "data": {
      "text/plain": [
       "(526, 12)"
      ]
     },
     "execution_count": 7,
     "metadata": {},
     "output_type": "execute_result"
    }
   ],
   "source": [
    "# 키-값 형태의 데이터를 데이터프레임으로 만듭니다.\n",
    "# df\n",
    "df = pd.DataFrame(etfItemList)\n",
    "df.shape"
   ]
  },
  {
   "cell_type": "markdown",
   "metadata": {},
   "source": [
    "### 데이터 확인"
   ]
  },
  {
   "cell_type": "code",
   "execution_count": 8,
   "metadata": {
    "id": "H3t5Uj8-0jYn"
   },
   "outputs": [
    {
     "data": {
      "text/html": [
       "<div>\n",
       "<style scoped>\n",
       "    .dataframe tbody tr th:only-of-type {\n",
       "        vertical-align: middle;\n",
       "    }\n",
       "\n",
       "    .dataframe tbody tr th {\n",
       "        vertical-align: top;\n",
       "    }\n",
       "\n",
       "    .dataframe thead th {\n",
       "        text-align: right;\n",
       "    }\n",
       "</style>\n",
       "<table border=\"1\" class=\"dataframe\">\n",
       "  <thead>\n",
       "    <tr style=\"text-align: right;\">\n",
       "      <th></th>\n",
       "      <th>itemcode</th>\n",
       "      <th>etfTabCode</th>\n",
       "      <th>itemname</th>\n",
       "      <th>nowVal</th>\n",
       "      <th>risefall</th>\n",
       "      <th>changeVal</th>\n",
       "      <th>changeRate</th>\n",
       "      <th>nav</th>\n",
       "      <th>threeMonthEarnRate</th>\n",
       "      <th>quant</th>\n",
       "      <th>amonut</th>\n",
       "      <th>marketSum</th>\n",
       "    </tr>\n",
       "  </thead>\n",
       "  <tbody>\n",
       "    <tr>\n",
       "      <th>0</th>\n",
       "      <td>069500</td>\n",
       "      <td>1</td>\n",
       "      <td>KODEX 200</td>\n",
       "      <td>39305</td>\n",
       "      <td>2</td>\n",
       "      <td>75</td>\n",
       "      <td>0.19</td>\n",
       "      <td>39323.0</td>\n",
       "      <td>-6.2381</td>\n",
       "      <td>6023907</td>\n",
       "      <td>236297</td>\n",
       "      <td>50998</td>\n",
       "    </tr>\n",
       "    <tr>\n",
       "      <th>1</th>\n",
       "      <td>371460</td>\n",
       "      <td>4</td>\n",
       "      <td>TIGER 차이나전기차SOLACTIVE</td>\n",
       "      <td>19710</td>\n",
       "      <td>5</td>\n",
       "      <td>-300</td>\n",
       "      <td>-1.50</td>\n",
       "      <td>NaN</td>\n",
       "      <td>21.4199</td>\n",
       "      <td>4145766</td>\n",
       "      <td>82473</td>\n",
       "      <td>29667</td>\n",
       "    </tr>\n",
       "    <tr>\n",
       "      <th>2</th>\n",
       "      <td>102110</td>\n",
       "      <td>1</td>\n",
       "      <td>TIGER 200</td>\n",
       "      <td>39335</td>\n",
       "      <td>2</td>\n",
       "      <td>75</td>\n",
       "      <td>0.19</td>\n",
       "      <td>39358.0</td>\n",
       "      <td>-6.1978</td>\n",
       "      <td>769742</td>\n",
       "      <td>30221</td>\n",
       "      <td>21890</td>\n",
       "    </tr>\n",
       "    <tr>\n",
       "      <th>3</th>\n",
       "      <td>122630</td>\n",
       "      <td>3</td>\n",
       "      <td>KODEX 레버리지</td>\n",
       "      <td>23275</td>\n",
       "      <td>2</td>\n",
       "      <td>65</td>\n",
       "      <td>0.28</td>\n",
       "      <td>23347.0</td>\n",
       "      <td>-13.0712</td>\n",
       "      <td>21082025</td>\n",
       "      <td>487285</td>\n",
       "      <td>20854</td>\n",
       "    </tr>\n",
       "    <tr>\n",
       "      <th>4</th>\n",
       "      <td>252670</td>\n",
       "      <td>3</td>\n",
       "      <td>KODEX 200선물인버스2X</td>\n",
       "      <td>2225</td>\n",
       "      <td>5</td>\n",
       "      <td>-10</td>\n",
       "      <td>-0.45</td>\n",
       "      <td>2232.0</td>\n",
       "      <td>11.7500</td>\n",
       "      <td>241026127</td>\n",
       "      <td>540406</td>\n",
       "      <td>20067</td>\n",
       "    </tr>\n",
       "  </tbody>\n",
       "</table>\n",
       "</div>"
      ],
      "text/plain": [
       "  itemcode  etfTabCode               itemname  nowVal risefall  changeVal  \\\n",
       "0   069500           1              KODEX 200   39305        2         75   \n",
       "1   371460           4  TIGER 차이나전기차SOLACTIVE   19710        5       -300   \n",
       "2   102110           1              TIGER 200   39335        2         75   \n",
       "3   122630           3             KODEX 레버리지   23275        2         65   \n",
       "4   252670           3       KODEX 200선물인버스2X    2225        5        -10   \n",
       "\n",
       "   changeRate      nav  threeMonthEarnRate      quant  amonut  marketSum  \n",
       "0        0.19  39323.0             -6.2381    6023907  236297      50998  \n",
       "1       -1.50      NaN             21.4199    4145766   82473      29667  \n",
       "2        0.19  39358.0             -6.1978     769742   30221      21890  \n",
       "3        0.28  23347.0            -13.0712   21082025  487285      20854  \n",
       "4       -0.45   2232.0             11.7500  241026127  540406      20067  "
      ]
     },
     "execution_count": 8,
     "metadata": {},
     "output_type": "execute_result"
    }
   ],
   "source": [
    "# 데이터 프레임으로 잘 만들어 졌는지 상단 데이터의 일부만 미리보기 합니다.\n",
    "df.head()"
   ]
  },
  {
   "cell_type": "code",
   "execution_count": 9,
   "metadata": {
    "id": "CrEXrnVy0jYn"
   },
   "outputs": [
    {
     "data": {
      "text/html": [
       "<div>\n",
       "<style scoped>\n",
       "    .dataframe tbody tr th:only-of-type {\n",
       "        vertical-align: middle;\n",
       "    }\n",
       "\n",
       "    .dataframe tbody tr th {\n",
       "        vertical-align: top;\n",
       "    }\n",
       "\n",
       "    .dataframe thead th {\n",
       "        text-align: right;\n",
       "    }\n",
       "</style>\n",
       "<table border=\"1\" class=\"dataframe\">\n",
       "  <thead>\n",
       "    <tr style=\"text-align: right;\">\n",
       "      <th></th>\n",
       "      <th>itemcode</th>\n",
       "      <th>etfTabCode</th>\n",
       "      <th>itemname</th>\n",
       "      <th>nowVal</th>\n",
       "      <th>risefall</th>\n",
       "      <th>changeVal</th>\n",
       "      <th>changeRate</th>\n",
       "      <th>nav</th>\n",
       "      <th>threeMonthEarnRate</th>\n",
       "      <th>quant</th>\n",
       "      <th>amonut</th>\n",
       "      <th>marketSum</th>\n",
       "    </tr>\n",
       "  </thead>\n",
       "  <tbody>\n",
       "    <tr>\n",
       "      <th>521</th>\n",
       "      <td>287330</td>\n",
       "      <td>2</td>\n",
       "      <td>KBSTAR 200생활소비재</td>\n",
       "      <td>7600</td>\n",
       "      <td>2</td>\n",
       "      <td>50</td>\n",
       "      <td>0.66</td>\n",
       "      <td>7587.0</td>\n",
       "      <td>-13.3181</td>\n",
       "      <td>1029</td>\n",
       "      <td>7</td>\n",
       "      <td>18</td>\n",
       "    </tr>\n",
       "    <tr>\n",
       "      <th>522</th>\n",
       "      <td>284990</td>\n",
       "      <td>2</td>\n",
       "      <td>KBSTAR 200에너지화학</td>\n",
       "      <td>12700</td>\n",
       "      <td>2</td>\n",
       "      <td>75</td>\n",
       "      <td>0.59</td>\n",
       "      <td>12695.0</td>\n",
       "      <td>-5.9240</td>\n",
       "      <td>537</td>\n",
       "      <td>6</td>\n",
       "      <td>18</td>\n",
       "    </tr>\n",
       "    <tr>\n",
       "      <th>523</th>\n",
       "      <td>334700</td>\n",
       "      <td>5</td>\n",
       "      <td>KBSTAR 팔라듐선물인버스(H)</td>\n",
       "      <td>5925</td>\n",
       "      <td>5</td>\n",
       "      <td>-20</td>\n",
       "      <td>-0.34</td>\n",
       "      <td>NaN</td>\n",
       "      <td>23.5966</td>\n",
       "      <td>1504</td>\n",
       "      <td>8</td>\n",
       "      <td>18</td>\n",
       "    </tr>\n",
       "    <tr>\n",
       "      <th>524</th>\n",
       "      <td>287310</td>\n",
       "      <td>2</td>\n",
       "      <td>KBSTAR 200경기소비재</td>\n",
       "      <td>10620</td>\n",
       "      <td>2</td>\n",
       "      <td>75</td>\n",
       "      <td>0.71</td>\n",
       "      <td>10590.0</td>\n",
       "      <td>-9.4850</td>\n",
       "      <td>382</td>\n",
       "      <td>4</td>\n",
       "      <td>15</td>\n",
       "    </tr>\n",
       "    <tr>\n",
       "      <th>525</th>\n",
       "      <td>287320</td>\n",
       "      <td>2</td>\n",
       "      <td>KBSTAR 200산업재</td>\n",
       "      <td>10775</td>\n",
       "      <td>2</td>\n",
       "      <td>100</td>\n",
       "      <td>0.94</td>\n",
       "      <td>10740.0</td>\n",
       "      <td>-17.9793</td>\n",
       "      <td>17</td>\n",
       "      <td>0</td>\n",
       "      <td>13</td>\n",
       "    </tr>\n",
       "  </tbody>\n",
       "</table>\n",
       "</div>"
      ],
      "text/plain": [
       "    itemcode  etfTabCode            itemname  nowVal risefall  changeVal  \\\n",
       "521   287330           2     KBSTAR 200생활소비재    7600        2         50   \n",
       "522   284990           2     KBSTAR 200에너지화학   12700        2         75   \n",
       "523   334700           5  KBSTAR 팔라듐선물인버스(H)    5925        5        -20   \n",
       "524   287310           2     KBSTAR 200경기소비재   10620        2         75   \n",
       "525   287320           2       KBSTAR 200산업재   10775        2        100   \n",
       "\n",
       "     changeRate      nav  threeMonthEarnRate  quant  amonut  marketSum  \n",
       "521        0.66   7587.0            -13.3181   1029       7         18  \n",
       "522        0.59  12695.0             -5.9240    537       6         18  \n",
       "523       -0.34      NaN             23.5966   1504       8         18  \n",
       "524        0.71  10590.0             -9.4850    382       4         15  \n",
       "525        0.94  10740.0            -17.9793     17       0         13  "
      ]
     },
     "execution_count": 9,
     "metadata": {},
     "output_type": "execute_result"
    }
   ],
   "source": [
    "# 데이터 프레임으로 잘 만들어 졌는지 하단 데이터의 일부만 미리보기 합니다.\n",
    "df.tail()"
   ]
  },
  {
   "cell_type": "markdown",
   "metadata": {},
   "source": [
    "## 파일 저장\n",
    "### 파일명 만들기"
   ]
  },
  {
   "cell_type": "code",
   "execution_count": 10,
   "metadata": {
    "id": "WZTFTe620jYn"
   },
   "outputs": [
    {
     "data": {
      "text/plain": [
       "'2021-12-06'"
      ]
     },
     "execution_count": 10,
     "metadata": {},
     "output_type": "execute_result"
    }
   ],
   "source": [
    "# 파이썬 표준라이브러리인 datetime을 불러옵니다.\n",
    "# 날짜를 만들어 저장하기 위해 오늘 날짜를 구합니다.\n",
    "import datetime\n",
    "\n",
    "today = datetime.datetime.today().strftime(\"%Y-%m-%d\")\n",
    "today"
   ]
  },
  {
   "cell_type": "code",
   "execution_count": 11,
   "metadata": {
    "id": "dWw88foz0jYn",
    "scrolled": true
   },
   "outputs": [
    {
     "data": {
      "text/plain": [
       "'eft_2021-12-06_raw.csv'"
      ]
     },
     "execution_count": 11,
     "metadata": {},
     "output_type": "execute_result"
    }
   ],
   "source": [
    "# f-string 방식으로 파일명을 만들어 줍니다.\n",
    "# eft_날짜_raw.csv 형태로 만듭니다.\n",
    "file_name = f\"eft_{today}_raw.csv\"\n",
    "file_name"
   ]
  },
  {
   "cell_type": "markdown",
   "metadata": {},
   "source": [
    "### 파일로 저장하고 불러오기"
   ]
  },
  {
   "cell_type": "code",
   "execution_count": 12,
   "metadata": {
    "id": "L8WaFl6d0jYn"
   },
   "outputs": [],
   "source": [
    "# csv 형태로 저장합니다. index 가 저장되지 않도록 합니다.\n",
    "df.to_csv(file_name, index = False)"
   ]
  },
  {
   "cell_type": "code",
   "execution_count": 13,
   "metadata": {
    "id": "2Vi0tnZL0jYn"
   },
   "outputs": [
    {
     "data": {
      "text/html": [
       "<div>\n",
       "<style scoped>\n",
       "    .dataframe tbody tr th:only-of-type {\n",
       "        vertical-align: middle;\n",
       "    }\n",
       "\n",
       "    .dataframe tbody tr th {\n",
       "        vertical-align: top;\n",
       "    }\n",
       "\n",
       "    .dataframe thead th {\n",
       "        text-align: right;\n",
       "    }\n",
       "</style>\n",
       "<table border=\"1\" class=\"dataframe\">\n",
       "  <thead>\n",
       "    <tr style=\"text-align: right;\">\n",
       "      <th></th>\n",
       "      <th>itemcode</th>\n",
       "      <th>etfTabCode</th>\n",
       "      <th>itemname</th>\n",
       "      <th>nowVal</th>\n",
       "      <th>risefall</th>\n",
       "      <th>changeVal</th>\n",
       "      <th>changeRate</th>\n",
       "      <th>nav</th>\n",
       "      <th>threeMonthEarnRate</th>\n",
       "      <th>quant</th>\n",
       "      <th>amonut</th>\n",
       "      <th>marketSum</th>\n",
       "    </tr>\n",
       "  </thead>\n",
       "  <tbody>\n",
       "    <tr>\n",
       "      <th>0</th>\n",
       "      <td>69500</td>\n",
       "      <td>1</td>\n",
       "      <td>KODEX 200</td>\n",
       "      <td>39305</td>\n",
       "      <td>2</td>\n",
       "      <td>75</td>\n",
       "      <td>0.19</td>\n",
       "      <td>39323.0</td>\n",
       "      <td>-6.2381</td>\n",
       "      <td>6023907</td>\n",
       "      <td>236297</td>\n",
       "      <td>50998</td>\n",
       "    </tr>\n",
       "    <tr>\n",
       "      <th>1</th>\n",
       "      <td>371460</td>\n",
       "      <td>4</td>\n",
       "      <td>TIGER 차이나전기차SOLACTIVE</td>\n",
       "      <td>19710</td>\n",
       "      <td>5</td>\n",
       "      <td>-300</td>\n",
       "      <td>-1.50</td>\n",
       "      <td>NaN</td>\n",
       "      <td>21.4199</td>\n",
       "      <td>4145766</td>\n",
       "      <td>82473</td>\n",
       "      <td>29667</td>\n",
       "    </tr>\n",
       "    <tr>\n",
       "      <th>2</th>\n",
       "      <td>102110</td>\n",
       "      <td>1</td>\n",
       "      <td>TIGER 200</td>\n",
       "      <td>39335</td>\n",
       "      <td>2</td>\n",
       "      <td>75</td>\n",
       "      <td>0.19</td>\n",
       "      <td>39358.0</td>\n",
       "      <td>-6.1978</td>\n",
       "      <td>769742</td>\n",
       "      <td>30221</td>\n",
       "      <td>21890</td>\n",
       "    </tr>\n",
       "    <tr>\n",
       "      <th>3</th>\n",
       "      <td>122630</td>\n",
       "      <td>3</td>\n",
       "      <td>KODEX 레버리지</td>\n",
       "      <td>23275</td>\n",
       "      <td>2</td>\n",
       "      <td>65</td>\n",
       "      <td>0.28</td>\n",
       "      <td>23347.0</td>\n",
       "      <td>-13.0712</td>\n",
       "      <td>21082025</td>\n",
       "      <td>487285</td>\n",
       "      <td>20854</td>\n",
       "    </tr>\n",
       "    <tr>\n",
       "      <th>4</th>\n",
       "      <td>252670</td>\n",
       "      <td>3</td>\n",
       "      <td>KODEX 200선물인버스2X</td>\n",
       "      <td>2225</td>\n",
       "      <td>5</td>\n",
       "      <td>-10</td>\n",
       "      <td>-0.45</td>\n",
       "      <td>2232.0</td>\n",
       "      <td>11.7500</td>\n",
       "      <td>241026127</td>\n",
       "      <td>540406</td>\n",
       "      <td>20067</td>\n",
       "    </tr>\n",
       "    <tr>\n",
       "      <th>...</th>\n",
       "      <td>...</td>\n",
       "      <td>...</td>\n",
       "      <td>...</td>\n",
       "      <td>...</td>\n",
       "      <td>...</td>\n",
       "      <td>...</td>\n",
       "      <td>...</td>\n",
       "      <td>...</td>\n",
       "      <td>...</td>\n",
       "      <td>...</td>\n",
       "      <td>...</td>\n",
       "      <td>...</td>\n",
       "    </tr>\n",
       "    <tr>\n",
       "      <th>521</th>\n",
       "      <td>287330</td>\n",
       "      <td>2</td>\n",
       "      <td>KBSTAR 200생활소비재</td>\n",
       "      <td>7600</td>\n",
       "      <td>2</td>\n",
       "      <td>50</td>\n",
       "      <td>0.66</td>\n",
       "      <td>7587.0</td>\n",
       "      <td>-13.3181</td>\n",
       "      <td>1029</td>\n",
       "      <td>7</td>\n",
       "      <td>18</td>\n",
       "    </tr>\n",
       "    <tr>\n",
       "      <th>522</th>\n",
       "      <td>284990</td>\n",
       "      <td>2</td>\n",
       "      <td>KBSTAR 200에너지화학</td>\n",
       "      <td>12700</td>\n",
       "      <td>2</td>\n",
       "      <td>75</td>\n",
       "      <td>0.59</td>\n",
       "      <td>12695.0</td>\n",
       "      <td>-5.9240</td>\n",
       "      <td>537</td>\n",
       "      <td>6</td>\n",
       "      <td>18</td>\n",
       "    </tr>\n",
       "    <tr>\n",
       "      <th>523</th>\n",
       "      <td>334700</td>\n",
       "      <td>5</td>\n",
       "      <td>KBSTAR 팔라듐선물인버스(H)</td>\n",
       "      <td>5925</td>\n",
       "      <td>5</td>\n",
       "      <td>-20</td>\n",
       "      <td>-0.34</td>\n",
       "      <td>NaN</td>\n",
       "      <td>23.5966</td>\n",
       "      <td>1504</td>\n",
       "      <td>8</td>\n",
       "      <td>18</td>\n",
       "    </tr>\n",
       "    <tr>\n",
       "      <th>524</th>\n",
       "      <td>287310</td>\n",
       "      <td>2</td>\n",
       "      <td>KBSTAR 200경기소비재</td>\n",
       "      <td>10620</td>\n",
       "      <td>2</td>\n",
       "      <td>75</td>\n",
       "      <td>0.71</td>\n",
       "      <td>10590.0</td>\n",
       "      <td>-9.4850</td>\n",
       "      <td>382</td>\n",
       "      <td>4</td>\n",
       "      <td>15</td>\n",
       "    </tr>\n",
       "    <tr>\n",
       "      <th>525</th>\n",
       "      <td>287320</td>\n",
       "      <td>2</td>\n",
       "      <td>KBSTAR 200산업재</td>\n",
       "      <td>10775</td>\n",
       "      <td>2</td>\n",
       "      <td>100</td>\n",
       "      <td>0.94</td>\n",
       "      <td>10740.0</td>\n",
       "      <td>-17.9793</td>\n",
       "      <td>17</td>\n",
       "      <td>0</td>\n",
       "      <td>13</td>\n",
       "    </tr>\n",
       "  </tbody>\n",
       "</table>\n",
       "<p>526 rows × 12 columns</p>\n",
       "</div>"
      ],
      "text/plain": [
       "     itemcode  etfTabCode               itemname  nowVal  risefall  changeVal  \\\n",
       "0       69500           1              KODEX 200   39305         2         75   \n",
       "1      371460           4  TIGER 차이나전기차SOLACTIVE   19710         5       -300   \n",
       "2      102110           1              TIGER 200   39335         2         75   \n",
       "3      122630           3             KODEX 레버리지   23275         2         65   \n",
       "4      252670           3       KODEX 200선물인버스2X    2225         5        -10   \n",
       "..        ...         ...                    ...     ...       ...        ...   \n",
       "521    287330           2        KBSTAR 200생활소비재    7600         2         50   \n",
       "522    284990           2        KBSTAR 200에너지화학   12700         2         75   \n",
       "523    334700           5     KBSTAR 팔라듐선물인버스(H)    5925         5        -20   \n",
       "524    287310           2        KBSTAR 200경기소비재   10620         2         75   \n",
       "525    287320           2          KBSTAR 200산업재   10775         2        100   \n",
       "\n",
       "     changeRate      nav  threeMonthEarnRate      quant  amonut  marketSum  \n",
       "0          0.19  39323.0             -6.2381    6023907  236297      50998  \n",
       "1         -1.50      NaN             21.4199    4145766   82473      29667  \n",
       "2          0.19  39358.0             -6.1978     769742   30221      21890  \n",
       "3          0.28  23347.0            -13.0712   21082025  487285      20854  \n",
       "4         -0.45   2232.0             11.7500  241026127  540406      20067  \n",
       "..          ...      ...                 ...        ...     ...        ...  \n",
       "521        0.66   7587.0            -13.3181       1029       7         18  \n",
       "522        0.59  12695.0             -5.9240        537       6         18  \n",
       "523       -0.34      NaN             23.5966       1504       8         18  \n",
       "524        0.71  10590.0             -9.4850        382       4         15  \n",
       "525        0.94  10740.0            -17.9793         17       0         13  \n",
       "\n",
       "[526 rows x 12 columns]"
      ]
     },
     "execution_count": 13,
     "metadata": {},
     "output_type": "execute_result"
    }
   ],
   "source": [
    "# 저장된 csv 파일을 읽어옵니다.\n",
    "# itemcode 숫자 앞의 0 이 지워진다면 dtype={\"itemcode\": np.object} 로 타입을 지정해 주면 문자형태로 읽어옵니다.\n",
    "pd.read_csv(file_name , dtype = {\"item_code\" : \"object\"})"
   ]
  },
  {
   "cell_type": "code",
   "execution_count": null,
   "metadata": {
    "id": "0VX-NE4e0jYn"
   },
   "outputs": [],
   "source": []
  },
  {
   "cell_type": "code",
   "execution_count": null,
   "metadata": {},
   "outputs": [],
   "source": []
  }
 ],
 "metadata": {
  "colab": {
   "collapsed_sections": [],
   "name": "7. naver_etf.ipynb",
   "provenance": [],
   "toc_visible": true
  },
  "kernelspec": {
   "display_name": "Python 3",
   "language": "python",
   "name": "python3"
  },
  "language_info": {
   "codemirror_mode": {
    "name": "ipython",
    "version": 3
   },
   "file_extension": ".py",
   "mimetype": "text/x-python",
   "name": "python",
   "nbconvert_exporter": "python",
   "pygments_lexer": "ipython3",
   "version": "3.8.8"
  },
  "toc": {
   "base_numbering": 1,
   "nav_menu": {},
   "number_sections": true,
   "sideBar": true,
   "skip_h1_title": false,
   "title_cell": "Table of Contents",
   "title_sidebar": "Contents",
   "toc_cell": false,
   "toc_position": {
    "height": "calc(100% - 180px)",
    "left": "10px",
    "top": "150px",
    "width": "204.8px"
   },
   "toc_section_display": true,
   "toc_window_display": true
  },
  "varInspector": {
   "cols": {
    "lenName": 16,
    "lenType": 16,
    "lenVar": 40
   },
   "kernels_config": {
    "python": {
     "delete_cmd_postfix": "",
     "delete_cmd_prefix": "del ",
     "library": "var_list.py",
     "varRefreshCmd": "print(var_dic_list())"
    },
    "r": {
     "delete_cmd_postfix": ") ",
     "delete_cmd_prefix": "rm(",
     "library": "var_list.r",
     "varRefreshCmd": "cat(var_dic_list()) "
    }
   },
   "types_to_exclude": [
    "module",
    "function",
    "builtin_function_or_method",
    "instance",
    "_Feature"
   ],
   "window_display": false
  }
 },
 "nbformat": 4,
 "nbformat_minor": 1
}
