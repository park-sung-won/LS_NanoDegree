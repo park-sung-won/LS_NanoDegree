{
 "cells": [
  {
   "cell_type": "code",
   "execution_count": 1,
   "metadata": {
    "executionInfo": {
     "elapsed": 881,
     "status": "ok",
     "timestamp": 1624328394197,
     "user": {
      "displayName": "todaycode오늘코드",
      "photoUrl": "https://lh3.googleusercontent.com/a-/AOh14GgLiO5i_xXRR_qAG77avSrsWiiI4KHJR6t4xysb=s64",
      "userId": "06313463015165663090"
     },
     "user_tz": -540
    },
    "id": "XG-YnpMpg80G"
   },
   "outputs": [],
   "source": [
    "# 테스트를 위해 아래 셀을 실행해 주세요.\n",
    "import pandas as pd\n",
    "import seaborn as sns\n",
    "sns.set(style=\"whitegrid\", font_scale=1.2)"
   ]
  },
  {
   "cell_type": "code",
   "execution_count": 2,
   "metadata": {
    "id": "-RedHowrg80K",
    "outputId": "58057d9b-1b4a-4ce0-ebe4-bca72e75965a"
   },
   "outputs": [
    {
     "name": "stdout",
     "output_type": "stream",
     "text": [
      "(53940, 10)\n"
     ]
    },
    {
     "data": {
      "text/html": [
       "<div>\n",
       "<style scoped>\n",
       "    .dataframe tbody tr th:only-of-type {\n",
       "        vertical-align: middle;\n",
       "    }\n",
       "\n",
       "    .dataframe tbody tr th {\n",
       "        vertical-align: top;\n",
       "    }\n",
       "\n",
       "    .dataframe thead th {\n",
       "        text-align: right;\n",
       "    }\n",
       "</style>\n",
       "<table border=\"1\" class=\"dataframe\">\n",
       "  <thead>\n",
       "    <tr style=\"text-align: right;\">\n",
       "      <th></th>\n",
       "      <th>carat</th>\n",
       "      <th>cut</th>\n",
       "      <th>color</th>\n",
       "      <th>clarity</th>\n",
       "      <th>depth</th>\n",
       "      <th>table</th>\n",
       "      <th>price</th>\n",
       "      <th>x</th>\n",
       "      <th>y</th>\n",
       "      <th>z</th>\n",
       "    </tr>\n",
       "  </thead>\n",
       "  <tbody>\n",
       "    <tr>\n",
       "      <th>0</th>\n",
       "      <td>0.23</td>\n",
       "      <td>Ideal</td>\n",
       "      <td>E</td>\n",
       "      <td>SI2</td>\n",
       "      <td>61.5</td>\n",
       "      <td>55.0</td>\n",
       "      <td>326</td>\n",
       "      <td>3.95</td>\n",
       "      <td>3.98</td>\n",
       "      <td>2.43</td>\n",
       "    </tr>\n",
       "    <tr>\n",
       "      <th>1</th>\n",
       "      <td>0.21</td>\n",
       "      <td>Premium</td>\n",
       "      <td>E</td>\n",
       "      <td>SI1</td>\n",
       "      <td>59.8</td>\n",
       "      <td>61.0</td>\n",
       "      <td>326</td>\n",
       "      <td>3.89</td>\n",
       "      <td>3.84</td>\n",
       "      <td>2.31</td>\n",
       "    </tr>\n",
       "    <tr>\n",
       "      <th>2</th>\n",
       "      <td>0.23</td>\n",
       "      <td>Good</td>\n",
       "      <td>E</td>\n",
       "      <td>VS1</td>\n",
       "      <td>56.9</td>\n",
       "      <td>65.0</td>\n",
       "      <td>327</td>\n",
       "      <td>4.05</td>\n",
       "      <td>4.07</td>\n",
       "      <td>2.31</td>\n",
       "    </tr>\n",
       "    <tr>\n",
       "      <th>3</th>\n",
       "      <td>0.29</td>\n",
       "      <td>Premium</td>\n",
       "      <td>I</td>\n",
       "      <td>VS2</td>\n",
       "      <td>62.4</td>\n",
       "      <td>58.0</td>\n",
       "      <td>334</td>\n",
       "      <td>4.20</td>\n",
       "      <td>4.23</td>\n",
       "      <td>2.63</td>\n",
       "    </tr>\n",
       "    <tr>\n",
       "      <th>4</th>\n",
       "      <td>0.31</td>\n",
       "      <td>Good</td>\n",
       "      <td>J</td>\n",
       "      <td>SI2</td>\n",
       "      <td>63.3</td>\n",
       "      <td>58.0</td>\n",
       "      <td>335</td>\n",
       "      <td>4.34</td>\n",
       "      <td>4.35</td>\n",
       "      <td>2.75</td>\n",
       "    </tr>\n",
       "  </tbody>\n",
       "</table>\n",
       "</div>"
      ],
      "text/plain": [
       "   carat      cut color clarity  depth  table  price     x     y     z\n",
       "0   0.23    Ideal     E     SI2   61.5   55.0    326  3.95  3.98  2.43\n",
       "1   0.21  Premium     E     SI1   59.8   61.0    326  3.89  3.84  2.31\n",
       "2   0.23     Good     E     VS1   56.9   65.0    327  4.05  4.07  2.31\n",
       "3   0.29  Premium     I     VS2   62.4   58.0    334  4.20  4.23  2.63\n",
       "4   0.31     Good     J     SI2   63.3   58.0    335  4.34  4.35  2.75"
      ]
     },
     "execution_count": 2,
     "metadata": {},
     "output_type": "execute_result"
    }
   ],
   "source": [
    "df = sns.load_dataset(\"diamonds\")\n",
    "print(df.shape)\n",
    "df.head()"
   ]
  },
  {
   "cell_type": "markdown",
   "metadata": {
    "id": "Z_B4Xf17g80L"
   },
   "source": [
    "## 1. price 가 높은 순으로 정렬 한 후 상위 5개만 출력해 주세요.\n",
    "* 다음의 결과가 출력되도록 합니다.\n",
    "<table border=\"1\" class=\"dataframe\">\n",
    "  <thead>\n",
    "    <tr style=\"text-align: right;\">\n",
    "      <th></th>\n",
    "      <th>carat</th>\n",
    "      <th>cut</th>\n",
    "      <th>color</th>\n",
    "      <th>clarity</th>\n",
    "      <th>depth</th>\n",
    "      <th>table</th>\n",
    "      <th>price</th>\n",
    "      <th>x</th>\n",
    "      <th>y</th>\n",
    "      <th>z</th>\n",
    "    </tr>\n",
    "  </thead>\n",
    "  <tbody>\n",
    "    <tr>\n",
    "      <th>27749</th>\n",
    "      <td>2.29</td>\n",
    "      <td>Premium</td>\n",
    "      <td>I</td>\n",
    "      <td>VS2</td>\n",
    "      <td>60.8</td>\n",
    "      <td>60.0</td>\n",
    "      <td>18823</td>\n",
    "      <td>8.50</td>\n",
    "      <td>8.47</td>\n",
    "      <td>5.16</td>\n",
    "    </tr>\n",
    "    <tr>\n",
    "      <th>27748</th>\n",
    "      <td>2.00</td>\n",
    "      <td>Very Good</td>\n",
    "      <td>G</td>\n",
    "      <td>SI1</td>\n",
    "      <td>63.5</td>\n",
    "      <td>56.0</td>\n",
    "      <td>18818</td>\n",
    "      <td>7.90</td>\n",
    "      <td>7.97</td>\n",
    "      <td>5.04</td>\n",
    "    </tr>\n",
    "    <tr>\n",
    "      <th>27747</th>\n",
    "      <td>1.51</td>\n",
    "      <td>Ideal</td>\n",
    "      <td>G</td>\n",
    "      <td>IF</td>\n",
    "      <td>61.7</td>\n",
    "      <td>55.0</td>\n",
    "      <td>18806</td>\n",
    "      <td>7.37</td>\n",
    "      <td>7.41</td>\n",
    "      <td>4.56</td>\n",
    "    </tr>\n",
    "    <tr>\n",
    "      <th>27746</th>\n",
    "      <td>2.07</td>\n",
    "      <td>Ideal</td>\n",
    "      <td>G</td>\n",
    "      <td>SI2</td>\n",
    "      <td>62.5</td>\n",
    "      <td>55.0</td>\n",
    "      <td>18804</td>\n",
    "      <td>8.20</td>\n",
    "      <td>8.13</td>\n",
    "      <td>5.11</td>\n",
    "    </tr>\n",
    "    <tr>\n",
    "      <th>27745</th>\n",
    "      <td>2.00</td>\n",
    "      <td>Very Good</td>\n",
    "      <td>H</td>\n",
    "      <td>SI1</td>\n",
    "      <td>62.8</td>\n",
    "      <td>57.0</td>\n",
    "      <td>18803</td>\n",
    "      <td>7.95</td>\n",
    "      <td>8.00</td>\n",
    "      <td>5.01</td>\n",
    "    </tr>\n",
    "  </tbody>\n",
    "</table>"
   ]
  },
  {
   "cell_type": "code",
   "execution_count": 3,
   "metadata": {
    "id": "HYZyhVrTg80M"
   },
   "outputs": [
    {
     "data": {
      "text/html": [
       "<div>\n",
       "<style scoped>\n",
       "    .dataframe tbody tr th:only-of-type {\n",
       "        vertical-align: middle;\n",
       "    }\n",
       "\n",
       "    .dataframe tbody tr th {\n",
       "        vertical-align: top;\n",
       "    }\n",
       "\n",
       "    .dataframe thead th {\n",
       "        text-align: right;\n",
       "    }\n",
       "</style>\n",
       "<table border=\"1\" class=\"dataframe\">\n",
       "  <thead>\n",
       "    <tr style=\"text-align: right;\">\n",
       "      <th></th>\n",
       "      <th>carat</th>\n",
       "      <th>cut</th>\n",
       "      <th>color</th>\n",
       "      <th>clarity</th>\n",
       "      <th>depth</th>\n",
       "      <th>table</th>\n",
       "      <th>price</th>\n",
       "      <th>x</th>\n",
       "      <th>y</th>\n",
       "      <th>z</th>\n",
       "    </tr>\n",
       "  </thead>\n",
       "  <tbody>\n",
       "    <tr>\n",
       "      <th>27749</th>\n",
       "      <td>2.29</td>\n",
       "      <td>Premium</td>\n",
       "      <td>I</td>\n",
       "      <td>VS2</td>\n",
       "      <td>60.8</td>\n",
       "      <td>60.0</td>\n",
       "      <td>18823</td>\n",
       "      <td>8.50</td>\n",
       "      <td>8.47</td>\n",
       "      <td>5.16</td>\n",
       "    </tr>\n",
       "    <tr>\n",
       "      <th>27748</th>\n",
       "      <td>2.00</td>\n",
       "      <td>Very Good</td>\n",
       "      <td>G</td>\n",
       "      <td>SI1</td>\n",
       "      <td>63.5</td>\n",
       "      <td>56.0</td>\n",
       "      <td>18818</td>\n",
       "      <td>7.90</td>\n",
       "      <td>7.97</td>\n",
       "      <td>5.04</td>\n",
       "    </tr>\n",
       "    <tr>\n",
       "      <th>27747</th>\n",
       "      <td>1.51</td>\n",
       "      <td>Ideal</td>\n",
       "      <td>G</td>\n",
       "      <td>IF</td>\n",
       "      <td>61.7</td>\n",
       "      <td>55.0</td>\n",
       "      <td>18806</td>\n",
       "      <td>7.37</td>\n",
       "      <td>7.41</td>\n",
       "      <td>4.56</td>\n",
       "    </tr>\n",
       "    <tr>\n",
       "      <th>27746</th>\n",
       "      <td>2.07</td>\n",
       "      <td>Ideal</td>\n",
       "      <td>G</td>\n",
       "      <td>SI2</td>\n",
       "      <td>62.5</td>\n",
       "      <td>55.0</td>\n",
       "      <td>18804</td>\n",
       "      <td>8.20</td>\n",
       "      <td>8.13</td>\n",
       "      <td>5.11</td>\n",
       "    </tr>\n",
       "    <tr>\n",
       "      <th>27745</th>\n",
       "      <td>2.00</td>\n",
       "      <td>Very Good</td>\n",
       "      <td>H</td>\n",
       "      <td>SI1</td>\n",
       "      <td>62.8</td>\n",
       "      <td>57.0</td>\n",
       "      <td>18803</td>\n",
       "      <td>7.95</td>\n",
       "      <td>8.00</td>\n",
       "      <td>5.01</td>\n",
       "    </tr>\n",
       "  </tbody>\n",
       "</table>\n",
       "</div>"
      ],
      "text/plain": [
       "       carat        cut color clarity  depth  table  price     x     y     z\n",
       "27749   2.29    Premium     I     VS2   60.8   60.0  18823  8.50  8.47  5.16\n",
       "27748   2.00  Very Good     G     SI1   63.5   56.0  18818  7.90  7.97  5.04\n",
       "27747   1.51      Ideal     G      IF   61.7   55.0  18806  7.37  7.41  4.56\n",
       "27746   2.07      Ideal     G     SI2   62.5   55.0  18804  8.20  8.13  5.11\n",
       "27745   2.00  Very Good     H     SI1   62.8   57.0  18803  7.95  8.00  5.01"
      ]
     },
     "execution_count": 3,
     "metadata": {},
     "output_type": "execute_result"
    }
   ],
   "source": [
    "df_1 = df.sort_values(\"price\", ascending = False)\n",
    "df_1.head(5)"
   ]
  },
  {
   "cell_type": "markdown",
   "metadata": {
    "id": "l1Fv3Utlg80M"
   },
   "source": [
    "## 2. carat 은 높은 순으로 depth 는 낮은순으로 정렬을 해서 다음의 결과가 나오도록 출력합니다.\n",
    "<table border=\"1\" class=\"dataframe\">\n",
    "  <thead>\n",
    "    <tr style=\"text-align: right;\">\n",
    "      <th></th>\n",
    "      <th>carat</th>\n",
    "      <th>cut</th>\n",
    "      <th>color</th>\n",
    "      <th>clarity</th>\n",
    "      <th>depth</th>\n",
    "      <th>table</th>\n",
    "      <th>price</th>\n",
    "      <th>x</th>\n",
    "      <th>y</th>\n",
    "      <th>z</th>\n",
    "    </tr>\n",
    "  </thead>\n",
    "  <tbody>\n",
    "    <tr>\n",
    "      <th>27415</th>\n",
    "      <td>5.01</td>\n",
    "      <td>Fair</td>\n",
    "      <td>J</td>\n",
    "      <td>I1</td>\n",
    "      <td>65.5</td>\n",
    "      <td>59.0</td>\n",
    "      <td>18018</td>\n",
    "      <td>10.74</td>\n",
    "      <td>10.54</td>\n",
    "      <td>6.98</td>\n",
    "    </tr>\n",
    "    <tr>\n",
    "      <th>27630</th>\n",
    "      <td>4.50</td>\n",
    "      <td>Fair</td>\n",
    "      <td>J</td>\n",
    "      <td>I1</td>\n",
    "      <td>65.8</td>\n",
    "      <td>58.0</td>\n",
    "      <td>18531</td>\n",
    "      <td>10.23</td>\n",
    "      <td>10.16</td>\n",
    "      <td>6.72</td>\n",
    "    </tr>\n",
    "    <tr>\n",
    "      <th>27130</th>\n",
    "      <td>4.13</td>\n",
    "      <td>Fair</td>\n",
    "      <td>H</td>\n",
    "      <td>I1</td>\n",
    "      <td>64.8</td>\n",
    "      <td>61.0</td>\n",
    "      <td>17329</td>\n",
    "      <td>10.00</td>\n",
    "      <td>9.85</td>\n",
    "      <td>6.43</td>\n",
    "    </tr>\n",
    "    <tr>\n",
    "      <th>25998</th>\n",
    "      <td>4.01</td>\n",
    "      <td>Premium</td>\n",
    "      <td>I</td>\n",
    "      <td>I1</td>\n",
    "      <td>61.0</td>\n",
    "      <td>61.0</td>\n",
    "      <td>15223</td>\n",
    "      <td>10.14</td>\n",
    "      <td>10.10</td>\n",
    "      <td>6.17</td>\n",
    "    </tr>\n",
    "    <tr>\n",
    "      <th>25999</th>\n",
    "      <td>4.01</td>\n",
    "      <td>Premium</td>\n",
    "      <td>J</td>\n",
    "      <td>I1</td>\n",
    "      <td>62.5</td>\n",
    "      <td>62.0</td>\n",
    "      <td>15223</td>\n",
    "      <td>10.02</td>\n",
    "      <td>9.94</td>\n",
    "      <td>6.24</td>\n",
    "    </tr>\n",
    "  </tbody>\n",
    "</table>"
   ]
  },
  {
   "cell_type": "code",
   "execution_count": 4,
   "metadata": {
    "id": "CaaCJdKvg80N"
   },
   "outputs": [],
   "source": [
    "df_1 = df_1.sort_values(\"carat\" , ascending = False)"
   ]
  },
  {
   "cell_type": "code",
   "execution_count": 5,
   "metadata": {},
   "outputs": [
    {
     "data": {
      "text/html": [
       "<div>\n",
       "<style scoped>\n",
       "    .dataframe tbody tr th:only-of-type {\n",
       "        vertical-align: middle;\n",
       "    }\n",
       "\n",
       "    .dataframe tbody tr th {\n",
       "        vertical-align: top;\n",
       "    }\n",
       "\n",
       "    .dataframe thead th {\n",
       "        text-align: right;\n",
       "    }\n",
       "</style>\n",
       "<table border=\"1\" class=\"dataframe\">\n",
       "  <thead>\n",
       "    <tr style=\"text-align: right;\">\n",
       "      <th></th>\n",
       "      <th>carat</th>\n",
       "      <th>cut</th>\n",
       "      <th>color</th>\n",
       "      <th>clarity</th>\n",
       "      <th>depth</th>\n",
       "      <th>table</th>\n",
       "      <th>price</th>\n",
       "      <th>x</th>\n",
       "      <th>y</th>\n",
       "      <th>z</th>\n",
       "    </tr>\n",
       "  </thead>\n",
       "  <tbody>\n",
       "    <tr>\n",
       "      <th>27415</th>\n",
       "      <td>5.01</td>\n",
       "      <td>Fair</td>\n",
       "      <td>J</td>\n",
       "      <td>I1</td>\n",
       "      <td>65.5</td>\n",
       "      <td>59.0</td>\n",
       "      <td>18018</td>\n",
       "      <td>10.74</td>\n",
       "      <td>10.54</td>\n",
       "      <td>6.98</td>\n",
       "    </tr>\n",
       "    <tr>\n",
       "      <th>27630</th>\n",
       "      <td>4.50</td>\n",
       "      <td>Fair</td>\n",
       "      <td>J</td>\n",
       "      <td>I1</td>\n",
       "      <td>65.8</td>\n",
       "      <td>58.0</td>\n",
       "      <td>18531</td>\n",
       "      <td>10.23</td>\n",
       "      <td>10.16</td>\n",
       "      <td>6.72</td>\n",
       "    </tr>\n",
       "    <tr>\n",
       "      <th>27130</th>\n",
       "      <td>4.13</td>\n",
       "      <td>Fair</td>\n",
       "      <td>H</td>\n",
       "      <td>I1</td>\n",
       "      <td>64.8</td>\n",
       "      <td>61.0</td>\n",
       "      <td>17329</td>\n",
       "      <td>10.00</td>\n",
       "      <td>9.85</td>\n",
       "      <td>6.43</td>\n",
       "    </tr>\n",
       "    <tr>\n",
       "      <th>25999</th>\n",
       "      <td>4.01</td>\n",
       "      <td>Premium</td>\n",
       "      <td>J</td>\n",
       "      <td>I1</td>\n",
       "      <td>62.5</td>\n",
       "      <td>62.0</td>\n",
       "      <td>15223</td>\n",
       "      <td>10.02</td>\n",
       "      <td>9.94</td>\n",
       "      <td>6.24</td>\n",
       "    </tr>\n",
       "    <tr>\n",
       "      <th>25998</th>\n",
       "      <td>4.01</td>\n",
       "      <td>Premium</td>\n",
       "      <td>I</td>\n",
       "      <td>I1</td>\n",
       "      <td>61.0</td>\n",
       "      <td>61.0</td>\n",
       "      <td>15223</td>\n",
       "      <td>10.14</td>\n",
       "      <td>10.10</td>\n",
       "      <td>6.17</td>\n",
       "    </tr>\n",
       "    <tr>\n",
       "      <th>...</th>\n",
       "      <td>...</td>\n",
       "      <td>...</td>\n",
       "      <td>...</td>\n",
       "      <td>...</td>\n",
       "      <td>...</td>\n",
       "      <td>...</td>\n",
       "      <td>...</td>\n",
       "      <td>...</td>\n",
       "      <td>...</td>\n",
       "      <td>...</td>\n",
       "    </tr>\n",
       "    <tr>\n",
       "      <th>31596</th>\n",
       "      <td>0.20</td>\n",
       "      <td>Premium</td>\n",
       "      <td>F</td>\n",
       "      <td>VS2</td>\n",
       "      <td>62.6</td>\n",
       "      <td>59.0</td>\n",
       "      <td>367</td>\n",
       "      <td>3.73</td>\n",
       "      <td>3.71</td>\n",
       "      <td>2.33</td>\n",
       "    </tr>\n",
       "    <tr>\n",
       "      <th>31597</th>\n",
       "      <td>0.20</td>\n",
       "      <td>Ideal</td>\n",
       "      <td>D</td>\n",
       "      <td>VS2</td>\n",
       "      <td>61.5</td>\n",
       "      <td>57.0</td>\n",
       "      <td>367</td>\n",
       "      <td>3.81</td>\n",
       "      <td>3.77</td>\n",
       "      <td>2.33</td>\n",
       "    </tr>\n",
       "    <tr>\n",
       "      <th>31598</th>\n",
       "      <td>0.20</td>\n",
       "      <td>Very Good</td>\n",
       "      <td>E</td>\n",
       "      <td>VS2</td>\n",
       "      <td>63.4</td>\n",
       "      <td>59.0</td>\n",
       "      <td>367</td>\n",
       "      <td>3.74</td>\n",
       "      <td>3.71</td>\n",
       "      <td>2.36</td>\n",
       "    </tr>\n",
       "    <tr>\n",
       "      <th>31599</th>\n",
       "      <td>0.20</td>\n",
       "      <td>Ideal</td>\n",
       "      <td>E</td>\n",
       "      <td>VS2</td>\n",
       "      <td>62.2</td>\n",
       "      <td>57.0</td>\n",
       "      <td>367</td>\n",
       "      <td>3.76</td>\n",
       "      <td>3.73</td>\n",
       "      <td>2.33</td>\n",
       "    </tr>\n",
       "    <tr>\n",
       "      <th>31601</th>\n",
       "      <td>0.20</td>\n",
       "      <td>Premium</td>\n",
       "      <td>D</td>\n",
       "      <td>VS2</td>\n",
       "      <td>61.7</td>\n",
       "      <td>60.0</td>\n",
       "      <td>367</td>\n",
       "      <td>3.77</td>\n",
       "      <td>3.72</td>\n",
       "      <td>2.31</td>\n",
       "    </tr>\n",
       "  </tbody>\n",
       "</table>\n",
       "<p>53940 rows × 10 columns</p>\n",
       "</div>"
      ],
      "text/plain": [
       "       carat        cut color clarity  depth  table  price      x      y     z\n",
       "27415   5.01       Fair     J      I1   65.5   59.0  18018  10.74  10.54  6.98\n",
       "27630   4.50       Fair     J      I1   65.8   58.0  18531  10.23  10.16  6.72\n",
       "27130   4.13       Fair     H      I1   64.8   61.0  17329  10.00   9.85  6.43\n",
       "25999   4.01    Premium     J      I1   62.5   62.0  15223  10.02   9.94  6.24\n",
       "25998   4.01    Premium     I      I1   61.0   61.0  15223  10.14  10.10  6.17\n",
       "...      ...        ...   ...     ...    ...    ...    ...    ...    ...   ...\n",
       "31596   0.20    Premium     F     VS2   62.6   59.0    367   3.73   3.71  2.33\n",
       "31597   0.20      Ideal     D     VS2   61.5   57.0    367   3.81   3.77  2.33\n",
       "31598   0.20  Very Good     E     VS2   63.4   59.0    367   3.74   3.71  2.36\n",
       "31599   0.20      Ideal     E     VS2   62.2   57.0    367   3.76   3.73  2.33\n",
       "31601   0.20    Premium     D     VS2   61.7   60.0    367   3.77   3.72  2.31\n",
       "\n",
       "[53940 rows x 10 columns]"
      ]
     },
     "execution_count": 5,
     "metadata": {},
     "output_type": "execute_result"
    }
   ],
   "source": [
    "df_1.sort_values(\"depth\" , ascending = True)\n",
    "df_1"
   ]
  },
  {
   "cell_type": "markdown",
   "metadata": {
    "id": "kgp-uFvcg80O"
   },
   "source": [
    "## 3. 다음의 결과가 나오도록 groupby를 써서 연산을 하고 count 값이 높은 순으로 정렬하고 상위 3개값만 출력합니다.\n",
    "* 아래의 결과가 출력되도록 합니다.\n",
    "<table border=\"1\" class=\"dataframe\">\n",
    "  <thead>\n",
    "    <tr style=\"text-align: right;\">\n",
    "      <th></th>\n",
    "      <th>count</th>\n",
    "      <th>sum</th>\n",
    "    </tr>\n",
    "    <tr>\n",
    "      <th>clarity</th>\n",
    "      <th></th>\n",
    "      <th></th>\n",
    "    </tr>\n",
    "  </thead>\n",
    "  <tbody>\n",
    "    <tr>\n",
    "      <th>SI1</th>\n",
    "      <td>13065</td>\n",
    "      <td>52207755</td>\n",
    "    </tr>\n",
    "    <tr>\n",
    "      <th>VS2</th>\n",
    "      <td>12258</td>\n",
    "      <td>48112520</td>\n",
    "    </tr>\n",
    "    <tr>\n",
    "      <th>SI2</th>\n",
    "      <td>9194</td>\n",
    "      <td>46549485</td>\n",
    "    </tr>\n",
    "  </tbody>\n",
    "</table>"
   ]
  },
  {
   "cell_type": "code",
   "execution_count": 6,
   "metadata": {},
   "outputs": [
    {
     "data": {
      "text/html": [
       "<div>\n",
       "<style scoped>\n",
       "    .dataframe tbody tr th:only-of-type {\n",
       "        vertical-align: middle;\n",
       "    }\n",
       "\n",
       "    .dataframe tbody tr th {\n",
       "        vertical-align: top;\n",
       "    }\n",
       "\n",
       "    .dataframe thead th {\n",
       "        text-align: right;\n",
       "    }\n",
       "</style>\n",
       "<table border=\"1\" class=\"dataframe\">\n",
       "  <thead>\n",
       "    <tr style=\"text-align: right;\">\n",
       "      <th></th>\n",
       "      <th>count</th>\n",
       "      <th>sum</th>\n",
       "    </tr>\n",
       "    <tr>\n",
       "      <th>clarity</th>\n",
       "      <th></th>\n",
       "      <th></th>\n",
       "    </tr>\n",
       "  </thead>\n",
       "  <tbody>\n",
       "    <tr>\n",
       "      <th>SI1</th>\n",
       "      <td>13065</td>\n",
       "      <td>52207755</td>\n",
       "    </tr>\n",
       "    <tr>\n",
       "      <th>VS2</th>\n",
       "      <td>12258</td>\n",
       "      <td>48112520</td>\n",
       "    </tr>\n",
       "    <tr>\n",
       "      <th>SI2</th>\n",
       "      <td>9194</td>\n",
       "      <td>46549485</td>\n",
       "    </tr>\n",
       "  </tbody>\n",
       "</table>\n",
       "</div>"
      ],
      "text/plain": [
       "         count       sum\n",
       "clarity                 \n",
       "SI1      13065  52207755\n",
       "VS2      12258  48112520\n",
       "SI2       9194  46549485"
      ]
     },
     "execution_count": 6,
     "metadata": {},
     "output_type": "execute_result"
    }
   ],
   "source": [
    "df.groupby(\"clarity\")[\"price\"].agg([\"count\", \"sum\"]).sort_values(\"count\", ascending = False).head(3)"
   ]
  },
  {
   "cell_type": "markdown",
   "metadata": {
    "id": "O_Jy8Y46g80P"
   },
   "source": [
    "## 4. pivot_table을 사용해서 아래의 결과가 출력되도록 합니다. 각 값은 price 의 합계가 되도록 계산합니다.\n",
    "<table border=\"1\" class=\"dataframe\">\n",
    "  <thead>\n",
    "    <tr style=\"text-align: right;\">\n",
    "      <th>color</th>\n",
    "      <th>D</th>\n",
    "      <th>E</th>\n",
    "      <th>F</th>\n",
    "      <th>G</th>\n",
    "      <th>H</th>\n",
    "      <th>I</th>\n",
    "      <th>J</th>\n",
    "    </tr>\n",
    "    <tr>\n",
    "      <th>cut</th>\n",
    "      <th></th>\n",
    "      <th></th>\n",
    "      <th></th>\n",
    "      <th></th>\n",
    "      <th></th>\n",
    "      <th></th>\n",
    "      <th></th>\n",
    "    </tr>\n",
    "  </thead>\n",
    "  <tbody>\n",
    "    <tr>\n",
    "      <th>Fair</th>\n",
    "      <td>699443</td>\n",
    "      <td>824838</td>\n",
    "      <td>1194025</td>\n",
    "      <td>1331126</td>\n",
    "      <td>1556112</td>\n",
    "      <td>819953</td>\n",
    "      <td>592103</td>\n",
    "    </tr>\n",
    "    <tr>\n",
    "      <th>Good</th>\n",
    "      <td>2254363</td>\n",
    "      <td>3194260</td>\n",
    "      <td>3177637</td>\n",
    "      <td>3591553</td>\n",
    "      <td>3001931</td>\n",
    "      <td>2650994</td>\n",
    "      <td>1404271</td>\n",
    "    </tr>\n",
    "    <tr>\n",
    "      <th>Ideal</th>\n",
    "      <td>7450854</td>\n",
    "      <td>10138238</td>\n",
    "      <td>12912518</td>\n",
    "      <td>18171930</td>\n",
    "      <td>12115278</td>\n",
    "      <td>9317974</td>\n",
    "      <td>4406695</td>\n",
    "    </tr>\n",
    "    <tr>\n",
    "      <th>Premium</th>\n",
    "      <td>5820962</td>\n",
    "      <td>8270443</td>\n",
    "      <td>10081319</td>\n",
    "      <td>13160170</td>\n",
    "      <td>12311428</td>\n",
    "      <td>8491146</td>\n",
    "      <td>5086030</td>\n",
    "    </tr>\n",
    "    <tr>\n",
    "      <th>Very Good</th>\n",
    "      <td>5250817</td>\n",
    "      <td>7715165</td>\n",
    "      <td>8177367</td>\n",
    "      <td>8903461</td>\n",
    "      <td>8272552</td>\n",
    "      <td>6328079</td>\n",
    "      <td>3460182</td>\n",
    "    </tr>\n",
    "  </tbody>\n",
    "</table>"
   ]
  },
  {
   "cell_type": "code",
   "execution_count": 7,
   "metadata": {
    "id": "kFREM9Fhg80T"
   },
   "outputs": [
    {
     "data": {
      "text/html": [
       "<div>\n",
       "<style scoped>\n",
       "    .dataframe tbody tr th:only-of-type {\n",
       "        vertical-align: middle;\n",
       "    }\n",
       "\n",
       "    .dataframe tbody tr th {\n",
       "        vertical-align: top;\n",
       "    }\n",
       "\n",
       "    .dataframe thead th {\n",
       "        text-align: right;\n",
       "    }\n",
       "</style>\n",
       "<table border=\"1\" class=\"dataframe\">\n",
       "  <thead>\n",
       "    <tr style=\"text-align: right;\">\n",
       "      <th>color</th>\n",
       "      <th>D</th>\n",
       "      <th>E</th>\n",
       "      <th>F</th>\n",
       "      <th>G</th>\n",
       "      <th>H</th>\n",
       "      <th>I</th>\n",
       "      <th>J</th>\n",
       "    </tr>\n",
       "    <tr>\n",
       "      <th>cut</th>\n",
       "      <th></th>\n",
       "      <th></th>\n",
       "      <th></th>\n",
       "      <th></th>\n",
       "      <th></th>\n",
       "      <th></th>\n",
       "      <th></th>\n",
       "    </tr>\n",
       "  </thead>\n",
       "  <tbody>\n",
       "    <tr>\n",
       "      <th>Fair</th>\n",
       "      <td>699443</td>\n",
       "      <td>824838</td>\n",
       "      <td>1194025</td>\n",
       "      <td>1331126</td>\n",
       "      <td>1556112</td>\n",
       "      <td>819953</td>\n",
       "      <td>592103</td>\n",
       "    </tr>\n",
       "    <tr>\n",
       "      <th>Good</th>\n",
       "      <td>2254363</td>\n",
       "      <td>3194260</td>\n",
       "      <td>3177637</td>\n",
       "      <td>3591553</td>\n",
       "      <td>3001931</td>\n",
       "      <td>2650994</td>\n",
       "      <td>1404271</td>\n",
       "    </tr>\n",
       "    <tr>\n",
       "      <th>Very Good</th>\n",
       "      <td>5250817</td>\n",
       "      <td>7715165</td>\n",
       "      <td>8177367</td>\n",
       "      <td>8903461</td>\n",
       "      <td>8272552</td>\n",
       "      <td>6328079</td>\n",
       "      <td>3460182</td>\n",
       "    </tr>\n",
       "    <tr>\n",
       "      <th>Premium</th>\n",
       "      <td>5820962</td>\n",
       "      <td>8270443</td>\n",
       "      <td>10081319</td>\n",
       "      <td>13160170</td>\n",
       "      <td>12311428</td>\n",
       "      <td>8491146</td>\n",
       "      <td>5086030</td>\n",
       "    </tr>\n",
       "    <tr>\n",
       "      <th>Ideal</th>\n",
       "      <td>7450854</td>\n",
       "      <td>10138238</td>\n",
       "      <td>12912518</td>\n",
       "      <td>18171930</td>\n",
       "      <td>12115278</td>\n",
       "      <td>9317974</td>\n",
       "      <td>4406695</td>\n",
       "    </tr>\n",
       "  </tbody>\n",
       "</table>\n",
       "</div>"
      ],
      "text/plain": [
       "color            D         E         F         G         H        I        J\n",
       "cut                                                                         \n",
       "Fair        699443    824838   1194025   1331126   1556112   819953   592103\n",
       "Good       2254363   3194260   3177637   3591553   3001931  2650994  1404271\n",
       "Very Good  5250817   7715165   8177367   8903461   8272552  6328079  3460182\n",
       "Premium    5820962   8270443  10081319  13160170  12311428  8491146  5086030\n",
       "Ideal      7450854  10138238  12912518  18171930  12115278  9317974  4406695"
      ]
     },
     "execution_count": 7,
     "metadata": {},
     "output_type": "execute_result"
    }
   ],
   "source": [
    "df.pivot_table(index = \"cut\", columns = \"color\", values = \"price\", aggfunc = \"sum\").sort_index(ascending = False)"
   ]
  },
  {
   "cell_type": "markdown",
   "metadata": {
    "id": "UQXYI-gsg80V"
   },
   "source": [
    "## 5. cut 컬럼의 값이 Ideal 이고 color 가 G인 데이터를 가져와서 아래의 컬럼만 출력이 되게 해주세요.\n",
    "* [\"carat\",\"clarity\", \"depth\", \"table\", \"price\"]\n",
    "* 이 때, price 가 높은 순으로 위에서 3개만 출력되게 해주세요.\n",
    "<table border=\"1\" class=\"dataframe\">\n",
    "  <thead>\n",
    "    <tr style=\"text-align: right;\">\n",
    "      <th></th>\n",
    "      <th>carat</th>\n",
    "      <th>clarity</th>\n",
    "      <th>depth</th>\n",
    "      <th>table</th>\n",
    "      <th>price</th>\n",
    "    </tr>\n",
    "  </thead>\n",
    "  <tbody>\n",
    "    <tr>\n",
    "      <th>27747</th>\n",
    "      <td>1.51</td>\n",
    "      <td>IF</td>\n",
    "      <td>61.7</td>\n",
    "      <td>55.0</td>\n",
    "      <td>18806</td>\n",
    "    </tr>\n",
    "    <tr>\n",
    "      <th>27746</th>\n",
    "      <td>2.07</td>\n",
    "      <td>SI2</td>\n",
    "      <td>62.5</td>\n",
    "      <td>55.0</td>\n",
    "      <td>18804</td>\n",
    "    </tr>\n",
    "    <tr>\n",
    "      <th>27741</th>\n",
    "      <td>2.15</td>\n",
    "      <td>SI2</td>\n",
    "      <td>62.6</td>\n",
    "      <td>54.0</td>\n",
    "      <td>18791</td>\n",
    "    </tr>\n",
    "  </tbody>\n",
    "</table>"
   ]
  },
  {
   "cell_type": "code",
   "execution_count": 8,
   "metadata": {
    "id": "qW3Bdp43g80Y"
   },
   "outputs": [
    {
     "data": {
      "text/html": [
       "<div>\n",
       "<style scoped>\n",
       "    .dataframe tbody tr th:only-of-type {\n",
       "        vertical-align: middle;\n",
       "    }\n",
       "\n",
       "    .dataframe tbody tr th {\n",
       "        vertical-align: top;\n",
       "    }\n",
       "\n",
       "    .dataframe thead th {\n",
       "        text-align: right;\n",
       "    }\n",
       "</style>\n",
       "<table border=\"1\" class=\"dataframe\">\n",
       "  <thead>\n",
       "    <tr style=\"text-align: right;\">\n",
       "      <th></th>\n",
       "      <th>carat</th>\n",
       "      <th>clarity</th>\n",
       "      <th>depth</th>\n",
       "      <th>table</th>\n",
       "      <th>price</th>\n",
       "    </tr>\n",
       "  </thead>\n",
       "  <tbody>\n",
       "    <tr>\n",
       "      <th>27747</th>\n",
       "      <td>1.51</td>\n",
       "      <td>IF</td>\n",
       "      <td>61.7</td>\n",
       "      <td>55.0</td>\n",
       "      <td>18806</td>\n",
       "    </tr>\n",
       "    <tr>\n",
       "      <th>27746</th>\n",
       "      <td>2.07</td>\n",
       "      <td>SI2</td>\n",
       "      <td>62.5</td>\n",
       "      <td>55.0</td>\n",
       "      <td>18804</td>\n",
       "    </tr>\n",
       "    <tr>\n",
       "      <th>27741</th>\n",
       "      <td>2.15</td>\n",
       "      <td>SI2</td>\n",
       "      <td>62.6</td>\n",
       "      <td>54.0</td>\n",
       "      <td>18791</td>\n",
       "    </tr>\n",
       "  </tbody>\n",
       "</table>\n",
       "</div>"
      ],
      "text/plain": [
       "       carat clarity  depth  table  price\n",
       "27747   1.51      IF   61.7   55.0  18806\n",
       "27746   2.07     SI2   62.5   55.0  18804\n",
       "27741   2.15     SI2   62.6   54.0  18791"
      ]
     },
     "execution_count": 8,
     "metadata": {},
     "output_type": "execute_result"
    }
   ],
   "source": [
    "df_cond = df[(df[\"cut\"] == \"Ideal\") & (df[\"color\"] == \"G\")].sort_values(\"price\", ascending = False)\n",
    "df_cond.drop([\"x\", \"y\", \"z\", \"cut\",\"color\"], axis = 1).head(3)"
   ]
  },
  {
   "cell_type": "markdown",
   "metadata": {
    "id": "C7lfpmLeg80Z"
   },
   "source": [
    "## 6. 다음의 결과가 출력되도록 새로운 컬럼을 추가하고 새로만든 컬럼의 값을 value_counts() 로 구해보세요.\n",
    "1. price 컬럼에서 900 보다 작은 값(900포함 안 됨)을 찾아서 category 라는 새로운 컬럼을 만들고 \"low\"라는 값을 넣습니다.\n",
    "1. price 컬럼에서 5000 보다 큰 값(5000 포함 안 됨)을 찾아서 category 라는 새로운 컬럼에 \"high\"라는 값을 넣습니다.\n",
    "1. 나머지 값은 fillna 를 통해 \"medium\" 이라는 값으로 채웁니다.\n",
    "그리고 새로만든 df[\"category\"] 컬럼의 카테고리 값을 집계합니다. 아래의 값이 출력됩니다.\n",
    "```\n",
    "medium    26899\n",
    "high      14714\n",
    "low       12327\n",
    "Name: category, dtype: int64\n",
    "```"
   ]
  },
  {
   "cell_type": "code",
   "execution_count": 9,
   "metadata": {
    "id": "dd90QKcWg80a"
   },
   "outputs": [
    {
     "data": {
      "text/plain": [
       "median    26899\n",
       "high      14714\n",
       "low       12327\n",
       "Name: category, dtype: int64"
      ]
     },
     "execution_count": 9,
     "metadata": {},
     "output_type": "execute_result"
    }
   ],
   "source": [
    "df.loc[(df[\"price\"] < 900), \"category\"] = \"low\"\n",
    "df.loc[(df[\"price\"] > 5000), \"category\"] = \"high\"\n",
    "df[\"category\"] = df[\"category\"].fillna(\"median\")\n",
    "\n",
    "df[\"category\"].value_counts()\n",
    "\n",
    "# 이렇게 풀어봤을때에는 답이 왜 안나올까? > 한가지로 통일되서 결과값이 나옴. (고민의 흔적))\n",
    "# for i in df[\"price\"] :\n",
    "#     if df[\"price\"][i] < 900:\n",
    "#         df[\"category\"] = \"low\"\n",
    "#     elif df[\"price\"][i] > 5000:\n",
    "#         df[\"category\"] = \"high\"\n",
    "#     elif (900 <= df[\"price\"][i]) and (df[\"price\"][i] <= 5000) :\n",
    "#         df[\"category\"] = \"medium\""
   ]
  },
  {
   "cell_type": "markdown",
   "metadata": {
    "id": "Njg9g0lUg80a"
   },
   "source": [
    "## 7. clarity 컬럼의 value_counts 로 위에서 3개의 값을 가져오고 top이라는 변수에 담아주세요.\n",
    "* top 이라는 변수에서 아래의 index 값만 추출합니다. 그리고 아래의 결과를 top_index 라는 변수에 담습니다.\n",
    "```\n",
    "Index(['SI1', 'VS2', 'SI2'], dtype='object')\n",
    "```"
   ]
  },
  {
   "cell_type": "code",
   "execution_count": 10,
   "metadata": {
    "id": "XgwCflUqg80b"
   },
   "outputs": [
    {
     "data": {
      "text/plain": [
       "Index(['SI1', 'VS2', 'SI2'], dtype='object')"
      ]
     },
     "execution_count": 10,
     "metadata": {},
     "output_type": "execute_result"
    }
   ],
   "source": [
    "# clarity 컬럼의 value_counts 로 위에서 3개의 값을 가져오고 top이라는 변수에 담아주세요.\n",
    "# 그리고 아래 코드를 실행했을 때 Index(['SI1', 'VS2', 'SI2'], dtype='object') 가 출력되게 해주세요.\n",
    "\n",
    "top = df[\"clarity\"].value_counts().head(3)\n",
    "\n",
    "top_index = top.index.astype(\"object\")\n",
    "top_index"
   ]
  },
  {
   "cell_type": "markdown",
   "metadata": {
    "id": "qO_OBWkUg80b"
   },
   "source": [
    "## 8. 위에서 추출한 top_index 변수에 담긴 값을 \"clarity\" 컬럼에서 isin 으로 가져오세요.\n",
    "df_top 이라는 변수에 담고 해당 변수에 담긴 값의 크기가 다음과 같이 출력되도록 해주세요. `(34517, 11)`"
   ]
  },
  {
   "cell_type": "code",
   "execution_count": 11,
   "metadata": {
    "id": "nnq8nbF7g80b"
   },
   "outputs": [
    {
     "data": {
      "text/plain": [
       "(34517, 11)"
      ]
     },
     "execution_count": 11,
     "metadata": {},
     "output_type": "execute_result"
    }
   ],
   "source": [
    "df_top = df[df[\"clarity\"].isin(top_index)] \n",
    "df_top.shape"
   ]
  },
  {
   "cell_type": "markdown",
   "metadata": {
    "id": "pyiMam0Vg80c"
   },
   "source": [
    "## 9. 위에서 구한 `df_top` 변수에 담긴 데이터로 아래의 그래프가 그려지도록 해주세요.\n",
    "<img src=\"https://i.imgur.com/X2B5lQg.png\">"
   ]
  },
  {
   "cell_type": "code",
   "execution_count": 12,
   "metadata": {
    "id": "pk3DmWs2g80c"
   },
   "outputs": [
    {
     "data": {
      "text/plain": [
       "<AxesSubplot:xlabel='cut', ylabel='price'>"
      ]
     },
     "execution_count": 12,
     "metadata": {},
     "output_type": "execute_result"
    },
    {
     "data": {
      "image/png": "[encoded data removed]",
      "text/plain": [
       "<Figure size 432x288 with 1 Axes>"
      ]
     },
     "metadata": {},
     "output_type": "display_data"
    }
   ],
   "source": [
    "sns.violinplot(data = df_top, x = \"cut\", y = \"price\")"
   ]
  },
  {
   "cell_type": "markdown",
   "metadata": {
    "id": "-qqUmKSsg80c"
   },
   "source": [
    "## 10.위에서 구한 `df_top` 변수에 담긴 데이터로 아래의 그래프가 그려지도록 해주세요.\n",
    "<img src=\"https://i.imgur.com/QYJos2r.png\">"
   ]
  },
  {
   "cell_type": "code",
   "execution_count": 13,
   "metadata": {
    "id": "Mn_0vd3Dg80c"
   },
   "outputs": [
    {
     "data": {
      "text/plain": [
       "<seaborn.axisgrid.FacetGrid at 0x7fd3e3526730>"
      ]
     },
     "execution_count": 13,
     "metadata": {},
     "output_type": "execute_result"
    },
    {
     "data": {
      "image/png": "[encoded data removed]",
      "text/plain": [
       "<Figure size 417.77x360 with 1 Axes>"
      ]
     },
     "metadata": {},
     "output_type": "display_data"
    }
   ],
   "source": [
    "\n",
    "sns.lmplot(data = df_top , x = \"carat\", y = \"price\", hue = \"color\" )\n",
    "\n"
   ]
  },
  {
   "cell_type": "code",
   "execution_count": null,
   "metadata": {
    "id": "nVXCmFvvg80c"
   },
   "outputs": [],
   "source": []
  },
  {
   "cell_type": "code",
   "execution_count": null,
   "metadata": {
    "id": "IqEAMsihg80c"
   },
   "outputs": [],
   "source": []
  }
 ],
 "metadata": {
  "colab": {
   "name": "ND-파이썬기초-과제5.ipynb",
   "provenance": []
  },
  "kernelspec": {
   "display_name": "Python 3",
   "language": "python",
   "name": "python3"
  },
  "language_info": {
   "codemirror_mode": {
    "name": "ipython",
    "version": 3
   },
   "file_extension": ".py",
   "mimetype": "text/x-python",
   "name": "python",
   "nbconvert_exporter": "python",
   "pygments_lexer": "ipython3",
   "version": "3.8.8"
  },
  "toc": {
   "base_numbering": 1,
   "nav_menu": {},
   "number_sections": true,
   "sideBar": true,
   "skip_h1_title": false,
   "title_cell": "Table of Contents",
   "title_sidebar": "Contents",
   "toc_cell": false,
   "toc_position": {},
   "toc_section_display": true,
   "toc_window_display": false
  },
  "varInspector": {
   "cols": {
    "lenName": 16,
    "lenType": 16,
    "lenVar": 40
   },
   "kernels_config": {
    "python": {
     "delete_cmd_postfix": "",
     "delete_cmd_prefix": "del ",
     "library": "var_list.py",
     "varRefreshCmd": "print(var_dic_list())"
    },
    "r": {
     "delete_cmd_postfix": ") ",
     "delete_cmd_prefix": "rm(",
     "library": "var_list.r",
     "varRefreshCmd": "cat(var_dic_list()) "
    }
   },
   "types_to_exclude": [
    "module",
    "function",
    "builtin_function_or_method",
    "instance",
    "_Feature"
   ],
   "window_display": false
  }
 },
 "nbformat": 4,
 "nbformat_minor": 1
}
