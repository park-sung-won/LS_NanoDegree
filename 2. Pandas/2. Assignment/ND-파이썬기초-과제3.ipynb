{
 "cells": [
  {
   "cell_type": "markdown",
   "metadata": {},
   "source": [
    "## Pandas 연습과제"
   ]
  },
  {
   "cell_type": "code",
   "execution_count": 1,
   "metadata": {
    "colab": {},
    "colab_type": "code",
    "id": "JavdIds7dd3U",
    "outputId": "d494b2a1-7327-4e66-bf77-def91d971c3f"
   },
   "outputs": [
    {
     "name": "stdout",
     "output_type": "stream",
     "text": [
      "(891, 15)\n"
     ]
    },
    {
     "data": {
      "text/html": [
       "<div>\n",
       "<style scoped>\n",
       "    .dataframe tbody tr th:only-of-type {\n",
       "        vertical-align: middle;\n",
       "    }\n",
       "\n",
       "    .dataframe tbody tr th {\n",
       "        vertical-align: top;\n",
       "    }\n",
       "\n",
       "    .dataframe thead th {\n",
       "        text-align: right;\n",
       "    }\n",
       "</style>\n",
       "<table border=\"1\" class=\"dataframe\">\n",
       "  <thead>\n",
       "    <tr style=\"text-align: right;\">\n",
       "      <th></th>\n",
       "      <th>survived</th>\n",
       "      <th>pclass</th>\n",
       "      <th>sex</th>\n",
       "      <th>age</th>\n",
       "      <th>sibsp</th>\n",
       "      <th>parch</th>\n",
       "      <th>fare</th>\n",
       "      <th>embarked</th>\n",
       "      <th>class</th>\n",
       "      <th>who</th>\n",
       "      <th>adult_male</th>\n",
       "      <th>deck</th>\n",
       "      <th>embark_town</th>\n",
       "      <th>alive</th>\n",
       "      <th>alone</th>\n",
       "    </tr>\n",
       "  </thead>\n",
       "  <tbody>\n",
       "    <tr>\n",
       "      <th>0</th>\n",
       "      <td>0</td>\n",
       "      <td>3</td>\n",
       "      <td>male</td>\n",
       "      <td>22.0</td>\n",
       "      <td>1</td>\n",
       "      <td>0</td>\n",
       "      <td>7.2500</td>\n",
       "      <td>S</td>\n",
       "      <td>Third</td>\n",
       "      <td>man</td>\n",
       "      <td>True</td>\n",
       "      <td>NaN</td>\n",
       "      <td>Southampton</td>\n",
       "      <td>no</td>\n",
       "      <td>False</td>\n",
       "    </tr>\n",
       "    <tr>\n",
       "      <th>1</th>\n",
       "      <td>1</td>\n",
       "      <td>1</td>\n",
       "      <td>female</td>\n",
       "      <td>38.0</td>\n",
       "      <td>1</td>\n",
       "      <td>0</td>\n",
       "      <td>71.2833</td>\n",
       "      <td>C</td>\n",
       "      <td>First</td>\n",
       "      <td>woman</td>\n",
       "      <td>False</td>\n",
       "      <td>C</td>\n",
       "      <td>Cherbourg</td>\n",
       "      <td>yes</td>\n",
       "      <td>False</td>\n",
       "    </tr>\n",
       "    <tr>\n",
       "      <th>2</th>\n",
       "      <td>1</td>\n",
       "      <td>3</td>\n",
       "      <td>female</td>\n",
       "      <td>26.0</td>\n",
       "      <td>0</td>\n",
       "      <td>0</td>\n",
       "      <td>7.9250</td>\n",
       "      <td>S</td>\n",
       "      <td>Third</td>\n",
       "      <td>woman</td>\n",
       "      <td>False</td>\n",
       "      <td>NaN</td>\n",
       "      <td>Southampton</td>\n",
       "      <td>yes</td>\n",
       "      <td>True</td>\n",
       "    </tr>\n",
       "    <tr>\n",
       "      <th>3</th>\n",
       "      <td>1</td>\n",
       "      <td>1</td>\n",
       "      <td>female</td>\n",
       "      <td>35.0</td>\n",
       "      <td>1</td>\n",
       "      <td>0</td>\n",
       "      <td>53.1000</td>\n",
       "      <td>S</td>\n",
       "      <td>First</td>\n",
       "      <td>woman</td>\n",
       "      <td>False</td>\n",
       "      <td>C</td>\n",
       "      <td>Southampton</td>\n",
       "      <td>yes</td>\n",
       "      <td>False</td>\n",
       "    </tr>\n",
       "    <tr>\n",
       "      <th>4</th>\n",
       "      <td>0</td>\n",
       "      <td>3</td>\n",
       "      <td>male</td>\n",
       "      <td>35.0</td>\n",
       "      <td>0</td>\n",
       "      <td>0</td>\n",
       "      <td>8.0500</td>\n",
       "      <td>S</td>\n",
       "      <td>Third</td>\n",
       "      <td>man</td>\n",
       "      <td>True</td>\n",
       "      <td>NaN</td>\n",
       "      <td>Southampton</td>\n",
       "      <td>no</td>\n",
       "      <td>True</td>\n",
       "    </tr>\n",
       "  </tbody>\n",
       "</table>\n",
       "</div>"
      ],
      "text/plain": [
       "   survived  pclass     sex   age  sibsp  parch     fare embarked  class  \\\n",
       "0         0       3    male  22.0      1      0   7.2500        S  Third   \n",
       "1         1       1  female  38.0      1      0  71.2833        C  First   \n",
       "2         1       3  female  26.0      0      0   7.9250        S  Third   \n",
       "3         1       1  female  35.0      1      0  53.1000        S  First   \n",
       "4         0       3    male  35.0      0      0   8.0500        S  Third   \n",
       "\n",
       "     who  adult_male deck  embark_town alive  alone  \n",
       "0    man        True  NaN  Southampton    no  False  \n",
       "1  woman       False    C    Cherbourg   yes  False  \n",
       "2  woman       False  NaN  Southampton   yes   True  \n",
       "3  woman       False    C  Southampton   yes  False  \n",
       "4    man        True  NaN  Southampton    no   True  "
      ]
     },
     "execution_count": 1,
     "metadata": {},
     "output_type": "execute_result"
    }
   ],
   "source": [
    "import pandas as pd\n",
    "import seaborn as sns\n",
    "%matplotlib inline\n",
    "\n",
    "df = sns.load_dataset(\"titanic\")\n",
    "print(df.shape)\n",
    "df.head()"
   ]
  },
  {
   "cell_type": "markdown",
   "metadata": {
    "colab_type": "text",
    "id": "bgCrs3iUdd3b"
   },
   "source": [
    "## 1. groupby를 사용해서 다음의 결과가 나오도록 구해보세요.\n",
    "* embark_town 별로 평균 fare(운임요금)을 구합니다.\n",
    "```\n",
    "embark_town\n",
    "Cherbourg      59.954144\n",
    "Queenstown     13.276030\n",
    "Southampton    27.079812\n",
    "Name: fare, dtype: float64\n",
    "```"
   ]
  },
  {
   "cell_type": "code",
   "execution_count": 2,
   "metadata": {
    "colab": {},
    "colab_type": "code",
    "id": "8m1OM1Mjdd3c",
    "outputId": "21adead4-29f6-403a-e072-2e82b6630e60"
   },
   "outputs": [
    {
     "data": {
      "text/plain": [
       "embark_town\n",
       "Cherbourg      59.954144\n",
       "Queenstown     13.276030\n",
       "Southampton    27.079812\n",
       "Name: fare, dtype: float64"
      ]
     },
     "execution_count": 2,
     "metadata": {},
     "output_type": "execute_result"
    }
   ],
   "source": [
    "df.groupby('embark_town')['fare'].mean()"
   ]
  },
  {
   "cell_type": "markdown",
   "metadata": {
    "colab_type": "text",
    "id": "SvEZ-LnSdd3g"
   },
   "source": [
    "## 2. groupby를 사용해서 deck 별로 운임요금의 \"count\", \"mean\", \"sum\" 값을 구합니다.\n",
    "* agg 를 사용해서 구할 수 있습니다. 아래의 결과가 나오도록 합니다.\n",
    "\n",
    "<table border=\"1\" class=\"dataframe\">\n",
    "  <thead>\n",
    "    <tr style=\"text-align: right;\">\n",
    "      <th></th>\n",
    "      <th>count</th>\n",
    "      <th>mean</th>\n",
    "      <th>sum</th>\n",
    "    </tr>\n",
    "    <tr>\n",
    "      <th>deck</th>\n",
    "      <th></th>\n",
    "      <th></th>\n",
    "      <th></th>\n",
    "    </tr>\n",
    "  </thead>\n",
    "  <tbody>\n",
    "    <tr>\n",
    "      <th>A</th>\n",
    "      <td>15</td>\n",
    "      <td>39.623887</td>\n",
    "      <td>594.3583</td>\n",
    "    </tr>\n",
    "    <tr>\n",
    "      <th>B</th>\n",
    "      <td>47</td>\n",
    "      <td>113.505764</td>\n",
    "      <td>5334.7709</td>\n",
    "    </tr>\n",
    "    <tr>\n",
    "      <th>C</th>\n",
    "      <td>59</td>\n",
    "      <td>100.151341</td>\n",
    "      <td>5908.9291</td>\n",
    "    </tr>\n",
    "    <tr>\n",
    "      <th>D</th>\n",
    "      <td>33</td>\n",
    "      <td>57.244576</td>\n",
    "      <td>1889.0710</td>\n",
    "    </tr>\n",
    "    <tr>\n",
    "      <th>E</th>\n",
    "      <td>32</td>\n",
    "      <td>46.026694</td>\n",
    "      <td>1472.8542</td>\n",
    "    </tr>\n",
    "    <tr>\n",
    "      <th>F</th>\n",
    "      <td>13</td>\n",
    "      <td>18.696792</td>\n",
    "      <td>243.0583</td>\n",
    "    </tr>\n",
    "    <tr>\n",
    "      <th>G</th>\n",
    "      <td>4</td>\n",
    "      <td>13.581250</td>\n",
    "      <td>54.3250</td>\n",
    "    </tr>\n",
    "  </tbody>\n",
    "</table>"
   ]
  },
  {
   "cell_type": "code",
   "execution_count": 3,
   "metadata": {
    "colab": {},
    "colab_type": "code",
    "id": "GEES9zQAdd3h",
    "outputId": "a6a268ce-7380-4dc0-e531-c1c1c7afcd8c",
    "scrolled": true
   },
   "outputs": [
    {
     "data": {
      "text/html": [
       "<div>\n",
       "<style scoped>\n",
       "    .dataframe tbody tr th:only-of-type {\n",
       "        vertical-align: middle;\n",
       "    }\n",
       "\n",
       "    .dataframe tbody tr th {\n",
       "        vertical-align: top;\n",
       "    }\n",
       "\n",
       "    .dataframe thead th {\n",
       "        text-align: right;\n",
       "    }\n",
       "</style>\n",
       "<table border=\"1\" class=\"dataframe\">\n",
       "  <thead>\n",
       "    <tr style=\"text-align: right;\">\n",
       "      <th></th>\n",
       "      <th>count</th>\n",
       "      <th>mean</th>\n",
       "      <th>sum</th>\n",
       "    </tr>\n",
       "    <tr>\n",
       "      <th>deck</th>\n",
       "      <th></th>\n",
       "      <th></th>\n",
       "      <th></th>\n",
       "    </tr>\n",
       "  </thead>\n",
       "  <tbody>\n",
       "    <tr>\n",
       "      <th>A</th>\n",
       "      <td>15</td>\n",
       "      <td>39.623887</td>\n",
       "      <td>594.3583</td>\n",
       "    </tr>\n",
       "    <tr>\n",
       "      <th>B</th>\n",
       "      <td>47</td>\n",
       "      <td>113.505764</td>\n",
       "      <td>5334.7709</td>\n",
       "    </tr>\n",
       "    <tr>\n",
       "      <th>C</th>\n",
       "      <td>59</td>\n",
       "      <td>100.151341</td>\n",
       "      <td>5908.9291</td>\n",
       "    </tr>\n",
       "    <tr>\n",
       "      <th>D</th>\n",
       "      <td>33</td>\n",
       "      <td>57.244576</td>\n",
       "      <td>1889.0710</td>\n",
       "    </tr>\n",
       "    <tr>\n",
       "      <th>E</th>\n",
       "      <td>32</td>\n",
       "      <td>46.026694</td>\n",
       "      <td>1472.8542</td>\n",
       "    </tr>\n",
       "    <tr>\n",
       "      <th>F</th>\n",
       "      <td>13</td>\n",
       "      <td>18.696792</td>\n",
       "      <td>243.0583</td>\n",
       "    </tr>\n",
       "    <tr>\n",
       "      <th>G</th>\n",
       "      <td>4</td>\n",
       "      <td>13.581250</td>\n",
       "      <td>54.3250</td>\n",
       "    </tr>\n",
       "  </tbody>\n",
       "</table>\n",
       "</div>"
      ],
      "text/plain": [
       "      count        mean        sum\n",
       "deck                              \n",
       "A        15   39.623887   594.3583\n",
       "B        47  113.505764  5334.7709\n",
       "C        59  100.151341  5908.9291\n",
       "D        33   57.244576  1889.0710\n",
       "E        32   46.026694  1472.8542\n",
       "F        13   18.696792   243.0583\n",
       "G         4   13.581250    54.3250"
      ]
     },
     "execution_count": 3,
     "metadata": {},
     "output_type": "execute_result"
    }
   ],
   "source": [
    "df.groupby('deck').agg(['count', 'mean', 'sum'])['fare']"
   ]
  },
  {
   "cell_type": "markdown",
   "metadata": {
    "colab_type": "text",
    "id": "_nCsxkSydd3k"
   },
   "source": [
    "## 3. pivot_table 을 사용해서 alive(생존여부) 별로 age의 평균 값을 구합니다.\n",
    "* 아래의 결과가 나오도록 합니다.\n",
    "<table border=\"1\" class=\"dataframe\">\n",
    "  <thead>\n",
    "    <tr style=\"text-align: right;\">\n",
    "      <th></th>\n",
    "      <th>age</th>\n",
    "    </tr>\n",
    "    <tr>\n",
    "      <th>alive</th>\n",
    "      <th></th>\n",
    "    </tr>\n",
    "  </thead>\n",
    "  <tbody>\n",
    "    <tr>\n",
    "      <th>no</th>\n",
    "      <td>30.626179</td>\n",
    "    </tr>\n",
    "    <tr>\n",
    "      <th>yes</th>\n",
    "      <td>28.343690</td>\n",
    "    </tr>\n",
    "  </tbody>\n",
    "</table>"
   ]
  },
  {
   "cell_type": "code",
   "execution_count": 4,
   "metadata": {
    "colab": {},
    "colab_type": "code",
    "id": "4eMC54d2dd3l",
    "outputId": "67d84041-c4d1-437e-b5f1-8186e768ac93"
   },
   "outputs": [
    {
     "data": {
      "text/html": [
       "<div>\n",
       "<style scoped>\n",
       "    .dataframe tbody tr th:only-of-type {\n",
       "        vertical-align: middle;\n",
       "    }\n",
       "\n",
       "    .dataframe tbody tr th {\n",
       "        vertical-align: top;\n",
       "    }\n",
       "\n",
       "    .dataframe thead th {\n",
       "        text-align: right;\n",
       "    }\n",
       "</style>\n",
       "<table border=\"1\" class=\"dataframe\">\n",
       "  <thead>\n",
       "    <tr style=\"text-align: right;\">\n",
       "      <th></th>\n",
       "      <th>age</th>\n",
       "    </tr>\n",
       "    <tr>\n",
       "      <th>alive</th>\n",
       "      <th></th>\n",
       "    </tr>\n",
       "  </thead>\n",
       "  <tbody>\n",
       "    <tr>\n",
       "      <th>no</th>\n",
       "      <td>30.626179</td>\n",
       "    </tr>\n",
       "    <tr>\n",
       "      <th>yes</th>\n",
       "      <td>28.343690</td>\n",
       "    </tr>\n",
       "  </tbody>\n",
       "</table>\n",
       "</div>"
      ],
      "text/plain": [
       "             age\n",
       "alive           \n",
       "no     30.626179\n",
       "yes    28.343690"
      ]
     },
     "execution_count": 4,
     "metadata": {},
     "output_type": "execute_result"
    }
   ],
   "source": [
    "df.pivot_table(index = 'alive' , values = 'age')   #aggfunc 의 기본값이 mean\n",
    "#groupby 와 pivot_table 의 차이는 무엇이 있을까요? > 기능상의 큰 차이는 없으나 좀더 직관적으로 활용 가능하다. ( 속해 있음 )\n",
    "#crosstab 은 count ??\n",
    "# pivot 과  pivot_table 의 가장 큰 차이점은 pivot 은 합계만 가져오지만 pivot_table 은 연산이 가능하다.\n"
   ]
  },
  {
   "cell_type": "markdown",
   "metadata": {
    "colab_type": "text",
    "id": "TnuG1yt5dd3o"
   },
   "source": [
    "## 4. pivot_table 을 사용해서 \"alive\", \"class\" 별로 평균 fare(운임요금)을 구합니다.\n",
    "* 아래의 결과가 나오도록 합니다.\n",
    "<table border=\"1\" class=\"dataframe\">\n",
    "  <thead>\n",
    "    <tr style=\"text-align: right;\">\n",
    "      <th></th>\n",
    "      <th></th>\n",
    "      <th>fare</th>\n",
    "    </tr>\n",
    "    <tr>\n",
    "      <th>alive</th>\n",
    "      <th>class</th>\n",
    "      <th></th>\n",
    "    </tr>\n",
    "  </thead>\n",
    "  <tbody>\n",
    "    <tr>\n",
    "      <th rowspan=\"3\" valign=\"top\">no</th>\n",
    "      <th>First</th>\n",
    "      <td>64.684008</td>\n",
    "    </tr>\n",
    "    <tr>\n",
    "      <th>Second</th>\n",
    "      <td>19.412328</td>\n",
    "    </tr>\n",
    "    <tr>\n",
    "      <th>Third</th>\n",
    "      <td>13.669364</td>\n",
    "    </tr>\n",
    "    <tr>\n",
    "      <th rowspan=\"3\" valign=\"top\">yes</th>\n",
    "      <th>First</th>\n",
    "      <td>95.608029</td>\n",
    "    </tr>\n",
    "    <tr>\n",
    "      <th>Second</th>\n",
    "      <td>22.055700</td>\n",
    "    </tr>\n",
    "    <tr>\n",
    "      <th>Third</th>\n",
    "      <td>13.694887</td>\n",
    "    </tr>\n",
    "  </tbody>\n",
    "</table>"
   ]
  },
  {
   "cell_type": "code",
   "execution_count": 5,
   "metadata": {
    "colab": {},
    "colab_type": "code",
    "id": "LNIRXLE7dd3p",
    "outputId": "e181f12e-f66b-42a0-c013-74c0e9666994"
   },
   "outputs": [
    {
     "data": {
      "text/html": [
       "<div>\n",
       "<style scoped>\n",
       "    .dataframe tbody tr th:only-of-type {\n",
       "        vertical-align: middle;\n",
       "    }\n",
       "\n",
       "    .dataframe tbody tr th {\n",
       "        vertical-align: top;\n",
       "    }\n",
       "\n",
       "    .dataframe thead th {\n",
       "        text-align: right;\n",
       "    }\n",
       "</style>\n",
       "<table border=\"1\" class=\"dataframe\">\n",
       "  <thead>\n",
       "    <tr style=\"text-align: right;\">\n",
       "      <th></th>\n",
       "      <th></th>\n",
       "      <th>fare</th>\n",
       "    </tr>\n",
       "    <tr>\n",
       "      <th>alive</th>\n",
       "      <th>class</th>\n",
       "      <th></th>\n",
       "    </tr>\n",
       "  </thead>\n",
       "  <tbody>\n",
       "    <tr>\n",
       "      <th rowspan=\"3\" valign=\"top\">no</th>\n",
       "      <th>First</th>\n",
       "      <td>64.684008</td>\n",
       "    </tr>\n",
       "    <tr>\n",
       "      <th>Second</th>\n",
       "      <td>19.412328</td>\n",
       "    </tr>\n",
       "    <tr>\n",
       "      <th>Third</th>\n",
       "      <td>13.669364</td>\n",
       "    </tr>\n",
       "    <tr>\n",
       "      <th rowspan=\"3\" valign=\"top\">yes</th>\n",
       "      <th>First</th>\n",
       "      <td>95.608029</td>\n",
       "    </tr>\n",
       "    <tr>\n",
       "      <th>Second</th>\n",
       "      <td>22.055700</td>\n",
       "    </tr>\n",
       "    <tr>\n",
       "      <th>Third</th>\n",
       "      <td>13.694887</td>\n",
       "    </tr>\n",
       "  </tbody>\n",
       "</table>\n",
       "</div>"
      ],
      "text/plain": [
       "                   fare\n",
       "alive class            \n",
       "no    First   64.684008\n",
       "      Second  19.412328\n",
       "      Third   13.669364\n",
       "yes   First   95.608029\n",
       "      Second  22.055700\n",
       "      Third   13.694887"
      ]
     },
     "execution_count": 5,
     "metadata": {},
     "output_type": "execute_result"
    }
   ],
   "source": [
    "df.pivot_table(index = ['alive', 'class'], values = 'fare')"
   ]
  },
  {
   "cell_type": "markdown",
   "metadata": {
    "colab_type": "text",
    "id": "X6kcK66qdd3s"
   },
   "source": [
    "## 5. class 별로 countplot 을 그리고 alive(생존여부)에 따라 색상을 다르게 표현해 주세요.\n",
    "\n",
    "<img src=\"data:image/png;base64,iVBORw0KGgoAAAANSUhEUgAAAYUAAAEGCAYAAACKB4k+AAAABHNCSVQICAgIfAhkiAAAAAlwSFlz\n",
    "AAALEgAACxIB0t1+/AAAADh0RVh0U29mdHdhcmUAbWF0cGxvdGxpYiB2ZXJzaW9uMy4xLjEsIGh0\n",
    "dHA6Ly9tYXRwbG90bGliLm9yZy8QZhcZAAAYvElEQVR4nO3df5BU5Z3v8fcnQEQjkYgTFxl0UMlu\n",
    "RGSU0WhMsixmr4Rkwc1FRmpFE81iou6Sql2vxuVGTcVbJpq11BhTpDSgIfxQ44XrNWzQ+Csm0cyw\n",
    "/NZcUcw6ZFTAiD8SVMbv/aMfDh0YoIE5fWamP6+qrjn9nOd0f9uW+czznF+KCMzMzADeV3QBZmbW\n",
    "fTgUzMws41AwM7OMQ8HMzDIOBTMzy/QtuoD9cdhhh0VDQ0PRZZiZ9Sitra0bI6Kus3U9OhQaGhpo\n",
    "aWkpugwzsx5F0u92tc7TR2ZmlnEomJlZxqFgZmaZHr1PoTPvvvsubW1tbNmypehS9kv//v2pr6+n\n",
    "X79+RZdiZjWk14VCW1sbAwYMoKGhAUlFl7NPIoJNmzbR1tbGsGHDii7HzGpIr5s+2rJlC4MGDeqx\n",
    "gQAgiUGDBvX40Y6Z9Ty9LhSAHh0I2/SGz2BmPU+vDAUzM9s3DoV9tGjRIq677rouea2DDz64S17H\n",
    "zGx/9bodzV1p69at9O3b+X+iCRMmMGHChCpXZNYzjb7szqJL2Cut159XdAmFqYmRwltvvcVnP/tZ\n",
    "Ro0axfHHH8/8+fNpaGhg48aNALS0tDBmzBgArr76aqZOncrpp5/O1KlTOfXUU1m9enX2WmPGjKGl\n",
    "pYVZs2Zx6aWXsnnzZo466ijee++97L2GDh3Ku+++y3PPPce4ceMYPXo0n/zkJ3nmmWcAWLduHaed\n",
    "dhojR45kxowZ1f2PYWa2GzURCosXL+aII45g+fLlrFq1inHjxu22/5o1a3jwwQeZO3cuzc3NLFiw\n",
    "AID29nba29tpamrK+h5yyCE0Njby6KOPAnD//fdz5pln0q9fP6ZNm8Ytt9xCa2srN9xwAxdffDEA\n",
    "06dP5ytf+QorV65k8ODBOX1qM7O9VxOhMHLkSJYsWcLll1/O448/ziGHHLLb/hMmTODAAw8EYPLk\n",
    "ydxzzz0ALFiwgEmTJu3Uv7m5mfnz5wMwb948mpubefPNN/nlL3/J2WefTWNjIxdddBHt7e0APPHE\n",
    "E0yZMgWAqVOndtnnNDPbXzWxT+EjH/kIS5cu5YEHHmDGjBmcccYZ9O3bN5vy2fF8gA984APZ8pAh\n",
    "Qxg0aBArVqxg/vz5fP/739/p9SdMmMCVV17Jq6++SmtrK2PHjuWtt95i4MCBLFu2rNOafMipmXVH\n",
    "NTFS+P3vf89BBx3Eueeey2WXXcbSpUtpaGigtbUVgHvvvXe32zc3N/Ptb3+bzZs3c8IJJ+y0/uCD\n",
    "D+bkk09m+vTpfO5zn6NPnz588IMfZNiwYdx9991A6Szl5cuXA3D66aczb948AObMmdOVH9XMbL/U\n",
    "RCisXLmSU045hcbGRq655hpmzJjBVVddxfTp02lqaqJPnz673X7SpEnMmzePyZMn77JPc3MzP/rR\n",
    "j2hubs7a5syZw+23386oUaMYMWIECxcuBOCmm27i1ltvZeTIkaxfv75rPqSZWRdQRBRdwz5ramqK\n",
    "HW+y8/TTT/PRj360oIq6Vm/6LFbbfEhq9yKpNSKaOltXEyMFMzOrTG6hIKm/pKckLZe0WtI1qX2W\n",
    "pHWSlqVHY2qXpJslrZW0QtJJedVmZmady/Poo7eBsRHxpqR+wC8k/TStuywi7tmh/2eA4enxMeC2\n",
    "9NPMzKokt5FClLyZnvZLj93twJgI3Jm2+zUwUJLP7DIzq6Jc9ylI6iNpGfAKsCQinkyrrk1TRDdK\n",
    "OiC1DQFeLNu8LbXt+JrTJLVIatmwYUOe5ZuZ1ZxcQyEiOiKiEagHTpF0PPA14K+Ak4FDgcv38jVn\n",
    "RkRTRDTV1dV1ec1mZrWsKmc0R8Rrkh4GxkXEDan5bUk/BP41PV8PDC3brD61damuPjSu0kPXFi9e\n",
    "zPTp0+no6OBLX/oSV1xxRZfWYWbWFfI8+qhO0sC0fCDwt8Az2/YTqHSdh7OAVWmTRcB56SikU4HN\n",
    "EdGeV33V1NHRwSWXXMJPf/pT1qxZw9y5c1mzZk3RZZmZ7STPkcJgYLakPpTCZ0FE3C/p55LqAAHL\n",
    "gC+n/g8A44G1wB+BL+ZYW1U99dRTHHvssRx99NEAnHPOOSxcuJDjjjuu4MrMzP5cbqEQESuAEztp\n",
    "H7uL/gFcklc9RVq/fj1Dh26fGauvr+fJJ5/czRZmZsXwGc1mZpZxKFTBkCFDePHF7UfbtrW1MWTI\n",
    "TkfbmpkVzqFQBSeffDLPPvss69at45133mHevHm+v7OZdUs1cZOdckVc/bBv375897vf5cwzz6Sj\n",
    "o4MLLriAESNGVL0OM7M9qblQKMr48eMZP3580WWYme2Wp4/MzCzjUDAzs4xDwczMMg4FMzPLOBTM\n",
    "zCzjUDAzs0zNHZL6X98Y2aWvd+TXV1bU74ILLuD+++/nwx/+MKtWrdrzBmZmBfBIoUq+8IUvsHjx\n",
    "4qLLMDPbLYdClXzqU5/i0EMPLboMM7PdciiYmVnGoWBmZhmHgpmZZRwKZmaWqblDUis9hLSrTZky\n",
    "hUceeYSNGzdSX1/PNddcw4UXXlhILWZmu5JbKEjqDzwGHJDe556IuErSMGAeMAhoBaZGxDuSDgDu\n",
    "BEYDm4DmiHghr/qqbe7cuUWXYGa2R3lOH70NjI2IUUAjME7SqcC3gBsj4ljgD8C2P5cvBP6Q2m9M\n",
    "/czMrIpyC4UoeTM97ZceAYwF7knts4Gz0vLE9Jy0/gxJyqs+MzPbWa47miX1kbQMeAVYAjwHvBYR\n",
    "W1OXNmDbHeyHAC8CpPWbKU0x7fia0yS1SGrZsGFDp+8bEV36OYrQGz6DmfU8uYZCRHRERCNQD5wC\n",
    "/FUXvObMiGiKiKa6urqd1vfv359Nmzb16F+qEcGmTZvo379/0aWYWY2pytFHEfGapIeB04CBkvqm\n",
    "0UA9sD51Ww8MBdok9QUOobTDea/U19fT1tbGrkYRPUX//v2pr68vugwzqzF5Hn1UB7ybAuFA4G8p\n",
    "7Tx+GJhE6Qik84GFaZNF6fmv0vqfxz78ud+vXz+GDRvWBZ/AzKz25DlSGAzMltSH0jTVgoi4X9Ia\n",
    "YJ6kbwL/Cdye+t8O3CVpLfAqcE6OtZmZWSdyC4WIWAGc2En785T2L+zYvgU4O696zMxsz3yZCzMz\n",
    "yzgUzMws41AwM7OMQ8HMzDIOBTMzyzgUzMws41AwM7OMQ8HMzDIOBTMzyzgUzMws41AwM7OMQ8HM\n",
    "zDIOBTMzyzgUzMws41AwM7OMQ8HMzDIOBTMzyzgUzMwsk1soSBoq6WFJayStljQ9tV8tab2kZekx\n",
    "vmybr0laK+m3ks7MqzYzM+tcbvdoBrYC/xIRSyUNAFolLUnrboyIG8o7SzoOOAcYARwBPCjpIxHR\n",
    "kWONZmZWJreRQkS0R8TStPwG8DQwZDebTATmRcTbEbEOWAuckld9Zma2s6rsU5DUAJwIPJmaLpW0\n",
    "QtIdkj6U2oYAL5Zt1sbuQ8TMzLpY7qEg6WDgXuCrEfE6cBtwDNAItAPf2cvXmyapRVLLhg0burxe\n",
    "M7NalmsoSOpHKRDmRMRPACLi5YjoiIj3gB+wfYpoPTC0bPP61PZnImJmRDRFRFNdXV2e5ZuZ1Zw8\n",
    "jz4ScDvwdET8e1n74LJufw+sSsuLgHMkHSBpGDAceCqv+szMbGd5Hn10OjAVWClpWWq7EpgiqREI\n",
    "4AXgIoCIWC1pAbCG0pFLl/jIIzOz6sotFCLiF4A6WfXAbra5Frg2r5rMzGz3fEazmZllHApmZpZx\n",
    "KJiZWcahYGZmGYeCmZllHApmZpZxKJiZWcahYGZmGYeCmZllHApmZpZxKJiZWcahYGZmGYeCmZll\n",
    "HApmZpapKBQkPVRJm5mZ9Wy7vZ+CpP7AQcBhkj7E9vsjfBAYknNtZmZWZXu6yc5FwFeBI4BWtofC\n",
    "68B3c6zLzMwKsNtQiIibgJsk/VNE3FKlmszMrCAV3Y4zIm6R9HGgoXybiLgzp7rMzKwAle5ovgu4\n",
    "AfgEcHJ6NO1hm6GSHpa0RtJqSdNT+6GSlkh6Nv38UGqXpJslrZW0QtJJ+/XJzMxsr1U0UqAUAMdF\n",
    "ROzFa28F/iUilkoaALRKWgJ8AXgoIq6TdAVwBXA58BlgeHp8DLgt/TQzsyqp9DyFVcBf7M0LR0R7\n",
    "RCxNy28AT1M6YmkiMDt1mw2clZYnAndGya+BgZIG7817mpnZ/ql0pHAYsEbSU8Db2xojYkIlG0tq\n",
    "AE4EngQOj4j2tOol4PC0PAR4sWyzttTWXtaGpGnANIAjjzyywvLNzKwSlYbC1fv6BpIOBu4FvhoR\n",
    "r0vK1kVESNqbKSkiYiYwE6CpqWmvtjUzs92r9OijR/flxSX1oxQIcyLiJ6n5ZUmDI6I9TQ+9ktrX\n",
    "A0PLNq9PbWZmViWVHn30hqTX02OLpA5Jr+9hGwG3A09HxL+XrVoEnJ+WzwcWlrWfl45COhXYXDbN\n",
    "ZGZmVVDpSGHAtuX0y34icOoeNjsdmAqslLQstV0JXAcskHQh8Dtgclr3ADAeWAv8EfhihZ/BzMy6\n",
    "SKX7FDLpsNT/LekqSoeT7qrfL9h+WYwdnbGL171kb+sxM7OuU1EoSPp82dP3UTpvYUsuFZmZWWEq\n",
    "HSn8XdnyVuAFSlNIZmbWi1S6T8Hz+2ZmNaDSo4/qJd0n6ZX0uFdSfd7FmZlZdVV6mYsfUjpk9Ij0\n",
    "+D+pzczMepFKQ6EuIn4YEVvTYxZQl2NdZmZWgEpDYZOkcyX1SY9zgU15FmZmZtVXaShcQOkks5co\n",
    "XaBuEqVLYJuZWS9S6SGp3wDOj4g/QOlGOZRuunNBXoWZmVn1VTpSOGFbIABExKuULoVtZma9SKWh\n",
    "8L5tt82EbKSw15fIMDOz7q3SX+zfAX4l6e70/Gzg2nxKMjOzolR6RvOdklqAsanp8xGxJr+yzMys\n",
    "CBVPAaUQcBCYmfVile5TMDOzGuBQMDOzjEPBzMwyDgUzM8s4FMzMLJNbKEi6I917YVVZ29WS1kta\n",
    "lh7jy9Z9TdJaSb+VdGZedZmZ2a7lOVKYBYzrpP3GiGhMjwcAJB0HnAOMSNt8T1KfHGszM7NO5BYK\n",
    "EfEY8GqF3ScC8yLi7YhYB6wFTsmrNjMz61wR+xQulbQiTS9tu57SEODFsj5tqW0nkqZJapHUsmHD\n",
    "hrxrNTOrKdUOhduAY4BGSvdl+M7evkBEzIyIpohoqqvzzd/MzLpSVUMhIl6OiI6IeA/4AduniNYD\n",
    "Q8u61qc2MzOroqqGgqTBZU//Hth2ZNIi4BxJB0gaBgwHnqpmbWZmluM9ESTNBcYAh0lqA64Cxkhq\n",
    "BAJ4AbgIICJWS1pA6YJ7W4FLIqIjr9rMzKxzuYVCREzppPn23fS/Ft+jwcysUD6j2czMMg4FMzPL\n",
    "+D7L3dh/fWNk0SXstSO/vrLoEsxsP3ikYGZmGYeCmZllHApmZpZxKJiZWcahYGZmGYeCmZllHApm\n",
    "ZpZxKJiZWcahYGZmGZ/RbGa2g1q+moBHCmZmlnEomJlZxqFgZmYZh4KZmWUcCmZmlnEomJlZJrdQ\n",
    "kHSHpFckrSprO1TSEknPpp8fSu2SdLOktZJWSDopr7rMzGzX8hwpzALG7dB2BfBQRAwHHkrPAT4D\n",
    "DE+PacBtOdZlZma7kFsoRMRjwKs7NE8EZqfl2cBZZe13RsmvgYGSBudVm5mZda7a+xQOj4j2tPwS\n",
    "cHhaHgK8WNavLbXtRNI0SS2SWjZs2JBfpWZmNaiwHc0REUDsw3YzI6IpIprq6upyqMzMrHZV+9pH\n",
    "L0saHBHtaXroldS+Hhha1q8+tZkBMPqyO4suYa+1Xn9e0SWY7bVqjxQWAeen5fOBhWXt56WjkE4F\n",
    "NpdNM5mZWZXkNlKQNBcYAxwmqQ24CrgOWCDpQuB3wOTU/QFgPLAW+CPwxbzqMjOzXcstFCJiyi5W\n",
    "ndFJ3wAuyasWMzOrjM9oNjOzjG+yY5aTnnajlq66SYv1bB4pmJlZxqFgZmYZh4KZmWVqZp9CTzz5\n",
    "6b4BRVdgZrXGIwUzM8s4FMzMLONQMDOzjEPBzMwyDgUzM8s4FMzMLONQMDOzjEPBzMwyDgUzM8s4\n",
    "FMzMLONQMDOzjEPBzMwyDgUzM8sUcpVUSS8AbwAdwNaIaJJ0KDAfaABeACZHxB+KqM/MrFYVOVL4\n",
    "m4hojIim9PwK4KGIGA48lJ6bmVkVdafpo4nA7LQ8GzirwFrMzGpSUaEQwM8ktUqaltoOj4j2tPwS\n",
    "cHhnG0qaJqlFUsuGDRuqUauZWc0o6s5rn4iI9ZI+DCyR9Ez5yogISdHZhhExE5gJ0NTU1GkfMzPb\n",
    "N4WMFCJiffr5CnAfcArwsqTBAOnnK0XUZmZWy6oeCpI+IGnAtmXgvwGrgEXA+anb+cDCatdmZlbr\n",
    "ipg+Ohy4T9K29/9xRCyW9BtggaQLgd8BkwuozcysplU9FCLieWBUJ+2bgDOqXY+ZmW3XnQ5JNTOz\n",
    "gjkUzMws41AwM7OMQ8HMzDIOBTMzyzgUzMws41AwM7OMQ8HMzDIOBTMzyzgUzMws41AwM7OMQ8HM\n",
    "zDIOBTMzyzgUzMws41AwM7OMQ8HMzDIOBTMzyzgUzMws41AwM7NMtwsFSeMk/VbSWklXFF2PmVkt\n",
    "6VahIKkPcCvwGeA4YIqk44qtysysdnSrUABOAdZGxPMR8Q4wD5hYcE1mZjVDEVF0DRlJk4BxEfGl\n",
    "9Hwq8LGIuLSszzRgWnr6l8Bvq15o9RwGbCy6CNtn/v56rt7+3R0VEXWdrehb7Ur2V0TMBGYWXUc1\n",
    "SGqJiKai67B94++v56rl7667TR+tB4aWPa9PbWZmVgXdLRR+AwyXNEzS+4FzgEUF12RmVjO61fRR\n",
    "RGyVdCnwH0Af4I6IWF1wWUWqiWmyXszfX89Vs99dt9rRbGZmxepu00dmZlYgh4KZmWUcCgWQ1CFp\n",
    "WdmjQVKTpJv34jUGSro4zzprmaR/k7Ra0or0HX2syu8/RtL91XzP3krSoLJ/ay9JWp+WX5O0Zhfb\n",
    "fEPSpyt47QZJq7q+6uJ0qx3NNeRPEdG4Q9sLQMuOHSX1jYitnbzGQOBi4HtdX15tk3Qa8DngpIh4\n",
    "W9JhwPsLLsv2UURsAhoBJF0NvBkRN0hqADoN3oj4emftkvpEREc+lXYPHil0E+V/GUq6WtJdkp4A\n",
    "7pI0QtJT6a+bFZKGA9cBx6S26wstvvcZDGyMiLcBImJjRPxe0mhJj0pqlfQfkgYDSDpW0oOSlkta\n",
    "KukYlVwvaZWklZKaU98xkh6RdI+kZyTNkaS0blxqWwp8vqgPX2P6SPpBGhX+TNKBAJJmpSssIOkF\n",
    "Sd9K38vZ6f+D5ZKWA5cUWXweHArFOLBsOHvfLvocB3w6IqYAXwZuSqOLJqANuAJ4LiIaI+Ky6pRd\n",
    "M34GDJX0/yR9T9JfS+oH3AJMiojRwB3Atan/HODWiBgFfBxop/RLvREYBXwauH5biAAnAl+l9B0f\n",
    "DZwuqT/wA+DvgNHAX1ThcxoMp/TdjQBeA/77LvptioiTImIe8EPgn9L33et4+qgYnU0f7WhRRPwp\n",
    "Lf8K+DdJ9cBPIuLZ9Mel5SAi3pQ0Gvgk8DfAfOCbwPHAkvTfvg/QLmkAMCQi7kvbbgGQ9Algbppq\n",
    "eFnSo8DJwOvAUxHRlvotAxqAN4F1EfFsav8R26/xZflZFxHL0nIrpe+iM/OhtC8PGBgRj6X2uyhd\n",
    "1bnXcCh0X29tW4iIH0t6Evgs8ICki4DnC6usBqRf5o8Aj0haSWmaYHVEnFbeL4XC3nq7bLkD/zss\n",
    "0o7fxYG76PfWLtp7HU8f9QCSjgaej4ibgYXACcAbwL78QrI9kPSXab/NNo3A00Bd2gmNpH6SRkTE\n",
    "G0CbpLNS+wGSDgIeB5ol9ZFUB3wKeGo3b/sM0CDpmPR8Shd/LOsCEfEa8FoaCQL8Q5H15MGh0DNM\n",
    "BlalqYbjgTvTERVPpB2Z3tHctQ4GZktaI2kFpbn/rwOTgG+lHYzLKO0/AJgK/HPq+0tK+wPuA1YA\n",
    "y4GfA/8jIl7a1RumaadpwP9NOzRfyeWTWVf4InBr+vfY6+ZxfZkLMzPLeKRgZmYZh4KZmWUcCmZm\n",
    "lnEomJlZxqFgZmYZh4LZfkjXqfrXousw6yoOBTMzyzgUzPaCpPPSlWqXS7prh3X/KOk3ad296cxm\n",
    "JJ2dTjJcLumx1NbZlW/NCueT18wqJGkEpTOVPx4RGyUdCvwz26/PPyidaY6kbwIvR8Qt6dpJ4yJi\n",
    "vaSBEfGapFuAX0fEHEnvB/qUXQDRrDAeKZhVbixwd0RsBIiIV3dYf7ykx1MI/AMwIrU/AcyS9I+U\n",
    "rq4KpSvfXinpcuAoB4J1Fw4Fs64zC7g0IkYC1wD9ASLiy8AMYCjQmkYUPwYmAH+idOXbscWUbPbn\n",
    "HApmlfs5pTtvDQJI00flBlC6x0I/yq6eKemYiHgy3eJxA6Ub+HR25Vuzwvk67mYViojVkq4FHpXU\n",
    "AfwnpXtrb/M/gScp/eJ/ku2XNr8+7UgW8BClK6deDkyV9C7wEvC/qvIhzPbAO5rNzCzj6SMzM8s4\n",
    "FMzMLONQMDOzjEPBzMwyDgUzM8s4FMzMLONQMDOzzP8H3RkP1Z2Tx80AAAAASUVORK5CYII=\n",
    "\">"
   ]
  },
  {
   "cell_type": "code",
   "execution_count": 6,
   "metadata": {
    "colab": {},
    "colab_type": "code",
    "id": "8Nu9Edb0dd3u",
    "outputId": "bb874741-bb8c-4532-a51c-053709cd9509"
   },
   "outputs": [
    {
     "data": {
      "text/plain": [
       "<AxesSubplot:xlabel='class', ylabel='count'>"
      ]
     },
     "execution_count": 6,
     "metadata": {},
     "output_type": "execute_result"
    },
    {
     "data": {
      "image/png": "[encoded data removed]",
      "text/plain": [
       "<Figure size 432x288 with 1 Axes>"
      ]
     },
     "metadata": {
      "needs_background": "light"
     },
     "output_type": "display_data"
    }
   ],
   "source": [
    "sns.countplot(data = df, x = 'class', hue = 'survived') # countplot 은 x나 y 값 중 한가지만 작성할 수 있음"
   ]
  },
  {
   "cell_type": "markdown",
   "metadata": {
    "colab_type": "text",
    "id": "4HfeKfmudd3w"
   },
   "source": [
    "## 6. barplot을 그립니다. x축에는 class를 y축에는 fare를 그리고 alive 에 따라 다르게 색상을 표현해 주세요.\n",
    "<img src=\"data:image/png;base64,iVBORw0KGgoAAAANSUhEUgAAAYUAAAEGCAYAAACKB4k+AAAABHNCSVQICAgIfAhkiAAAAAlwSFlz\n",
    "AAALEgAACxIB0t1+/AAAADh0RVh0U29mdHdhcmUAbWF0cGxvdGxpYiB2ZXJzaW9uMy4xLjEsIGh0\n",
    "dHA6Ly9tYXRwbG90bGliLm9yZy8QZhcZAAAWkElEQVR4nO3de5RdZZnn8e9DLhQxDCEhAhK7K0CW\n",
    "QwIIJCpgo2CYEBpGYIYmuBBQ5OI0tmEaCNhKFFc3LeCaHmHZjOEaUBtilMHVIgJRLqMCSSCEqxZy\n",
    "s9IpSAJBEiChkmf+qM22CAkpUuecXVXn+1mr1tln7/fs/RwOqV+97977PZGZSJIEsFXVBUiS+g5D\n",
    "QZJUMhQkSSVDQZJUMhQkSaXBVRfQGzvssEO2trZWXYYk9SsLFy5cnpmjN7atX4dCa2srCxYsqLoM\n",
    "SepXIuK5TW1z+EiSVDIUJEklQ0GSVOrX5xQkqZbefPNN2tvbeeONN6oupSZaWloYM2YMQ4YM6fFr\n",
    "DAVJKrS3t7PtttvS2tpKRFRdTq9kJitWrKC9vZ2xY8f2+HUOH0lS4Y033mDUqFH9PhAAIoJRo0a9\n",
    "516PoSBJ3QyEQHjLlrwXQ0GSVDIUmsyMGTM46aSTmDFjRtWlSE2htbWV5cuXA3DggQdWXM3meaK5\n",
    "yXR0dLBkyZKqy5Ca0m9+85uqS9gsewqSVCNHH300EydOZMKECcyaNesd24cPHw7A8ccfz89+9rNy\n",
    "/ec+9znmzp3LunXrOPfcc/nIRz7C3nvvzfe+972G1f4WQ0GSauSaa65h4cKFLFiwgMsuu4wVK1Zs\n",
    "tN20adOYM2cOAGvXrmXevHkcccQRXH311Wy33XbMnz+f+fPnc+WVV/LMM8808i04fCRJtXLZZZdx\n",
    "8803A/DHP/6Rtra2jbY7/PDDmT59OmvWrOG2227jE5/4BNtssw233347ixcvZu7cuQC88sortLW1\n",
    "vaf7DHrLUJCkGrjrrru48847+e1vf8uwYcM4+OCDN3mPQEtLCwcffDC/+MUvuOmmmzj++OOBrhvO\n",
    "Lr/8cg477LBGlv42Dh9JUg288sorbL/99gwbNownn3yS++67713bT5s2jWuvvZZ7772XqVOnAnDY\n",
    "YYdxxRVX8OabbwLw+9//ntWrV9e99u4MBUmqgalTp9LZ2ckee+zB+eefz/777/+u7adMmcLdd9/N\n",
    "oYceytChQwE49dRTGT9+PPvttx977rknZ5xxBp2dnY0ov+TwkSTVwNZbb83Pf/7zd6x/9tlny+VV\n",
    "q1aVy0OGDOGll156W9utttqKiy66iIsuuqhudW6OPQVJUslQkCSVDAVJUslQkCSVDAVJUslQkCSV\n",
    "vCRVkjZh4rnX13R/Cy89qab7qwd7CpKkUt1CISKuiYgXI+LRbutGRsQdEdFWPG5frI+IuCwinoqI\n",
    "xRGxX73qkqS+6tlnn2WPPfbgtNNOY8KECUyZMoXXX3+dRYsWsf/++7P33ntzzDHH8PLLL9ethnr2\n",
    "FK4Dpm6w7nxgXmaOA+YVzwEOB8YVP6cDV9SxLknqs9ra2jjzzDN57LHHGDFiBD/+8Y856aSTuPji\n",
    "i1m8eDF77bUXF154Yd2OX7dQyMx7gJc2WH0UMLtYng0c3W399dnlPmBEROxcr9okqa8aO3Ys++yz\n",
    "DwATJ07kD3/4AytXruSTn/wkACeffDL33HNP3Y7f6HMKO2bm0mK5A9ixWN4F+GO3du3FuneIiNMj\n",
    "YkFELFi2bFn9KpWkCmy99dbl8qBBg1i5cmVDj1/ZiebMTCC34HWzMnNSZk4aPXp0HSqTpL5ju+22\n",
    "Y/vtt+fee+8F4IYbbih7DfXQ6EtSX4iInTNzaTE89GKxfgnwwW7txhTrJKkyfeUS0tmzZ/PFL36R\n",
    "1157jV133ZVrr722bsdqdCj8FDgZ+FbxeEu39V+KiBuBjwGvdBtmkqSm0NrayqOPlhdscs4555TL\n",
    "m/vSnlqpWyhExL8BBwM7REQ78HW6wmBORHwBeA44rmh+K/DXwFPAa8Dn61WXJGnT6hYKmfmZTWya\n",
    "vJG2CZxZr1okST3jHc2SpJKhIEkqOSFeH/b8N/eq+T47XxoJDKbzpefqsv+/mPlIzfcpqXHsKUiS\n",
    "SvYUJGkTat2b7g89aXsKkqSSPQVJ6iNmzpzJyJEjOeusswD46le/yvvf/37Wrl3LnDlzWLNmDccc\n",
    "cwwXXnghq1ev5rjjjqO9vZ1169ZxwQUXMG3atF7XYE9BkvqIU045heuv7/q2t/Xr13PjjTey0047\n",
    "0dbWxgMPPMCiRYtYuHAh99xzD7fddhsf+MAHePjhh3n00UeZOnXDbyrYMvYUJKmPaG1tZdSoUTz0\n",
    "0EO88MIL7LvvvsyfP5/bb7+dfffdF4BVq1bR1tbGQQcdxNlnn815553HkUceyUEHHVSTGgwFSepD\n",
    "Tj31VK677jo6Ojo45ZRTmDdvHl/5ylc444wz3tH2wQcf5NZbb+VrX/sakydPZubMmb0+vqEgSX3I\n",
    "Mcccw8yZM3nzzTf54Q9/yODBg7ngggs44YQTGD58OEuWLGHIkCF0dnYycuRIPvvZzzJixAiuuuqq\n",
    "mhzfUJCkTajiEtKhQ4dyyCGHMGLECAYNGsSUKVN44oknOOCAAwAYPnw43//+93nqqac499xz2Wqr\n",
    "rRgyZAhXXFGbbzE2FCSpD1m/fj333XcfP/rRj8p106dPZ/r06W9rt9tuu3HYYYfV/PhefSRJfcTj\n",
    "jz/O7rvvzuTJkxk3blwlNdhTkKQ+Yvz48Tz99NOV1mBPQZK66fp6l4FhS96LoSBJhZaWFlasWDEg\n",
    "giEzWbFiBS0tLe/pdQ4fSVJhzJgxtLe3s2zZsqpLqYmWlhbGjBnznl5jKEhSYciQIYwdO7bqMirl\n",
    "8JEkqWQoSJJKhoIkqWQoSJJKhoIkqWQoSJJKhoIkqWQoSJJKhoIkqeQdzU1mh5b1QGfxKElvV0ko\n",
    "RMT/BE4FEngE+DywM3AjMApYCJyYmWurqG8gO2fvlVWXIKkPa/jwUUTsAnwZmJSZewKDgOOBi4F/\n",
    "yczdgZeBLzS6NklqdlWdUxgMbBMRg4FhwFLgU8DcYvts4OiKapOkptXwUMjMJcC3gefpCoNX6Bou\n",
    "WpmZnUWzdmCXjb0+Ik6PiAURsWCgTG8rSX1FFcNH2wNHAWOBDwDvA6b29PWZOSszJ2XmpNGjR9ep\n",
    "SklqTlWcaD4UeCYzlwFExE+AjwMjImJw0VsYAyypoLb3bMaMGXR0dLDTTjtxySWXVF2OJPVKFecU\n",
    "ngf2j4hhERHAZOBx4FfAsUWbk4FbKqjtPevo6GDJkiV0dHRUXYok9VoV5xTup+uE8oN0XY66FTAL\n",
    "OA/4+4h4iq7LUq9udG2S1OwquU8hM78OfH2D1U8DH62gHElSwWkuJEklQ0GSVDIUJEklQ0GSVDIU\n",
    "JEklQ0GSVDIUJEklQ0GSVDIUJEklQ0GSVDIUJEklQ0GSVDIUJEklQ0GSVDIUJEklQ0GSVDIUJEkl\n",
    "Q0GSVDIUJEklQ0GSVDIUJEklQ0GSVBpcdQGNMvHc6+uy322Xv8og4Pnlr9b8GDdvW9PdSdJm2VOQ\n",
    "JJUMBUlSyVCQJJUMBUlSyVCQJJV6FAoR8VcR8flieXREjO3NQSNiRETMjYgnI+KJiDggIkZGxB0R\n",
    "0VY8bt+bY0iS3rvNhkJEfB04D/hKsWoI8P1eHvc7wG2Z+Z+BDwNPAOcD8zJzHDCveC5JaqCe9BSO\n",
    "AT4NrAbIzP8AtvgK+ojYDvgEcHWxv7WZuRI4CphdNJsNHL2lx5AkbZmehMLazEwgASLifb085lhg\n",
    "GXBtRDwUEVcV+9wxM5cWbTqAHTf24og4PSIWRMSCZcuW9bIUSVJ3PQmFORHxPWBERJwG3Alc2Ytj\n",
    "Dgb2A67IzH3p6oG8baioewhtKDNnZeakzJw0evToXpQhSdrQZqe5yMxvR8R/Af4EfAiYmZl39OKY\n",
    "7UB7Zt5fPJ9LVyi8EBE7Z+bSiNgZeLEXx5AkbYF3DYWIGATcmZmHAL0JglJmdkTEHyPiQ5n5O2Ay\n",
    "8HjxczLwreLxllocT5LUc+8aCpm5LiLWR8R2mflKDY/7d8APImIo8DTwebqGsuZExBeA54Djang8\n",
    "SVIP9GSW1FXAIxFxB8UVSACZ+eUtPWhmLgImbWTT5C3dpySp93oSCj8pfiRJA1xPTjTP3lwbSdLA\n",
    "sNlQiIhxwD8D44GWt9Zn5q51rEuSVIGe3KdwLXAF0AkcAlxP76e5kCT1QT0JhW0ycx4QmflcZn4D\n",
    "OKK+ZUmSqtCTE81rImIroC0ivgQsAYbXtyxJUhU22VOIiBuKxf8LDAO+DEwETqTr5jJJ0gDzbj2F\n",
    "iRHxAeAEuuY6eg04uyFVSZIq8W6h8H/o+l6DXYGFQNA1Sd1bj159JEkDzCaHjzLzsszcA7gmM3fN\n",
    "zLHdHxtYoySpQTZ79VFm/o9GFCJJql5Prj7Su1g/9H1ve5Sk/sxQ6KXV46ZUXYIk1UxPbl6TJDUJ\n",
    "Q0GSVDIUJEklQ0GSVDIUJEklQ0GSVDIUJEklQ0GSVDIUJEklQ0GSVDIUJEklQ0GSVDIUJEklQ0GS\n",
    "VDIUJEklQ0GSVKosFCJiUEQ8FBH/XjwfGxH3R8RTEXFTRAytqjZJalZV9hSmA090e34x8C+ZuTvw\n",
    "MvCFSqqSpCZWSShExBjgCOCq4nkAnwLmFk1mA0dXUZskNbOqegr/G5gBrC+ejwJWZmZn8bwd2GVj\n",
    "L4yI0yNiQUQsWLZsWf0rlaQm0vBQiIgjgRczc+GWvD4zZ2XmpMycNHr06BpXJ0nNbXAFx/w48OmI\n",
    "+GugBfhPwHeAERExuOgtjAGWVFCbJDW1hvcUMvMrmTkmM1uB44FfZuYJwK+AY4tmJwO3NLo2SWp2\n",
    "fek+hfOAv4+Ip+g6x3B1xfVIUtOpYviolJl3AXcVy08DH62yHklqdn2ppyBJqpihIEkqGQqSpJKh\n",
    "IEkqGQqSpJKhIEkqGQqSpJKhIEkqGQqSpJKhIEkqGQqSpJKhIEkqGQqSpJKhIEkqGQqSpJKhIEkq\n",
    "GQqSpJKhIEkqGQqSpJKhIEkqGQqSpJKhIEkqDa66AEk9N2PGDDo6Othpp5245JJLqi5HA5ChIPUj\n",
    "HR0dLFmypOoyNIA5fCRJKtlTUNNyKEZ6J0NBTcuhGOmdDAWpDp7/5l512W/nSyOBwXS+9FzNj/EX\n",
    "Mx+p6f7UPzX8nEJEfDAifhURj0fEYxExvVg/MiLuiIi24nH7RtcmSc2uihPNncDZmTke2B84MyLG\n",
    "A+cD8zJzHDCveC5JaqCGh0JmLs3MB4vlV4EngF2Ao4DZRbPZwNGNrk2Sml2ll6RGRCuwL3A/sGNm\n",
    "Li02dQA7buI1p0fEgohYsGzZsobUKUnNorITzRExHPgxcFZm/ikiym2ZmRGRG3tdZs4CZgFMmjRp\n",
    "o2008Ew89/qa73Pb5a8yCHh++as13//N29Z0d6UdWtYDncWjVHuVhEJEDKErEH6QmT8pVr8QETtn\n",
    "5tKI2Bl4sYrapL7snL1XVl2CBrgqrj4K4Grgicz8X902/RQ4uVg+Gbil0bVJUrOroqfwceBE4JGI\n",
    "WFSs+wfgW8CciPgC8BxwXAW1SVJTa3goZOb/A2ITmyc3shZJ0ts5IZ4kqeQ0F5LUAP1lAkZDQU1r\n",
    "/dD3ve1Rqqf+MgGjoaCmtXrclKpLUC/0l7+8+xtDQVK/1F/+8u5vPNEsSSrZU5BUV/WYogTqPU3J\n",
    "pTXdH9T3uzCgdt+HYU9BklQyFCRJJYePJPVLXlJcH4aCpH6pv11S3F+mPTcUJKkB+su0555TkCSV\n",
    "DAVJUslQkCSVDAVJUslQkCSVDAVJUslQkCSVDAVJUslQkCSVDAVJUslQkCSVDAVJUslQkCSVDAVJ\n",
    "UslQkCSVDAVJUslQkCSV+lQoRMTUiPhdRDwVEedXXY8kNZs+EwoRMQj4LnA4MB74TESMr7YqSWou\n",
    "fSYUgI8CT2Xm05m5FrgROKrimiSpqURmVl0DABFxLDA1M08tnp8IfCwzv7RBu9OB04unHwJ+19BC\n",
    "G2sHYHnVRWiL+Nn1bwP98/vLzBy9sQ2DG11Jb2XmLGBW1XU0QkQsyMxJVdeh987Prn9r5s+vLw0f\n",
    "LQE+2O35mGKdJKlB+lIozAfGRcTYiBgKHA/8tOKaJKmp9Jnho8zsjIgvAb8ABgHXZOZjFZdVtaYY\n",
    "Jhug/Oz6t6b9/PrMiWZJUvX60vCRJKlihoIkqWQoVCAi1kXEom4/rRExKSIuew/7GBERf1vPOptZ\n",
    "RHw1Ih6LiMXFZ/SxBh//4Ij490Yec6CKiFHd/q11RMSSYnllRDy+idd8MyIO7cG+WyPi0dpXXZ0+\n",
    "c6K5ybyemftssO5ZYMGGDSNicGZ2bmQfI4C/Bf619uU1t4g4ADgS2C8z10TEDsDQisvSFsrMFcA+\n",
    "ABHxDWBVZn47IlqBjQZvZs7c2PqIGJSZ6+pTad9gT6GP6P6XYUR8IyJuiIhfAzdExISIeKD462Zx\n",
    "RIwDvgXsVqy7tNLiB56dgeWZuQYgM5dn5n9ExMSIuDsiFkbELyJiZ4CI2D0i7oyIhyPiwYjYLbpc\n",
    "GhGPRsQjETGtaHtwRNwVEXMj4smI+EFERLFtarHuQeC/VfXmm8ygiLiy6BXeHhHbAETEdcUsC0TE\n",
    "sxFxcfG5/E3x/8HDEfEwcGaVxdeDoVCNbbp1Z2/eRJvxwKGZ+Rngi8B3it7FJKAdOB/4Q2buk5nn\n",
    "NqbspnE78MGI+H1E/GtEfDIihgCXA8dm5kTgGuCfivY/AL6bmR8GDgSW0vVLfR/gw8ChwKVvhQiw\n",
    "L3AWXZ/xrsDHI6IFuBL4r8BEYKcGvE/BOLo+uwnASuC/b6LdiszcLzNvBK4F/q74vAcch4+qsbHh\n",
    "ow39NDNfL5Z/C3w1IsYAP8nMtuKPS9VBZq6KiInAQcAhwE3APwJ7AncU/+0HAUsjYltgl8y8uXjt\n",
    "GwAR8VfAvxVDDS9ExN3AR4A/AQ9kZnvRbhHQCqwCnsnMtmL99/nzHF+qn2cyc1GxvJCuz2JjboKu\n",
    "c3nAiMy8p1h/A10zOw8YhkLftfqthcz8YUTcDxwB3BoRZwBPV1ZZEyh+md8F3BURj9A1TPBYZh7Q\n",
    "vV0RCu/Vmm7L6/DfYZU2/Cy22US71ZtYP+A4fNQPRMSuwNOZeRlwC7A38CqwJb+QtBkR8aHivM1b\n",
    "9gGeAEYXJ6GJiCERMSEzXwXaI+LoYv3WETEMuBeYFhGDImI08AnggXc57JNAa0TsVjz/TI3flmog\n",
    "M1cCK4ueIMAJVdZTD4ZC/3Ac8Ggx1LAncH1xRcWvixOZnmiureHA7Ih4PCIW0zX2PxM4Fri4OMG4\n",
    "iK7zBwAnAl8u2v6GrvMBNwOLgYeBXwIzMrNjUwcshp1OB35WnNB8sS7vTLXweeC7xb/HATeO6zQX\n",
    "kqSSPQVJUslQkCSVDAVJUslQkCSVDAVJUslQkLZQMUfVOVXXIdWSoSBJKhkKUg9FxEnFLLUPR8QN\n",
    "G2w7LSLmF9t+XNzVTET8TXGD4cMRcU+xbmOz3kp9gjevST0QERPoukv5wMxcHhEjgS/z57n5RxV3\n",
    "mRMR/wi8kJmXF/MmTc3MJRExIjNXRsTlwH2Z+YOIGAoM6jb5oVQpewpSz3wK+FFmLgfIzJc22L5n\n",
    "RNxbhMAJwIRi/a+B6yLiNLpmVoWuWW//ISLOA/7SQFBfYihItXEd8KXM3Au4EGgByMwvAl8DPggs\n",
    "LHoUPwQ+DbxO16y3n6qmZOmdDAWpZ35J17dujQIoho+625au71cYQreZMyNit8y8v/h6x2V0fXnP\n",
    "xma9lfoE53GXeiAzH4uIfwLujoh1wEN0fa/2Wy4A7qfrF//9/Hla80uLE8kBzKNr1tTzgBMj4k2g\n",
    "A7ioIW9C6gFPNEuSSg4fSZJKhoIkqWQoSJJKhoIkqWQoSJJKhoIkqWQoSJJK/x8rNlJrt6t92gAA\n",
    "AABJRU5ErkJggg==\n",
    "\">"
   ]
  },
  {
   "cell_type": "code",
   "execution_count": 7,
   "metadata": {
    "colab": {},
    "colab_type": "code",
    "id": "l7JPrc3tdd3x",
    "outputId": "c836e31a-b7e6-48ff-9caa-48218abc5bbf"
   },
   "outputs": [
    {
     "data": {
      "text/plain": [
       "<AxesSubplot:xlabel='class', ylabel='fare'>"
      ]
     },
     "execution_count": 7,
     "metadata": {},
     "output_type": "execute_result"
    },
    {
     "data": {
      "image/png": "[encoded data removed]",
      "text/plain": [
       "<Figure size 432x288 with 1 Axes>"
      ]
     },
     "metadata": {
      "needs_background": "light"
     },
     "output_type": "display_data"
    }
   ],
   "source": [
    "sns.barplot(data = df, x = 'class', y = 'fare' , hue = 'alive' ) "
   ]
  },
  {
   "cell_type": "markdown",
   "metadata": {
    "colab_type": "text",
    "id": "4fcFBywjdd30"
   },
   "source": [
    "## 7. pointplot 을 그립니다. x축에는 deck 을 y축에는 fare를 그립니다. alive 에 따라 다른 색상으로 표현해 주세요.\n",
    "<img src=\"data:image/png;base64,iVBORw0KGgoAAAANSUhEUgAAAYUAAAEGCAYAAACKB4k+AAAABHNCSVQICAgIfAhkiAAAAAlwSFlz\n",
    "AAALEgAACxIB0t1+/AAAADh0RVh0U29mdHdhcmUAbWF0cGxvdGxpYiB2ZXJzaW9uMy4xLjEsIGh0\n",
    "dHA6Ly9tYXRwbG90bGliLm9yZy8QZhcZAAAgAElEQVR4nO3dd3hUZfbA8e+ZVGpooZcA0ouUUAVE\n",
    "UQEbYAWlCYioqKtrXV3d6rqW37roWkA6CqjYRRAFQaWGrvROqCHU9GTm/f1xJ2EC6ZmZm0nO53nm\n",
    "mTvvLXMGkpy5977vecUYg1JKKQXgsDsApZRSJYcmBaWUUlk0KSillMqiSUEppVQWTQpKKaWyBNsd\n",
    "QHHUqFHDREVF2R2GUkoFlPXr158yxkTmtC6gk0JUVBQxMTF2h6GUUgFFRA7mtk4vHymllMqiSUEp\n",
    "pVQWTQpKKaWyBPQ9BaWU8qb09HRiY2NJSUmxOxSvCA8Pp379+oSEhBR4H58lBRGZBtwMnDTGtHW3\n",
    "zQdauDepApw1xnQQkShgO7DTvW61MWaCr2JTSqmcxMbGUqlSJaKiohARu8MpFmMM8fHxxMbG0rhx\n",
    "4wLv58szhRnA28CszAZjzN2ZyyLyBnDOY/u9xpgOPoxHKaXylJKSUioSAoCIUL16deLi4gq1n8+S\n",
    "gjFmhfsM4DJi/YvfBVzrq/dXSqmiKA0JIVNRPotdN5p7AyeMMbs92hqLyEYRWS4ivXPbUUTGi0iM\n",
    "iMQUNgOWKbMGw6RO1rNSShWQXUlhGDDX4/UxoKExpiPwBPCRiFTOaUdjzGRjTLQxJjoyMscBeQrg\n",
    "7CE4vdd6VkrZJioqilOnTgHQs2dPm6PJn9+TgogEA7cB8zPbjDGpxph49/J6YC/Q3N+xKaWUL61c\n",
    "udLuEPJlx5nCdcAOY0xsZoOIRIpIkHu5CdAM2GdDbEopVWSDBw+mc+fOtGnThsmTJ1+2vmLFigAM\n",
    "HTqUb7/9Nqt99OjRfPrppzidTp566im6dOlC+/btef/99/0WeyafJQURmQusAlqISKyIjHWvGkr2\n",
    "S0cAfYAtIrIJ+BSYYIw57avYlFLKF6ZNm8b69euJiYlh0qRJxMfH57jd3XffzccffwxAWloaP/74\n",
    "IzfddBNTp04lIiKCdevWsW7dOqZMmcL+/fv9+RF82vtoWC7to3NoWwAs8FUsSinlD5MmTeLzzz8H\n",
    "4PDhw+zevTvH7QYOHMhjjz1GamoqixYtok+fPpQrV47vv/+eLVu28OmnnwJw7tw5du/eXahxBsWl\n",
    "I5qVUsoLfvrpJ3744QdWrVpF+fLl6du3b64jo8PDw+nbty+LFy9m/vz5DB06FLAGnL311lv079/f\n",
    "n6Fno7WPlFLKC86dO0fVqlUpX748O3bsYPXq1Xluf/fddzN9+nR+/vlnBgwYAED//v159913SU9P\n",
    "B2DXrl0kJib6PHZPmhSUUsoLBgwYQEZGBq1ateLZZ5+le/fueW5/ww03sHz5cq677jpCQ0MBGDdu\n",
    "HK1bt6ZTp060bduWBx54gIyMDH+En0UvHymllBeEhYXx3XffXdZ+4MCBrOWEhISs5ZCQEE6fzt6f\n",
    "xuFw8PLLL/Pyyy/7LM786JmCUkqpLJoUlFJKZdGkoJRSKosmBaWUUlk0KSillMqiSUEppVQW7ZKq\n",
    "lFJFkJCawRcbj7D+4BlCgxz0a1WTfq1qEeQI7El6NCkopVQh7Th+npFT13LyQmpW2/yYw3SJqsrU\n",
    "0V2oHB5iY3TFo5ePlFKqENKdLsbNjMmWEDKtO3CGl778vVjHP3DgAK1ateL++++nTZs23HDDDSQn\n",
    "J7Np0ya6d+9O+/btGTJkCGfOnCnW++RGk4JSShXCj9tPEHsmOdf1X28+SlwOCaMwdu/ezcMPP8zv\n",
    "v/9OlSpVWLBgASNHjuTf//43W7ZsoV27dvz1r38t1nvkRpOCUkoVwraj5/Ncn+Ey7D55oVjv0bhx\n",
    "Yzp06ABA586d2bt3L2fPnuXqq68GYNSoUaxYsaJY75EbTQpKKVUIlQpwv6C49xTCwsKyloOCgjh7\n",
    "9myxjlcYmhSUUqoQBrarTV79ixrXqEDrOpW9+p4RERFUrVqVn3/+GYDZs2dnnTV4m/Y+UkqpQqhf\n",
    "tTwT+jbl3Z/2XrYuSIQ/39wKhw+6pc6cOZMJEyaQlJREkyZNmD59utffAzQpKKVUoT3dvwV1I8J5\n",
    "f8W+rJvOnRpW4Y83tOCqK2oU69hRUVH89ttvWa+ffPLJrOX8Ju7xBk0KSilVSCLCiB5R3NutEScu\n",
    "pBAa5KB6xbD8dwwAmhSUUqqIHA6hTkQ5u8PwKp/daBaRaSJyUkR+82j7i4gcEZFN7seNHuueE5E9\n",
    "IrJTROybtVoppcowX/Y+mgEMyKH9P8aYDu7HQgARaQ0MBdq493lHRIJ8GJtSSqkc+CwpGGNWAKfz\n",
    "3dAyCJhnjEk1xuwH9gBdfRWbUkqpnNkxTmGiiGxxX16q6m6rBxz22CbW3XYZERkvIjEiEhMXF+fr\n",
    "WJVSqkzxd1J4F2gKdACOAW8U9gDGmMnGmGhjTHRkZKS341NKqYJJvQDrpsJn4+HLibDjW3A57Y6q\n",
    "2Pza+8gYcyJzWUSmAN+4Xx4BGnhsWt/dppRSJc+J32H2bZBw/GLbxtnQsAfcMx/CI+yLrZj8eqYg\n",
    "InU8Xg4BMnsmfQUMFZEwEWkMNAPW+jM2pZQqEGc6zB2aPSFkOrQKFj5V5EO/+OKLvPnmm1mvn3/+\n",
    "ef773//y2muv0aVLF9q3b89LL70EQGJiIjfddBNXXnklbdu2Zf78+UV+X0++7JI6F1gFtBCRWBEZ\n",
    "C7wqIltFZAtwDfA4gDHmd+BjYBuwCHjYGBP452FKqdJn53dw9lDu639bAAkni3ToMWPGMGvWLABc\n",
    "Lhfz5s2jdu3a7N69m7Vr17Jp0ybWr1/PihUrWLRoEXXr1mXz5s389ttvDBiQU2fPwvPZ5SNjzLAc\n",
    "mqfmsf0/gX/6Kh6llPKK41vzXu/KgLgdULFmoQ8dFRVF9erV2bhxIydOnKBjx46sW7eO77//no4d\n",
    "OwKQkJDA7t276d27N3/84x955plnuPnmm+ndu3dRPs1ldESzUkoVRngBKqCGFb1K6rhx45gxYwbH\n",
    "jx9nzJgx/Pjjjzz33HM88MADl227YcMGFi5cyAsvvEC/fv148cUXi/y+mbR0tlJKFUbrQZBX8exq\n",
    "TaF2+yIffsiQISxatIh169bRv39/+vfvz7Rp00hISADgyJEjnDx5kqNHj1K+fHmGDx/OU089xYYN\n",
    "G4r8np70TEEppQqjSkPo9Qf45T+Xr5MgGPAvcBT9+3ZoaCjXXHMNVapUISgoiBtuuIHt27fTo0cP\n",
    "ACpWrMicOXPYs2cPTz31FA6Hg5CQEN59990iv6cnTQpKKVVY/V6CyvVg5aSLN53rd4Vrn4cmfYt1\n",
    "aJfLxerVq/nkk0+y2h577DEee+yxbNs1bdqU/v29XyZOk4JSShWWCHS9H6LHwoVjEBwGFYo3jwLA\n",
    "tm3buPnmmxkyZAjNmjXzQqCFp0lBKaWKyuGAiBwr8hRJ69at2bdvn9eOVxR6o1kppTwYY+wOwWuK\n",
    "8lk0KSillFt4eDjx8fGlIjEYY4iPjyc8PLxQ++nlI6WUcqtfvz6xsbGUlgrM4eHh1K9fv1D7aFIo\n",
    "jZwZ4Ex1vwj8bzxK+UtISAiNGze2Owxb6eWj0mb9DHizHZyLtV6fOQDLXwOXy86olFIBQs8USpO1\n",
    "U2Dhk9nbjAuW/QNSzkJ/LS2llMqbnimUFunJsPQfua9f/S6c0ykqlFJ506RQWhxcaZ0N5MY4Ydci\n",
    "/8WjlApIevmotMhI8c42JcSIqWuIPZNM/arlmD22m93hKFVmaFIoLep2tIpx5TU3UbUm/ounmGLP\n",
    "JLP/VKLdYShV5ujlo9Kicl1od0fe23z9B4iN8U88SqmApEmhNOn/MgSFXt4e7B7RmHAcpg+EjXP8\n",
    "G5dSKmBoUihNdnwLzjRrOSjMeq5UB57cDa1utV470+DLh+G7Z6wJyJVSyoMmhdLC5YKVb1nL4oBK\n",
    "tazlkPLW9IF3zYJrXyBrxqg178HsIZAYb0u4SqmSyWdJQUSmichJEfnNo+01EdkhIltE5HMRqeJu\n",
    "jxKRZBHZ5H6856u4Sq3diyF+t7Xc6lZwhGRfLwJ9noJhcyG0ktV24GeY0jf/iciVUmWGL88UZgAD\n",
    "LmlbArQ1xrQHdgHPeazba4zp4H5M8GFcpVPmWQJAz0dz367FQLj/R2seWbBmjZp6A/z2mW/jU0oF\n",
    "BJ8lBWPMCuD0JW3fG2My3C9XA4Ur36dyFrseDv5qLTe6Cup3znv7yBZw/1K44nrrdXoSfHof/PBX\n",
    "cOXRpVUpVerZeU9hDPCdx+vGIrJRRJaLSO/cdhKR8SISIyIxpaW8bbGtnHRxuecjBdunXBW4Zz70\n",
    "evxi2y//B3OHQco578anlAoYtiQFEXkeyAA+dDcdAxoaYzoCTwAfiUjlnPY1xkw2xkQbY6IjIyP9\n",
    "E3BJdno/bP/KWq7RHJoVYiJvRxBc9xe4YxoEl7Padi+GKddC3C5vR6qUCgB+TwoiMhq4GbjXuKc3\n",
    "MsakGmPi3cvrgb1Ac3/HFpBWv2NVQgXoMdGaM7aw2t4OY7+HiIbW6/g98EE/2Km1kpQqa/yaFERk\n",
    "APA0cKsxJsmjPVJEgtzLTYBmgL2zVweCpNMXB6JVqAnt7y76seq0h/HLIMp95S71PMwdCiteh1Iw\n",
    "NaFSqmB8VvtIROYCfYEaIhILvITV2ygMWCIiAKvdPY36AH8TkXTABUwwxpzO8cDqonVTrZvEAN3G\n",
    "Q0jh5mK9TIUaMOJzWPw8rH0fMLD073B8Cwx6B8IqFjvkgno1+SWqhx4nPrk2sNxv76tUWeezpGCM\n",
    "GZZD89Rctl0ALPBVLKVSeor7DzfWALXosd45blAI3PiqdebwzePWCOhtX0L8Xhj6IVSN8s775KO2\n",
    "6yQNHMcJcen4SqX8SX/jAtWWeZDo7n3VcQSUr+bd43ccDqMXQsXa1usTv8Hka2CffmtXqjTTpBCI\n",
    "XC5Y+ba1LA7o8ZBv3qdBFxj/E9SLtl4nn7ZKY6x+V+8zKFVKaVIIRLsWXSxp0XqQby/pVK4Do7+F\n",
    "DsOt18YJi56FLx6yLmEppUoVTQqBKFtJiwIOViuOkHAY9DYMfM2ayAdg80cw40Y4f9T376+U8htN\n",
    "CoEmNgYOrbSWG10F9fIpaeEtIlYPp5FfQDn3/Ysj62FyXzi81j8xKKV8TpNCoMlW0iKPwne+0riP\n",
    "dZ+hVjvrdcIJmHETbJjl/1iUUl6nSSGQnN4H27+2lms0h2Y32BNH1UYwdjG0GWK9dqbBV4/At0/q\n",
    "xD1KBThNCoFklUdJi56PFK2khbeEVoA7pkO/l8iauGfdFJg1GBJP2ReXUqpYNCkEiktLWrS7y954\n",
    "wLrP0PsJuOdjCIuw2g7+Yt1nOLbZ1tCUUkWjSSFQrPsAMpKt5W4PFL+khTc1v8GauKeGu4bhucMw\n",
    "tT9s/dTeuJRShaZJIRCkp8Aaz5IWY+yNJyc1msG4H6C5e7K9jGRYMBaWvKgT9ygVQDQpBILNcyHJ\n",
    "fZ3eFyUtvCU8AobOhd5PXmz79b/w0V2QfMa+uJRSBaZJoaRzuWCVH0paeIvDAf3+DHfOtM5qAPb8\n",
    "YE3cc3KHvbEppfKlSaGk2/WdNekN+L6khTe1GQxjl0CVRtbr0/vgg+tgx0J741JK5UmTQkmXraSF\n",
    "DYPViqN2W2ugW+M+1uu0CzBvGCx/1ToDUkqVOJoUSrLD6+DQKmu5US+o18neeIqifDUY/jl097js\n",
    "teyf8MlISE2wLy6lVI40KZRkniUtrgqwswRPQcEw4F8w+D0ICrPatn8NU6+3LisppUoMTQolVbaS\n",
    "Fi3giuvtjccbOgyD+76DSnWt1ye3WRP37F1mb1xKqSyaFEqqVf8D3BPZ2F3Swpvqd7buMzToZr1O\n",
    "OQtzbrMmDdKJe5SyXSn5S1PKJMbDxg+t5Qo1oX0JKGnhTZVqwaivodMo67VxwffPw+cPQGoCGTsX\n",
    "E2HOAxBKmo2BKlX2aFIoiS4taREcZm88vhAcBrf8F256AxzBVtuW+aT/uwnBc++iMtZN6FrmFMcn\n",
    "3wHpyTYGq1TZ4dOkICLTROSkiPzm0VZNRJaIyG73c1V3u4jIJBHZIyJbRCQAu9p4QXoyrJ1sLYdU\n",
    "KJklLbxFBLqMg5FfQfkaAIS4UrNtYgzUPrqE/R8+ZkeESpU5vj5TmAEMuKTtWeBHY0wz4Ef3a4CB\n",
    "QDP3Yzzwro9jK5k8S1p0KsElLbwp6ipO9f5bjqvEXZW73oEFZFyI82NQSpVNPk0KxpgVwOlLmgcB\n",
    "M93LM4HBHu2zjGU1UEVE6vgyvhLH5bJuuIJV0qJ7CS9p4UUH9mzLc30oGezbutJP0ShVdtlxT6GW\n",
    "MeaYe/k4UMu9XA847LFdrLstGxEZLyIxIhITF1fKvjnu+g5O77WWWw+2ZjgrI1JMcL7bJLlC/BCJ\n",
    "UmWbrTeajTGGrH6XBd5nsjEm2hgTHRkZ6aPIbPKr5/zLj9gXhw1C2twM5N4r9bwpR722vf0YkVJl\n",
    "kx1J4UTmZSH380l3+xGggcd29d1tZcPhtXB4tbUc1TswS1oUQ8XazfnI2S/rHsJl6yWFarE/+Dco\n",
    "pcogO5LCV4C7gzqjgC892ke6eyF1B855XGYq/VZ69yxha2IEh6UuWxMjin0sX9sXl8Co6Wv5c/po\n",
    "3soYzHlTLmud01hZwoGxJu3ZuciuMJUqEwqUFESkl4jc516OFJHGBdxvLrAKaCEisSIyFngFuF5E\n",
    "dgPXuV8DLAT2AXuAKUDZucsavxe2f2MtR7b0SkmLR0Neonfy6zwa8lKxj+VLR84mM/yDNZxKSMNJ\n",
    "EBuvmMjym3/mGNWt9VKbd123ARBknDjnDdeyGEr5UL5390TkJSAaaAFMB0KAOcBV+e1rjBmWy6p+\n",
    "OWxrgIfzO2ap5FnSosfE0lPSIh9xF1IZ8cEajp5LAaBHk+q8c28nwkOCOLwwDAyICM2H/osPPkph\n",
    "XPBCgkw6zo+GETTyM2jU0+ZPoFTpU5C/PkOAW4FEAGPMUaCSL4MqUxJPwSZ3SYuKtUpfSYtcnEtO\n",
    "Z+S0tew7lQjAlQ2qMGVUNOEhQZdt2691bcJufJk5GdZ3iSBnMs45d0Lser/GrFRZUJCkkObZS0hE\n",
    "Kvg2pDJm3VTIsL4pl9qSFpdISstgzIx1bD9m1TdqUasSM+/rQsWw3E9cR/RszKEef+dTpzVhT1B6\n",
    "Aq7ZQ+DYFr/ErFRZUZCk8LGIvI81mOx+4Aesa/6quMpSSQu31AwnD8xez/qDZwBoVL08s8d2pUr5\n",
    "0Hz3fXZga5a3eJFvnN0BcKSewzVrsM79rJQX5ZsUjDGvA58CC7DuK7xojHkr771UgWQraTESylW1\n",
    "Nx4fy3C6eHTuRn7ebX3m2pXDmTO2GzUrhxdof4dDeO3uTsyq8zxLnJ2ttuR4zKxB1s16pVSx5ZkU\n",
    "RCRIRJYZY5YYY54yxjxpjFnir+BKNZfTo6RFEHR/0N54fMzlMjyzYCuLfz8BQLUKocwZ15UG1coX\n",
    "6jjhIUG8N6o7r1V+lhXOdgBIwnHMrFvh7OF89lZK5SfPpGCMcQIuESn5nd0DzU6PkhZtSndJC2MM\n",
    "f/tmGws2xAJQKSyYWWO6ckXNovVXqFYhlMn3XcWzIc+yxtUSADkXCzNvgfNlZ2iLUr5QkHsKCcBW\n",
    "EZnqLm09SUQm5buXypuXB6uVZP+3ZBczVh4AIDzEwdTRXWhbr3jfM6JqVOCtUVfxoOsZNrqusBrP\n",
    "7IdZg6weXUqpIilIUvgM+DOwAljv8VBFdWgNHF5jLUf1hrod7Y3Hhyav2MtbS/cAEBIkvDe8M10b\n",
    "e6cceOdGVfnn3T0Ynf40v7vcZ1qndsKswZB8xivvoVRZk+/gNWPMzPy2UYWU7SzhUfvi8LG5aw/x\n",
    "8kKrZ5BD4M27O9K3RU2vvsfAdnU4cmMXRnz7HPNC/05zxxE4sRXm3A4jvoDwyl59P6VKu3zPFESk\n",
    "mYh8KiLbRGRf5sMfwZVK8Xthx7fWcmRLaFb8khYl0debj/Knz7dmvX7ltvbc1N4302OM7dWYW3q0\n",
    "4960P7Hf5a7EfmQ9fHQ3pCX55D2VKq0KcvloOtYsaBnANcAsrDIXqig8S1r0fIRcy4IGsKU7TvD4\n",
    "/E1ZZbBfuKkVd3VpkPdOxSAivHhLG65s1ZJ7054n1lhTe3JoJcy7B9JTfPbeSpU2BUkK5YwxPwJi\n",
    "jDlojPkLcJNvwyqlspW0qA3t7rQ3Hh9YvS+eB+dsIMNlZYTH+jVjXO8mPn/fIIcwaVgHatRvyj1p\n",
    "z3PcuMd87FsGn4yCjDSfx6BUaVCQpJAqIg5gt4hMFJEhQEUfx1U6rfugVJe02BJ7lnEzY0jNcAEw\n",
    "5qrG/OG6Zn57//KhwUwd1QVXlSjuTfsTp4z7fsKuRfDZ/eDM8FssSgWqXJOCiMx2L34BlAceBToD\n",
    "I7g4H4IqqLSkS0pa3GdvPF6268QFRk5bS0Kq9Yf3zs71eeGmVoifL49FVgpjxn1diAtrxIi05zhr\n",
    "3KW6tn0BX0205sFWSuUqrzOFziJSF7gXq1x2EvBHYBywyw+xlS6b50JSvLXceVSpKmlxKD6J4R+s\n",
    "4WxSOgA3tqvNK7e3x+Gw537JFTUrMXlkNHsdjRmZ9iwXMift2TwXvn0i9zk/lVJ5JoX3gB+Bllwc\n",
    "mxDj8awKyuWEVaWzpMWJ8yncO3U1Jy+kAtCneST/ubsDQTYlhEzdm1TntTvbs8U05b60p0gy7kt1\n",
    "66fD4j9pYlAqF7kmBWPMJGNMK2CaMaaJMaax57MfYwx8OxfCaXcv3jZDoEpDe+PxktOJaQz/YA2H\n",
    "TycD0CWqKu8P70xY8OVzIthhUId6PNW/BTGmJfenP0GqCbFWrH4Hlv7D3uCUKqEKUiW19HyttctK\n",
    "j6KypaSkxYWUdEZNW8vukwkAtKlbmamju1AutGQkhEwP9W3K0C4N+NXVjgnpfyA9c7zmz6/Ditft\n",
    "DU6pEqhszPtoJ8+SFo37QN0O9sbjBSnpTsbOjGHrkXMANI2swKwxXakcHmJzZJcTEf4+uC19mkey\n",
    "zNWRR9Im4sz8sV/6d1j1jr0BKlXCaFLwtVJW0iItw8WDc9azdv9pAOpVKceccd2oXrHkdq8NCXLw\n",
    "zr2daFWnMotcXflj2gRcuO95LH4OYqbZG6BSJYgmBV86tcejpEUruOI6e+MpJqfL8MTHm1i2Mw6A\n",
    "GhXD+HBcN+pElLM5svxVDAtm+ugu1IkI5wtXL/6UPvbiym+egE1z7QtOqRLE70lBRFqIyCaPx3kR\n",
    "+YOI/EVEjni03+jv2LxudekpaWGM4fnPt/LNFmu+gohyIcwZ15WoGr6Zsvu4oyb7XLU57vBeAb3a\n",
    "EeFMG23NBT3PeS1/TR/hXmPgy4fg98+99l5KBap8q6R6mzFmJ9ABrJndgCPA58B9wH/c038GvoQ4\n",
    "2PSRtVyxNrS7w954isEYw8sLtzNvnTWzWfnQIGbc14WWtX1XgfTpcn9lf2IijStXYJkXj9uqTmXe\n",
    "Hd6J+6avY7pzIOGk80zIPDAuWDAOgstBiwHFfp8RU9cQeyaZ+lXLMXtsNy9ErpR/2H35qB+w1xhz\n",
    "0OY4vM+zpEX3CQFd0uLtpXuY8vN+AEKDHXwwKpqODQN38F3vZpG8fJs1lee7zlt523mbtcKVAR+P\n",
    "gL1Li/0esWeS2X8qkdgzycU+llL+ZHdSGAp4XsydKCJbRGSaiOT4V0dExotIjIjExMXF+SfKwvIs\n",
    "aRFaEToHbkmLGb/u540l1gD2IIfwv3s60bNpDZujKr67ohvw6LXWjG2vp9/OTG6xVjjTYO49cOBX\n",
    "G6NTyj62JQURCQVuBT5xN70LNMW6tHQMeCOn/Ywxk40x0caY6MjISL/EWmibP4Jkq3cOnUZBuSr2\n",
    "xlNEn66P5S9fbwOs2yH/d9eVXN+6ls1Rec/j1zfnto71AOGllKF8Huy+bJSRDB/dBbE6cF+VPXae\n",
    "KQwENhhjTgAYY04YY5zGGBcwBehqY2xF53K650zAXdJigr3xFNGi347x9Kebs17/fVBbBnWoZ2NE\n",
    "3icivHJ7e3o0qQ4ITyQM58cwdw+xtASYcxsc22JrjEr5m51JYRgel45ExHNariHAb36PyBt2fBvw\n",
    "JS1W7IrjkbkbcU+JwDMDWjK8eyN7g/KR0GAH743oTLOaFTE4uP/caNZV6GutTDkHswfDyR22xqiU\n",
    "P9mSFESkAnA98JlH86sislVEtmDN8Pa4HbEVW4CXtIg5cJoHZq8n3WllhAf7NuXBvk39Hkf9quVo\n",
    "XKMC9av6fgxERLkQpt/XhchKYbhwMCx+DDsielsrk+Jh1iBrGlWlygC/d0kFMMYkAtUvaRuRy+aB\n",
    "49BqiF1rLQdgSYvfj57jvhnrSE53AjC8e0Oe7t/Cllj83Y2zftXyTBvVhbveX0VyOtx6YhxL62ZQ\n",
    "//QqSDhuJYb7FgbkmZ9ShWF376PSJdtZwmP2xVEEe+MSGDl1LRdSrElyBneoy99ubev3SXLs1K5+\n",
    "BG/f0xGHQBohXH9sPKdrdLFWnjsMM2+F88cKdKxXk19iaegTvJr8kg8jVsr7NCl4i2dJi5qt4Yp+\n",
    "9sZTCEfOJjPigzXEJ1rzGF/Xqhav3XmlbZPk2Klfq1r8dVBbAJJNGNcdf4jESPcZ35n91hlD4ql8\n",
    "j1PbdZImjuPUdp30ZbhKeZ0mBW9Z9TaBWNIi7kIqwz9Yw9Fz1kC7nk2r8/Y9HQkJKrs/GiO6N+KB\n",
    "PtaUIaczwrgx/nFSI61EwamdMGswJJ+xMUKlfKfs/uZ7U0KcNdUjQKU60DYwSlqcS0pnxNQ17D+V\n",
    "CECHBlWYMjKa8JCSNSeCHZ4Z0JKb2lsd4g4mhXB30jM4q7vvr5zYCnNuh5TzNkaolG9oUvCGdVMu\n",
    "lrToNgGCQ+2NpwASUzMYPWMtO45fAKBl7UrMuK8LFcJs6XtQ4jgcwht3Xkl0I2tg/ab4ICY4XsRV\n",
    "1T3p4JH18NHdkJZoY5RKeZ8mheJKS4K1U6zl0IrQebSt4RRESrqT8bNj2HjoLABR1csza2xXqpQv\n",
    "+cnMn8JDgpgyMprG7kqwSw4LL1V5GRPRwNrg0EqYdw+kp9gYpVLepUmhuDZ9GFAlLTKcLh6du5Ff\n",
    "98QDUCcinDnjulGzUrjNkYv0G/EAAB6fSURBVJVMVSuEMuO+LlSrYCXM2dtdvB/1pnWZEGDfT/DJ\n",
    "KMhIsy9IpbxIk0JxXFbSomRPZ+1yGZ7+dAvfbzsBQPUKocwe2436VcvbHFnJ1qh6BT4YFU1YsPXr\n",
    "8sqaVL7u8B6UdxcG3LUIPrsfnBk2RqmUd2hSKI4d31jdFAHa3gZVGtgbTx6MMfzl69/5bOMRACqF\n",
    "BTNzTFeuqFnR5sgCQ6eGVfnv0A5Zncoe+yGRtX2mQ7j7zHDbF/Dlw+By2RekUl6gSaGojIFfPedf\n",
    "LtklLV7/fiezVlnTVoSHOJh2Xxfa1ouwOarAMqBtHZ6/sRUALgOjFyaxd8BsCK1kbbBlHnw2Dr7/\n",
    "M5HGujxXjmTrjDLQzBoMkzpZz6pM0aRQVIdWwxF3aeXGV0OdK+2Nx0NKujOrVIXLZXhv+V7+t8yq\n",
    "3RMSJLw/IpouUdXsDDFgje3VmNE9owBISnMy9Ns04gbNgRD3JbjfFsDKSYSTCkANcwY+vDPwbkaf\n",
    "PQSn91rPqkzRpFBUniUtrnrUvjg8GGP44Od9dH/5R467B6MdPJ3EK99ZVT4dApOGduTq5iV0HooA\n",
    "ICL8+ebWWfNKxF1I5d7vhcQBb+a4vQHY+yMsf8V/QSpVDJoUiuLUbti50Fqu2RqaloySFlN+3sc/\n",
    "vt3O2eT0HNe/cnt7Brark+M6VXBBDmHS0I5cWd+6/LbrRALf/fRzjttmjWtfPwOcOf+/lETHzqdk\n",
    "e1ZlhyaF3OR1TbUElrRISstg0o978tzGmkxGeUO50CA+GNWFBtWs0t5hZ3fnvUPyGVjzPlw44Yfo\n",
    "ii/DXTo981mVHZoUcpPbNdWEONhU8kparN1/moTUvLtE/rRTi7N5U2SlMKaP7kpEuRDOmEr57/D9\n",
    "8/BGc3i/Dyz9BxxaE5g3oVWppkmhsNZOBqd1E7EklbQ4n5x/H/k0/dbndVfUrMjkEZ35ll6A1Skt\n",
    "X8c2w4rXYNoN8FpT+HQMbJ5nfeFQymZa6KYw0pKsOkdgdUOMvs/eeIDUDCcfrj7EpKX5XL4AukRV\n",
    "9UNEZU+3JtUZOuR25n++jLuDf7ps/WlTkaP93qZt6HHY/T0c+AWc7hHQyWesHku/LQAE6naEZjdA\n",
    "s+utZYcWJ1T+pUmhMDZ9eLFkcudREG5fP3+Xy/Dl5iO88f0uYs8k57t9z6bVaV+/ZJfgCGThocE8\n",
    "kTGO7aYho4MWE+Ww7h1cMOEMTvs7kb/XYsGDQ6xR72mJsP9nK0HsWeJxidLA0Q3WY/krUK4aXHGd\n",
    "lSCa9oMKek9I+Z4mhYJyOd03mAFHsG0lLYwx/LQrjlcX7WT7sYulm0ODHAzr2oCjZ1NYsj37zcyu\n",
    "javxv3s6+TvUMuWH7ScxOJjhHMAMZ39+Cn2CKMcJ4kwVDplaHDp4ht0nLtCsViUIrQAtBlgPY+DU\n",
    "Lti9xEoSB1eCy91LKfk0bP3YeiBQr/PFs4g6HcChV3+V92lSKKjtX8OZA9Zym9sgor7fQ9h0+Cyv\n",
    "fLed1ftOZ7WJwJAO9Xj8+uY0qGYNoNpx/DzDJq/mTFI6dSLCmT++e5maVtMOGdnKWwguLv/3vv4/\n",
    "K2gaWYHuTarTvUl1ujWpZhUijGxhPXpOhNQLsH+FO0ksgfOx7r2NNVjySAz89DJUiLTOIq64Dppe\n",
    "C+V1MKLyDtuSgogcAC4ATiDDGBMtItWA+UAUcAC4yxhj/xRXxsBK+0pa7I1L4PXFO/nut+PZ2q9p\n",
    "EcnTA1rSqk7lbO0ta1emSvlQziSlEx4SpAnBD6IbVeXLTUfz3W5vXCJ74xL5cI11yejyJFEJWt5k\n",
    "PYyBuB3WGcTuJXBoFbjcHQoS3RM7bZ4L4oD6XawziCuuh9rt9SxCFZndZwrXGGM8J7x9FvjRGPOK\n",
    "iDzrfv2MPaF5OLTamlQFoElfqNPeL2978nwKb/64m/nrDuN0XezW0qFBFZ4d2JLuOu6gxBjSqT5v\n",
    "L9vDifOpOa6/qV0dUjNcrN0fz/mUiz3FLk0STTySRPfG1ahZsxXUbAVXPWbN9LZ/uTtJ/AAX3EnI\n",
    "uODwGuux9B9QsdbFexFNrinx5dxVyWJ3UrjUIKCve3km8BMlISn4+SzhfEo67y/fy9Rf9pOSfvGy\n",
    "RJMaFXh6QAv6t6mt3/5LmIphwcwa0437Z8Vw6HRStnWP9WvGH65rhojgdBm2HzvP6n3xrN53+rIk\n",
    "sS8ukX1xiXyUW5JodQu0usU6izjxu/tm9Q/WFxfjHvOQcMLqFLHpQ6uke4Nu0Ow691lEuxIx2FKV\n",
    "XGIK1LHaB28ssh84gzU0+H1jzGQROWuMqeJeL8CZzNc5iY6ONjExMb4JcFIna/BaREM45+4dUrMN\n",
    "PPirz36pUtKdzFl9kLeX7eFs0sWSCDUrhfH49c25s3N9goMKdlngmtd/Yv+pRBrXqMCyJ/v6JF51\n",
    "uQyni2U742j+8dU04hiHpQ4NXtqR6/b5JYlLXZYkKrsnR0o+a034s3uJ1aMpIZeR05XqeJxF9M3e\n",
    "gy4jDVa/AxtmYk7vQ4DzVKTyczsgrACD81TAEJH1xpjonNbZeabQyxhzRERqAktEJNtvjjHGiMhl\n",
    "GUtExgPjARo2bOj7KFPOXlz2UUkLp8vwxcYj/N+SXRw5e7F7aaXwYCZc3ZQxVzWmXKj2Vw8EwUEO\n",
    "rm9di8Mi7kooef+8BDmEtvUiaFsvgnG9mxTzTGIANdsMtuZ0OLH14s3q2LXWJSaAC8dg42zr4QiG\n",
    "Bt0vXmb64S+wbymeUVcmAWbeAqO+gTCde6MssC0pGGOOuJ9PisjnQFfghIjUMcYcE5E6wGV1GYwx\n",
    "k4HJYJ0p+DBC6ynVmtieSnWh7e3efQdjWLbzJP/+bic7T1zIag8NcjCqZyMe6nsFVSuUjBHTyj+8\n",
    "lyQi6d5hIjX7PAlJp2HfMus+xJ4l1k1qsG5aH/zFevBS7kEd3Qhr3oU+T/nwk6uSwpakICIVAIcx\n",
    "5oJ7+Qbgb8BXwCjgFffzl34P7uR262bd6X3uBndy6PaAV0tabDh0hle+28Ha/dm7l97eqT6PX9+c\n",
    "elXKee29VODKKUnsOH6e1ftOs3pfPGv2FTRJ9KB7v5uoOSgUjm++OC4iNoasn/G8bJ6nSaGMsOtM\n",
    "oRbwuftmaTDwkTFmkYisAz4WkbHAQeAuv0Z14neY1v/i2YGnU7u88hZ7Tibw2uIdLP49+zXffi1r\n",
    "8tSAFrSsXTmXPZWykkSbuhG0qRvB2F6Ni5EkhtP9rkepGZQIe5fCt09A6vnc3hYuaDHFssKWpGCM\n",
    "2QdcNlWZMSYesG9ygu9fyDkhgNWTo+v9Vj2aIjh+LoU3f9jFxzGH8ehdSqeGVXh2YCu6NtbBR6XJ\n",
    "cUdN0tNdxIfUxJczd3snSbRkQkRnGp5cluv7uJypOHb/YPViUqVaSeuSap/EeOsbU162flropHAu\n",
    "KZ13l+9l+q/7Sc242L30ipoVebp/C65vXUu7l5ZCT5f7K/sTE2lcuQK5/6n1vqImiVhHV2aFLsOY\n",
    "7H0pMl87nKnw4e3QfCD0/ydUb+rHT6X8SZNCJs9eRrlJLsA2mYdLdzJr1QH+t2wv5zxmQqtdOZzH\n",
    "r2/G7Z0K3r1UqaIqaJJY4WrPuxm38GDw19n2F4Ejpjr1JN5q2PWdNb1oj4eh95PaI6kU0qSQqXI9\n",
    "qy92bpePAGq2zPcwTpdhwYZY/rNkF8fOXZzKsHJ4MA9dcwWje0YRHqLdS5U9cksSY2as49/nh7HC\n",
    "1Z6hQcvo71hHuKRz3FTlqtRJDCi3g/dqfGKV3XCmwS//sSabuv5v0P4uHRBXiuhX1Uwh4dBpVB7r\n",
    "y8OV9+S62hjDkm0nGPjfFTz96ZashBAa7OCBq5vw89PXMuHqppoQVImSmSRudM/dvcrVhsfSJ3LU\n",
    "WCVUkkwYIOypFI1r/M8w4BUIcw94SzgOn4+HqTfAkQ02fQLlbZoUPF37gjWI51Ih5eCu2bnWs485\n",
    "cJo731vF/bNi2HUiAQCHwF3R9fnpyb48N7AVEeVDfBm5UsVyX8/GlM9jgOSek4mM/2gLFzqMg0c3\n",
    "uL9Auc8OYtfClGvhy4k6e1wpoEnBU0g5GL4Ahs4lEWucwDkqwSMbcux1sfvEBcbNjOGO91YRc/Bi\n",
    "MdfrW9di8R/68OodV1JXxxuoANCwenmmje5Crcph2doFCAmy/vj/sP0EQ95Zyb6kcLh1Eoz/yaqr\n",
    "BICxRkm/1QlW/Q+c6ajApEnhUo4gaHkjp8WauvK8VILKdbNtcvRsMk9/upn+b67gB48JbaIbVeXT\n",
    "CT2YMjLamkxFqQDSvUl1fnnmWt4f0Zkgh5UIgoMcfPbgVdSNsGos7TmZwKD//crSHSegbgcYsxhu\n",
    "+8CqqQTWWIfFf4J3r4I9P9r1UVQxaFLIwc7jF3C5CwW6jCEl3ao+eTYpjX8t3M41r//ExzGxWeMN\n",
    "mtWsyAcjo/lkQg+io3S8gQpcIUEO+repjcPjxnG7+hF89UivrLE0F1IyGDszhv8t22ONhW5/J0yM\n",
    "gd5/hCD3qP9TO2HObTD3Ho/qACoQaO8jD06X4c9f/sZHaw6xNNSAw2q7+tVlDGxXh882xGbr410n\n",
    "Ipwnrm/ObZ3qZ32zUqo0qlExjA/HdeMf32xj5qqDGAOvLd7J70fP8dodV1IhrCL0exE6DofFL8DO\n",
    "b60dd35r1Vvq+Qj0ekK7sAYAPVPw8N7yvVkjPT2duJDKjJUHshJCRLkQ/nRjS5Y92Zc7oxtoQlBl\n",
    "QkiQg78Oasurt7cn1D3GZuHW49z2zkoOxidaG1VrAsM+guGfQY3mVpszDX5+A96Ohi2fWCPiVIml\n",
    "ScEt3eli+q8H8twmJEh4sG9TVjx9DeP7aPdSVTbd1aUB8x/onnVTeueJC9z69q+s2OXR8+iKfvDg\n",
    "Suj/Lwhz1/O6cAw+GwfTBsDRTTZErgpCk4Lb0bPJnErIeSrFTP3b1OaZAS2JKKfdS1XZ1rFhVb6e\n",
    "2ItODa05sM4lpzN6+lomr9hL1sRdQSHQ4yGr917HEWR1YT28Gib3ha8ehcRTOR5f2UeTgltBvvVX\n",
    "07kNlMpSs3I4c8d3Z1hXa7Irl4GXF+7gsXmbSE5zXtywYiQMehvGL4P6Xd2NBjbMtGY4XP2udmEt\n",
    "QTQpuNWqHE6HBnlPcD6gTW0/RaNUYAgLDuJft7Xjn0PaZo1n+GrzUW5/dyWHL5mrmrodYez3MGQy\n",
    "VHT/LqWeg0XPwnu9YK8/Sweq3GhS8PD0gBYE53LTuG+LSHo0zXlEs1KXql+1HI1rVKB+1bIxePHe\n",
    "bo346P7u1Kho3WfYduw8t779Cyv3XHJ5SASuvBseiYFej1/swhq3A2YPhnn3wpkD/g1eZaNJwUPP\n",
    "pjWYfl8XWtauRKyJZJ+rNkdMJKN7RvHe8M5a4loV2Oyx3Vj2ZF9mj+2W/8Yl0HFHTfa5anPcUbPA\n",
    "+3SJqsbXj1zFle4z7jNJ6YyYtpZpv+y/eJ8hU1gluO4v8NBqqxx3ph3fwNtdrdkP0xKL/0FUocll\n",
    "/1kBJDo62sTExHj9uMYYer26jCNnkmlUrTzLn86hHlIJd83rP7H/VCKNa1Rg2ZN97Q5HBZji/Pyk\n",
    "pDt54Yvf+HR9bFbbbZ3q8fKQdrnfu9v9g3UZKX73xbbK9awqrG1v1yqsXiYi640x0Tmt0zOFHIhI\n",
    "Vj9sh45BUKpQwkOCeO2O9vz11jZZY3g+23CEu95fxdGzyTnv1Ow6qwvrDf+EUHeJmPNHYMFYmH4j\n",
    "HNtS8ABmDbZuYM8aXMxPUjZpUlBKeZ2IMKpnFHPGdsvqtbcl9hy3vv0La/efznmn4FDoOdGqwtpx\n",
    "+MX2Qyth8tXw9R+sGRLzc/YQnN5rPatC06SglPKZHk2r89XEq2hT1xrAdiohjXumrGb26oOX32fI\n",
    "VLEmDPof3L8U6nex2owL1k+HtzrCmvfBmZHzvqrYNCkopS7jzd5T9auW59MJPRncwao2nOEy/PmL\n",
    "33h2wVZSM5y571ivM4z5Hga/BxVrWW0p5+C7p+H93rBvebFjU5fze1IQkQYiskxEtonI7yLymLv9\n",
    "LyJyREQ2uR83+ju20qSsdYlU3uXt3lPlQoP4z90deOGmVmTeppsfc5ihk1dz4nxK7js6HNBhGDyy\n",
    "Hq56DBzuagInt8GsW2H+cDhz0CsxKovfex+JSB2gjjFmg4hUAtYDg4G7gARjzOsFPZaveh+B9t5R\n",
    "yld+2X2KiXM3cDbJGsUcWSmM94Z3pnOjqvnvHL8XFj0HuxdfbAsOtxLGlcOswnsb5wAGJAj6PAW9\n",
    "n4DgsFwPWRaVqN5HxphjxpgN7uULwHagnr/jUErZo1ezGnz1cC9a1rZ6GcVdSGXo5FXMW1uAG8PV\n",
    "m8K9H8M9n0C1plZbRgos/ze81dma/Q33F13jhOWvwNxh4MrjMpXKxtZ7CiISBXQE1ribJorIFhGZ\n",
    "JiI5fm0QkfEiEiMiMXFxOh+sUoGoYfXyfPZQT25qb83Ylu40PPvZVl74YitpGa78D9D8Bmvg2/V/\n",
    "v9iF1eTyh3/vj7DtCy9FXvrZlhREpCKwAPiDMeY88C7QFOgAHAPeyGk/Y8xkY0y0MSY6MjLSb/Eq\n",
    "pbyrfGgwbw/ryDMDWmaNTZuz+hD3frCauAt5VywGrC6sVz1q3W8IyqdY5S9vwpENkJpQ/MBLOVtm\n",
    "XhOREKyE8KEx5jMAY8wJj/VTgG/siE0p5T8i1hwlLetU4tG5G7mQksG6A2e45a1feH9E56ySGXmq\n",
    "EGlN5JOX41tgirsyQUQDiGwBkS0vPtdoDuUK8F5lgN+TglgFhKYC240x/+fRXscYc8z9cgjwm79j\n",
    "85TZa0d77yjle9e0qMlXE3sxflYMu08mcPx8Cne+v4qXh7Tjjs71897Z4YAaLax5oQvi3GHrseeH\n",
    "7O2V6lyeLCJbQvmyNe+6Hb2PegE/A1uBzIuHfwKGYV06MsAB4AGPJJEjX/Y+Ukr5X0JqBk/M38T3\n",
    "27IuHDC6ZxTP39SKkKA8rnavnQILn8x9/TXPQ3oSxO20KrKe3k/WDen8VIi8/KwisqU1yC5AazLl\n",
    "1ftIC+IppUoUl8vw9rI9/N+SXVltPZpU5+17OlK9Yi5dS10u+GoibPowe7s44KY3IHpM9vb0ZIjf\n",
    "czFJxO2wluP35n7D+lLhVS45q3A/V65b9GRhDJzcbiWwGs0hvHLRjpMPTQpKqYCzZNsJHp+/iYRU\n",
    "q6RFvSrleH9EZ9rWi8h5B2Ng/wqYfy+kXoDwCBi7xPpjXVAZaVbdpMwkkfl8aje4Cjg7XGilHC5D\n",
    "tbDuZTjyONvZtRi+fwFOuZNhSHlrGtPr/wYh4QX/DAWgSUEpFZD2nExg/KwY9p2y5lYID3Hw79vb\n",
    "M6hD7kObjv2jNXUyjnAsuB51XtjmnUCcGXBmf/ZEEbfD+gOekceIbE8h5aFGs8vvWVSNgr1L4aO7\n",
    "rBpPl2o+EIbN9eqlqrySgi29j5RSqiCuqFmRLyZexR/mbWLpjpOkpLt4bN4mfj96nqf7tyA4h/sM\n",
    "GU6T7dkrgoKtP+g1mkGrmy+2u5xWNdZLk0XcTki/ZJKg9CQ4ttl6ZDt2mPUHP6eEALDrOzi8Bhp2\n",
    "997nyYMmBaVUiVY5PIQPRkbznx928dbSPQBMXrGP7cfO89awjlQpn88YBV9yBEG1xtajxYCL7S6X\n",
    "NR/Epfcs4nZa81J7chZgTMb2rzUpKKVUJodD+OMNLWhTtzJPfLyZpDQnP+8+xa1v/8rkkZ1pWds3\n",
    "N2SLzOGAKg2sR7PrLrYbAxeOX7z0FLcDjm60HnlJz2VyIh/Q0tlKqYAxoG0dPn/oKhpVLw/AodNJ\n",
    "3PbOShZuzbP3eskhApXrQNNroNsDcPN/YMxiKJfPWIgGXf0TH5oUlFIBpkXtSnz1cC/6NLfK3CSl\n",
    "OXnoww288t0OZq8+wEFndfa5anPIVYOlO07kPplPSREcBt0m5L6+cn1o7b+pRbX3kVIqIDldhtcW\n",
    "7+S95Xvz3O6BPk147sZWfoqqiFxO0r98jJDNs7M1p1VqQOiIT6Cmd+PX3kdKqVInyCE8O7AlretW\n",
    "5on5m8hw5fwF9/0V+7imZU26N6nu5wgLLj4pg2EH7sSktmOgYy3lJYUtriYsPdWFV49FcGtN/8Wi\n",
    "ZwpKqYDX9Z8/cDKPyqqRFUNpUy+CkCAHIUFCSJCDYIeD0OCLyyHBQojDYW2TtSwEBzkIDXIQ7N4v\n",
    "2zGChFB3W+ZysMf6kEuWgxw5jzV4fP4mPt94JMd1ocEOfn3mWiIreW+iID1TUEqVWsaYPBMCQFxC\n",
    "Gj/ttH/+FREIuSTJBIlwPI8pSdMyXHy+MZbxfZr6JUZNCkqpgCYi1KocxonzuScGh0AuV5f8yhjr\n",
    "j3yBJhLycCA+yUcRXU6TglIq4N0V3SBrYFtOpt/XlT7NauB0GdKdhnSXi/QMFxkuQ5r7Od3pyrZs\n",
    "PQwZ7uU0j+V0p7VNhtOQ5m7LcJrs61wu0jKyL2e4su+f7nSRku5iz8m8J/+p6cVLR/nRpKCUCngT\n",
    "rm7Kil1xbI49d9m6YV0b0qdZDUSE4CAhOAjKEWRDlLkbM2MdS3eczHGdALd1zGdOCS/ScQpKqYBX\n",
    "ISyYueO788yAloQEWTdzw4IdvHl3B14e0hYp4fMevHhza2pUzLlcx1MDWtDQPVjPHzQpKKVKhfKh\n",
    "wTzYtyn1q1p/QOtWKcfgjvVKfEIAiKpRga8m9mJkj0bUqBhG+dAgujepxuQRnXmo7xV+jUUvHyml\n",
    "SpVAnUq3bpVy/G1QW/42qK2tcWhSUEqVKrPHdrM7hICml4+UUkpl0aSglFIqiyYFpZRSWUpcUhCR\n",
    "ASKyU0T2iMizdsejlFJlSYlKCiISBPwPGAi0BoaJSGt7o1JKqbKjRCUFoCuwxxizzxiTBswDBtkc\n",
    "k1JKlRklLSnUAw57vI51t2URkfEiEiMiMXFx9lc9VEqp0iTgxikYYyYDkwFEJE5EDvrw7WoAp3x4\n",
    "fF/T+O2l8dsnkGMH38ffKLcVJS0pHAEaeLyu727LkTEm0pfBiEhMbhNRBAKN314av30COXawN/6S\n",
    "dvloHdBMRBqLSCgwFPjK5piUUqrMKFFnCsaYDBGZCCwGgoBpxpjfbQ5LKaXKjBKVFACMMQuBhXbH\n",
    "4TbZ7gCKSeO3l8Zvn0COHWyMX4wpAXPUKaWUKhFK2j0FpZRSNtKkoJRSKosmhVyIyGARMSLS0u5Y\n",
    "CktEnCKySUQ2i8gGEelpd0yFISK1RWSeiOwVkfUislBEmtsdV0F4/Nv/7v73/6OIBMzvmUf8mY+A\n",
    "qz+Ww2eIsjumghKRWiLykYjsc//srxKRIX6NQe8p5ExE5gN1gaXGmJfsjqcwRCTBGFPRvdwf+JMx\n",
    "5mqbwyoQseZOXAnMNMa85267EqhsjPnZ1uAK4JJ/+5rAR8CvgfIz5Bl/oArUz5DLz34j4FZjzFv+\n",
    "iiNgvsH4k4hUBHoBY7HGSgSyysAZu4MohGuA9MxfCgBjzOZASAiXMsacBMYDEyUQJgpWdrsWSLvk\n",
    "Z/+gPxMClMAuqSXEIGCRMWaXiMSLSGdjzHq7gyqEciKyCQgH6mD9sAWKtkAg/VvnyRizz139tyZw\n",
    "wu54CiDzZyfTv4wx822Lpmg8P8N+Y4xfL78UQxtgg91BaFLI2TDgv+7lee7XgfSHKtkY0wFARHoA\n",
    "s0SkrdFrhSp/WT87Aaw0fAZE5H9YVyzSjDFd/PW+mhQuISLVsL5ZtxMRgzWy2ojIU4H4R9UYs0pE\n",
    "agCRwEm74ymA34E77A7CW0SkCeAkMP7tlb1+B27PfGGMedj9uxvjzyD0nsLl7gBmG2MaGWOijDEN\n",
    "gP1Ab5vjKhJ376kgIN7uWApoKRAmIuMzG0SkvYgE3L+/iEQC7wFvB+IXCuV3S4FwEXnQo628v4PQ\n",
    "M4XLDQP+fUnbAnf7Cv+HUySe11QFGGWMcdoZUEEZY4y7C96bIvIMkAIcAP5ga2AFl/lvHwJkALOB\n",
    "/7M3pEK59J7CImNMwHVLDUTun/3BwH9E5GkgDkgEnvFnHNolVSmlVBa9fKSUUiqLJgWllFJZNCko\n",
    "pZTKoklBKaVUFk0KSimlsmhSUKqIROQvIvJkIfeJEpHffBWTUsWlSUEppVQWTQpKFYKIPC8iu0Tk\n",
    "F6CFu62piCxy17//OXMODndt/M/d8ypsvnReCxFpIiIbRcRvdW2Uyo+OaFaqgESkM1Yp9Q5Yvzsb\n",
    "sAolTgYmGGN2i0g34B2s+lmTgOXGmCHuSqkVgaruY7XAKrY42hiz2e8fRqlcaFJQquB6A58bY5IA\n",
    "ROQrrPLkPYFPPKZMCHM/XwuMBHCXGTknIlWxihN+CdxmjNnmv/CVyp8mBaWKxwGcLWSp5nPAIayy\n",
    "yJoUVImi9xSUKrgVwGARKScilYBbgCRgv4jcCdaUiu7pQwF+BB50tweJSIS7PQ0YAowUkXv8+gmU\n",
    "yocmBaUKyBizAZgPbAa+A9a5V90LjBWRzVg18Qe52x8DrhGRrVj3Hlp7HCsRuBl4XERu9c8nUCp/\n",
    "WiVVKaVUFj1TUEoplUWTglJKqSyaFJRSSmXRpKCUUiqLJgWllFJZNCkopZTKoklBKaVUlv8HrteW\n",
    "PbNbgP4AAAAASUVORK5CYII=\n",
    "\">"
   ]
  },
  {
   "cell_type": "code",
   "execution_count": 8,
   "metadata": {
    "colab": {},
    "colab_type": "code",
    "id": "En58XXdRdd31",
    "outputId": "efec32f9-2e5b-45a5-be10-4ea73bd2ed9b"
   },
   "outputs": [
    {
     "data": {
      "text/plain": [
       "<AxesSubplot:xlabel='deck', ylabel='fare'>"
      ]
     },
     "execution_count": 8,
     "metadata": {},
     "output_type": "execute_result"
    },
    {
     "data": {
      "image/png": "[encoded data removed]",
      "text/plain": [
       "<Figure size 432x288 with 1 Axes>"
      ]
     },
     "metadata": {
      "needs_background": "light"
     },
     "output_type": "display_data"
    }
   ],
   "source": [
    "sns.pointplot(data = df, x = 'deck' , y = 'fare' , hue = 'alive') # fara 의 평균 값으로 계산된 그래프"
   ]
  },
  {
   "cell_type": "markdown",
   "metadata": {
    "colab_type": "text",
    "id": "TBAjjze8eGNu"
   },
   "source": [
    "## 8. lmplot으로 x축에 age 값을 y축에 fare 를 그리고 class 에 따라 다른 색상으로 표현되게 합니다.\n",
    "* 나이와 요금에 따른 상관관계를 봅니다.\n",
    "<img src=\"https://i.imgur.com/7p2SJdA.png\">"
   ]
  },
  {
   "cell_type": "code",
   "execution_count": 9,
   "metadata": {
    "colab": {},
    "colab_type": "code",
    "id": "x3LtZZaEdd35",
    "outputId": "c89c6d70-c3fd-4b23-bc51-766d7ad6b2af"
   },
   "outputs": [
    {
     "data": {
      "text/plain": [
       "<seaborn.axisgrid.FacetGrid at 0x7f89f8a7b700>"
      ]
     },
     "execution_count": 9,
     "metadata": {},
     "output_type": "execute_result"
    },
    {
     "data": {
      "image/png": "[encoded data removed]",
      "text/plain": [
       "<Figure size 432.625x360 with 1 Axes>"
      ]
     },
     "metadata": {
      "needs_background": "light"
     },
     "output_type": "display_data"
    }
   ],
   "source": [
    "sns.lmplot(data = df, x = 'age', y = 'fare', hue = 'class') \n"
   ]
  },
  {
   "cell_type": "code",
   "execution_count": 12,
   "metadata": {
    "scrolled": true
   },
   "outputs": [
    {
     "data": {
      "text/plain": [
       "<seaborn.axisgrid.FacetGrid at 0x7f8a19737af0>"
      ]
     },
     "execution_count": 12,
     "metadata": {},
     "output_type": "execute_result"
    },
    {
     "data": {
      "image/png": "[encoded data removed]",
      "text/plain": [
       "<Figure size 432.625x360 with 1 Axes>"
      ]
     },
     "metadata": {
      "needs_background": "light"
     },
     "output_type": "display_data"
    }
   ],
   "source": [
    "### 만약 그래프를 짤라서(?) 보고싶은경우에는 아래와 같이 조건을 통해 볼 수 있음\n",
    "df_low_fare = df[ df[\"fare\"] < 100]\n",
    "sns.lmplot(data = df_low_fare, x =\"age\", y = \"fare\", hue = \"class\")"
   ]
  },
  {
   "cell_type": "code",
   "execution_count": 13,
   "metadata": {
    "scrolled": true
   },
   "outputs": [
    {
     "ename": "ModuleNotFoundError",
     "evalue": "No module named 'plotly'",
     "output_type": "error",
     "traceback": [
      "\u001b[0;31m---------------------------------------------------------------------------\u001b[0m",
      "\u001b[0;31mModuleNotFoundError\u001b[0m                       Traceback (most recent call last)",
      "\u001b[0;32m<ipython-input-13-9f788ba9a868>\u001b[0m in \u001b[0;36m<module>\u001b[0;34m\u001b[0m\n\u001b[1;32m      1\u001b[0m \u001b[0;31m### plotly 라는 것이 있음\u001b[0m\u001b[0;34m\u001b[0m\u001b[0;34m\u001b[0m\u001b[0;34m\u001b[0m\u001b[0m\n\u001b[0;32m----> 2\u001b[0;31m \u001b[0;32mimport\u001b[0m \u001b[0mplotly\u001b[0m\u001b[0;34m.\u001b[0m\u001b[0mexpress\u001b[0m \u001b[0;32mas\u001b[0m \u001b[0mpx\u001b[0m\u001b[0;34m\u001b[0m\u001b[0;34m\u001b[0m\u001b[0m\n\u001b[0m\u001b[1;32m      3\u001b[0m \u001b[0mpx\u001b[0m\u001b[0;34m.\u001b[0m \u001b[0mscatter\u001b[0m\u001b[0;34m(\u001b[0m\u001b[0mdf\u001b[0m\u001b[0;34m,\u001b[0m \u001b[0mx\u001b[0m \u001b[0;34m=\u001b[0m \u001b[0;34m'age'\u001b[0m\u001b[0;34m,\u001b[0m \u001b[0my\u001b[0m \u001b[0;34m=\u001b[0m \u001b[0;34m'fare'\u001b[0m\u001b[0;34m,\u001b[0m \u001b[0mcolor\u001b[0m \u001b[0;34m=\u001b[0m \u001b[0;34m'class'\u001b[0m\u001b[0;34m)\u001b[0m\u001b[0;34m\u001b[0m\u001b[0;34m\u001b[0m\u001b[0m\n",
      "\u001b[0;31mModuleNotFoundError\u001b[0m: No module named 'plotly'"
     ]
    }
   ],
   "source": [
    "### plotly 라는 것이 있음   >> 인터렉티브한 부분은 좀 더 강점이 있음\n",
    "# import plotly.express as px\n",
    "# px.scatter(df, x = 'age', y = 'fare', color = 'class')"
   ]
  },
  {
   "cell_type": "markdown",
   "metadata": {
    "colab_type": "text",
    "id": "9ZLTN5e5dd38"
   },
   "source": [
    "## 9. age 와 fare 에 따른 상관계수를 구하고 결과를 df_corr 에 할당해 주세요.\n",
    "그리고 df_corr 에 담긴값을 출력합니다.\n",
    "<table border=\"1\" class=\"dataframe\">\n",
    "  <thead>\n",
    "    <tr style=\"text-align: right;\">\n",
    "      <th></th>\n",
    "      <th>age</th>\n",
    "      <th>fare</th>\n",
    "    </tr>\n",
    "  </thead>\n",
    "  <tbody>\n",
    "    <tr>\n",
    "      <th>age</th>\n",
    "      <td>1.000000</td>\n",
    "      <td>0.096067</td>\n",
    "    </tr>\n",
    "    <tr>\n",
    "      <th>fare</th>\n",
    "      <td>0.096067</td>\n",
    "      <td>1.000000</td>\n",
    "    </tr>\n",
    "  </tbody>\n",
    "</table>"
   ]
  },
  {
   "cell_type": "code",
   "execution_count": 10,
   "metadata": {
    "colab": {},
    "colab_type": "code",
    "id": "GPfJclE1dd39",
    "outputId": "5a823034-50b1-4e88-8edb-98f701fe5260"
   },
   "outputs": [
    {
     "data": {
      "text/html": [
       "<div>\n",
       "<style scoped>\n",
       "    .dataframe tbody tr th:only-of-type {\n",
       "        vertical-align: middle;\n",
       "    }\n",
       "\n",
       "    .dataframe tbody tr th {\n",
       "        vertical-align: top;\n",
       "    }\n",
       "\n",
       "    .dataframe thead th {\n",
       "        text-align: right;\n",
       "    }\n",
       "</style>\n",
       "<table border=\"1\" class=\"dataframe\">\n",
       "  <thead>\n",
       "    <tr style=\"text-align: right;\">\n",
       "      <th></th>\n",
       "      <th>age</th>\n",
       "      <th>fare</th>\n",
       "    </tr>\n",
       "  </thead>\n",
       "  <tbody>\n",
       "    <tr>\n",
       "      <th>age</th>\n",
       "      <td>1.000000</td>\n",
       "      <td>0.096067</td>\n",
       "    </tr>\n",
       "    <tr>\n",
       "      <th>fare</th>\n",
       "      <td>0.096067</td>\n",
       "      <td>1.000000</td>\n",
       "    </tr>\n",
       "  </tbody>\n",
       "</table>\n",
       "</div>"
      ],
      "text/plain": [
       "           age      fare\n",
       "age   1.000000  0.096067\n",
       "fare  0.096067  1.000000"
      ]
     },
     "execution_count": 10,
     "metadata": {},
     "output_type": "execute_result"
    }
   ],
   "source": [
    "df_corr = df[['age', 'fare']].corr()   #대각선은 1인데  >> 왜 ? >> 자기 자신이기 때문에 1이다.\n",
    "df_corr"
   ]
  },
  {
   "cell_type": "markdown",
   "metadata": {
    "colab_type": "text",
    "id": "IIsN_QDpdd4A"
   },
   "source": [
    "## 10. 위에서 만든 상관계수를 heatmap 으로 표현해 주세요.\n",
    "* annot=True 옵션으로 그래프에서 상관계수가 표시되도록 해주세요."
   ]
  },
  {
   "cell_type": "code",
   "execution_count": 11,
   "metadata": {
    "colab": {},
    "colab_type": "code",
    "id": "0k69oUcEdd4B",
    "outputId": "d9a939e6-5bb7-4198-811c-a2376ad288b6"
   },
   "outputs": [
    {
     "data": {
      "text/plain": [
       "<AxesSubplot:>"
      ]
     },
     "execution_count": 11,
     "metadata": {},
     "output_type": "execute_result"
    },
    {
     "data": {
      "image/png": "[encoded data removed]",
      "text/plain": [
       "<Figure size 432x288 with 2 Axes>"
      ]
     },
     "metadata": {
      "needs_background": "light"
     },
     "output_type": "display_data"
    }
   ],
   "source": [
    "sns.heatmap(data = df_corr, annot = True)"
   ]
  }
 ],
 "metadata": {
  "colab": {
   "collapsed_sections": [],
   "name": "ND-파이썬기초-과제3.ipynb",
   "provenance": []
  },
  "kernelspec": {
   "display_name": "Python 3",
   "language": "python",
   "name": "python3"
  },
  "language_info": {
   "codemirror_mode": {
    "name": "ipython",
    "version": 3
   },
   "file_extension": ".py",
   "mimetype": "text/x-python",
   "name": "python",
   "nbconvert_exporter": "python",
   "pygments_lexer": "ipython3",
   "version": "3.8.8"
  },
  "toc": {
   "base_numbering": 1,
   "nav_menu": {},
   "number_sections": true,
   "sideBar": true,
   "skip_h1_title": false,
   "title_cell": "Table of Contents",
   "title_sidebar": "Contents",
   "toc_cell": false,
   "toc_position": {},
   "toc_section_display": true,
   "toc_window_display": false
  },
  "varInspector": {
   "cols": {
    "lenName": 16,
    "lenType": 16,
    "lenVar": 40
   },
   "kernels_config": {
    "python": {
     "delete_cmd_postfix": "",
     "delete_cmd_prefix": "del ",
     "library": "var_list.py",
     "varRefreshCmd": "print(var_dic_list())"
    },
    "r": {
     "delete_cmd_postfix": ") ",
     "delete_cmd_prefix": "rm(",
     "library": "var_list.r",
     "varRefreshCmd": "cat(var_dic_list()) "
    }
   },
   "types_to_exclude": [
    "module",
    "function",
    "builtin_function_or_method",
    "instance",
    "_Feature"
   ],
   "window_display": false
  }
 },
 "nbformat": 4,
 "nbformat_minor": 1
}
